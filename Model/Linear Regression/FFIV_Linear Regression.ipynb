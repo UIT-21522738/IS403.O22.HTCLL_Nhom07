{
 "cells": [
  {
   "cell_type": "code",
   "execution_count": 1,
   "metadata": {
    "executionInfo": {
     "elapsed": 3725,
     "status": "ok",
     "timestamp": 1714849624982,
     "user": {
      "displayName": "DAO NGUYỄN THỊ BÍCH",
      "userId": "07070364028547772837"
     },
     "user_tz": -420
    },
    "id": "Aj8QUSkdwe9L"
   },
   "outputs": [],
   "source": [
    "import pandas as pd\n",
    "import numpy as np\n",
    "from scipy import stats\n",
    "import statsmodels.api as sm\n",
    "import matplotlib.pyplot as plt\n",
    "from sklearn.linear_model import LinearRegression\n",
    "from sklearn.preprocessing import MinMaxScaler\n",
    "from sklearn.preprocessing import StandardScaler\n",
    "from tqdm.notebook import tqdm\n",
    "tqdm.pandas()"
   ]
  },
  {
   "cell_type": "code",
   "execution_count": 2,
   "metadata": {
    "colab": {
     "base_uri": "https://localhost:8080/",
     "height": 71
    },
    "executionInfo": {
     "elapsed": 7479,
     "status": "ok",
     "timestamp": 1714850045131,
     "user": {
      "displayName": "DAO NGUYỄN THỊ BÍCH",
      "userId": "07070364028547772837"
     },
     "user_tz": -420
    },
    "id": "b2zApkhTAJjD",
    "outputId": "1609ae67-62b8-4db0-bfe4-32f85514705b"
   },
   "outputs": [],
   "source": [
    "csv_ffiv = \"C:/Business analysis/Project/IS403.O22.HTCLL_Nhom07/Dataset/FFIV_Stock.csv\"\n",
    "df_ffiv = pd.read_csv(csv_ffiv, thousands=',')"
   ]
  },
  {
   "cell_type": "code",
   "execution_count": 3,
   "metadata": {},
   "outputs": [
    {
     "data": {
      "text/html": [
       "<div>\n",
       "<style scoped>\n",
       "    .dataframe tbody tr th:only-of-type {\n",
       "        vertical-align: middle;\n",
       "    }\n",
       "\n",
       "    .dataframe tbody tr th {\n",
       "        vertical-align: top;\n",
       "    }\n",
       "\n",
       "    .dataframe thead th {\n",
       "        text-align: right;\n",
       "    }\n",
       "</style>\n",
       "<table border=\"1\" class=\"dataframe\">\n",
       "  <thead>\n",
       "    <tr style=\"text-align: right;\">\n",
       "      <th></th>\n",
       "      <th>Date</th>\n",
       "      <th>Symbol</th>\n",
       "      <th>Adj Close</th>\n",
       "      <th>Close</th>\n",
       "      <th>High</th>\n",
       "      <th>Low</th>\n",
       "      <th>Open</th>\n",
       "      <th>Volume</th>\n",
       "    </tr>\n",
       "  </thead>\n",
       "  <tbody>\n",
       "    <tr>\n",
       "      <th>0</th>\n",
       "      <td>1/2/2019</td>\n",
       "      <td>FFIV</td>\n",
       "      <td>161.179993</td>\n",
       "      <td>161.179993</td>\n",
       "      <td>162.910004</td>\n",
       "      <td>158.190002</td>\n",
       "      <td>158.190002</td>\n",
       "      <td>758700</td>\n",
       "    </tr>\n",
       "    <tr>\n",
       "      <th>1</th>\n",
       "      <td>1/3/2019</td>\n",
       "      <td>FFIV</td>\n",
       "      <td>154.309998</td>\n",
       "      <td>154.309998</td>\n",
       "      <td>160.169998</td>\n",
       "      <td>153.910004</td>\n",
       "      <td>159.610001</td>\n",
       "      <td>1227800</td>\n",
       "    </tr>\n",
       "    <tr>\n",
       "      <th>2</th>\n",
       "      <td>1/4/2019</td>\n",
       "      <td>FFIV</td>\n",
       "      <td>159.789993</td>\n",
       "      <td>159.789993</td>\n",
       "      <td>160.130005</td>\n",
       "      <td>156.300003</td>\n",
       "      <td>156.699997</td>\n",
       "      <td>805100</td>\n",
       "    </tr>\n",
       "    <tr>\n",
       "      <th>3</th>\n",
       "      <td>1/7/2019</td>\n",
       "      <td>FFIV</td>\n",
       "      <td>163.820007</td>\n",
       "      <td>163.820007</td>\n",
       "      <td>165.470001</td>\n",
       "      <td>159.639999</td>\n",
       "      <td>159.949997</td>\n",
       "      <td>913300</td>\n",
       "    </tr>\n",
       "    <tr>\n",
       "      <th>4</th>\n",
       "      <td>1/8/2019</td>\n",
       "      <td>FFIV</td>\n",
       "      <td>164.820007</td>\n",
       "      <td>164.820007</td>\n",
       "      <td>166.369995</td>\n",
       "      <td>161.949997</td>\n",
       "      <td>165.169998</td>\n",
       "      <td>634200</td>\n",
       "    </tr>\n",
       "  </tbody>\n",
       "</table>\n",
       "</div>"
      ],
      "text/plain": [
       "       Date Symbol   Adj Close       Close        High         Low   \n",
       "0  1/2/2019   FFIV  161.179993  161.179993  162.910004  158.190002  \\\n",
       "1  1/3/2019   FFIV  154.309998  154.309998  160.169998  153.910004   \n",
       "2  1/4/2019   FFIV  159.789993  159.789993  160.130005  156.300003   \n",
       "3  1/7/2019   FFIV  163.820007  163.820007  165.470001  159.639999   \n",
       "4  1/8/2019   FFIV  164.820007  164.820007  166.369995  161.949997   \n",
       "\n",
       "         Open   Volume  \n",
       "0  158.190002   758700  \n",
       "1  159.610001  1227800  \n",
       "2  156.699997   805100  \n",
       "3  159.949997   913300  \n",
       "4  165.169998   634200  "
      ]
     },
     "execution_count": 3,
     "metadata": {},
     "output_type": "execute_result"
    }
   ],
   "source": [
    "df_ffiv.head()"
   ]
  },
  {
   "cell_type": "code",
   "execution_count": 4,
   "metadata": {},
   "outputs": [
    {
     "data": {
      "text/html": [
       "<div>\n",
       "<style scoped>\n",
       "    .dataframe tbody tr th:only-of-type {\n",
       "        vertical-align: middle;\n",
       "    }\n",
       "\n",
       "    .dataframe tbody tr th {\n",
       "        vertical-align: top;\n",
       "    }\n",
       "\n",
       "    .dataframe thead th {\n",
       "        text-align: right;\n",
       "    }\n",
       "</style>\n",
       "<table border=\"1\" class=\"dataframe\">\n",
       "  <thead>\n",
       "    <tr style=\"text-align: right;\">\n",
       "      <th></th>\n",
       "      <th>Adj Close</th>\n",
       "      <th>Close</th>\n",
       "      <th>High</th>\n",
       "      <th>Low</th>\n",
       "      <th>Open</th>\n",
       "      <th>Volume</th>\n",
       "    </tr>\n",
       "  </thead>\n",
       "  <tbody>\n",
       "    <tr>\n",
       "      <th>count</th>\n",
       "      <td>1316.000000</td>\n",
       "      <td>1316.000000</td>\n",
       "      <td>1316.000000</td>\n",
       "      <td>1316.000000</td>\n",
       "      <td>1316.000000</td>\n",
       "      <td>1.316000e+03</td>\n",
       "    </tr>\n",
       "    <tr>\n",
       "      <th>mean</th>\n",
       "      <td>162.899453</td>\n",
       "      <td>162.899453</td>\n",
       "      <td>164.720790</td>\n",
       "      <td>160.926923</td>\n",
       "      <td>162.832751</td>\n",
       "      <td>6.211852e+05</td>\n",
       "    </tr>\n",
       "    <tr>\n",
       "      <th>std</th>\n",
       "      <td>29.240296</td>\n",
       "      <td>29.240296</td>\n",
       "      <td>29.488916</td>\n",
       "      <td>29.013161</td>\n",
       "      <td>29.240213</td>\n",
       "      <td>3.992573e+05</td>\n",
       "    </tr>\n",
       "    <tr>\n",
       "      <th>min</th>\n",
       "      <td>90.550003</td>\n",
       "      <td>90.550003</td>\n",
       "      <td>93.830002</td>\n",
       "      <td>79.779999</td>\n",
       "      <td>88.750000</td>\n",
       "      <td>1.205000e+05</td>\n",
       "    </tr>\n",
       "    <tr>\n",
       "      <th>25%</th>\n",
       "      <td>141.394997</td>\n",
       "      <td>141.394997</td>\n",
       "      <td>143.300003</td>\n",
       "      <td>139.917496</td>\n",
       "      <td>141.524998</td>\n",
       "      <td>4.015500e+05</td>\n",
       "    </tr>\n",
       "    <tr>\n",
       "      <th>50%</th>\n",
       "      <td>155.404999</td>\n",
       "      <td>155.404999</td>\n",
       "      <td>157.274994</td>\n",
       "      <td>153.599998</td>\n",
       "      <td>155.685005</td>\n",
       "      <td>5.367000e+05</td>\n",
       "    </tr>\n",
       "    <tr>\n",
       "      <th>75%</th>\n",
       "      <td>185.264996</td>\n",
       "      <td>185.264996</td>\n",
       "      <td>186.682503</td>\n",
       "      <td>183.505001</td>\n",
       "      <td>185.297497</td>\n",
       "      <td>7.063000e+05</td>\n",
       "    </tr>\n",
       "    <tr>\n",
       "      <th>max</th>\n",
       "      <td>247.779999</td>\n",
       "      <td>247.779999</td>\n",
       "      <td>249.000000</td>\n",
       "      <td>245.899994</td>\n",
       "      <td>247.779999</td>\n",
       "      <td>5.232700e+06</td>\n",
       "    </tr>\n",
       "  </tbody>\n",
       "</table>\n",
       "</div>"
      ],
      "text/plain": [
       "         Adj Close        Close         High          Low         Open   \n",
       "count  1316.000000  1316.000000  1316.000000  1316.000000  1316.000000  \\\n",
       "mean    162.899453   162.899453   164.720790   160.926923   162.832751   \n",
       "std      29.240296    29.240296    29.488916    29.013161    29.240213   \n",
       "min      90.550003    90.550003    93.830002    79.779999    88.750000   \n",
       "25%     141.394997   141.394997   143.300003   139.917496   141.524998   \n",
       "50%     155.404999   155.404999   157.274994   153.599998   155.685005   \n",
       "75%     185.264996   185.264996   186.682503   183.505001   185.297497   \n",
       "max     247.779999   247.779999   249.000000   245.899994   247.779999   \n",
       "\n",
       "             Volume  \n",
       "count  1.316000e+03  \n",
       "mean   6.211852e+05  \n",
       "std    3.992573e+05  \n",
       "min    1.205000e+05  \n",
       "25%    4.015500e+05  \n",
       "50%    5.367000e+05  \n",
       "75%    7.063000e+05  \n",
       "max    5.232700e+06  "
      ]
     },
     "execution_count": 4,
     "metadata": {},
     "output_type": "execute_result"
    }
   ],
   "source": [
    "df_ffiv.describe()"
   ]
  },
  {
   "cell_type": "code",
   "execution_count": 5,
   "metadata": {},
   "outputs": [
    {
     "name": "stdout",
     "output_type": "stream",
     "text": [
      "<class 'pandas.core.frame.DataFrame'>\n",
      "RangeIndex: 1316 entries, 0 to 1315\n",
      "Data columns (total 8 columns):\n",
      " #   Column     Non-Null Count  Dtype  \n",
      "---  ------     --------------  -----  \n",
      " 0   Date       1316 non-null   object \n",
      " 1   Symbol     1316 non-null   object \n",
      " 2   Adj Close  1316 non-null   float64\n",
      " 3   Close      1316 non-null   float64\n",
      " 4   High       1316 non-null   float64\n",
      " 5   Low        1316 non-null   float64\n",
      " 6   Open       1316 non-null   float64\n",
      " 7   Volume     1316 non-null   int64  \n",
      "dtypes: float64(5), int64(1), object(2)\n",
      "memory usage: 82.4+ KB\n"
     ]
    }
   ],
   "source": [
    "df_ffiv.info()"
   ]
  },
  {
   "cell_type": "code",
   "execution_count": 6,
   "metadata": {},
   "outputs": [
    {
     "name": "stdout",
     "output_type": "stream",
     "text": [
      "<class 'pandas.core.frame.DataFrame'>\n",
      "RangeIndex: 1316 entries, 0 to 1315\n",
      "Data columns (total 8 columns):\n",
      " #   Column     Non-Null Count  Dtype         \n",
      "---  ------     --------------  -----         \n",
      " 0   Date       1316 non-null   datetime64[ns]\n",
      " 1   Symbol     1316 non-null   object        \n",
      " 2   Adj Close  1316 non-null   float64       \n",
      " 3   Close      1316 non-null   float64       \n",
      " 4   High       1316 non-null   float64       \n",
      " 5   Low        1316 non-null   float64       \n",
      " 6   Open       1316 non-null   float64       \n",
      " 7   Volume     1316 non-null   int64         \n",
      "dtypes: datetime64[ns](1), float64(5), int64(1), object(1)\n",
      "memory usage: 82.4+ KB\n"
     ]
    }
   ],
   "source": [
    "# Convert object to datetime64\n",
    "df_ffiv['Date'] = df_ffiv['Date'].apply(pd.to_datetime)\n",
    "# Sort data by date time value\n",
    "df_ffiv = df_ffiv.sort_values(by=\"Date\").reset_index(drop=True)\n",
    "df_ffiv.info()"
   ]
  },
  {
   "cell_type": "code",
   "execution_count": 7,
   "metadata": {},
   "outputs": [
    {
     "data": {
      "text/plain": [
       "0       161.179993\n",
       "1       154.309998\n",
       "2       159.789993\n",
       "3       163.820007\n",
       "4       164.820007\n",
       "           ...    \n",
       "1311    189.009995\n",
       "1312    189.529999\n",
       "1313    191.070007\n",
       "1314    190.570007\n",
       "1315    188.529999\n",
       "Name: Close, Length: 1316, dtype: float64"
      ]
     },
     "execution_count": 7,
     "metadata": {},
     "output_type": "execute_result"
    }
   ],
   "source": [
    "df_ffiv.Close"
   ]
  },
  {
   "cell_type": "code",
   "execution_count": 8,
   "metadata": {},
   "outputs": [
    {
     "data": {
      "text/plain": [
       "0              NaN\n",
       "1       161.179993\n",
       "2       154.309998\n",
       "3       159.789993\n",
       "4       163.820007\n",
       "           ...    \n",
       "1311    187.350006\n",
       "1312    189.009995\n",
       "1313    189.529999\n",
       "1314    191.070007\n",
       "1315    190.570007\n",
       "Name: Prev_close, Length: 1316, dtype: float64"
      ]
     },
     "execution_count": 8,
     "metadata": {},
     "output_type": "execute_result"
    }
   ],
   "source": [
    "df_ffiv['Prev_close'] = df_ffiv.shift(1)['Close']\n",
    "df_ffiv.Prev_close"
   ]
  },
  {
   "cell_type": "code",
   "execution_count": 9,
   "metadata": {},
   "outputs": [
    {
     "data": {
      "text/html": [
       "<div>\n",
       "<style scoped>\n",
       "    .dataframe tbody tr th:only-of-type {\n",
       "        vertical-align: middle;\n",
       "    }\n",
       "\n",
       "    .dataframe tbody tr th {\n",
       "        vertical-align: top;\n",
       "    }\n",
       "\n",
       "    .dataframe thead th {\n",
       "        text-align: right;\n",
       "    }\n",
       "</style>\n",
       "<table border=\"1\" class=\"dataframe\">\n",
       "  <thead>\n",
       "    <tr style=\"text-align: right;\">\n",
       "      <th></th>\n",
       "      <th>Date</th>\n",
       "      <th>Symbol</th>\n",
       "      <th>Adj Close</th>\n",
       "      <th>Close</th>\n",
       "      <th>High</th>\n",
       "      <th>Low</th>\n",
       "      <th>Open</th>\n",
       "      <th>Volume</th>\n",
       "      <th>Prev_close</th>\n",
       "    </tr>\n",
       "  </thead>\n",
       "  <tbody>\n",
       "    <tr>\n",
       "      <th>0</th>\n",
       "      <td>2019-01-02</td>\n",
       "      <td>FFIV</td>\n",
       "      <td>161.179993</td>\n",
       "      <td>161.179993</td>\n",
       "      <td>162.910004</td>\n",
       "      <td>158.190002</td>\n",
       "      <td>158.190002</td>\n",
       "      <td>758700</td>\n",
       "      <td>NaN</td>\n",
       "    </tr>\n",
       "    <tr>\n",
       "      <th>1</th>\n",
       "      <td>2019-01-03</td>\n",
       "      <td>FFIV</td>\n",
       "      <td>154.309998</td>\n",
       "      <td>154.309998</td>\n",
       "      <td>160.169998</td>\n",
       "      <td>153.910004</td>\n",
       "      <td>159.610001</td>\n",
       "      <td>1227800</td>\n",
       "      <td>161.179993</td>\n",
       "    </tr>\n",
       "    <tr>\n",
       "      <th>2</th>\n",
       "      <td>2019-01-04</td>\n",
       "      <td>FFIV</td>\n",
       "      <td>159.789993</td>\n",
       "      <td>159.789993</td>\n",
       "      <td>160.130005</td>\n",
       "      <td>156.300003</td>\n",
       "      <td>156.699997</td>\n",
       "      <td>805100</td>\n",
       "      <td>154.309998</td>\n",
       "    </tr>\n",
       "    <tr>\n",
       "      <th>3</th>\n",
       "      <td>2019-01-07</td>\n",
       "      <td>FFIV</td>\n",
       "      <td>163.820007</td>\n",
       "      <td>163.820007</td>\n",
       "      <td>165.470001</td>\n",
       "      <td>159.639999</td>\n",
       "      <td>159.949997</td>\n",
       "      <td>913300</td>\n",
       "      <td>159.789993</td>\n",
       "    </tr>\n",
       "    <tr>\n",
       "      <th>4</th>\n",
       "      <td>2019-01-08</td>\n",
       "      <td>FFIV</td>\n",
       "      <td>164.820007</td>\n",
       "      <td>164.820007</td>\n",
       "      <td>166.369995</td>\n",
       "      <td>161.949997</td>\n",
       "      <td>165.169998</td>\n",
       "      <td>634200</td>\n",
       "      <td>163.820007</td>\n",
       "    </tr>\n",
       "  </tbody>\n",
       "</table>\n",
       "</div>"
      ],
      "text/plain": [
       "        Date Symbol   Adj Close       Close        High         Low   \n",
       "0 2019-01-02   FFIV  161.179993  161.179993  162.910004  158.190002  \\\n",
       "1 2019-01-03   FFIV  154.309998  154.309998  160.169998  153.910004   \n",
       "2 2019-01-04   FFIV  159.789993  159.789993  160.130005  156.300003   \n",
       "3 2019-01-07   FFIV  163.820007  163.820007  165.470001  159.639999   \n",
       "4 2019-01-08   FFIV  164.820007  164.820007  166.369995  161.949997   \n",
       "\n",
       "         Open   Volume  Prev_close  \n",
       "0  158.190002   758700         NaN  \n",
       "1  159.610001  1227800  161.179993  \n",
       "2  156.699997   805100  154.309998  \n",
       "3  159.949997   913300  159.789993  \n",
       "4  165.169998   634200  163.820007  "
      ]
     },
     "execution_count": 9,
     "metadata": {},
     "output_type": "execute_result"
    }
   ],
   "source": [
    "df_ffiv.head()"
   ]
  },
  {
   "cell_type": "code",
   "execution_count": 10,
   "metadata": {},
   "outputs": [
    {
     "data": {
      "application/vnd.jupyter.widget-view+json": {
       "model_id": "d932e53f084c4078bb325fcacad23187",
       "version_major": 2,
       "version_minor": 0
      },
      "text/plain": [
       "  0%|          | 0/1316 [00:00<?, ?it/s]"
      ]
     },
     "metadata": {},
     "output_type": "display_data"
    }
   ],
   "source": [
    "df_ffiv['Close_change'] = df_ffiv.progress_apply(\n",
    "    lambda row: 0 if np.isnan(row.Prev_close) else row.Close - row.Prev_close,\n",
    "    axis = 1\n",
    ")"
   ]
  },
  {
   "cell_type": "code",
   "execution_count": 11,
   "metadata": {},
   "outputs": [
    {
     "data": {
      "text/html": [
       "<div>\n",
       "<style scoped>\n",
       "    .dataframe tbody tr th:only-of-type {\n",
       "        vertical-align: middle;\n",
       "    }\n",
       "\n",
       "    .dataframe tbody tr th {\n",
       "        vertical-align: top;\n",
       "    }\n",
       "\n",
       "    .dataframe thead th {\n",
       "        text-align: right;\n",
       "    }\n",
       "</style>\n",
       "<table border=\"1\" class=\"dataframe\">\n",
       "  <thead>\n",
       "    <tr style=\"text-align: right;\">\n",
       "      <th></th>\n",
       "      <th>Date</th>\n",
       "      <th>Symbol</th>\n",
       "      <th>Adj Close</th>\n",
       "      <th>Close</th>\n",
       "      <th>High</th>\n",
       "      <th>Low</th>\n",
       "      <th>Open</th>\n",
       "      <th>Volume</th>\n",
       "      <th>Prev_close</th>\n",
       "      <th>Close_change</th>\n",
       "    </tr>\n",
       "  </thead>\n",
       "  <tbody>\n",
       "    <tr>\n",
       "      <th>0</th>\n",
       "      <td>2019-01-02</td>\n",
       "      <td>FFIV</td>\n",
       "      <td>161.179993</td>\n",
       "      <td>161.179993</td>\n",
       "      <td>162.910004</td>\n",
       "      <td>158.190002</td>\n",
       "      <td>158.190002</td>\n",
       "      <td>758700</td>\n",
       "      <td>NaN</td>\n",
       "      <td>0.000000</td>\n",
       "    </tr>\n",
       "    <tr>\n",
       "      <th>1</th>\n",
       "      <td>2019-01-03</td>\n",
       "      <td>FFIV</td>\n",
       "      <td>154.309998</td>\n",
       "      <td>154.309998</td>\n",
       "      <td>160.169998</td>\n",
       "      <td>153.910004</td>\n",
       "      <td>159.610001</td>\n",
       "      <td>1227800</td>\n",
       "      <td>161.179993</td>\n",
       "      <td>-6.869995</td>\n",
       "    </tr>\n",
       "    <tr>\n",
       "      <th>2</th>\n",
       "      <td>2019-01-04</td>\n",
       "      <td>FFIV</td>\n",
       "      <td>159.789993</td>\n",
       "      <td>159.789993</td>\n",
       "      <td>160.130005</td>\n",
       "      <td>156.300003</td>\n",
       "      <td>156.699997</td>\n",
       "      <td>805100</td>\n",
       "      <td>154.309998</td>\n",
       "      <td>5.479996</td>\n",
       "    </tr>\n",
       "    <tr>\n",
       "      <th>3</th>\n",
       "      <td>2019-01-07</td>\n",
       "      <td>FFIV</td>\n",
       "      <td>163.820007</td>\n",
       "      <td>163.820007</td>\n",
       "      <td>165.470001</td>\n",
       "      <td>159.639999</td>\n",
       "      <td>159.949997</td>\n",
       "      <td>913300</td>\n",
       "      <td>159.789993</td>\n",
       "      <td>4.030014</td>\n",
       "    </tr>\n",
       "    <tr>\n",
       "      <th>4</th>\n",
       "      <td>2019-01-08</td>\n",
       "      <td>FFIV</td>\n",
       "      <td>164.820007</td>\n",
       "      <td>164.820007</td>\n",
       "      <td>166.369995</td>\n",
       "      <td>161.949997</td>\n",
       "      <td>165.169998</td>\n",
       "      <td>634200</td>\n",
       "      <td>163.820007</td>\n",
       "      <td>1.000000</td>\n",
       "    </tr>\n",
       "  </tbody>\n",
       "</table>\n",
       "</div>"
      ],
      "text/plain": [
       "        Date Symbol   Adj Close       Close        High         Low   \n",
       "0 2019-01-02   FFIV  161.179993  161.179993  162.910004  158.190002  \\\n",
       "1 2019-01-03   FFIV  154.309998  154.309998  160.169998  153.910004   \n",
       "2 2019-01-04   FFIV  159.789993  159.789993  160.130005  156.300003   \n",
       "3 2019-01-07   FFIV  163.820007  163.820007  165.470001  159.639999   \n",
       "4 2019-01-08   FFIV  164.820007  164.820007  166.369995  161.949997   \n",
       "\n",
       "         Open   Volume  Prev_close  Close_change  \n",
       "0  158.190002   758700         NaN      0.000000  \n",
       "1  159.610001  1227800  161.179993     -6.869995  \n",
       "2  156.699997   805100  154.309998      5.479996  \n",
       "3  159.949997   913300  159.789993      4.030014  \n",
       "4  165.169998   634200  163.820007      1.000000  "
      ]
     },
     "execution_count": 11,
     "metadata": {},
     "output_type": "execute_result"
    }
   ],
   "source": [
    "df_ffiv.head()"
   ]
  },
  {
   "cell_type": "code",
   "execution_count": 12,
   "metadata": {},
   "outputs": [
    {
     "data": {
      "application/vnd.jupyter.widget-view+json": {
       "model_id": "9c3e718ca3c1484cb1f442684893d095",
       "version_major": 2,
       "version_minor": 0
      },
      "text/plain": [
       "  0%|          | 0/1316 [00:00<?, ?it/s]"
      ]
     },
     "metadata": {},
     "output_type": "display_data"
    }
   ],
   "source": [
    "rows = []\n",
    "for _,row in tqdm(df_ffiv.iterrows(), total=df_ffiv.shape[0]):\n",
    "    row_data = dict(\n",
    "        day = row.Date.day,\n",
    "        month = row.Date.month,\n",
    "        year = row.Date.year,\n",
    "        open = row.Open,\n",
    "        low = row.Close,\n",
    "        high = row.High, \n",
    "        close = row.Close, \n",
    "        volume = row.Volume,\n",
    "        close_change = row.Close_change\n",
    "    )\n",
    "    rows.append(row_data)\n",
    "features_ffiv = pd.DataFrame(rows)"
   ]
  },
  {
   "cell_type": "code",
   "execution_count": 13,
   "metadata": {},
   "outputs": [
    {
     "data": {
      "text/html": [
       "<div>\n",
       "<style scoped>\n",
       "    .dataframe tbody tr th:only-of-type {\n",
       "        vertical-align: middle;\n",
       "    }\n",
       "\n",
       "    .dataframe tbody tr th {\n",
       "        vertical-align: top;\n",
       "    }\n",
       "\n",
       "    .dataframe thead th {\n",
       "        text-align: right;\n",
       "    }\n",
       "</style>\n",
       "<table border=\"1\" class=\"dataframe\">\n",
       "  <thead>\n",
       "    <tr style=\"text-align: right;\">\n",
       "      <th></th>\n",
       "      <th>day</th>\n",
       "      <th>month</th>\n",
       "      <th>year</th>\n",
       "      <th>open</th>\n",
       "      <th>low</th>\n",
       "      <th>high</th>\n",
       "      <th>close</th>\n",
       "      <th>volume</th>\n",
       "      <th>close_change</th>\n",
       "    </tr>\n",
       "  </thead>\n",
       "  <tbody>\n",
       "    <tr>\n",
       "      <th>0</th>\n",
       "      <td>2</td>\n",
       "      <td>1</td>\n",
       "      <td>2019</td>\n",
       "      <td>158.190002</td>\n",
       "      <td>161.179993</td>\n",
       "      <td>162.910004</td>\n",
       "      <td>161.179993</td>\n",
       "      <td>758700</td>\n",
       "      <td>0.000000</td>\n",
       "    </tr>\n",
       "    <tr>\n",
       "      <th>1</th>\n",
       "      <td>3</td>\n",
       "      <td>1</td>\n",
       "      <td>2019</td>\n",
       "      <td>159.610001</td>\n",
       "      <td>154.309998</td>\n",
       "      <td>160.169998</td>\n",
       "      <td>154.309998</td>\n",
       "      <td>1227800</td>\n",
       "      <td>-6.869995</td>\n",
       "    </tr>\n",
       "    <tr>\n",
       "      <th>2</th>\n",
       "      <td>4</td>\n",
       "      <td>1</td>\n",
       "      <td>2019</td>\n",
       "      <td>156.699997</td>\n",
       "      <td>159.789993</td>\n",
       "      <td>160.130005</td>\n",
       "      <td>159.789993</td>\n",
       "      <td>805100</td>\n",
       "      <td>5.479996</td>\n",
       "    </tr>\n",
       "    <tr>\n",
       "      <th>3</th>\n",
       "      <td>7</td>\n",
       "      <td>1</td>\n",
       "      <td>2019</td>\n",
       "      <td>159.949997</td>\n",
       "      <td>163.820007</td>\n",
       "      <td>165.470001</td>\n",
       "      <td>163.820007</td>\n",
       "      <td>913300</td>\n",
       "      <td>4.030014</td>\n",
       "    </tr>\n",
       "    <tr>\n",
       "      <th>4</th>\n",
       "      <td>8</td>\n",
       "      <td>1</td>\n",
       "      <td>2019</td>\n",
       "      <td>165.169998</td>\n",
       "      <td>164.820007</td>\n",
       "      <td>166.369995</td>\n",
       "      <td>164.820007</td>\n",
       "      <td>634200</td>\n",
       "      <td>1.000000</td>\n",
       "    </tr>\n",
       "  </tbody>\n",
       "</table>\n",
       "</div>"
      ],
      "text/plain": [
       "   day  month  year        open         low        high       close   volume   \n",
       "0    2      1  2019  158.190002  161.179993  162.910004  161.179993   758700  \\\n",
       "1    3      1  2019  159.610001  154.309998  160.169998  154.309998  1227800   \n",
       "2    4      1  2019  156.699997  159.789993  160.130005  159.789993   805100   \n",
       "3    7      1  2019  159.949997  163.820007  165.470001  163.820007   913300   \n",
       "4    8      1  2019  165.169998  164.820007  166.369995  164.820007   634200   \n",
       "\n",
       "   close_change  \n",
       "0      0.000000  \n",
       "1     -6.869995  \n",
       "2      5.479996  \n",
       "3      4.030014  \n",
       "4      1.000000  "
      ]
     },
     "execution_count": 13,
     "metadata": {},
     "output_type": "execute_result"
    }
   ],
   "source": [
    "features_ffiv.head()"
   ]
  },
  {
   "cell_type": "code",
   "execution_count": 14,
   "metadata": {},
   "outputs": [],
   "source": [
    "def detect_outlier(df, col):\n",
    "    q1 = np.percentile(df[col], 25)\n",
    "    q3 = np.percentile(df[col], 75)\n",
    "    iqr = q3 - q1\n",
    "    lower_bound = q1 - 1.5 * iqr\n",
    "    upper_bound = q3 + 1.5 * iqr\n",
    "    print(df[(df[col] < lower_bound) | (df[col] > upper_bound)])"
   ]
  },
  {
   "cell_type": "code",
   "execution_count": 15,
   "metadata": {},
   "outputs": [
    {
     "name": "stdout",
     "output_type": "stream",
     "text": [
      "Empty DataFrame\n",
      "Columns: [day, month, year, open, low, high, close, volume, close_change]\n",
      "Index: []\n"
     ]
    }
   ],
   "source": [
    "detect_outlier(features_ffiv, 'close')"
   ]
  },
  {
   "cell_type": "code",
   "execution_count": 16,
   "metadata": {},
   "outputs": [
    {
     "name": "stdout",
     "output_type": "stream",
     "text": [
      "      day  month  year        open         low        high       close   \n",
      "1       3      1  2019  159.610001  154.309998  160.169998  154.309998  \\\n",
      "11     17      1  2019  156.899994  156.419998  158.309998  156.419998   \n",
      "12     18      1  2019  157.539993  158.639999  159.339996  158.639999   \n",
      "15     24      1  2019  151.860001  156.089996  159.550003  156.089996   \n",
      "47     12      3  2019  153.639999  149.649994  154.699997  149.649994   \n",
      "...   ...    ...   ...         ...         ...         ...         ...   \n",
      "1122   16      6  2023  153.160004  151.979996  154.039993  151.979996   \n",
      "1147   25      7  2023  164.970001  158.979996  167.889999  158.979996   \n",
      "1237   30     11  2023  170.130005  171.190002  172.169998  171.190002   \n",
      "1248   15     12  2023  176.919998  177.619995  177.919998  177.619995   \n",
      "1277   30      1  2024  195.009995  186.839996  199.490005  186.839996   \n",
      "\n",
      "       volume  close_change  \n",
      "1     1227800     -6.869995  \n",
      "11    1223500     -5.440002  \n",
      "12    1306300      2.220001  \n",
      "15    2096400     -3.550003  \n",
      "47    2278500    -12.440002  \n",
      "...       ...           ...  \n",
      "1122  1186000      0.470001  \n",
      "1147  2490200      8.769989  \n",
      "1237  2644200      1.139999  \n",
      "1248  1293400      0.699997  \n",
      "1277  1780100      1.470001  \n",
      "\n",
      "[81 rows x 9 columns]\n"
     ]
    }
   ],
   "source": [
    "detect_outlier(features_ffiv, 'volume')"
   ]
  },
  {
   "cell_type": "code",
   "execution_count": 17,
   "metadata": {},
   "outputs": [
    {
     "name": "stdout",
     "output_type": "stream",
     "text": [
      "      day  month  year        open         low        high       close   \n",
      "1       3      1  2019  159.610001  154.309998  160.169998  154.309998  \\\n",
      "47     12      3  2019  153.639999  149.649994  154.699997  149.649994   \n",
      "113    14      6  2019  140.449997  136.929993  142.330002  136.929993   \n",
      "205    24     10  2019  150.000000  145.940002  153.000000  145.940002   \n",
      "269    28      1  2020  125.040001  126.000000  131.309998  126.000000   \n",
      "297     9      3  2020  114.000000  111.690002  119.639999  111.690002   \n",
      "299    11      3  2020  114.730003  107.800003  115.589996  107.800003   \n",
      "300    12      3  2020  101.089996   98.330002  104.559998   98.330002   \n",
      "301    13      3  2020  103.220001  105.699997  105.779999  105.699997   \n",
      "302    16      3  2020   95.169998   95.660004  100.059998   95.660004   \n",
      "305    19      3  2020   89.059998   98.330002  101.239998   98.330002   \n",
      "310    26      3  2020  105.180000  114.050003  115.349998  114.050003   \n",
      "332    28      4  2020  147.850006  140.860001  153.559998  140.860001   \n",
      "342    12      5  2020  148.699997  140.410004  149.380005  140.410004   \n",
      "363    11      6  2020  144.029999  137.509995  144.029999  137.509995   \n",
      "382     9      7  2020  139.509995  144.820007  145.000000  144.820007   \n",
      "395    28      7  2020  144.750000  137.970001  145.339996  137.970001   \n",
      "459    27     10  2020  131.990005  136.259995  139.789993  136.259995   \n",
      "466     5     11  2020  134.869995  140.850006  141.800003  140.850006   \n",
      "468     9     11  2020  161.000000  154.970001  162.500000  154.970001   \n",
      "475    18     11  2020  161.479996  155.429993  161.479996  155.429993   \n",
      "509     8      1  2021  193.720001  191.240005  200.570007  191.240005   \n",
      "521    27      1  2021  203.500000  201.220001  208.550003  201.220001   \n",
      "562    26      3  2021  201.259995  210.440002  210.449997  210.440002   \n",
      "584    28      4  2021  189.850006  186.699997  191.759995  186.699997   \n",
      "594    12      5  2021  180.429993  174.960007  180.660004  174.960007   \n",
      "646    27      7  2021  206.570007  204.570007  211.949997  204.570007   \n",
      "711    27     10  2021  215.800003  216.020004  225.070007  216.020004   \n",
      "715     2     11  2021  213.179993  222.619995  222.639999  222.619995   \n",
      "739     7     12  2021  228.020004  232.199997  233.529999  232.199997   \n",
      "752    27     12  2021  235.570007  243.320007  243.460007  243.320007   \n",
      "759     5      1  2022  239.360001  232.309998  240.529999  232.309998   \n",
      "767    18      1  2022  232.410004  223.500000  233.399994  223.500000   \n",
      "773    26      1  2022  195.000000  202.490005  207.649994  202.490005   \n",
      "776    31      1  2022  199.190002  207.619995  207.839996  207.619995   \n",
      "787    15      2  2022  195.929993  201.649994  201.779999  201.649994   \n",
      "828    14      4  2022  208.880005  199.529999  210.000000  199.529999   \n",
      "835    26      4  2022  201.089996  193.910004  202.940002  193.910004   \n",
      "836    27      4  2022  172.789993  169.009995  175.860001  169.009995   \n",
      "837    28      4  2022  169.690002  175.910004  177.990005  175.910004   \n",
      "838    29      4  2022  175.669998  167.410004  177.169998  167.410004   \n",
      "842     5      5  2022  175.389999  170.630005  176.080002  170.630005   \n",
      "846    11      5  2022  169.330002  164.020004  171.809998  164.020004   \n",
      "851    18      5  2022  166.979996  161.300003  167.520004  161.300003   \n",
      "920    26      8  2022  167.429993  160.169998  167.429993  160.169998   \n",
      "931    13      9  2022  158.740005  156.059998  159.460007  156.059998   \n",
      "949     7     10  2022  150.949997  144.169998  150.949997  144.169998   \n",
      "962    26     10  2022  140.889999  142.389999  142.820007  142.389999   \n",
      "973    10     11  2022  140.589996  144.740005  144.850006  144.740005   \n",
      "1147   25      7  2023  164.970001  158.979996  167.889999  158.979996   \n",
      "\n",
      "       volume  close_change  \n",
      "1     1227800     -6.869995  \n",
      "47    2278500    -12.440002  \n",
      "113   1187500     -8.200012  \n",
      "205   2154200      7.619995  \n",
      "269   2594700     -6.699997  \n",
      "297   1284600     -7.949997  \n",
      "299   1027700    -10.079994  \n",
      "300   1193200     -9.470001  \n",
      "301   1397900      7.369995  \n",
      "302    907200    -10.039993  \n",
      "305   1127800      7.779999  \n",
      "310   1043700      8.760002  \n",
      "332   4579400      9.940002  \n",
      "342    965000     -8.059998  \n",
      "363    778100     -8.510010  \n",
      "382   1726000     10.660004  \n",
      "395   3898700    -13.270004  \n",
      "459   2650400     10.689995  \n",
      "466    993800      6.850006  \n",
      "468   2187000     10.600006  \n",
      "475    667800     -6.660004  \n",
      "509   1806500     11.139999  \n",
      "521   3259400     -7.339996  \n",
      "562    817200      9.139999  \n",
      "584   3111500    -18.639999  \n",
      "594    648000     -7.639999  \n",
      "646   1868300     11.950012  \n",
      "711   1509700     12.120010  \n",
      "715    835900      7.500000  \n",
      "739    462200      7.610001  \n",
      "752    330100      8.480011  \n",
      "759    403300     -7.589996  \n",
      "767    641600    -12.630005  \n",
      "773   5232700    -18.649994  \n",
      "776   1192200      8.110001  \n",
      "787    551100      7.849991  \n",
      "828    438400     -9.580002  \n",
      "835   1040200     -9.089996  \n",
      "836   2619800    -24.900009  \n",
      "837   1148300      6.900009  \n",
      "838    840400     -8.500000  \n",
      "842    698900     -7.289993  \n",
      "846    712500     -6.610001  \n",
      "851    681800     -7.779999  \n",
      "920    351600     -7.259995  \n",
      "931    437600     -7.010010  \n",
      "949    591200     -8.070007  \n",
      "962   2176200    -11.080002  \n",
      "973    577600     10.490005  \n",
      "1147  2490200      8.769989  \n"
     ]
    }
   ],
   "source": [
    "detect_outlier(features_ffiv, 'close_change')"
   ]
  },
  {
   "cell_type": "code",
   "execution_count": 18,
   "metadata": {},
   "outputs": [],
   "source": [
    "train_size = int(0.7 * len(features_ffiv))\n",
    "test_size = int(0.2 * len(features_ffiv))\n",
    "val_size = len(features_ffiv) - train_size - test_size\n",
    "\n",
    "train_ffiv_df = features_ffiv[:train_size]\n",
    "test_ffiv_df = features_ffiv[train_size:train_size+test_size]\n",
    "validation_ffiv_df = features_ffiv[train_size+test_size:]"
   ]
  },
  {
   "cell_type": "code",
   "execution_count": 19,
   "metadata": {
    "colab": {
     "base_uri": "https://localhost:8080/"
    },
    "executionInfo": {
     "elapsed": 5,
     "status": "ok",
     "timestamp": 1714850103883,
     "user": {
      "displayName": "DAO NGUYỄN THỊ BÍCH",
      "userId": "07070364028547772837"
     },
     "user_tz": -420
    },
    "id": "hxP-u3dnAkxl",
    "outputId": "8a8f72d6-ca49-491f-fe0c-67cd4289eb3a"
   },
   "outputs": [
    {
     "name": "stdout",
     "output_type": "stream",
     "text": [
      "Hệ số hồi quy (slope): [0.07654709]\n",
      "Sai số chệch (intercept): 130.82307390045733\n"
     ]
    }
   ],
   "source": [
    "#Quá trình Training\n",
    "x_train = np.array(train_ffiv_df.index).reshape(-1, 1)\n",
    "y_train = np.array(train_ffiv_df['close'])\n",
    "# Train the linear regression model\n",
    "model = LinearRegression()\n",
    "model.fit(x_train, y_train)\n",
    "# In các thông số của mô hình\n",
    "print(\"Hệ số hồi quy (slope):\", model.coef_)\n",
    "print(\"Sai số chệch (intercept):\", model.intercept_)"
   ]
  },
  {
   "cell_type": "code",
   "execution_count": 20,
   "metadata": {},
   "outputs": [],
   "source": [
    "#Quá trình testing\n",
    "x_test = np.array(test_ffiv_df.index).reshape(-1, 1)\n",
    "y_test = np.array(test_ffiv_df['close'])\n",
    "y_pred = model.predict(x_test)\n",
    "\n",
    "#Quá trình Validate\n",
    "x_val= np.array(validation_ffiv_df.index).reshape(-1, 1)\n",
    "y_val = np.array(validation_ffiv_df['close'])\n",
    "y_pred_val =  model.predict(x_val)"
   ]
  },
  {
   "cell_type": "code",
   "execution_count": 21,
   "metadata": {},
   "outputs": [
    {
     "name": "stdout",
     "output_type": "stream",
     "text": [
      "Predicted closing prices for the next 30 days:\n",
      "[231.55904076 231.63558785 231.71213493 231.78868202 231.86522911\n",
      " 231.94177619 232.01832328 232.09487037 232.17141746 232.24796454\n",
      " 232.32451163 232.40105872 232.47760581 232.55415289 232.63069998\n",
      " 232.70724707 232.78379415 232.86034124 232.93688833 233.01343542\n",
      " 233.0899825  233.16652959 233.24307668 233.31962377 233.39617085\n",
      " 233.47271794 233.54926503 233.62581211 233.7023592  233.77890629]\n"
     ]
    }
   ],
   "source": [
    "#Quá trình tạo index predict 30 ngày tiếp theo\n",
    "last_index = features_ffiv.index[-1]\n",
    "last_data = pd.RangeIndex(start=last_index, stop=last_index+30, step=1)\n",
    "\n",
    "# Create an array of 30 consecutive integers starting from last_index\n",
    "x_next_30_days = np.array(range(last_index+1, last_index+31)).reshape(-1, 1)\n",
    "\n",
    "# Predict the closing prices for the next 30 days\n",
    "y_next_30_days = model.predict(x_next_30_days)\n",
    "\n",
    "# Print the predicted closing prices for the next 30 days\n",
    "print('Predicted closing prices for the next 30 days:')\n",
    "print(y_next_30_days)"
   ]
  },
  {
   "cell_type": "code",
   "execution_count": 22,
   "metadata": {
    "colab": {
     "base_uri": "https://localhost:8080/",
     "height": 472
    },
    "executionInfo": {
     "elapsed": 743,
     "status": "ok",
     "timestamp": 1714850112013,
     "user": {
      "displayName": "DAO NGUYỄN THỊ BÍCH",
      "userId": "07070364028547772837"
     },
     "user_tz": -420
    },
    "id": "UKurQJg4BFbo",
    "outputId": "4d052be6-32c1-4bec-ee34-52c9cc2c5484"
   },
   "outputs": [
    {
     "data": {
      "image/png": "[encoded data removed]",
      "text/plain": [
       "<Figure size 640x480 with 1 Axes>"
      ]
     },
     "metadata": {},
     "output_type": "display_data"
    }
   ],
   "source": [
    "#Vẽ hình\n",
    "plt.plot(train_ffiv_df.index, train_ffiv_df['close'])\n",
    "plt.plot(test_ffiv_df.index, test_ffiv_df['close'])\n",
    "plt.plot(test_ffiv_df.index, y_pred)\n",
    "plt.plot(validation_ffiv_df.index, y_pred_val)\n",
    "plt.plot(last_data,y_next_30_days)\n",
    "plt.legend(['Train', 'Test', 'Predictions','Validate','Next30Day'])\n",
    "plt.show()"
   ]
  },
  {
   "cell_type": "code",
   "execution_count": null,
   "metadata": {
    "id": "5MQqHxNKCMLj"
   },
   "outputs": [],
   "source": []
  }
 ],
 "metadata": {
  "colab": {
   "authorship_tag": "ABX9TyP8XXbeJnGqPojNMs2qoLp0",
   "provenance": []
  },
  "kernelspec": {
   "display_name": "Python 3 (ipykernel)",
   "language": "python",
   "name": "python3"
  },
  "language_info": {
   "codemirror_mode": {
    "name": "ipython",
    "version": 3
   },
   "file_extension": ".py",
   "mimetype": "text/x-python",
   "name": "python",
   "nbconvert_exporter": "python",
   "pygments_lexer": "ipython3",
   "version": "3.11.3"
  }
 },
 "nbformat": 4,
 "nbformat_minor": 4
}
