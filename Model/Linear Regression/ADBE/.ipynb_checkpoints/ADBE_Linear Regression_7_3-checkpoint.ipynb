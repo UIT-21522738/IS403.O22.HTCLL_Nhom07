{
 "cells": [
  {
   "cell_type": "code",
   "execution_count": 1,
   "metadata": {
    "executionInfo": {
     "elapsed": 3725,
     "status": "ok",
     "timestamp": 1714849624982,
     "user": {
      "displayName": "DAO NGUYỄN THỊ BÍCH",
      "userId": "07070364028547772837"
     },
     "user_tz": -420
    },
    "id": "Aj8QUSkdwe9L"
   },
   "outputs": [],
   "source": [
    "import pandas as pd\n",
    "import numpy as np\n",
    "from scipy import stats\n",
    "import statsmodels.api as sm\n",
    "import matplotlib.pyplot as plt\n",
    "from sklearn.linear_model import LinearRegression\n",
    "from sklearn.preprocessing import MinMaxScaler\n",
    "from sklearn.preprocessing import StandardScaler\n",
    "from tqdm.notebook import tqdm\n",
    "tqdm.pandas()"
   ]
  },
  {
   "cell_type": "code",
   "execution_count": 2,
   "metadata": {
    "colab": {
     "base_uri": "https://localhost:8080/",
     "height": 71
    },
    "executionInfo": {
     "elapsed": 7479,
     "status": "ok",
     "timestamp": 1714850045131,
     "user": {
      "displayName": "DAO NGUYỄN THỊ BÍCH",
      "userId": "07070364028547772837"
     },
     "user_tz": -420
    },
    "id": "b2zApkhTAJjD",
    "outputId": "1609ae67-62b8-4db0-bfe4-32f85514705b"
   },
   "outputs": [],
   "source": [
    "csv_adbe = \"C:/Business analysis/Project/IS403.O22.HTCLL_Nhom07/Dataset/ADBE_Stock.csv\"\n",
    "df_adbe = pd.read_csv(csv_adbe, thousands=',')"
   ]
  },
  {
   "cell_type": "code",
   "execution_count": 3,
   "metadata": {},
   "outputs": [
    {
     "data": {
      "text/html": [
       "<div>\n",
       "<style scoped>\n",
       "    .dataframe tbody tr th:only-of-type {\n",
       "        vertical-align: middle;\n",
       "    }\n",
       "\n",
       "    .dataframe tbody tr th {\n",
       "        vertical-align: top;\n",
       "    }\n",
       "\n",
       "    .dataframe thead th {\n",
       "        text-align: right;\n",
       "    }\n",
       "</style>\n",
       "<table border=\"1\" class=\"dataframe\">\n",
       "  <thead>\n",
       "    <tr style=\"text-align: right;\">\n",
       "      <th></th>\n",
       "      <th>Date</th>\n",
       "      <th>Symbol</th>\n",
       "      <th>Adj Close</th>\n",
       "      <th>Close</th>\n",
       "      <th>High</th>\n",
       "      <th>Low</th>\n",
       "      <th>Open</th>\n",
       "      <th>Volume</th>\n",
       "    </tr>\n",
       "  </thead>\n",
       "  <tbody>\n",
       "    <tr>\n",
       "      <th>0</th>\n",
       "      <td>3/1/2019</td>\n",
       "      <td>ADBE</td>\n",
       "      <td>264.010010</td>\n",
       "      <td>264.010010</td>\n",
       "      <td>266.239990</td>\n",
       "      <td>261.500000</td>\n",
       "      <td>265.750000</td>\n",
       "      <td>2594000</td>\n",
       "    </tr>\n",
       "    <tr>\n",
       "      <th>1</th>\n",
       "      <td>3/4/2019</td>\n",
       "      <td>ADBE</td>\n",
       "      <td>258.160004</td>\n",
       "      <td>258.160004</td>\n",
       "      <td>267.000000</td>\n",
       "      <td>254.080002</td>\n",
       "      <td>266.700012</td>\n",
       "      <td>2994900</td>\n",
       "    </tr>\n",
       "    <tr>\n",
       "      <th>2</th>\n",
       "      <td>3/5/2019</td>\n",
       "      <td>ADBE</td>\n",
       "      <td>257.380005</td>\n",
       "      <td>257.380005</td>\n",
       "      <td>259.869995</td>\n",
       "      <td>256.369995</td>\n",
       "      <td>259.000000</td>\n",
       "      <td>2101800</td>\n",
       "    </tr>\n",
       "    <tr>\n",
       "      <th>3</th>\n",
       "      <td>3/6/2019</td>\n",
       "      <td>ADBE</td>\n",
       "      <td>256.399994</td>\n",
       "      <td>256.399994</td>\n",
       "      <td>259.489990</td>\n",
       "      <td>253.839996</td>\n",
       "      <td>257.399994</td>\n",
       "      <td>1950500</td>\n",
       "    </tr>\n",
       "    <tr>\n",
       "      <th>4</th>\n",
       "      <td>3/7/2019</td>\n",
       "      <td>ADBE</td>\n",
       "      <td>255.460007</td>\n",
       "      <td>255.460007</td>\n",
       "      <td>257.489990</td>\n",
       "      <td>253.289993</td>\n",
       "      <td>255.770004</td>\n",
       "      <td>3185200</td>\n",
       "    </tr>\n",
       "  </tbody>\n",
       "</table>\n",
       "</div>"
      ],
      "text/plain": [
       "       Date Symbol   Adj Close       Close        High         Low   \n",
       "0  3/1/2019   ADBE  264.010010  264.010010  266.239990  261.500000  \\\n",
       "1  3/4/2019   ADBE  258.160004  258.160004  267.000000  254.080002   \n",
       "2  3/5/2019   ADBE  257.380005  257.380005  259.869995  256.369995   \n",
       "3  3/6/2019   ADBE  256.399994  256.399994  259.489990  253.839996   \n",
       "4  3/7/2019   ADBE  255.460007  255.460007  257.489990  253.289993   \n",
       "\n",
       "         Open   Volume  \n",
       "0  265.750000  2594000  \n",
       "1  266.700012  2994900  \n",
       "2  259.000000  2101800  \n",
       "3  257.399994  1950500  \n",
       "4  255.770004  3185200  "
      ]
     },
     "execution_count": 3,
     "metadata": {},
     "output_type": "execute_result"
    }
   ],
   "source": [
    "df_adbe.head()"
   ]
  },
  {
   "cell_type": "code",
   "execution_count": 4,
   "metadata": {},
   "outputs": [
    {
     "data": {
      "text/html": [
       "<div>\n",
       "<style scoped>\n",
       "    .dataframe tbody tr th:only-of-type {\n",
       "        vertical-align: middle;\n",
       "    }\n",
       "\n",
       "    .dataframe tbody tr th {\n",
       "        vertical-align: top;\n",
       "    }\n",
       "\n",
       "    .dataframe thead th {\n",
       "        text-align: right;\n",
       "    }\n",
       "</style>\n",
       "<table border=\"1\" class=\"dataframe\">\n",
       "  <thead>\n",
       "    <tr style=\"text-align: right;\">\n",
       "      <th></th>\n",
       "      <th>Adj Close</th>\n",
       "      <th>Close</th>\n",
       "      <th>High</th>\n",
       "      <th>Low</th>\n",
       "      <th>Open</th>\n",
       "      <th>Volume</th>\n",
       "    </tr>\n",
       "  </thead>\n",
       "  <tbody>\n",
       "    <tr>\n",
       "      <th>count</th>\n",
       "      <td>1324.000000</td>\n",
       "      <td>1324.000000</td>\n",
       "      <td>1324.000000</td>\n",
       "      <td>1324.000000</td>\n",
       "      <td>1324.000000</td>\n",
       "      <td>1.324000e+03</td>\n",
       "    </tr>\n",
       "    <tr>\n",
       "      <th>mean</th>\n",
       "      <td>437.561171</td>\n",
       "      <td>437.561171</td>\n",
       "      <td>442.956797</td>\n",
       "      <td>431.746496</td>\n",
       "      <td>437.548852</td>\n",
       "      <td>2.987458e+06</td>\n",
       "    </tr>\n",
       "    <tr>\n",
       "      <th>std</th>\n",
       "      <td>112.802864</td>\n",
       "      <td>112.802864</td>\n",
       "      <td>113.786692</td>\n",
       "      <td>111.798628</td>\n",
       "      <td>112.881015</td>\n",
       "      <td>1.733830e+06</td>\n",
       "    </tr>\n",
       "    <tr>\n",
       "      <th>min</th>\n",
       "      <td>254.740005</td>\n",
       "      <td>254.740005</td>\n",
       "      <td>255.020004</td>\n",
       "      <td>249.100006</td>\n",
       "      <td>251.490005</td>\n",
       "      <td>5.892000e+05</td>\n",
       "    </tr>\n",
       "    <tr>\n",
       "      <th>25%</th>\n",
       "      <td>339.532501</td>\n",
       "      <td>339.532501</td>\n",
       "      <td>344.690010</td>\n",
       "      <td>333.492500</td>\n",
       "      <td>338.960007</td>\n",
       "      <td>2.039850e+06</td>\n",
       "    </tr>\n",
       "    <tr>\n",
       "      <th>50%</th>\n",
       "      <td>443.785004</td>\n",
       "      <td>443.785004</td>\n",
       "      <td>449.224991</td>\n",
       "      <td>436.915009</td>\n",
       "      <td>444.769989</td>\n",
       "      <td>2.573100e+06</td>\n",
       "    </tr>\n",
       "    <tr>\n",
       "      <th>75%</th>\n",
       "      <td>514.142502</td>\n",
       "      <td>514.142502</td>\n",
       "      <td>520.422485</td>\n",
       "      <td>508.869987</td>\n",
       "      <td>514.000000</td>\n",
       "      <td>3.413750e+06</td>\n",
       "    </tr>\n",
       "    <tr>\n",
       "      <th>max</th>\n",
       "      <td>688.369995</td>\n",
       "      <td>688.369995</td>\n",
       "      <td>699.539978</td>\n",
       "      <td>678.909973</td>\n",
       "      <td>696.280029</td>\n",
       "      <td>2.784020e+07</td>\n",
       "    </tr>\n",
       "  </tbody>\n",
       "</table>\n",
       "</div>"
      ],
      "text/plain": [
       "         Adj Close        Close         High          Low         Open   \n",
       "count  1324.000000  1324.000000  1324.000000  1324.000000  1324.000000  \\\n",
       "mean    437.561171   437.561171   442.956797   431.746496   437.548852   \n",
       "std     112.802864   112.802864   113.786692   111.798628   112.881015   \n",
       "min     254.740005   254.740005   255.020004   249.100006   251.490005   \n",
       "25%     339.532501   339.532501   344.690010   333.492500   338.960007   \n",
       "50%     443.785004   443.785004   449.224991   436.915009   444.769989   \n",
       "75%     514.142502   514.142502   520.422485   508.869987   514.000000   \n",
       "max     688.369995   688.369995   699.539978   678.909973   696.280029   \n",
       "\n",
       "             Volume  \n",
       "count  1.324000e+03  \n",
       "mean   2.987458e+06  \n",
       "std    1.733830e+06  \n",
       "min    5.892000e+05  \n",
       "25%    2.039850e+06  \n",
       "50%    2.573100e+06  \n",
       "75%    3.413750e+06  \n",
       "max    2.784020e+07  "
      ]
     },
     "execution_count": 4,
     "metadata": {},
     "output_type": "execute_result"
    }
   ],
   "source": [
    "df_adbe.describe()"
   ]
  },
  {
   "cell_type": "code",
   "execution_count": 5,
   "metadata": {},
   "outputs": [
    {
     "name": "stdout",
     "output_type": "stream",
     "text": [
      "<class 'pandas.core.frame.DataFrame'>\n",
      "RangeIndex: 1324 entries, 0 to 1323\n",
      "Data columns (total 8 columns):\n",
      " #   Column     Non-Null Count  Dtype  \n",
      "---  ------     --------------  -----  \n",
      " 0   Date       1324 non-null   object \n",
      " 1   Symbol     1324 non-null   object \n",
      " 2   Adj Close  1324 non-null   float64\n",
      " 3   Close      1324 non-null   float64\n",
      " 4   High       1324 non-null   float64\n",
      " 5   Low        1324 non-null   float64\n",
      " 6   Open       1324 non-null   float64\n",
      " 7   Volume     1324 non-null   int64  \n",
      "dtypes: float64(5), int64(1), object(2)\n",
      "memory usage: 82.9+ KB\n"
     ]
    }
   ],
   "source": [
    "df_adbe.info()"
   ]
  },
  {
   "cell_type": "code",
   "execution_count": 6,
   "metadata": {},
   "outputs": [
    {
     "name": "stdout",
     "output_type": "stream",
     "text": [
      "<class 'pandas.core.frame.DataFrame'>\n",
      "RangeIndex: 1324 entries, 0 to 1323\n",
      "Data columns (total 8 columns):\n",
      " #   Column     Non-Null Count  Dtype         \n",
      "---  ------     --------------  -----         \n",
      " 0   Date       1324 non-null   datetime64[ns]\n",
      " 1   Symbol     1324 non-null   object        \n",
      " 2   Adj Close  1324 non-null   float64       \n",
      " 3   Close      1324 non-null   float64       \n",
      " 4   High       1324 non-null   float64       \n",
      " 5   Low        1324 non-null   float64       \n",
      " 6   Open       1324 non-null   float64       \n",
      " 7   Volume     1324 non-null   int64         \n",
      "dtypes: datetime64[ns](1), float64(5), int64(1), object(1)\n",
      "memory usage: 82.9+ KB\n"
     ]
    }
   ],
   "source": [
    "# Convert object to datetime64\n",
    "df_adbe['Date'] = df_adbe['Date'].apply(pd.to_datetime)\n",
    "# Sort data by date time value\n",
    "df_adbe = df_adbe.sort_values(by=\"Date\").reset_index(drop=True)\n",
    "df_adbe.info()"
   ]
  },
  {
   "cell_type": "code",
   "execution_count": 7,
   "metadata": {},
   "outputs": [
    {
     "data": {
      "text/plain": [
       "0       264.010010\n",
       "1       258.160004\n",
       "2       257.380005\n",
       "3       256.399994\n",
       "4       255.460007\n",
       "           ...    \n",
       "1319    478.429993\n",
       "1320    477.600006\n",
       "1321    445.869995\n",
       "1322    444.760010\n",
       "1323    439.019989\n",
       "Name: Close, Length: 1324, dtype: float64"
      ]
     },
     "execution_count": 7,
     "metadata": {},
     "output_type": "execute_result"
    }
   ],
   "source": [
    "df_adbe.Close"
   ]
  },
  {
   "cell_type": "code",
   "execution_count": 8,
   "metadata": {},
   "outputs": [
    {
     "data": {
      "application/vnd.jupyter.widget-view+json": {
       "model_id": "6b890d52af3249fc895563848b739f24",
       "version_major": 2,
       "version_minor": 0
      },
      "text/plain": [
       "  0%|          | 0/1324 [00:00<?, ?it/s]"
      ]
     },
     "metadata": {},
     "output_type": "display_data"
    }
   ],
   "source": [
    "rows = []\n",
    "for _,row in tqdm(df_adbe.iterrows(), total=df_adbe.shape[0]):\n",
    "    row_data = dict(\n",
    "        day = row.Date.day,\n",
    "        month = row.Date.month,\n",
    "        year = row.Date.year,\n",
    "        open = row.Open,\n",
    "        low = row.Close,\n",
    "        high = row.High, \n",
    "        close = row.Close, \n",
    "        volume = row.Volume,\n",
    "    )\n",
    "    rows.append(row_data)\n",
    "features_adbe = pd.DataFrame(rows)"
   ]
  },
  {
   "cell_type": "code",
   "execution_count": 9,
   "metadata": {},
   "outputs": [
    {
     "data": {
      "text/html": [
       "<div>\n",
       "<style scoped>\n",
       "    .dataframe tbody tr th:only-of-type {\n",
       "        vertical-align: middle;\n",
       "    }\n",
       "\n",
       "    .dataframe tbody tr th {\n",
       "        vertical-align: top;\n",
       "    }\n",
       "\n",
       "    .dataframe thead th {\n",
       "        text-align: right;\n",
       "    }\n",
       "</style>\n",
       "<table border=\"1\" class=\"dataframe\">\n",
       "  <thead>\n",
       "    <tr style=\"text-align: right;\">\n",
       "      <th></th>\n",
       "      <th>day</th>\n",
       "      <th>month</th>\n",
       "      <th>year</th>\n",
       "      <th>open</th>\n",
       "      <th>low</th>\n",
       "      <th>high</th>\n",
       "      <th>close</th>\n",
       "      <th>volume</th>\n",
       "    </tr>\n",
       "  </thead>\n",
       "  <tbody>\n",
       "    <tr>\n",
       "      <th>0</th>\n",
       "      <td>1</td>\n",
       "      <td>3</td>\n",
       "      <td>2019</td>\n",
       "      <td>265.750000</td>\n",
       "      <td>264.010010</td>\n",
       "      <td>266.239990</td>\n",
       "      <td>264.010010</td>\n",
       "      <td>2594000</td>\n",
       "    </tr>\n",
       "    <tr>\n",
       "      <th>1</th>\n",
       "      <td>4</td>\n",
       "      <td>3</td>\n",
       "      <td>2019</td>\n",
       "      <td>266.700012</td>\n",
       "      <td>258.160004</td>\n",
       "      <td>267.000000</td>\n",
       "      <td>258.160004</td>\n",
       "      <td>2994900</td>\n",
       "    </tr>\n",
       "    <tr>\n",
       "      <th>2</th>\n",
       "      <td>5</td>\n",
       "      <td>3</td>\n",
       "      <td>2019</td>\n",
       "      <td>259.000000</td>\n",
       "      <td>257.380005</td>\n",
       "      <td>259.869995</td>\n",
       "      <td>257.380005</td>\n",
       "      <td>2101800</td>\n",
       "    </tr>\n",
       "    <tr>\n",
       "      <th>3</th>\n",
       "      <td>6</td>\n",
       "      <td>3</td>\n",
       "      <td>2019</td>\n",
       "      <td>257.399994</td>\n",
       "      <td>256.399994</td>\n",
       "      <td>259.489990</td>\n",
       "      <td>256.399994</td>\n",
       "      <td>1950500</td>\n",
       "    </tr>\n",
       "    <tr>\n",
       "      <th>4</th>\n",
       "      <td>7</td>\n",
       "      <td>3</td>\n",
       "      <td>2019</td>\n",
       "      <td>255.770004</td>\n",
       "      <td>255.460007</td>\n",
       "      <td>257.489990</td>\n",
       "      <td>255.460007</td>\n",
       "      <td>3185200</td>\n",
       "    </tr>\n",
       "  </tbody>\n",
       "</table>\n",
       "</div>"
      ],
      "text/plain": [
       "   day  month  year        open         low        high       close   volume\n",
       "0    1      3  2019  265.750000  264.010010  266.239990  264.010010  2594000\n",
       "1    4      3  2019  266.700012  258.160004  267.000000  258.160004  2994900\n",
       "2    5      3  2019  259.000000  257.380005  259.869995  257.380005  2101800\n",
       "3    6      3  2019  257.399994  256.399994  259.489990  256.399994  1950500\n",
       "4    7      3  2019  255.770004  255.460007  257.489990  255.460007  3185200"
      ]
     },
     "execution_count": 9,
     "metadata": {},
     "output_type": "execute_result"
    }
   ],
   "source": [
    "features_adbe.head()"
   ]
  },
  {
   "cell_type": "code",
   "execution_count": 10,
   "metadata": {},
   "outputs": [],
   "source": [
    "def detect_outlier(df, col):\n",
    "    q1 = np.percentile(df[col], 25)\n",
    "    q3 = np.percentile(df[col], 75)\n",
    "    iqr = q3 - q1\n",
    "    lower_bound = q1 - 1.5 * iqr\n",
    "    upper_bound = q3 + 1.5 * iqr\n",
    "    print(df[(df[col] < lower_bound) | (df[col] > upper_bound)])"
   ]
  },
  {
   "cell_type": "code",
   "execution_count": 11,
   "metadata": {},
   "outputs": [
    {
     "name": "stdout",
     "output_type": "stream",
     "text": [
      "Empty DataFrame\n",
      "Columns: [day, month, year, open, low, high, close, volume]\n",
      "Index: []\n"
     ]
    }
   ],
   "source": [
    "detect_outlier(features_adbe, 'close')"
   ]
  },
  {
   "cell_type": "code",
   "execution_count": 12,
   "metadata": {},
   "outputs": [],
   "source": [
    "train_size = int(0.7 * len(features_adbe))\n",
    "test_size = len(features_adbe)-train_size\n",
    "\n",
    "train_adbe_df = features_adbe[:train_size]\n",
    "test_adbe_df = features_adbe[train_size:]"
   ]
  },
  {
   "cell_type": "code",
   "execution_count": 13,
   "metadata": {
    "colab": {
     "base_uri": "https://localhost:8080/"
    },
    "executionInfo": {
     "elapsed": 5,
     "status": "ok",
     "timestamp": 1714850103883,
     "user": {
      "displayName": "DAO NGUYỄN THỊ BÍCH",
      "userId": "07070364028547772837"
     },
     "user_tz": -420
    },
    "id": "hxP-u3dnAkxl",
    "outputId": "8a8f72d6-ca49-491f-fe0c-67cd4289eb3a"
   },
   "outputs": [
    {
     "name": "stdout",
     "output_type": "stream",
     "text": [
      "Hệ số hồi quy (slope): [0.23795499]\n",
      "Sai số chệch (intercept): 313.9287136995304\n"
     ]
    }
   ],
   "source": [
    "#Quá trình Training\n",
    "x_train = np.array(train_adbe_df.index).reshape(-1, 1)\n",
    "y_train = np.array(train_adbe_df['close'])\n",
    "# Train the linear regression model\n",
    "model = LinearRegression()\n",
    "model.fit(x_train, y_train)\n",
    "# In các thông số của mô hình\n",
    "print(\"Hệ số hồi quy (slope):\", model.coef_)\n",
    "print(\"Sai số chệch (intercept):\", model.intercept_)"
   ]
  },
  {
   "cell_type": "code",
   "execution_count": 14,
   "metadata": {},
   "outputs": [],
   "source": [
    "#Quá trình testing\n",
    "x_test = np.array(test_adbe_df.index).reshape(-1, 1)\n",
    "y_test = np.array(test_adbe_df['close'])\n",
    "y_pred = model.predict(x_test)"
   ]
  },
  {
   "cell_type": "code",
   "execution_count": 15,
   "metadata": {},
   "outputs": [
    {
     "name": "stdout",
     "output_type": "stream",
     "text": [
      "Predicted closing prices for the next 30 days:\n",
      "[628.98111509 629.21907008 629.45702507 629.69498005 629.93293504\n",
      " 630.17089002 630.40884501 630.6468     630.88475498 631.12270997\n",
      " 631.36066495 631.59861994 631.83657493 632.07452991 632.3124849\n",
      " 632.55043988 632.78839487 633.02634986 633.26430484 633.50225983\n",
      " 633.74021481 633.9781698  634.21612479 634.45407977 634.69203476\n",
      " 634.92998974 635.16794473 635.40589972 635.6438547  635.88180969]\n"
     ]
    }
   ],
   "source": [
    "#Quá trình tạo index predict 30 ngày tiếp theo\n",
    "last_index = features_adbe.index[-1]\n",
    "last_30_data = pd.RangeIndex(start=last_index, stop=last_index+30, step=1)\n",
    "\n",
    "# Create an array of 30 consecutive integers starting from last_index\n",
    "x_next_30_days = np.array(range(last_index+1, last_index+31)).reshape(-1, 1)\n",
    "\n",
    "# Predict the closing prices for the next 30 days\n",
    "y_next_30_days = model.predict(x_next_30_days)\n",
    "\n",
    "# Print the predicted closing prices for the next 30 days\n",
    "print('Predicted closing prices for the next 30 days:')\n",
    "print(y_next_30_days)"
   ]
  },
  {
   "cell_type": "code",
   "execution_count": 16,
   "metadata": {},
   "outputs": [
    {
     "name": "stdout",
     "output_type": "stream",
     "text": [
      "Predicted closing prices for the next 60 days:\n",
      "[628.98111509 629.21907008 629.45702507 629.69498005 629.93293504\n",
      " 630.17089002 630.40884501 630.6468     630.88475498 631.12270997\n",
      " 631.36066495 631.59861994 631.83657493 632.07452991 632.3124849\n",
      " 632.55043988 632.78839487 633.02634986 633.26430484 633.50225983\n",
      " 633.74021481 633.9781698  634.21612479 634.45407977 634.69203476\n",
      " 634.92998974 635.16794473 635.40589972 635.6438547  635.88180969\n",
      " 636.11976467 636.35771966 636.59567465 636.83362963 637.07158462\n",
      " 637.3095396  637.54749459 637.78544957 638.02340456 638.26135955\n",
      " 638.49931453 638.73726952 638.9752245  639.21317949 639.45113448\n",
      " 639.68908946 639.92704445 640.16499943 640.40295442 640.64090941\n",
      " 640.87886439 641.11681938 641.35477436 641.59272935 641.83068434\n",
      " 642.06863932 642.30659431 642.54454929 642.78250428 643.02045927]\n"
     ]
    }
   ],
   "source": [
    "#Quá trình tạo index predict 60 ngày tiếp theo\n",
    "last_index = features_adbe.index[-1]\n",
    "last_60_data = pd.RangeIndex(start=last_index, stop=last_index+60, step=1)\n",
    "\n",
    "# Create an array of 60 consecutive integers starting from last_index\n",
    "x_next_60_days = np.array(range(last_index+1, last_index+61)).reshape(-1, 1)\n",
    "\n",
    "# Predict the closing prices for the next 60 days\n",
    "y_next_60_days = model.predict(x_next_60_days)\n",
    "\n",
    "# Print the predicted closing prices for the next 60 days\n",
    "print('Predicted closing prices for the next 60 days:')\n",
    "print(y_next_60_days)"
   ]
  },
  {
   "cell_type": "code",
   "execution_count": 17,
   "metadata": {},
   "outputs": [
    {
     "name": "stdout",
     "output_type": "stream",
     "text": [
      "Predicted closing prices for the next 90 days:\n",
      "[628.98111509 629.21907008 629.45702507 629.69498005 629.93293504\n",
      " 630.17089002 630.40884501 630.6468     630.88475498 631.12270997\n",
      " 631.36066495 631.59861994 631.83657493 632.07452991 632.3124849\n",
      " 632.55043988 632.78839487 633.02634986 633.26430484 633.50225983\n",
      " 633.74021481 633.9781698  634.21612479 634.45407977 634.69203476\n",
      " 634.92998974 635.16794473 635.40589972 635.6438547  635.88180969\n",
      " 636.11976467 636.35771966 636.59567465 636.83362963 637.07158462\n",
      " 637.3095396  637.54749459 637.78544957 638.02340456 638.26135955\n",
      " 638.49931453 638.73726952 638.9752245  639.21317949 639.45113448\n",
      " 639.68908946 639.92704445 640.16499943 640.40295442 640.64090941\n",
      " 640.87886439 641.11681938 641.35477436 641.59272935 641.83068434\n",
      " 642.06863932 642.30659431 642.54454929 642.78250428 643.02045927\n",
      " 643.25841425 643.49636924 643.73432422 643.97227921 644.2102342\n",
      " 644.44818918 644.68614417 644.92409915 645.16205414 645.40000913\n",
      " 645.63796411 645.8759191  646.11387408 646.35182907 646.58978406\n",
      " 646.82773904 647.06569403 647.30364901 647.541604   647.77955898\n",
      " 648.01751397 648.25546896 648.49342394 648.73137893 648.96933391\n",
      " 649.2072889  649.44524389 649.68319887 649.92115386 650.15910884]\n"
     ]
    }
   ],
   "source": [
    "#Quá trình tạo index predict 90 ngày tiếp theo\n",
    "last_index = features_adbe.index[-1]\n",
    "last_90_data = pd.RangeIndex(start=last_index, stop=last_index+90, step=1)\n",
    "\n",
    "# Create an array of 90 consecutive integers starting from last_index\n",
    "x_next_90_days = np.array(range(last_index+1, last_index+91)).reshape(-1, 1)\n",
    "\n",
    "# Predict the closing prices for the next 30 days\n",
    "y_next_90_days = model.predict(x_next_90_days)\n",
    "\n",
    "# Print the predicted closing prices for the next 90 days\n",
    "print('Predicted closing prices for the next 90 days:')\n",
    "print(y_next_90_days)"
   ]
  },
  {
   "cell_type": "code",
   "execution_count": 18,
   "metadata": {},
   "outputs": [
    {
     "name": "stdout",
     "output_type": "stream",
     "text": [
      "Testing RMSE: 137.5057070840067\n",
      "Testing MAE: 114.71504890108885\n",
      "Testing MAPE: 0.2929850727367994\n"
     ]
    }
   ],
   "source": [
    "#Evaluating algorithm accuracy using\n",
    "#RMSE\n",
    "test_rmse = np.sqrt(np.mean((y_pred - y_test)**2))\n",
    "print('Testing RMSE:', test_rmse)\n",
    "\n",
    "#MAE\n",
    "from sklearn.metrics import mean_absolute_error\n",
    "test_mae = mean_absolute_error(y_test, y_pred)\n",
    "print('Testing MAE:', test_mae)\n",
    "\n",
    "#MAPE\n",
    "from sklearn.metrics import mean_absolute_percentage_error\n",
    "test_mape = mean_absolute_percentage_error(y_test, y_pred)\n",
    "print('Testing MAPE:', test_mape)"
   ]
  },
  {
   "cell_type": "code",
   "execution_count": 19,
   "metadata": {
    "colab": {
     "base_uri": "https://localhost:8080/",
     "height": 472
    },
    "executionInfo": {
     "elapsed": 743,
     "status": "ok",
     "timestamp": 1714850112013,
     "user": {
      "displayName": "DAO NGUYỄN THỊ BÍCH",
      "userId": "07070364028547772837"
     },
     "user_tz": -420
    },
    "id": "UKurQJg4BFbo",
    "outputId": "4d052be6-32c1-4bec-ee34-52c9cc2c5484"
   },
   "outputs": [
    {
     "data": {
      "image/png": "[encoded data removed]",
      "text/plain": [
       "<Figure size 1000x800 with 1 Axes>"
      ]
     },
     "metadata": {},
     "output_type": "display_data"
    }
   ],
   "source": [
    "#Vẽ hình\n",
    "plt.figure(figsize=(10, 8))\n",
    "plt.plot(test_adbe_df.index, test_adbe_df['close'])\n",
    "plt.plot(test_adbe_df.index, y_pred)\n",
    "plt.plot(last_90_data,y_next_90_days)\n",
    "plt.plot(last_60_data,y_next_60_days)\n",
    "plt.plot(last_30_data,y_next_30_days)\n",
    "plt.legend(['Test', 'Predictions','Next90Day','Next60Day','Next30Day'])\n",
    "plt.show()"
   ]
  },
  {
   "cell_type": "code",
   "execution_count": 20,
   "metadata": {
    "tags": []
   },
   "outputs": [
    {
     "data": {
      "image/png": "[encoded data removed]",
      "text/plain": [
       "<Figure size 1000x800 with 1 Axes>"
      ]
     },
     "metadata": {},
     "output_type": "display_data"
    }
   ],
   "source": [
    "plt.figure(figsize=(10, 8))\n",
    "plt.plot(last_90_data,y_next_90_days)\n",
    "plt.plot(last_60_data,y_next_60_days)\n",
    "plt.plot(last_30_data,y_next_30_days)\n",
    "plt.legend(['Next90Day','Next60Day','Next30Day'])\n",
    "plt.show()"
   ]
  }
 ],
 "metadata": {
  "colab": {
   "authorship_tag": "ABX9TyP8XXbeJnGqPojNMs2qoLp0",
   "provenance": []
  },
  "kernelspec": {
   "display_name": "Python 3 (ipykernel)",
   "language": "python",
   "name": "python3"
  },
  "language_info": {
   "codemirror_mode": {
    "name": "ipython",
    "version": 3
   },
   "file_extension": ".py",
   "mimetype": "text/x-python",
   "name": "python",
   "nbconvert_exporter": "python",
   "pygments_lexer": "ipython3",
   "version": "3.11.3"
  }
 },
 "nbformat": 4,
 "nbformat_minor": 4
}
