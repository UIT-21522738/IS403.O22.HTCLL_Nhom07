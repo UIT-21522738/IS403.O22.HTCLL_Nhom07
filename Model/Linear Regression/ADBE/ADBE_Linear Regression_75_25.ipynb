{
 "cells": [
  {
   "cell_type": "code",
   "execution_count": 1,
   "metadata": {
    "executionInfo": {
     "elapsed": 3725,
     "status": "ok",
     "timestamp": 1714849624982,
     "user": {
      "displayName": "DAO NGUYỄN THỊ BÍCH",
      "userId": "07070364028547772837"
     },
     "user_tz": -420
    },
    "id": "Aj8QUSkdwe9L"
   },
   "outputs": [],
   "source": [
    "import pandas as pd\n",
    "import numpy as np\n",
    "from scipy import stats\n",
    "import statsmodels.api as sm\n",
    "import matplotlib.pyplot as plt\n",
    "from sklearn.linear_model import LinearRegression\n",
    "from sklearn.preprocessing import MinMaxScaler\n",
    "from sklearn.preprocessing import StandardScaler\n",
    "from tqdm.notebook import tqdm\n",
    "tqdm.pandas()"
   ]
  },
  {
   "cell_type": "code",
   "execution_count": 2,
   "metadata": {
    "colab": {
     "base_uri": "https://localhost:8080/",
     "height": 71
    },
    "executionInfo": {
     "elapsed": 7479,
     "status": "ok",
     "timestamp": 1714850045131,
     "user": {
      "displayName": "DAO NGUYỄN THỊ BÍCH",
      "userId": "07070364028547772837"
     },
     "user_tz": -420
    },
    "id": "b2zApkhTAJjD",
    "outputId": "1609ae67-62b8-4db0-bfe4-32f85514705b"
   },
   "outputs": [],
   "source": [
    "csv_adbe = \"C:/Business analysis/Project/IS403.O22.HTCLL_Nhom07/Dataset/ADBE_Stock.csv\"\n",
    "df_adbe = pd.read_csv(csv_adbe, thousands=',')"
   ]
  },
  {
   "cell_type": "code",
   "execution_count": 3,
   "metadata": {},
   "outputs": [
    {
     "data": {
      "text/html": [
       "<div>\n",
       "<style scoped>\n",
       "    .dataframe tbody tr th:only-of-type {\n",
       "        vertical-align: middle;\n",
       "    }\n",
       "\n",
       "    .dataframe tbody tr th {\n",
       "        vertical-align: top;\n",
       "    }\n",
       "\n",
       "    .dataframe thead th {\n",
       "        text-align: right;\n",
       "    }\n",
       "</style>\n",
       "<table border=\"1\" class=\"dataframe\">\n",
       "  <thead>\n",
       "    <tr style=\"text-align: right;\">\n",
       "      <th></th>\n",
       "      <th>Date</th>\n",
       "      <th>Symbol</th>\n",
       "      <th>Adj Close</th>\n",
       "      <th>Close</th>\n",
       "      <th>High</th>\n",
       "      <th>Low</th>\n",
       "      <th>Open</th>\n",
       "      <th>Volume</th>\n",
       "    </tr>\n",
       "  </thead>\n",
       "  <tbody>\n",
       "    <tr>\n",
       "      <th>0</th>\n",
       "      <td>3/1/2019</td>\n",
       "      <td>ADBE</td>\n",
       "      <td>264.010010</td>\n",
       "      <td>264.010010</td>\n",
       "      <td>266.239990</td>\n",
       "      <td>261.500000</td>\n",
       "      <td>265.750000</td>\n",
       "      <td>2594000</td>\n",
       "    </tr>\n",
       "    <tr>\n",
       "      <th>1</th>\n",
       "      <td>3/4/2019</td>\n",
       "      <td>ADBE</td>\n",
       "      <td>258.160004</td>\n",
       "      <td>258.160004</td>\n",
       "      <td>267.000000</td>\n",
       "      <td>254.080002</td>\n",
       "      <td>266.700012</td>\n",
       "      <td>2994900</td>\n",
       "    </tr>\n",
       "    <tr>\n",
       "      <th>2</th>\n",
       "      <td>3/5/2019</td>\n",
       "      <td>ADBE</td>\n",
       "      <td>257.380005</td>\n",
       "      <td>257.380005</td>\n",
       "      <td>259.869995</td>\n",
       "      <td>256.369995</td>\n",
       "      <td>259.000000</td>\n",
       "      <td>2101800</td>\n",
       "    </tr>\n",
       "    <tr>\n",
       "      <th>3</th>\n",
       "      <td>3/6/2019</td>\n",
       "      <td>ADBE</td>\n",
       "      <td>256.399994</td>\n",
       "      <td>256.399994</td>\n",
       "      <td>259.489990</td>\n",
       "      <td>253.839996</td>\n",
       "      <td>257.399994</td>\n",
       "      <td>1950500</td>\n",
       "    </tr>\n",
       "    <tr>\n",
       "      <th>4</th>\n",
       "      <td>3/7/2019</td>\n",
       "      <td>ADBE</td>\n",
       "      <td>255.460007</td>\n",
       "      <td>255.460007</td>\n",
       "      <td>257.489990</td>\n",
       "      <td>253.289993</td>\n",
       "      <td>255.770004</td>\n",
       "      <td>3185200</td>\n",
       "    </tr>\n",
       "  </tbody>\n",
       "</table>\n",
       "</div>"
      ],
      "text/plain": [
       "       Date Symbol   Adj Close       Close        High         Low   \n",
       "0  3/1/2019   ADBE  264.010010  264.010010  266.239990  261.500000  \\\n",
       "1  3/4/2019   ADBE  258.160004  258.160004  267.000000  254.080002   \n",
       "2  3/5/2019   ADBE  257.380005  257.380005  259.869995  256.369995   \n",
       "3  3/6/2019   ADBE  256.399994  256.399994  259.489990  253.839996   \n",
       "4  3/7/2019   ADBE  255.460007  255.460007  257.489990  253.289993   \n",
       "\n",
       "         Open   Volume  \n",
       "0  265.750000  2594000  \n",
       "1  266.700012  2994900  \n",
       "2  259.000000  2101800  \n",
       "3  257.399994  1950500  \n",
       "4  255.770004  3185200  "
      ]
     },
     "execution_count": 3,
     "metadata": {},
     "output_type": "execute_result"
    }
   ],
   "source": [
    "df_adbe.head()"
   ]
  },
  {
   "cell_type": "code",
   "execution_count": 4,
   "metadata": {},
   "outputs": [
    {
     "data": {
      "text/html": [
       "<div>\n",
       "<style scoped>\n",
       "    .dataframe tbody tr th:only-of-type {\n",
       "        vertical-align: middle;\n",
       "    }\n",
       "\n",
       "    .dataframe tbody tr th {\n",
       "        vertical-align: top;\n",
       "    }\n",
       "\n",
       "    .dataframe thead th {\n",
       "        text-align: right;\n",
       "    }\n",
       "</style>\n",
       "<table border=\"1\" class=\"dataframe\">\n",
       "  <thead>\n",
       "    <tr style=\"text-align: right;\">\n",
       "      <th></th>\n",
       "      <th>Adj Close</th>\n",
       "      <th>Close</th>\n",
       "      <th>High</th>\n",
       "      <th>Low</th>\n",
       "      <th>Open</th>\n",
       "      <th>Volume</th>\n",
       "    </tr>\n",
       "  </thead>\n",
       "  <tbody>\n",
       "    <tr>\n",
       "      <th>count</th>\n",
       "      <td>1324.000000</td>\n",
       "      <td>1324.000000</td>\n",
       "      <td>1324.000000</td>\n",
       "      <td>1324.000000</td>\n",
       "      <td>1324.000000</td>\n",
       "      <td>1.324000e+03</td>\n",
       "    </tr>\n",
       "    <tr>\n",
       "      <th>mean</th>\n",
       "      <td>437.561171</td>\n",
       "      <td>437.561171</td>\n",
       "      <td>442.956797</td>\n",
       "      <td>431.746496</td>\n",
       "      <td>437.548852</td>\n",
       "      <td>2.987458e+06</td>\n",
       "    </tr>\n",
       "    <tr>\n",
       "      <th>std</th>\n",
       "      <td>112.802864</td>\n",
       "      <td>112.802864</td>\n",
       "      <td>113.786692</td>\n",
       "      <td>111.798628</td>\n",
       "      <td>112.881015</td>\n",
       "      <td>1.733830e+06</td>\n",
       "    </tr>\n",
       "    <tr>\n",
       "      <th>min</th>\n",
       "      <td>254.740005</td>\n",
       "      <td>254.740005</td>\n",
       "      <td>255.020004</td>\n",
       "      <td>249.100006</td>\n",
       "      <td>251.490005</td>\n",
       "      <td>5.892000e+05</td>\n",
       "    </tr>\n",
       "    <tr>\n",
       "      <th>25%</th>\n",
       "      <td>339.532501</td>\n",
       "      <td>339.532501</td>\n",
       "      <td>344.690010</td>\n",
       "      <td>333.492500</td>\n",
       "      <td>338.960007</td>\n",
       "      <td>2.039850e+06</td>\n",
       "    </tr>\n",
       "    <tr>\n",
       "      <th>50%</th>\n",
       "      <td>443.785004</td>\n",
       "      <td>443.785004</td>\n",
       "      <td>449.224991</td>\n",
       "      <td>436.915009</td>\n",
       "      <td>444.769989</td>\n",
       "      <td>2.573100e+06</td>\n",
       "    </tr>\n",
       "    <tr>\n",
       "      <th>75%</th>\n",
       "      <td>514.142502</td>\n",
       "      <td>514.142502</td>\n",
       "      <td>520.422485</td>\n",
       "      <td>508.869987</td>\n",
       "      <td>514.000000</td>\n",
       "      <td>3.413750e+06</td>\n",
       "    </tr>\n",
       "    <tr>\n",
       "      <th>max</th>\n",
       "      <td>688.369995</td>\n",
       "      <td>688.369995</td>\n",
       "      <td>699.539978</td>\n",
       "      <td>678.909973</td>\n",
       "      <td>696.280029</td>\n",
       "      <td>2.784020e+07</td>\n",
       "    </tr>\n",
       "  </tbody>\n",
       "</table>\n",
       "</div>"
      ],
      "text/plain": [
       "         Adj Close        Close         High          Low         Open   \n",
       "count  1324.000000  1324.000000  1324.000000  1324.000000  1324.000000  \\\n",
       "mean    437.561171   437.561171   442.956797   431.746496   437.548852   \n",
       "std     112.802864   112.802864   113.786692   111.798628   112.881015   \n",
       "min     254.740005   254.740005   255.020004   249.100006   251.490005   \n",
       "25%     339.532501   339.532501   344.690010   333.492500   338.960007   \n",
       "50%     443.785004   443.785004   449.224991   436.915009   444.769989   \n",
       "75%     514.142502   514.142502   520.422485   508.869987   514.000000   \n",
       "max     688.369995   688.369995   699.539978   678.909973   696.280029   \n",
       "\n",
       "             Volume  \n",
       "count  1.324000e+03  \n",
       "mean   2.987458e+06  \n",
       "std    1.733830e+06  \n",
       "min    5.892000e+05  \n",
       "25%    2.039850e+06  \n",
       "50%    2.573100e+06  \n",
       "75%    3.413750e+06  \n",
       "max    2.784020e+07  "
      ]
     },
     "execution_count": 4,
     "metadata": {},
     "output_type": "execute_result"
    }
   ],
   "source": [
    "df_adbe.describe()"
   ]
  },
  {
   "cell_type": "code",
   "execution_count": 5,
   "metadata": {},
   "outputs": [
    {
     "name": "stdout",
     "output_type": "stream",
     "text": [
      "<class 'pandas.core.frame.DataFrame'>\n",
      "RangeIndex: 1324 entries, 0 to 1323\n",
      "Data columns (total 8 columns):\n",
      " #   Column     Non-Null Count  Dtype  \n",
      "---  ------     --------------  -----  \n",
      " 0   Date       1324 non-null   object \n",
      " 1   Symbol     1324 non-null   object \n",
      " 2   Adj Close  1324 non-null   float64\n",
      " 3   Close      1324 non-null   float64\n",
      " 4   High       1324 non-null   float64\n",
      " 5   Low        1324 non-null   float64\n",
      " 6   Open       1324 non-null   float64\n",
      " 7   Volume     1324 non-null   int64  \n",
      "dtypes: float64(5), int64(1), object(2)\n",
      "memory usage: 82.9+ KB\n"
     ]
    }
   ],
   "source": [
    "df_adbe.info()"
   ]
  },
  {
   "cell_type": "code",
   "execution_count": 6,
   "metadata": {},
   "outputs": [
    {
     "name": "stdout",
     "output_type": "stream",
     "text": [
      "<class 'pandas.core.frame.DataFrame'>\n",
      "RangeIndex: 1324 entries, 0 to 1323\n",
      "Data columns (total 8 columns):\n",
      " #   Column     Non-Null Count  Dtype         \n",
      "---  ------     --------------  -----         \n",
      " 0   Date       1324 non-null   datetime64[ns]\n",
      " 1   Symbol     1324 non-null   object        \n",
      " 2   Adj Close  1324 non-null   float64       \n",
      " 3   Close      1324 non-null   float64       \n",
      " 4   High       1324 non-null   float64       \n",
      " 5   Low        1324 non-null   float64       \n",
      " 6   Open       1324 non-null   float64       \n",
      " 7   Volume     1324 non-null   int64         \n",
      "dtypes: datetime64[ns](1), float64(5), int64(1), object(1)\n",
      "memory usage: 82.9+ KB\n"
     ]
    }
   ],
   "source": [
    "# Convert object to datetime64\n",
    "df_adbe['Date'] = df_adbe['Date'].apply(pd.to_datetime)\n",
    "# Sort data by date time value\n",
    "df_adbe = df_adbe.sort_values(by=\"Date\").reset_index(drop=True)\n",
    "df_adbe.info()"
   ]
  },
  {
   "cell_type": "code",
   "execution_count": 7,
   "metadata": {},
   "outputs": [
    {
     "data": {
      "text/plain": [
       "0       264.010010\n",
       "1       258.160004\n",
       "2       257.380005\n",
       "3       256.399994\n",
       "4       255.460007\n",
       "           ...    \n",
       "1319    478.429993\n",
       "1320    477.600006\n",
       "1321    445.869995\n",
       "1322    444.760010\n",
       "1323    439.019989\n",
       "Name: Close, Length: 1324, dtype: float64"
      ]
     },
     "execution_count": 7,
     "metadata": {},
     "output_type": "execute_result"
    }
   ],
   "source": [
    "df_adbe.Close"
   ]
  },
  {
   "cell_type": "code",
   "execution_count": 8,
   "metadata": {},
   "outputs": [
    {
     "data": {
      "text/plain": [
       "0              NaN\n",
       "1       264.010010\n",
       "2       258.160004\n",
       "3       257.380005\n",
       "4       256.399994\n",
       "           ...    \n",
       "1319    475.429993\n",
       "1320    478.429993\n",
       "1321    477.600006\n",
       "1322    445.869995\n",
       "1323    444.760010\n",
       "Name: Prev_close, Length: 1324, dtype: float64"
      ]
     },
     "execution_count": 8,
     "metadata": {},
     "output_type": "execute_result"
    }
   ],
   "source": [
    "df_adbe['Prev_close'] = df_adbe.shift(1)['Close']\n",
    "df_adbe.Prev_close"
   ]
  },
  {
   "cell_type": "code",
   "execution_count": 9,
   "metadata": {},
   "outputs": [
    {
     "data": {
      "text/html": [
       "<div>\n",
       "<style scoped>\n",
       "    .dataframe tbody tr th:only-of-type {\n",
       "        vertical-align: middle;\n",
       "    }\n",
       "\n",
       "    .dataframe tbody tr th {\n",
       "        vertical-align: top;\n",
       "    }\n",
       "\n",
       "    .dataframe thead th {\n",
       "        text-align: right;\n",
       "    }\n",
       "</style>\n",
       "<table border=\"1\" class=\"dataframe\">\n",
       "  <thead>\n",
       "    <tr style=\"text-align: right;\">\n",
       "      <th></th>\n",
       "      <th>Date</th>\n",
       "      <th>Symbol</th>\n",
       "      <th>Adj Close</th>\n",
       "      <th>Close</th>\n",
       "      <th>High</th>\n",
       "      <th>Low</th>\n",
       "      <th>Open</th>\n",
       "      <th>Volume</th>\n",
       "      <th>Prev_close</th>\n",
       "    </tr>\n",
       "  </thead>\n",
       "  <tbody>\n",
       "    <tr>\n",
       "      <th>0</th>\n",
       "      <td>2019-03-01</td>\n",
       "      <td>ADBE</td>\n",
       "      <td>264.010010</td>\n",
       "      <td>264.010010</td>\n",
       "      <td>266.239990</td>\n",
       "      <td>261.500000</td>\n",
       "      <td>265.750000</td>\n",
       "      <td>2594000</td>\n",
       "      <td>NaN</td>\n",
       "    </tr>\n",
       "    <tr>\n",
       "      <th>1</th>\n",
       "      <td>2019-03-04</td>\n",
       "      <td>ADBE</td>\n",
       "      <td>258.160004</td>\n",
       "      <td>258.160004</td>\n",
       "      <td>267.000000</td>\n",
       "      <td>254.080002</td>\n",
       "      <td>266.700012</td>\n",
       "      <td>2994900</td>\n",
       "      <td>264.010010</td>\n",
       "    </tr>\n",
       "    <tr>\n",
       "      <th>2</th>\n",
       "      <td>2019-03-05</td>\n",
       "      <td>ADBE</td>\n",
       "      <td>257.380005</td>\n",
       "      <td>257.380005</td>\n",
       "      <td>259.869995</td>\n",
       "      <td>256.369995</td>\n",
       "      <td>259.000000</td>\n",
       "      <td>2101800</td>\n",
       "      <td>258.160004</td>\n",
       "    </tr>\n",
       "    <tr>\n",
       "      <th>3</th>\n",
       "      <td>2019-03-06</td>\n",
       "      <td>ADBE</td>\n",
       "      <td>256.399994</td>\n",
       "      <td>256.399994</td>\n",
       "      <td>259.489990</td>\n",
       "      <td>253.839996</td>\n",
       "      <td>257.399994</td>\n",
       "      <td>1950500</td>\n",
       "      <td>257.380005</td>\n",
       "    </tr>\n",
       "    <tr>\n",
       "      <th>4</th>\n",
       "      <td>2019-03-07</td>\n",
       "      <td>ADBE</td>\n",
       "      <td>255.460007</td>\n",
       "      <td>255.460007</td>\n",
       "      <td>257.489990</td>\n",
       "      <td>253.289993</td>\n",
       "      <td>255.770004</td>\n",
       "      <td>3185200</td>\n",
       "      <td>256.399994</td>\n",
       "    </tr>\n",
       "  </tbody>\n",
       "</table>\n",
       "</div>"
      ],
      "text/plain": [
       "        Date Symbol   Adj Close       Close        High         Low   \n",
       "0 2019-03-01   ADBE  264.010010  264.010010  266.239990  261.500000  \\\n",
       "1 2019-03-04   ADBE  258.160004  258.160004  267.000000  254.080002   \n",
       "2 2019-03-05   ADBE  257.380005  257.380005  259.869995  256.369995   \n",
       "3 2019-03-06   ADBE  256.399994  256.399994  259.489990  253.839996   \n",
       "4 2019-03-07   ADBE  255.460007  255.460007  257.489990  253.289993   \n",
       "\n",
       "         Open   Volume  Prev_close  \n",
       "0  265.750000  2594000         NaN  \n",
       "1  266.700012  2994900  264.010010  \n",
       "2  259.000000  2101800  258.160004  \n",
       "3  257.399994  1950500  257.380005  \n",
       "4  255.770004  3185200  256.399994  "
      ]
     },
     "execution_count": 9,
     "metadata": {},
     "output_type": "execute_result"
    }
   ],
   "source": [
    "df_adbe.head()"
   ]
  },
  {
   "cell_type": "code",
   "execution_count": 10,
   "metadata": {},
   "outputs": [
    {
     "data": {
      "application/vnd.jupyter.widget-view+json": {
       "model_id": "add39774f8574f30b835c37349a86447",
       "version_major": 2,
       "version_minor": 0
      },
      "text/plain": [
       "  0%|          | 0/1324 [00:00<?, ?it/s]"
      ]
     },
     "metadata": {},
     "output_type": "display_data"
    }
   ],
   "source": [
    "df_adbe['Close_change'] = df_adbe.progress_apply(\n",
    "    lambda row: 0 if np.isnan(row.Prev_close) else row.Close - row.Prev_close,\n",
    "    axis = 1\n",
    ")"
   ]
  },
  {
   "cell_type": "code",
   "execution_count": 11,
   "metadata": {},
   "outputs": [
    {
     "data": {
      "text/html": [
       "<div>\n",
       "<style scoped>\n",
       "    .dataframe tbody tr th:only-of-type {\n",
       "        vertical-align: middle;\n",
       "    }\n",
       "\n",
       "    .dataframe tbody tr th {\n",
       "        vertical-align: top;\n",
       "    }\n",
       "\n",
       "    .dataframe thead th {\n",
       "        text-align: right;\n",
       "    }\n",
       "</style>\n",
       "<table border=\"1\" class=\"dataframe\">\n",
       "  <thead>\n",
       "    <tr style=\"text-align: right;\">\n",
       "      <th></th>\n",
       "      <th>Date</th>\n",
       "      <th>Symbol</th>\n",
       "      <th>Adj Close</th>\n",
       "      <th>Close</th>\n",
       "      <th>High</th>\n",
       "      <th>Low</th>\n",
       "      <th>Open</th>\n",
       "      <th>Volume</th>\n",
       "      <th>Prev_close</th>\n",
       "      <th>Close_change</th>\n",
       "    </tr>\n",
       "  </thead>\n",
       "  <tbody>\n",
       "    <tr>\n",
       "      <th>0</th>\n",
       "      <td>2019-03-01</td>\n",
       "      <td>ADBE</td>\n",
       "      <td>264.010010</td>\n",
       "      <td>264.010010</td>\n",
       "      <td>266.239990</td>\n",
       "      <td>261.500000</td>\n",
       "      <td>265.750000</td>\n",
       "      <td>2594000</td>\n",
       "      <td>NaN</td>\n",
       "      <td>0.000000</td>\n",
       "    </tr>\n",
       "    <tr>\n",
       "      <th>1</th>\n",
       "      <td>2019-03-04</td>\n",
       "      <td>ADBE</td>\n",
       "      <td>258.160004</td>\n",
       "      <td>258.160004</td>\n",
       "      <td>267.000000</td>\n",
       "      <td>254.080002</td>\n",
       "      <td>266.700012</td>\n",
       "      <td>2994900</td>\n",
       "      <td>264.010010</td>\n",
       "      <td>-5.850006</td>\n",
       "    </tr>\n",
       "    <tr>\n",
       "      <th>2</th>\n",
       "      <td>2019-03-05</td>\n",
       "      <td>ADBE</td>\n",
       "      <td>257.380005</td>\n",
       "      <td>257.380005</td>\n",
       "      <td>259.869995</td>\n",
       "      <td>256.369995</td>\n",
       "      <td>259.000000</td>\n",
       "      <td>2101800</td>\n",
       "      <td>258.160004</td>\n",
       "      <td>-0.779999</td>\n",
       "    </tr>\n",
       "    <tr>\n",
       "      <th>3</th>\n",
       "      <td>2019-03-06</td>\n",
       "      <td>ADBE</td>\n",
       "      <td>256.399994</td>\n",
       "      <td>256.399994</td>\n",
       "      <td>259.489990</td>\n",
       "      <td>253.839996</td>\n",
       "      <td>257.399994</td>\n",
       "      <td>1950500</td>\n",
       "      <td>257.380005</td>\n",
       "      <td>-0.980011</td>\n",
       "    </tr>\n",
       "    <tr>\n",
       "      <th>4</th>\n",
       "      <td>2019-03-07</td>\n",
       "      <td>ADBE</td>\n",
       "      <td>255.460007</td>\n",
       "      <td>255.460007</td>\n",
       "      <td>257.489990</td>\n",
       "      <td>253.289993</td>\n",
       "      <td>255.770004</td>\n",
       "      <td>3185200</td>\n",
       "      <td>256.399994</td>\n",
       "      <td>-0.939987</td>\n",
       "    </tr>\n",
       "  </tbody>\n",
       "</table>\n",
       "</div>"
      ],
      "text/plain": [
       "        Date Symbol   Adj Close       Close        High         Low   \n",
       "0 2019-03-01   ADBE  264.010010  264.010010  266.239990  261.500000  \\\n",
       "1 2019-03-04   ADBE  258.160004  258.160004  267.000000  254.080002   \n",
       "2 2019-03-05   ADBE  257.380005  257.380005  259.869995  256.369995   \n",
       "3 2019-03-06   ADBE  256.399994  256.399994  259.489990  253.839996   \n",
       "4 2019-03-07   ADBE  255.460007  255.460007  257.489990  253.289993   \n",
       "\n",
       "         Open   Volume  Prev_close  Close_change  \n",
       "0  265.750000  2594000         NaN      0.000000  \n",
       "1  266.700012  2994900  264.010010     -5.850006  \n",
       "2  259.000000  2101800  258.160004     -0.779999  \n",
       "3  257.399994  1950500  257.380005     -0.980011  \n",
       "4  255.770004  3185200  256.399994     -0.939987  "
      ]
     },
     "execution_count": 11,
     "metadata": {},
     "output_type": "execute_result"
    }
   ],
   "source": [
    "df_adbe.head()"
   ]
  },
  {
   "cell_type": "code",
   "execution_count": 12,
   "metadata": {},
   "outputs": [
    {
     "data": {
      "application/vnd.jupyter.widget-view+json": {
       "model_id": "29addf1fa5a842c7925f1d9b0a37fa0d",
       "version_major": 2,
       "version_minor": 0
      },
      "text/plain": [
       "  0%|          | 0/1324 [00:00<?, ?it/s]"
      ]
     },
     "metadata": {},
     "output_type": "display_data"
    }
   ],
   "source": [
    "rows = []\n",
    "for _,row in tqdm(df_adbe.iterrows(), total=df_adbe.shape[0]):\n",
    "    row_data = dict(\n",
    "        day = row.Date.day,\n",
    "        month = row.Date.month,\n",
    "        year = row.Date.year,\n",
    "        open = row.Open,\n",
    "        low = row.Close,\n",
    "        high = row.High, \n",
    "        close = row.Close, \n",
    "        volume = row.Volume,\n",
    "        close_change = row.Close_change\n",
    "    )\n",
    "    rows.append(row_data)\n",
    "features_adbe = pd.DataFrame(rows)"
   ]
  },
  {
   "cell_type": "code",
   "execution_count": 13,
   "metadata": {},
   "outputs": [
    {
     "data": {
      "text/html": [
       "<div>\n",
       "<style scoped>\n",
       "    .dataframe tbody tr th:only-of-type {\n",
       "        vertical-align: middle;\n",
       "    }\n",
       "\n",
       "    .dataframe tbody tr th {\n",
       "        vertical-align: top;\n",
       "    }\n",
       "\n",
       "    .dataframe thead th {\n",
       "        text-align: right;\n",
       "    }\n",
       "</style>\n",
       "<table border=\"1\" class=\"dataframe\">\n",
       "  <thead>\n",
       "    <tr style=\"text-align: right;\">\n",
       "      <th></th>\n",
       "      <th>day</th>\n",
       "      <th>month</th>\n",
       "      <th>year</th>\n",
       "      <th>open</th>\n",
       "      <th>low</th>\n",
       "      <th>high</th>\n",
       "      <th>close</th>\n",
       "      <th>volume</th>\n",
       "      <th>close_change</th>\n",
       "    </tr>\n",
       "  </thead>\n",
       "  <tbody>\n",
       "    <tr>\n",
       "      <th>0</th>\n",
       "      <td>1</td>\n",
       "      <td>3</td>\n",
       "      <td>2019</td>\n",
       "      <td>265.750000</td>\n",
       "      <td>264.010010</td>\n",
       "      <td>266.239990</td>\n",
       "      <td>264.010010</td>\n",
       "      <td>2594000</td>\n",
       "      <td>0.000000</td>\n",
       "    </tr>\n",
       "    <tr>\n",
       "      <th>1</th>\n",
       "      <td>4</td>\n",
       "      <td>3</td>\n",
       "      <td>2019</td>\n",
       "      <td>266.700012</td>\n",
       "      <td>258.160004</td>\n",
       "      <td>267.000000</td>\n",
       "      <td>258.160004</td>\n",
       "      <td>2994900</td>\n",
       "      <td>-5.850006</td>\n",
       "    </tr>\n",
       "    <tr>\n",
       "      <th>2</th>\n",
       "      <td>5</td>\n",
       "      <td>3</td>\n",
       "      <td>2019</td>\n",
       "      <td>259.000000</td>\n",
       "      <td>257.380005</td>\n",
       "      <td>259.869995</td>\n",
       "      <td>257.380005</td>\n",
       "      <td>2101800</td>\n",
       "      <td>-0.779999</td>\n",
       "    </tr>\n",
       "    <tr>\n",
       "      <th>3</th>\n",
       "      <td>6</td>\n",
       "      <td>3</td>\n",
       "      <td>2019</td>\n",
       "      <td>257.399994</td>\n",
       "      <td>256.399994</td>\n",
       "      <td>259.489990</td>\n",
       "      <td>256.399994</td>\n",
       "      <td>1950500</td>\n",
       "      <td>-0.980011</td>\n",
       "    </tr>\n",
       "    <tr>\n",
       "      <th>4</th>\n",
       "      <td>7</td>\n",
       "      <td>3</td>\n",
       "      <td>2019</td>\n",
       "      <td>255.770004</td>\n",
       "      <td>255.460007</td>\n",
       "      <td>257.489990</td>\n",
       "      <td>255.460007</td>\n",
       "      <td>3185200</td>\n",
       "      <td>-0.939987</td>\n",
       "    </tr>\n",
       "  </tbody>\n",
       "</table>\n",
       "</div>"
      ],
      "text/plain": [
       "   day  month  year        open         low        high       close   volume   \n",
       "0    1      3  2019  265.750000  264.010010  266.239990  264.010010  2594000  \\\n",
       "1    4      3  2019  266.700012  258.160004  267.000000  258.160004  2994900   \n",
       "2    5      3  2019  259.000000  257.380005  259.869995  257.380005  2101800   \n",
       "3    6      3  2019  257.399994  256.399994  259.489990  256.399994  1950500   \n",
       "4    7      3  2019  255.770004  255.460007  257.489990  255.460007  3185200   \n",
       "\n",
       "   close_change  \n",
       "0      0.000000  \n",
       "1     -5.850006  \n",
       "2     -0.779999  \n",
       "3     -0.980011  \n",
       "4     -0.939987  "
      ]
     },
     "execution_count": 13,
     "metadata": {},
     "output_type": "execute_result"
    }
   ],
   "source": [
    "features_adbe.head()"
   ]
  },
  {
   "cell_type": "code",
   "execution_count": 14,
   "metadata": {},
   "outputs": [],
   "source": [
    "def detect_outlier(df, col):\n",
    "    q1 = np.percentile(df[col], 25)\n",
    "    q3 = np.percentile(df[col], 75)\n",
    "    iqr = q3 - q1\n",
    "    lower_bound = q1 - 1.5 * iqr\n",
    "    upper_bound = q3 + 1.5 * iqr\n",
    "    print(df[(df[col] < lower_bound) | (df[col] > upper_bound)])"
   ]
  },
  {
   "cell_type": "code",
   "execution_count": 15,
   "metadata": {},
   "outputs": [
    {
     "name": "stdout",
     "output_type": "stream",
     "text": [
      "Empty DataFrame\n",
      "Columns: [day, month, year, open, low, high, close, volume, close_change]\n",
      "Index: []\n"
     ]
    }
   ],
   "source": [
    "detect_outlier(features_adbe, 'close')"
   ]
  },
  {
   "cell_type": "code",
   "execution_count": 16,
   "metadata": {},
   "outputs": [
    {
     "name": "stdout",
     "output_type": "stream",
     "text": [
      "      day  month  year        open         low        high       close   \n",
      "10     15      3  2019  258.029999  257.089996  260.000000  257.089996  \\\n",
      "40     29      4  2019  286.459992  286.140015  291.709992  286.140015   \n",
      "76     19      6  2019  287.000000  291.209992  292.000000  291.209992   \n",
      "77     20      6  2019  293.250000  302.109985  302.660004  302.109985   \n",
      "139    18      9  2019  275.350006  279.720001  280.290008  279.720001   \n",
      "...   ...    ...   ...         ...         ...         ...         ...   \n",
      "1270   18      3  2024  495.549988  513.859985  515.729981  513.859985   \n",
      "1271   19      3  2024  509.890015  521.190002  522.679993  521.190002   \n",
      "1288   12      4  2024  477.950012  474.089996  478.779999  474.089996   \n",
      "1321   30      5  2024  464.899994  445.869995  466.820007  445.869995   \n",
      "1322   31      5  2024  447.720001  444.760010  448.230011  444.760010   \n",
      "\n",
      "        volume  close_change  \n",
      "10    12110500    -10.600006  \n",
      "40     5592400      4.180023  \n",
      "76     9738600     14.429993  \n",
      "77     5632500     10.899994  \n",
      "139    7449700     -4.970001  \n",
      "...        ...           ...  \n",
      "1270   7052700     21.399994  \n",
      "1271   7081800      7.330017  \n",
      "1288   5620000    -10.190002  \n",
      "1321   5606900    -31.730011  \n",
      "1322   7487500     -1.109985  \n",
      "\n",
      "[83 rows x 9 columns]\n"
     ]
    }
   ],
   "source": [
    "detect_outlier(features_adbe, 'volume')"
   ]
  },
  {
   "cell_type": "code",
   "execution_count": 17,
   "metadata": {},
   "outputs": [
    {
     "name": "stdout",
     "output_type": "stream",
     "text": [
      "      day  month  year        open         low        high       close   \n",
      "257     9      3  2020  311.679993  305.790008  322.440002  305.790008  \\\n",
      "258    10      3  2020  318.980011  332.380005  332.940002  332.380005   \n",
      "260    12      3  2020  290.410004  285.000000  310.130005  285.000000   \n",
      "261    13      3  2020  312.880005  335.500000  336.000000  335.500000   \n",
      "262    16      3  2020  288.359985  286.029999  307.109985  286.029999   \n",
      "...   ...    ...   ...         ...         ...         ...         ...   \n",
      "1250   16      2  2024  589.900024  546.659973  590.140015  546.659973   \n",
      "1261    5      3  2024  562.599976  544.840027  564.190002  544.840027   \n",
      "1269   15      3  2024  499.640015  492.459992  503.130005  492.459992   \n",
      "1270   18      3  2024  495.549988  513.859985  515.729981  513.859985   \n",
      "1321   30      5  2024  464.899994  445.869995  466.820007  445.869995   \n",
      "\n",
      "        volume  close_change  \n",
      "257    5291900    -30.979981  \n",
      "258    5973700     26.589996  \n",
      "260    7230200    -30.230011  \n",
      "261    8935200     50.500000  \n",
      "262    7140100    -49.470001  \n",
      "...        ...           ...  \n",
      "1250  10323000    -43.780029  \n",
      "1261   4286800    -23.099976  \n",
      "1269  19570500    -77.990021  \n",
      "1270   7052700     21.399994  \n",
      "1321   5606900    -31.730011  \n",
      "\n",
      "[69 rows x 9 columns]\n"
     ]
    }
   ],
   "source": [
    "detect_outlier(features_adbe, 'close_change')"
   ]
  },
  {
   "cell_type": "code",
   "execution_count": 18,
   "metadata": {},
   "outputs": [],
   "source": [
    "train_size = int(0.75 * len(features_adbe))\n",
    "test_size = len(features_adbe)-train_size\n",
    "\n",
    "train_adbe_df = features_adbe[:train_size]\n",
    "test_adbe_df = features_adbe[train_size:]"
   ]
  },
  {
   "cell_type": "code",
   "execution_count": 19,
   "metadata": {
    "colab": {
     "base_uri": "https://localhost:8080/"
    },
    "executionInfo": {
     "elapsed": 5,
     "status": "ok",
     "timestamp": 1714850103883,
     "user": {
      "displayName": "DAO NGUYỄN THỊ BÍCH",
      "userId": "07070364028547772837"
     },
     "user_tz": -420
    },
    "id": "hxP-u3dnAkxl",
    "outputId": "8a8f72d6-ca49-491f-fe0c-67cd4289eb3a"
   },
   "outputs": [
    {
     "name": "stdout",
     "output_type": "stream",
     "text": [
      "Hệ số hồi quy (slope): [0.16103306]\n",
      "Sai số chệch (intercept): 338.3961830767822\n"
     ]
    }
   ],
   "source": [
    "#Quá trình Training\n",
    "x_train = np.array(train_adbe_df.index).reshape(-1, 1)\n",
    "y_train = np.array(train_adbe_df['close'])\n",
    "# Train the linear regression model\n",
    "model = LinearRegression()\n",
    "model.fit(x_train, y_train)\n",
    "# In các thông số của mô hình\n",
    "print(\"Hệ số hồi quy (slope):\", model.coef_)\n",
    "print(\"Sai số chệch (intercept):\", model.intercept_)"
   ]
  },
  {
   "cell_type": "code",
   "execution_count": 20,
   "metadata": {},
   "outputs": [],
   "source": [
    "#Quá trình testing\n",
    "x_test = np.array(test_adbe_df.index).reshape(-1, 1)\n",
    "y_test = np.array(test_adbe_df['close'])\n",
    "y_pred = model.predict(x_test)"
   ]
  },
  {
   "cell_type": "code",
   "execution_count": 21,
   "metadata": {},
   "outputs": [
    {
     "name": "stdout",
     "output_type": "stream",
     "text": [
      "Predicted closing prices for the next 30 days:\n",
      "[551.60395387 551.76498693 551.92601999 552.08705305 552.24808611\n",
      " 552.40911917 552.57015223 552.73118529 552.89221835 553.05325141\n",
      " 553.21428447 553.37531753 553.53635059 553.69738365 553.85841671\n",
      " 554.01944977 554.18048283 554.34151589 554.50254895 554.66358201\n",
      " 554.82461506 554.98564812 555.14668118 555.30771424 555.4687473\n",
      " 555.62978036 555.79081342 555.95184648 556.11287954 556.2739126 ]\n"
     ]
    }
   ],
   "source": [
    "#Quá trình tạo index predict 30 ngày tiếp theo\n",
    "last_index = features_adbe.index[-1]\n",
    "last_30_data = pd.RangeIndex(start=last_index, stop=last_index+30, step=1)\n",
    "\n",
    "# Create an array of 30 consecutive integers starting from last_index\n",
    "x_next_30_days = np.array(range(last_index+1, last_index+31)).reshape(-1, 1)\n",
    "\n",
    "# Predict the closing prices for the next 30 days\n",
    "y_next_30_days = model.predict(x_next_30_days)\n",
    "\n",
    "# Print the predicted closing prices for the next 30 days\n",
    "print('Predicted closing prices for the next 30 days:')\n",
    "print(y_next_30_days)"
   ]
  },
  {
   "cell_type": "code",
   "execution_count": 22,
   "metadata": {},
   "outputs": [
    {
     "name": "stdout",
     "output_type": "stream",
     "text": [
      "Predicted closing prices for the next 60 days:\n",
      "[551.60395387 551.76498693 551.92601999 552.08705305 552.24808611\n",
      " 552.40911917 552.57015223 552.73118529 552.89221835 553.05325141\n",
      " 553.21428447 553.37531753 553.53635059 553.69738365 553.85841671\n",
      " 554.01944977 554.18048283 554.34151589 554.50254895 554.66358201\n",
      " 554.82461506 554.98564812 555.14668118 555.30771424 555.4687473\n",
      " 555.62978036 555.79081342 555.95184648 556.11287954 556.2739126\n",
      " 556.43494566 556.59597872 556.75701178 556.91804484 557.0790779\n",
      " 557.24011096 557.40114402 557.56217708 557.72321014 557.8842432\n",
      " 558.04527625 558.20630931 558.36734237 558.52837543 558.68940849\n",
      " 558.85044155 559.01147461 559.17250767 559.33354073 559.49457379\n",
      " 559.65560685 559.81663991 559.97767297 560.13870603 560.29973909\n",
      " 560.46077215 560.62180521 560.78283827 560.94387133 561.10490439]\n"
     ]
    }
   ],
   "source": [
    "#Quá trình tạo index predict 60 ngày tiếp theo\n",
    "last_index = features_adbe.index[-1]\n",
    "last_60_data = pd.RangeIndex(start=last_index, stop=last_index+60, step=1)\n",
    "\n",
    "# Create an array of 60 consecutive integers starting from last_index\n",
    "x_next_60_days = np.array(range(last_index+1, last_index+61)).reshape(-1, 1)\n",
    "\n",
    "# Predict the closing prices for the next 60 days\n",
    "y_next_60_days = model.predict(x_next_60_days)\n",
    "\n",
    "# Print the predicted closing prices for the next 60 days\n",
    "print('Predicted closing prices for the next 60 days:')\n",
    "print(y_next_60_days)"
   ]
  },
  {
   "cell_type": "code",
   "execution_count": 23,
   "metadata": {},
   "outputs": [
    {
     "name": "stdout",
     "output_type": "stream",
     "text": [
      "Predicted closing prices for the next 90 days:\n",
      "[551.60395387 551.76498693 551.92601999 552.08705305 552.24808611\n",
      " 552.40911917 552.57015223 552.73118529 552.89221835 553.05325141\n",
      " 553.21428447 553.37531753 553.53635059 553.69738365 553.85841671\n",
      " 554.01944977 554.18048283 554.34151589 554.50254895 554.66358201\n",
      " 554.82461506 554.98564812 555.14668118 555.30771424 555.4687473\n",
      " 555.62978036 555.79081342 555.95184648 556.11287954 556.2739126\n",
      " 556.43494566 556.59597872 556.75701178 556.91804484 557.0790779\n",
      " 557.24011096 557.40114402 557.56217708 557.72321014 557.8842432\n",
      " 558.04527625 558.20630931 558.36734237 558.52837543 558.68940849\n",
      " 558.85044155 559.01147461 559.17250767 559.33354073 559.49457379\n",
      " 559.65560685 559.81663991 559.97767297 560.13870603 560.29973909\n",
      " 560.46077215 560.62180521 560.78283827 560.94387133 561.10490439\n",
      " 561.26593745 561.4269705  561.58800356 561.74903662 561.91006968\n",
      " 562.07110274 562.2321358  562.39316886 562.55420192 562.71523498\n",
      " 562.87626804 563.0373011  563.19833416 563.35936722 563.52040028\n",
      " 563.68143334 563.8424664  564.00349946 564.16453252 564.32556558\n",
      " 564.48659864 564.64763169 564.80866475 564.96969781 565.13073087\n",
      " 565.29176393 565.45279699 565.61383005 565.77486311 565.93589617]\n"
     ]
    }
   ],
   "source": [
    "#Quá trình tạo index predict 90 ngày tiếp theo\n",
    "last_index = features_adbe.index[-1]\n",
    "last_90_data = pd.RangeIndex(start=last_index, stop=last_index+90, step=1)\n",
    "\n",
    "# Create an array of 90 consecutive integers starting from last_index\n",
    "x_next_90_days = np.array(range(last_index+1, last_index+91)).reshape(-1, 1)\n",
    "\n",
    "# Predict the closing prices for the next 30 days\n",
    "y_next_90_days = model.predict(x_next_90_days)\n",
    "\n",
    "# Print the predicted closing prices for the next 90 days\n",
    "print('Predicted closing prices for the next 90 days:')\n",
    "print(y_next_90_days)"
   ]
  },
  {
   "cell_type": "code",
   "execution_count": 24,
   "metadata": {},
   "outputs": [
    {
     "name": "stdout",
     "output_type": "stream",
     "text": [
      "Testing RMSE: 83.15278489475058\n",
      "Testing MAE: 66.50910551692083\n",
      "Testing MAPE: 0.15501207728842964\n"
     ]
    }
   ],
   "source": [
    "#Evaluating algorithm accuracy using\n",
    "#RMSE\n",
    "test_rmse = np.sqrt(np.mean((y_pred - y_test)**2))\n",
    "print('Testing RMSE:', test_rmse)\n",
    "\n",
    "#MAE\n",
    "from sklearn.metrics import mean_absolute_error\n",
    "test_mae = mean_absolute_error(y_test, y_pred)\n",
    "print('Testing MAE:', test_mae)\n",
    "\n",
    "#MAPE\n",
    "from sklearn.metrics import mean_absolute_percentage_error\n",
    "test_mape = mean_absolute_percentage_error(y_test, y_pred)\n",
    "print('Testing MAPE:', test_mape)"
   ]
  },
  {
   "cell_type": "code",
   "execution_count": 25,
   "metadata": {
    "colab": {
     "base_uri": "https://localhost:8080/",
     "height": 472
    },
    "executionInfo": {
     "elapsed": 743,
     "status": "ok",
     "timestamp": 1714850112013,
     "user": {
      "displayName": "DAO NGUYỄN THỊ BÍCH",
      "userId": "07070364028547772837"
     },
     "user_tz": -420
    },
    "id": "UKurQJg4BFbo",
    "outputId": "4d052be6-32c1-4bec-ee34-52c9cc2c5484"
   },
   "outputs": [
    {
     "data": {
      "image/png": "[encoded data removed]",
      "text/plain": [
       "<Figure size 640x480 with 1 Axes>"
      ]
     },
     "metadata": {},
     "output_type": "display_data"
    }
   ],
   "source": [
    "#Vẽ hình\n",
    "plt.plot(train_adbe_df.index, train_adbe_df['close'])\n",
    "plt.plot(test_adbe_df.index, test_adbe_df['close'])\n",
    "plt.plot(test_adbe_df.index, y_pred)\n",
    "plt.plot(last_30_data,y_next_30_days)\n",
    "plt.plot(last_60_data,y_next_60_days)\n",
    "plt.plot(last_90_data,y_next_90_days)\n",
    "plt.legend(['Train', 'Test', 'Predictions','Next30Day','Next60Day','Next90Day'])\n",
    "plt.show()"
   ]
  },
  {
   "cell_type": "code",
   "execution_count": null,
   "metadata": {
    "id": "5MQqHxNKCMLj"
   },
   "outputs": [],
   "source": []
  }
 ],
 "metadata": {
  "colab": {
   "authorship_tag": "ABX9TyP8XXbeJnGqPojNMs2qoLp0",
   "provenance": []
  },
  "kernelspec": {
   "display_name": "Python 3 (ipykernel)",
   "language": "python",
   "name": "python3"
  },
  "language_info": {
   "codemirror_mode": {
    "name": "ipython",
    "version": 3
   },
   "file_extension": ".py",
   "mimetype": "text/x-python",
   "name": "python",
   "nbconvert_exporter": "python",
   "pygments_lexer": "ipython3",
   "version": "3.11.3"
  }
 },
 "nbformat": 4,
 "nbformat_minor": 4
}
