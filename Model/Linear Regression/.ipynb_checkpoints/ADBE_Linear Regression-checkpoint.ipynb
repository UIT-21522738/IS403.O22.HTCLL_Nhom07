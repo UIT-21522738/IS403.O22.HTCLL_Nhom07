{
 "cells": [
  {
   "cell_type": "code",
   "execution_count": 1,
   "metadata": {
    "executionInfo": {
     "elapsed": 3725,
     "status": "ok",
     "timestamp": 1714849624982,
     "user": {
      "displayName": "DAO NGUYỄN THỊ BÍCH",
      "userId": "07070364028547772837"
     },
     "user_tz": -420
    },
    "id": "Aj8QUSkdwe9L"
   },
   "outputs": [],
   "source": [
    "import pandas as pd\n",
    "import numpy as np\n",
    "from scipy import stats\n",
    "import statsmodels.api as sm\n",
    "import matplotlib.pyplot as plt\n",
    "from sklearn.linear_model import LinearRegression\n",
    "from sklearn.preprocessing import MinMaxScaler\n",
    "from sklearn.preprocessing import StandardScaler\n",
    "from tqdm.notebook import tqdm\n",
    "tqdm.pandas()"
   ]
  },
  {
   "cell_type": "code",
   "execution_count": 2,
   "metadata": {
    "colab": {
     "base_uri": "https://localhost:8080/",
     "height": 71
    },
    "executionInfo": {
     "elapsed": 7479,
     "status": "ok",
     "timestamp": 1714850045131,
     "user": {
      "displayName": "DAO NGUYỄN THỊ BÍCH",
      "userId": "07070364028547772837"
     },
     "user_tz": -420
    },
    "id": "b2zApkhTAJjD",
    "outputId": "1609ae67-62b8-4db0-bfe4-32f85514705b"
   },
   "outputs": [],
   "source": [
    "csv_adbe = \"C:/Business analysis/Project/IS403.O22.HTCLL_Nhom07/Dataset/ADBE_Stock.csv\"\n",
    "df_adbe = pd.read_csv(csv_adbe, thousands=',')"
   ]
  },
  {
   "cell_type": "code",
   "execution_count": 3,
   "metadata": {},
   "outputs": [
    {
     "data": {
      "text/html": [
       "<div>\n",
       "<style scoped>\n",
       "    .dataframe tbody tr th:only-of-type {\n",
       "        vertical-align: middle;\n",
       "    }\n",
       "\n",
       "    .dataframe tbody tr th {\n",
       "        vertical-align: top;\n",
       "    }\n",
       "\n",
       "    .dataframe thead th {\n",
       "        text-align: right;\n",
       "    }\n",
       "</style>\n",
       "<table border=\"1\" class=\"dataframe\">\n",
       "  <thead>\n",
       "    <tr style=\"text-align: right;\">\n",
       "      <th></th>\n",
       "      <th>Date</th>\n",
       "      <th>Symbol</th>\n",
       "      <th>Adj Close</th>\n",
       "      <th>Close</th>\n",
       "      <th>High</th>\n",
       "      <th>Low</th>\n",
       "      <th>Open</th>\n",
       "      <th>Volume</th>\n",
       "    </tr>\n",
       "  </thead>\n",
       "  <tbody>\n",
       "    <tr>\n",
       "      <th>0</th>\n",
       "      <td>1/2/2019</td>\n",
       "      <td>ADBE</td>\n",
       "      <td>224.570007</td>\n",
       "      <td>224.570007</td>\n",
       "      <td>226.169998</td>\n",
       "      <td>219.000000</td>\n",
       "      <td>219.910004</td>\n",
       "      <td>2784100</td>\n",
       "    </tr>\n",
       "    <tr>\n",
       "      <th>1</th>\n",
       "      <td>1/3/2019</td>\n",
       "      <td>ADBE</td>\n",
       "      <td>215.699997</td>\n",
       "      <td>215.699997</td>\n",
       "      <td>223.630005</td>\n",
       "      <td>215.149994</td>\n",
       "      <td>220.880005</td>\n",
       "      <td>3663500</td>\n",
       "    </tr>\n",
       "    <tr>\n",
       "      <th>2</th>\n",
       "      <td>1/4/2019</td>\n",
       "      <td>ADBE</td>\n",
       "      <td>226.190002</td>\n",
       "      <td>226.190002</td>\n",
       "      <td>227.649994</td>\n",
       "      <td>217.479996</td>\n",
       "      <td>219.839996</td>\n",
       "      <td>4043400</td>\n",
       "    </tr>\n",
       "    <tr>\n",
       "      <th>3</th>\n",
       "      <td>1/7/2019</td>\n",
       "      <td>ADBE</td>\n",
       "      <td>229.259995</td>\n",
       "      <td>229.259995</td>\n",
       "      <td>232.600006</td>\n",
       "      <td>227.289993</td>\n",
       "      <td>229.949997</td>\n",
       "      <td>3638500</td>\n",
       "    </tr>\n",
       "    <tr>\n",
       "      <th>4</th>\n",
       "      <td>1/8/2019</td>\n",
       "      <td>ADBE</td>\n",
       "      <td>232.679993</td>\n",
       "      <td>232.679993</td>\n",
       "      <td>233.770004</td>\n",
       "      <td>228.330002</td>\n",
       "      <td>232.649994</td>\n",
       "      <td>3685900</td>\n",
       "    </tr>\n",
       "  </tbody>\n",
       "</table>\n",
       "</div>"
      ],
      "text/plain": [
       "       Date Symbol   Adj Close       Close        High         Low   \n",
       "0  1/2/2019   ADBE  224.570007  224.570007  226.169998  219.000000  \\\n",
       "1  1/3/2019   ADBE  215.699997  215.699997  223.630005  215.149994   \n",
       "2  1/4/2019   ADBE  226.190002  226.190002  227.649994  217.479996   \n",
       "3  1/7/2019   ADBE  229.259995  229.259995  232.600006  227.289993   \n",
       "4  1/8/2019   ADBE  232.679993  232.679993  233.770004  228.330002   \n",
       "\n",
       "         Open   Volume  \n",
       "0  219.910004  2784100  \n",
       "1  220.880005  3663500  \n",
       "2  219.839996  4043400  \n",
       "3  229.949997  3638500  \n",
       "4  232.649994  3685900  "
      ]
     },
     "execution_count": 3,
     "metadata": {},
     "output_type": "execute_result"
    }
   ],
   "source": [
    "df_adbe.head()"
   ]
  },
  {
   "cell_type": "code",
   "execution_count": 4,
   "metadata": {},
   "outputs": [
    {
     "data": {
      "text/html": [
       "<div>\n",
       "<style scoped>\n",
       "    .dataframe tbody tr th:only-of-type {\n",
       "        vertical-align: middle;\n",
       "    }\n",
       "\n",
       "    .dataframe tbody tr th {\n",
       "        vertical-align: top;\n",
       "    }\n",
       "\n",
       "    .dataframe thead th {\n",
       "        text-align: right;\n",
       "    }\n",
       "</style>\n",
       "<table border=\"1\" class=\"dataframe\">\n",
       "  <thead>\n",
       "    <tr style=\"text-align: right;\">\n",
       "      <th></th>\n",
       "      <th>Adj Close</th>\n",
       "      <th>Close</th>\n",
       "      <th>High</th>\n",
       "      <th>Low</th>\n",
       "      <th>Open</th>\n",
       "      <th>Volume</th>\n",
       "    </tr>\n",
       "  </thead>\n",
       "  <tbody>\n",
       "    <tr>\n",
       "      <th>count</th>\n",
       "      <td>1316.000000</td>\n",
       "      <td>1316.000000</td>\n",
       "      <td>1316.000000</td>\n",
       "      <td>1316.000000</td>\n",
       "      <td>1316.000000</td>\n",
       "      <td>1.316000e+03</td>\n",
       "    </tr>\n",
       "    <tr>\n",
       "      <th>mean</th>\n",
       "      <td>430.226794</td>\n",
       "      <td>430.226794</td>\n",
       "      <td>435.516800</td>\n",
       "      <td>424.449514</td>\n",
       "      <td>430.128344</td>\n",
       "      <td>2.987187e+06</td>\n",
       "    </tr>\n",
       "    <tr>\n",
       "      <th>std</th>\n",
       "      <td>117.382861</td>\n",
       "      <td>117.382861</td>\n",
       "      <td>118.488096</td>\n",
       "      <td>116.266418</td>\n",
       "      <td>117.471892</td>\n",
       "      <td>1.731461e+06</td>\n",
       "    </tr>\n",
       "    <tr>\n",
       "      <th>min</th>\n",
       "      <td>215.699997</td>\n",
       "      <td>215.699997</td>\n",
       "      <td>223.630005</td>\n",
       "      <td>215.149994</td>\n",
       "      <td>219.839996</td>\n",
       "      <td>5.892000e+05</td>\n",
       "    </tr>\n",
       "    <tr>\n",
       "      <th>25%</th>\n",
       "      <td>330.467514</td>\n",
       "      <td>330.467514</td>\n",
       "      <td>334.264999</td>\n",
       "      <td>326.092499</td>\n",
       "      <td>329.127510</td>\n",
       "      <td>2.032575e+06</td>\n",
       "    </tr>\n",
       "    <tr>\n",
       "      <th>50%</th>\n",
       "      <td>431.709991</td>\n",
       "      <td>431.709991</td>\n",
       "      <td>438.309998</td>\n",
       "      <td>424.485001</td>\n",
       "      <td>432.255005</td>\n",
       "      <td>2.579500e+06</td>\n",
       "    </tr>\n",
       "    <tr>\n",
       "      <th>75%</th>\n",
       "      <td>514.287521</td>\n",
       "      <td>514.287521</td>\n",
       "      <td>520.460007</td>\n",
       "      <td>509.157501</td>\n",
       "      <td>514.032501</td>\n",
       "      <td>3.437800e+06</td>\n",
       "    </tr>\n",
       "    <tr>\n",
       "      <th>max</th>\n",
       "      <td>688.369995</td>\n",
       "      <td>688.369995</td>\n",
       "      <td>699.539978</td>\n",
       "      <td>678.909973</td>\n",
       "      <td>696.280029</td>\n",
       "      <td>2.784020e+07</td>\n",
       "    </tr>\n",
       "  </tbody>\n",
       "</table>\n",
       "</div>"
      ],
      "text/plain": [
       "         Adj Close        Close         High          Low         Open   \n",
       "count  1316.000000  1316.000000  1316.000000  1316.000000  1316.000000  \\\n",
       "mean    430.226794   430.226794   435.516800   424.449514   430.128344   \n",
       "std     117.382861   117.382861   118.488096   116.266418   117.471892   \n",
       "min     215.699997   215.699997   223.630005   215.149994   219.839996   \n",
       "25%     330.467514   330.467514   334.264999   326.092499   329.127510   \n",
       "50%     431.709991   431.709991   438.309998   424.485001   432.255005   \n",
       "75%     514.287521   514.287521   520.460007   509.157501   514.032501   \n",
       "max     688.369995   688.369995   699.539978   678.909973   696.280029   \n",
       "\n",
       "             Volume  \n",
       "count  1.316000e+03  \n",
       "mean   2.987187e+06  \n",
       "std    1.731461e+06  \n",
       "min    5.892000e+05  \n",
       "25%    2.032575e+06  \n",
       "50%    2.579500e+06  \n",
       "75%    3.437800e+06  \n",
       "max    2.784020e+07  "
      ]
     },
     "execution_count": 4,
     "metadata": {},
     "output_type": "execute_result"
    }
   ],
   "source": [
    "df_adbe.describe()"
   ]
  },
  {
   "cell_type": "code",
   "execution_count": 5,
   "metadata": {},
   "outputs": [
    {
     "name": "stdout",
     "output_type": "stream",
     "text": [
      "<class 'pandas.core.frame.DataFrame'>\n",
      "RangeIndex: 1316 entries, 0 to 1315\n",
      "Data columns (total 8 columns):\n",
      " #   Column     Non-Null Count  Dtype  \n",
      "---  ------     --------------  -----  \n",
      " 0   Date       1316 non-null   object \n",
      " 1   Symbol     1316 non-null   object \n",
      " 2   Adj Close  1316 non-null   float64\n",
      " 3   Close      1316 non-null   float64\n",
      " 4   High       1316 non-null   float64\n",
      " 5   Low        1316 non-null   float64\n",
      " 6   Open       1316 non-null   float64\n",
      " 7   Volume     1316 non-null   int64  \n",
      "dtypes: float64(5), int64(1), object(2)\n",
      "memory usage: 82.4+ KB\n"
     ]
    }
   ],
   "source": [
    "df_adbe.info()"
   ]
  },
  {
   "cell_type": "code",
   "execution_count": 6,
   "metadata": {},
   "outputs": [
    {
     "name": "stdout",
     "output_type": "stream",
     "text": [
      "<class 'pandas.core.frame.DataFrame'>\n",
      "RangeIndex: 1316 entries, 0 to 1315\n",
      "Data columns (total 8 columns):\n",
      " #   Column     Non-Null Count  Dtype         \n",
      "---  ------     --------------  -----         \n",
      " 0   Date       1316 non-null   datetime64[ns]\n",
      " 1   Symbol     1316 non-null   object        \n",
      " 2   Adj Close  1316 non-null   float64       \n",
      " 3   Close      1316 non-null   float64       \n",
      " 4   High       1316 non-null   float64       \n",
      " 5   Low        1316 non-null   float64       \n",
      " 6   Open       1316 non-null   float64       \n",
      " 7   Volume     1316 non-null   int64         \n",
      "dtypes: datetime64[ns](1), float64(5), int64(1), object(1)\n",
      "memory usage: 82.4+ KB\n"
     ]
    }
   ],
   "source": [
    "# Convert object to datetime64\n",
    "df_adbe['Date'] = df_adbe['Date'].apply(pd.to_datetime)\n",
    "# Sort data by date time value\n",
    "df_adbe = df_adbe.sort_values(by=\"Date\").reset_index(drop=True)\n",
    "df_adbe.info()"
   ]
  },
  {
   "cell_type": "code",
   "execution_count": 7,
   "metadata": {},
   "outputs": [
    {
     "data": {
      "text/plain": [
       "0       224.570007\n",
       "1       215.699997\n",
       "2       226.190002\n",
       "3       229.259995\n",
       "4       232.679993\n",
       "           ...    \n",
       "1311    521.190002\n",
       "1312    519.140015\n",
       "1313    511.250000\n",
       "1314    499.519989\n",
       "1315    507.230011\n",
       "Name: Close, Length: 1316, dtype: float64"
      ]
     },
     "execution_count": 7,
     "metadata": {},
     "output_type": "execute_result"
    }
   ],
   "source": [
    "df_adbe.Close"
   ]
  },
  {
   "cell_type": "code",
   "execution_count": 8,
   "metadata": {},
   "outputs": [
    {
     "data": {
      "text/plain": [
       "0              NaN\n",
       "1       224.570007\n",
       "2       215.699997\n",
       "3       226.190002\n",
       "4       229.259995\n",
       "           ...    \n",
       "1311    513.859985\n",
       "1312    521.190002\n",
       "1313    519.140015\n",
       "1314    511.250000\n",
       "1315    499.519989\n",
       "Name: Prev_close, Length: 1316, dtype: float64"
      ]
     },
     "execution_count": 8,
     "metadata": {},
     "output_type": "execute_result"
    }
   ],
   "source": [
    "df_adbe['Prev_close'] = df_adbe.shift(1)['Close']\n",
    "df_adbe.Prev_close"
   ]
  },
  {
   "cell_type": "code",
   "execution_count": 9,
   "metadata": {},
   "outputs": [
    {
     "data": {
      "text/html": [
       "<div>\n",
       "<style scoped>\n",
       "    .dataframe tbody tr th:only-of-type {\n",
       "        vertical-align: middle;\n",
       "    }\n",
       "\n",
       "    .dataframe tbody tr th {\n",
       "        vertical-align: top;\n",
       "    }\n",
       "\n",
       "    .dataframe thead th {\n",
       "        text-align: right;\n",
       "    }\n",
       "</style>\n",
       "<table border=\"1\" class=\"dataframe\">\n",
       "  <thead>\n",
       "    <tr style=\"text-align: right;\">\n",
       "      <th></th>\n",
       "      <th>Date</th>\n",
       "      <th>Symbol</th>\n",
       "      <th>Adj Close</th>\n",
       "      <th>Close</th>\n",
       "      <th>High</th>\n",
       "      <th>Low</th>\n",
       "      <th>Open</th>\n",
       "      <th>Volume</th>\n",
       "      <th>Prev_close</th>\n",
       "    </tr>\n",
       "  </thead>\n",
       "  <tbody>\n",
       "    <tr>\n",
       "      <th>0</th>\n",
       "      <td>2019-01-02</td>\n",
       "      <td>ADBE</td>\n",
       "      <td>224.570007</td>\n",
       "      <td>224.570007</td>\n",
       "      <td>226.169998</td>\n",
       "      <td>219.000000</td>\n",
       "      <td>219.910004</td>\n",
       "      <td>2784100</td>\n",
       "      <td>NaN</td>\n",
       "    </tr>\n",
       "    <tr>\n",
       "      <th>1</th>\n",
       "      <td>2019-01-03</td>\n",
       "      <td>ADBE</td>\n",
       "      <td>215.699997</td>\n",
       "      <td>215.699997</td>\n",
       "      <td>223.630005</td>\n",
       "      <td>215.149994</td>\n",
       "      <td>220.880005</td>\n",
       "      <td>3663500</td>\n",
       "      <td>224.570007</td>\n",
       "    </tr>\n",
       "    <tr>\n",
       "      <th>2</th>\n",
       "      <td>2019-01-04</td>\n",
       "      <td>ADBE</td>\n",
       "      <td>226.190002</td>\n",
       "      <td>226.190002</td>\n",
       "      <td>227.649994</td>\n",
       "      <td>217.479996</td>\n",
       "      <td>219.839996</td>\n",
       "      <td>4043400</td>\n",
       "      <td>215.699997</td>\n",
       "    </tr>\n",
       "    <tr>\n",
       "      <th>3</th>\n",
       "      <td>2019-01-07</td>\n",
       "      <td>ADBE</td>\n",
       "      <td>229.259995</td>\n",
       "      <td>229.259995</td>\n",
       "      <td>232.600006</td>\n",
       "      <td>227.289993</td>\n",
       "      <td>229.949997</td>\n",
       "      <td>3638500</td>\n",
       "      <td>226.190002</td>\n",
       "    </tr>\n",
       "    <tr>\n",
       "      <th>4</th>\n",
       "      <td>2019-01-08</td>\n",
       "      <td>ADBE</td>\n",
       "      <td>232.679993</td>\n",
       "      <td>232.679993</td>\n",
       "      <td>233.770004</td>\n",
       "      <td>228.330002</td>\n",
       "      <td>232.649994</td>\n",
       "      <td>3685900</td>\n",
       "      <td>229.259995</td>\n",
       "    </tr>\n",
       "  </tbody>\n",
       "</table>\n",
       "</div>"
      ],
      "text/plain": [
       "        Date Symbol   Adj Close       Close        High         Low   \n",
       "0 2019-01-02   ADBE  224.570007  224.570007  226.169998  219.000000  \\\n",
       "1 2019-01-03   ADBE  215.699997  215.699997  223.630005  215.149994   \n",
       "2 2019-01-04   ADBE  226.190002  226.190002  227.649994  217.479996   \n",
       "3 2019-01-07   ADBE  229.259995  229.259995  232.600006  227.289993   \n",
       "4 2019-01-08   ADBE  232.679993  232.679993  233.770004  228.330002   \n",
       "\n",
       "         Open   Volume  Prev_close  \n",
       "0  219.910004  2784100         NaN  \n",
       "1  220.880005  3663500  224.570007  \n",
       "2  219.839996  4043400  215.699997  \n",
       "3  229.949997  3638500  226.190002  \n",
       "4  232.649994  3685900  229.259995  "
      ]
     },
     "execution_count": 9,
     "metadata": {},
     "output_type": "execute_result"
    }
   ],
   "source": [
    "df_adbe.head()"
   ]
  },
  {
   "cell_type": "code",
   "execution_count": 10,
   "metadata": {},
   "outputs": [
    {
     "data": {
      "application/vnd.jupyter.widget-view+json": {
       "model_id": "6a68c2dac4944fc1bdc6805a37fdbf2d",
       "version_major": 2,
       "version_minor": 0
      },
      "text/plain": [
       "  0%|          | 0/1316 [00:00<?, ?it/s]"
      ]
     },
     "metadata": {},
     "output_type": "display_data"
    }
   ],
   "source": [
    "df_adbe['Close_change'] = df_adbe.progress_apply(\n",
    "    lambda row: 0 if np.isnan(row.Prev_close) else row.Close - row.Prev_close,\n",
    "    axis = 1\n",
    ")"
   ]
  },
  {
   "cell_type": "code",
   "execution_count": 11,
   "metadata": {},
   "outputs": [
    {
     "data": {
      "text/html": [
       "<div>\n",
       "<style scoped>\n",
       "    .dataframe tbody tr th:only-of-type {\n",
       "        vertical-align: middle;\n",
       "    }\n",
       "\n",
       "    .dataframe tbody tr th {\n",
       "        vertical-align: top;\n",
       "    }\n",
       "\n",
       "    .dataframe thead th {\n",
       "        text-align: right;\n",
       "    }\n",
       "</style>\n",
       "<table border=\"1\" class=\"dataframe\">\n",
       "  <thead>\n",
       "    <tr style=\"text-align: right;\">\n",
       "      <th></th>\n",
       "      <th>Date</th>\n",
       "      <th>Symbol</th>\n",
       "      <th>Adj Close</th>\n",
       "      <th>Close</th>\n",
       "      <th>High</th>\n",
       "      <th>Low</th>\n",
       "      <th>Open</th>\n",
       "      <th>Volume</th>\n",
       "      <th>Prev_close</th>\n",
       "      <th>Close_change</th>\n",
       "    </tr>\n",
       "  </thead>\n",
       "  <tbody>\n",
       "    <tr>\n",
       "      <th>0</th>\n",
       "      <td>2019-01-02</td>\n",
       "      <td>ADBE</td>\n",
       "      <td>224.570007</td>\n",
       "      <td>224.570007</td>\n",
       "      <td>226.169998</td>\n",
       "      <td>219.000000</td>\n",
       "      <td>219.910004</td>\n",
       "      <td>2784100</td>\n",
       "      <td>NaN</td>\n",
       "      <td>0.000000</td>\n",
       "    </tr>\n",
       "    <tr>\n",
       "      <th>1</th>\n",
       "      <td>2019-01-03</td>\n",
       "      <td>ADBE</td>\n",
       "      <td>215.699997</td>\n",
       "      <td>215.699997</td>\n",
       "      <td>223.630005</td>\n",
       "      <td>215.149994</td>\n",
       "      <td>220.880005</td>\n",
       "      <td>3663500</td>\n",
       "      <td>224.570007</td>\n",
       "      <td>-8.870010</td>\n",
       "    </tr>\n",
       "    <tr>\n",
       "      <th>2</th>\n",
       "      <td>2019-01-04</td>\n",
       "      <td>ADBE</td>\n",
       "      <td>226.190002</td>\n",
       "      <td>226.190002</td>\n",
       "      <td>227.649994</td>\n",
       "      <td>217.479996</td>\n",
       "      <td>219.839996</td>\n",
       "      <td>4043400</td>\n",
       "      <td>215.699997</td>\n",
       "      <td>10.490005</td>\n",
       "    </tr>\n",
       "    <tr>\n",
       "      <th>3</th>\n",
       "      <td>2019-01-07</td>\n",
       "      <td>ADBE</td>\n",
       "      <td>229.259995</td>\n",
       "      <td>229.259995</td>\n",
       "      <td>232.600006</td>\n",
       "      <td>227.289993</td>\n",
       "      <td>229.949997</td>\n",
       "      <td>3638500</td>\n",
       "      <td>226.190002</td>\n",
       "      <td>3.069992</td>\n",
       "    </tr>\n",
       "    <tr>\n",
       "      <th>4</th>\n",
       "      <td>2019-01-08</td>\n",
       "      <td>ADBE</td>\n",
       "      <td>232.679993</td>\n",
       "      <td>232.679993</td>\n",
       "      <td>233.770004</td>\n",
       "      <td>228.330002</td>\n",
       "      <td>232.649994</td>\n",
       "      <td>3685900</td>\n",
       "      <td>229.259995</td>\n",
       "      <td>3.419998</td>\n",
       "    </tr>\n",
       "  </tbody>\n",
       "</table>\n",
       "</div>"
      ],
      "text/plain": [
       "        Date Symbol   Adj Close       Close        High         Low   \n",
       "0 2019-01-02   ADBE  224.570007  224.570007  226.169998  219.000000  \\\n",
       "1 2019-01-03   ADBE  215.699997  215.699997  223.630005  215.149994   \n",
       "2 2019-01-04   ADBE  226.190002  226.190002  227.649994  217.479996   \n",
       "3 2019-01-07   ADBE  229.259995  229.259995  232.600006  227.289993   \n",
       "4 2019-01-08   ADBE  232.679993  232.679993  233.770004  228.330002   \n",
       "\n",
       "         Open   Volume  Prev_close  Close_change  \n",
       "0  219.910004  2784100         NaN      0.000000  \n",
       "1  220.880005  3663500  224.570007     -8.870010  \n",
       "2  219.839996  4043400  215.699997     10.490005  \n",
       "3  229.949997  3638500  226.190002      3.069992  \n",
       "4  232.649994  3685900  229.259995      3.419998  "
      ]
     },
     "execution_count": 11,
     "metadata": {},
     "output_type": "execute_result"
    }
   ],
   "source": [
    "df_adbe.head()"
   ]
  },
  {
   "cell_type": "code",
   "execution_count": 12,
   "metadata": {},
   "outputs": [
    {
     "data": {
      "application/vnd.jupyter.widget-view+json": {
       "model_id": "ed6f8d642597439d82f9a922e7c40f1f",
       "version_major": 2,
       "version_minor": 0
      },
      "text/plain": [
       "  0%|          | 0/1316 [00:00<?, ?it/s]"
      ]
     },
     "metadata": {},
     "output_type": "display_data"
    }
   ],
   "source": [
    "rows = []\n",
    "for _,row in tqdm(df_adbe.iterrows(), total=df_adbe.shape[0]):\n",
    "    row_data = dict(\n",
    "        day = row.Date.day,\n",
    "        month = row.Date.month,\n",
    "        year = row.Date.year,\n",
    "        open = row.Open,\n",
    "        low = row.Close,\n",
    "        high = row.High, \n",
    "        close = row.Close, \n",
    "        volume = row.Volume,\n",
    "        close_change = row.Close_change\n",
    "    )\n",
    "    rows.append(row_data)\n",
    "features_adbe = pd.DataFrame(rows)"
   ]
  },
  {
   "cell_type": "code",
   "execution_count": 13,
   "metadata": {},
   "outputs": [
    {
     "data": {
      "text/html": [
       "<div>\n",
       "<style scoped>\n",
       "    .dataframe tbody tr th:only-of-type {\n",
       "        vertical-align: middle;\n",
       "    }\n",
       "\n",
       "    .dataframe tbody tr th {\n",
       "        vertical-align: top;\n",
       "    }\n",
       "\n",
       "    .dataframe thead th {\n",
       "        text-align: right;\n",
       "    }\n",
       "</style>\n",
       "<table border=\"1\" class=\"dataframe\">\n",
       "  <thead>\n",
       "    <tr style=\"text-align: right;\">\n",
       "      <th></th>\n",
       "      <th>day</th>\n",
       "      <th>month</th>\n",
       "      <th>year</th>\n",
       "      <th>open</th>\n",
       "      <th>low</th>\n",
       "      <th>high</th>\n",
       "      <th>close</th>\n",
       "      <th>volume</th>\n",
       "      <th>close_change</th>\n",
       "    </tr>\n",
       "  </thead>\n",
       "  <tbody>\n",
       "    <tr>\n",
       "      <th>0</th>\n",
       "      <td>2</td>\n",
       "      <td>1</td>\n",
       "      <td>2019</td>\n",
       "      <td>219.910004</td>\n",
       "      <td>224.570007</td>\n",
       "      <td>226.169998</td>\n",
       "      <td>224.570007</td>\n",
       "      <td>2784100</td>\n",
       "      <td>0.000000</td>\n",
       "    </tr>\n",
       "    <tr>\n",
       "      <th>1</th>\n",
       "      <td>3</td>\n",
       "      <td>1</td>\n",
       "      <td>2019</td>\n",
       "      <td>220.880005</td>\n",
       "      <td>215.699997</td>\n",
       "      <td>223.630005</td>\n",
       "      <td>215.699997</td>\n",
       "      <td>3663500</td>\n",
       "      <td>-8.870010</td>\n",
       "    </tr>\n",
       "    <tr>\n",
       "      <th>2</th>\n",
       "      <td>4</td>\n",
       "      <td>1</td>\n",
       "      <td>2019</td>\n",
       "      <td>219.839996</td>\n",
       "      <td>226.190002</td>\n",
       "      <td>227.649994</td>\n",
       "      <td>226.190002</td>\n",
       "      <td>4043400</td>\n",
       "      <td>10.490005</td>\n",
       "    </tr>\n",
       "    <tr>\n",
       "      <th>3</th>\n",
       "      <td>7</td>\n",
       "      <td>1</td>\n",
       "      <td>2019</td>\n",
       "      <td>229.949997</td>\n",
       "      <td>229.259995</td>\n",
       "      <td>232.600006</td>\n",
       "      <td>229.259995</td>\n",
       "      <td>3638500</td>\n",
       "      <td>3.069992</td>\n",
       "    </tr>\n",
       "    <tr>\n",
       "      <th>4</th>\n",
       "      <td>8</td>\n",
       "      <td>1</td>\n",
       "      <td>2019</td>\n",
       "      <td>232.649994</td>\n",
       "      <td>232.679993</td>\n",
       "      <td>233.770004</td>\n",
       "      <td>232.679993</td>\n",
       "      <td>3685900</td>\n",
       "      <td>3.419998</td>\n",
       "    </tr>\n",
       "  </tbody>\n",
       "</table>\n",
       "</div>"
      ],
      "text/plain": [
       "   day  month  year        open         low        high       close   volume   \n",
       "0    2      1  2019  219.910004  224.570007  226.169998  224.570007  2784100  \\\n",
       "1    3      1  2019  220.880005  215.699997  223.630005  215.699997  3663500   \n",
       "2    4      1  2019  219.839996  226.190002  227.649994  226.190002  4043400   \n",
       "3    7      1  2019  229.949997  229.259995  232.600006  229.259995  3638500   \n",
       "4    8      1  2019  232.649994  232.679993  233.770004  232.679993  3685900   \n",
       "\n",
       "   close_change  \n",
       "0      0.000000  \n",
       "1     -8.870010  \n",
       "2     10.490005  \n",
       "3      3.069992  \n",
       "4      3.419998  "
      ]
     },
     "execution_count": 13,
     "metadata": {},
     "output_type": "execute_result"
    }
   ],
   "source": [
    "features_adbe.head()"
   ]
  },
  {
   "cell_type": "code",
   "execution_count": 14,
   "metadata": {},
   "outputs": [],
   "source": [
    "def detect_outlier(df, col):\n",
    "    q1 = np.percentile(df[col], 25)\n",
    "    q3 = np.percentile(df[col], 75)\n",
    "    iqr = q3 - q1\n",
    "    lower_bound = q1 - 1.5 * iqr\n",
    "    upper_bound = q3 + 1.5 * iqr\n",
    "    print(df[(df[col] < lower_bound) | (df[col] > upper_bound)])"
   ]
  },
  {
   "cell_type": "code",
   "execution_count": 15,
   "metadata": {},
   "outputs": [
    {
     "name": "stdout",
     "output_type": "stream",
     "text": [
      "Empty DataFrame\n",
      "Columns: [day, month, year, open, low, high, close, volume, close_change]\n",
      "Index: []\n"
     ]
    }
   ],
   "source": [
    "detect_outlier(features_adbe, 'close')"
   ]
  },
  {
   "cell_type": "code",
   "execution_count": 16,
   "metadata": {},
   "outputs": [
    {
     "name": "stdout",
     "output_type": "stream",
     "text": [
      "      day  month  year        open         low        high       close   \n",
      "50     15      3  2019  258.029999  257.089996  260.000000  257.089996  \\\n",
      "80     29      4  2019  286.459992  286.140015  291.709992  286.140015   \n",
      "116    19      6  2019  287.000000  291.209992  292.000000  291.209992   \n",
      "117    20      6  2019  293.250000  302.109985  302.660004  302.109985   \n",
      "179    18      9  2019  275.350006  279.720001  280.290008  279.720001   \n",
      "...   ...    ...   ...         ...         ...         ...         ...   \n",
      "1291   20      2  2024  531.500000  541.909973  545.880005  541.909973   \n",
      "1308   14      3  2024  578.000000  570.450012  579.539978  570.450012   \n",
      "1309   15      3  2024  499.640015  492.459992  503.130005  492.459992   \n",
      "1310   18      3  2024  495.549988  513.859985  515.729981  513.859985   \n",
      "1311   19      3  2024  509.890015  521.190002  522.679993  521.190002   \n",
      "\n",
      "        volume  close_change  \n",
      "50    12110500    -10.600006  \n",
      "80     5592400      4.180023  \n",
      "116    9738600     14.429993  \n",
      "117    5632500     10.899994  \n",
      "179    7449700     -4.970001  \n",
      "...        ...           ...  \n",
      "1291   6567600     -4.750000  \n",
      "1308   5908100     -3.099976  \n",
      "1309  19570500    -77.990021  \n",
      "1310   7052700     21.399994  \n",
      "1311   7081800      7.330017  \n",
      "\n",
      "[76 rows x 9 columns]\n"
     ]
    }
   ],
   "source": [
    "detect_outlier(features_adbe, 'volume')"
   ]
  },
  {
   "cell_type": "code",
   "execution_count": 17,
   "metadata": {},
   "outputs": [
    {
     "name": "stdout",
     "output_type": "stream",
     "text": [
      "      day  month  year        open         low        high       close   \n",
      "297     9      3  2020  311.679993  305.790008  322.440002  305.790008  \\\n",
      "298    10      3  2020  318.980011  332.380005  332.940002  332.380005   \n",
      "300    12      3  2020  290.410004  285.000000  310.130005  285.000000   \n",
      "301    13      3  2020  312.880005  335.500000  336.000000  335.500000   \n",
      "302    16      3  2020  288.359985  286.029999  307.109985  286.029999   \n",
      "...   ...    ...   ...         ...         ...         ...         ...   \n",
      "1282    6      2  2024  625.580017  607.140015  626.460022  607.140015   \n",
      "1290   16      2  2024  589.900024  546.659973  590.140015  546.659973   \n",
      "1301    5      3  2024  562.599976  544.840027  564.190002  544.840027   \n",
      "1309   15      3  2024  499.640015  492.459992  503.130005  492.459992   \n",
      "1310   18      3  2024  495.549988  513.859985  515.729981  513.859985   \n",
      "\n",
      "        volume  close_change  \n",
      "297    5291900    -30.979981  \n",
      "298    5973700     26.589996  \n",
      "300    7230200    -30.230011  \n",
      "301    8935200     50.500000  \n",
      "302    7140100    -49.470001  \n",
      "...        ...           ...  \n",
      "1282   3436200    -23.359985  \n",
      "1290  10323000    -43.780029  \n",
      "1301   4286800    -23.099976  \n",
      "1309  19570500    -77.990021  \n",
      "1310   7052700     21.399994  \n",
      "\n",
      "[76 rows x 9 columns]\n"
     ]
    }
   ],
   "source": [
    "detect_outlier(features_adbe, 'close_change')"
   ]
  },
  {
   "cell_type": "code",
   "execution_count": 18,
   "metadata": {},
   "outputs": [],
   "source": [
    "train_size = int(0.7 * len(features_adbe))\n",
    "test_size = int(0.2 * len(features_adbe))\n",
    "val_size = len(features_adbe) - train_size - test_size\n",
    "\n",
    "train_adbe_df = features_adbe[:train_size]\n",
    "test_adbe_df = features_adbe[train_size:train_size+test_size]\n",
    "validation_adbe_df = features_adbe[train_size+test_size:]"
   ]
  },
  {
   "cell_type": "code",
   "execution_count": 19,
   "metadata": {
    "colab": {
     "base_uri": "https://localhost:8080/"
    },
    "executionInfo": {
     "elapsed": 5,
     "status": "ok",
     "timestamp": 1714850103883,
     "user": {
      "displayName": "DAO NGUYỄN THỊ BÍCH",
      "userId": "07070364028547772837"
     },
     "user_tz": -420
    },
    "id": "hxP-u3dnAkxl",
    "outputId": "8a8f72d6-ca49-491f-fe0c-67cd4289eb3a"
   },
   "outputs": [
    {
     "name": "stdout",
     "output_type": "stream",
     "text": [
      "Hệ số hồi quy (slope): [0.32544681]\n",
      "Sai số chệch (intercept): 271.80793373412666\n"
     ]
    }
   ],
   "source": [
    "#Quá trình Training\n",
    "x_train = np.array(train_adbe_df.index).reshape(-1, 1)\n",
    "y_train = np.array(train_adbe_df['close'])\n",
    "# Train the linear regression model\n",
    "model = LinearRegression()\n",
    "model.fit(x_train, y_train)\n",
    "# In các thông số của mô hình\n",
    "print(\"Hệ số hồi quy (slope):\", model.coef_)\n",
    "print(\"Sai số chệch (intercept):\", model.intercept_)"
   ]
  },
  {
   "cell_type": "code",
   "execution_count": 20,
   "metadata": {},
   "outputs": [],
   "source": [
    "#Quá trình testing\n",
    "x_test = np.array(test_adbe_df.index).reshape(-1, 1)\n",
    "y_test = np.array(test_adbe_df['close'])\n",
    "y_pred = model.predict(x_test)\n",
    "\n",
    "#Quá trình Validate\n",
    "x_val= np.array(validation_adbe_df.index).reshape(-1, 1)\n",
    "y_val = np.array(validation_adbe_df['close'])\n",
    "y_pred_val =  model.predict(x_val)"
   ]
  },
  {
   "cell_type": "code",
   "execution_count": 21,
   "metadata": {},
   "outputs": [
    {
     "name": "stdout",
     "output_type": "stream",
     "text": [
      "Predicted closing prices for the next 30 days:\n",
      "[700.09592978 700.42137658 700.74682339 701.0722702  701.397717\n",
      " 701.72316381 702.04861061 702.37405742 702.69950422 703.02495103\n",
      " 703.35039783 703.67584464 704.00129145 704.32673825 704.65218506\n",
      " 704.97763186 705.30307867 705.62852547 705.95397228 706.27941908\n",
      " 706.60486589 706.9303127  707.2557595  707.58120631 707.90665311\n",
      " 708.23209992 708.55754672 708.88299353 709.20844033 709.53388714]\n"
     ]
    }
   ],
   "source": [
    "#Quá trình tạo index predict 30 ngày tiếp theo\n",
    "last_index = features_adbe.index[-1]\n",
    "last_data = pd.RangeIndex(start=last_index, stop=last_index+30, step=1)\n",
    "\n",
    "# Create an array of 30 consecutive integers starting from last_index\n",
    "x_next_30_days = np.array(range(last_index+1, last_index+31)).reshape(-1, 1)\n",
    "\n",
    "# Predict the closing prices for the next 30 days\n",
    "y_next_30_days = model.predict(x_next_30_days)\n",
    "\n",
    "# Print the predicted closing prices for the next 30 days\n",
    "print('Predicted closing prices for the next 30 days:')\n",
    "print(y_next_30_days)"
   ]
  },
  {
   "cell_type": "code",
   "execution_count": 22,
   "metadata": {
    "colab": {
     "base_uri": "https://localhost:8080/",
     "height": 472
    },
    "executionInfo": {
     "elapsed": 743,
     "status": "ok",
     "timestamp": 1714850112013,
     "user": {
      "displayName": "DAO NGUYỄN THỊ BÍCH",
      "userId": "07070364028547772837"
     },
     "user_tz": -420
    },
    "id": "UKurQJg4BFbo",
    "outputId": "4d052be6-32c1-4bec-ee34-52c9cc2c5484"
   },
   "outputs": [
    {
     "data": {
      "image/png": "[encoded data removed]",
      "text/plain": [
       "<Figure size 640x480 with 1 Axes>"
      ]
     },
     "metadata": {},
     "output_type": "display_data"
    }
   ],
   "source": [
    "#Vẽ hình\n",
    "plt.plot(train_adbe_df.index, train_adbe_df['close'])\n",
    "plt.plot(test_adbe_df.index, test_adbe_df['close'])\n",
    "plt.plot(test_adbe_df.index, y_pred)\n",
    "plt.plot(validation_adbe_df.index, y_pred_val)\n",
    "plt.plot(last_data,y_next_30_days)\n",
    "plt.legend(['Train', 'Test', 'Predictions','Validate','Next30Day'])\n",
    "plt.show()"
   ]
  },
  {
   "cell_type": "code",
   "execution_count": null,
   "metadata": {
    "id": "5MQqHxNKCMLj"
   },
   "outputs": [],
   "source": []
  }
 ],
 "metadata": {
  "colab": {
   "authorship_tag": "ABX9TyP8XXbeJnGqPojNMs2qoLp0",
   "provenance": []
  },
  "kernelspec": {
   "display_name": "Python 3 (ipykernel)",
   "language": "python",
   "name": "python3"
  },
  "language_info": {
   "codemirror_mode": {
    "name": "ipython",
    "version": 3
   },
   "file_extension": ".py",
   "mimetype": "text/x-python",
   "name": "python",
   "nbconvert_exporter": "python",
   "pygments_lexer": "ipython3",
   "version": "3.11.3"
  }
 },
 "nbformat": 4,
 "nbformat_minor": 4
}
