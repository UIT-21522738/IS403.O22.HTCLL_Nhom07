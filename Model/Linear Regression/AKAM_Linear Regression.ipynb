{
 "cells": [
  {
   "cell_type": "code",
   "execution_count": 1,
   "metadata": {
    "executionInfo": {
     "elapsed": 3725,
     "status": "ok",
     "timestamp": 1714849624982,
     "user": {
      "displayName": "DAO NGUYỄN THỊ BÍCH",
      "userId": "07070364028547772837"
     },
     "user_tz": -420
    },
    "id": "Aj8QUSkdwe9L"
   },
   "outputs": [],
   "source": [
    "import pandas as pd\n",
    "import numpy as np\n",
    "from scipy import stats\n",
    "import statsmodels.api as sm\n",
    "import matplotlib.pyplot as plt\n",
    "from sklearn.linear_model import LinearRegression\n",
    "from sklearn.preprocessing import MinMaxScaler\n",
    "from sklearn.preprocessing import StandardScaler\n",
    "from tqdm.notebook import tqdm\n",
    "tqdm.pandas()"
   ]
  },
  {
   "cell_type": "code",
   "execution_count": 2,
   "metadata": {
    "colab": {
     "base_uri": "https://localhost:8080/",
     "height": 71
    },
    "executionInfo": {
     "elapsed": 7479,
     "status": "ok",
     "timestamp": 1714850045131,
     "user": {
      "displayName": "DAO NGUYỄN THỊ BÍCH",
      "userId": "07070364028547772837"
     },
     "user_tz": -420
    },
    "id": "b2zApkhTAJjD",
    "outputId": "1609ae67-62b8-4db0-bfe4-32f85514705b"
   },
   "outputs": [],
   "source": [
    "csv_akam = \"C:/Business analysis/Project/IS403.O22.HTCLL_Nhom07/Dataset/AKAM_Stock.csv\"\n",
    "df_akam = pd.read_csv(csv_akam, thousands=',')"
   ]
  },
  {
   "cell_type": "code",
   "execution_count": 3,
   "metadata": {},
   "outputs": [
    {
     "data": {
      "text/html": [
       "<div>\n",
       "<style scoped>\n",
       "    .dataframe tbody tr th:only-of-type {\n",
       "        vertical-align: middle;\n",
       "    }\n",
       "\n",
       "    .dataframe tbody tr th {\n",
       "        vertical-align: top;\n",
       "    }\n",
       "\n",
       "    .dataframe thead th {\n",
       "        text-align: right;\n",
       "    }\n",
       "</style>\n",
       "<table border=\"1\" class=\"dataframe\">\n",
       "  <thead>\n",
       "    <tr style=\"text-align: right;\">\n",
       "      <th></th>\n",
       "      <th>Date</th>\n",
       "      <th>Symbol</th>\n",
       "      <th>Adj Close</th>\n",
       "      <th>Close</th>\n",
       "      <th>High</th>\n",
       "      <th>Low</th>\n",
       "      <th>Open</th>\n",
       "      <th>Volume</th>\n",
       "    </tr>\n",
       "  </thead>\n",
       "  <tbody>\n",
       "    <tr>\n",
       "      <th>0</th>\n",
       "      <td>2/1/2019</td>\n",
       "      <td>AKAM</td>\n",
       "      <td>65.519997</td>\n",
       "      <td>65.519997</td>\n",
       "      <td>65.540001</td>\n",
       "      <td>64.500000</td>\n",
       "      <td>65.000000</td>\n",
       "      <td>1426900</td>\n",
       "    </tr>\n",
       "    <tr>\n",
       "      <th>1</th>\n",
       "      <td>2/4/2019</td>\n",
       "      <td>AKAM</td>\n",
       "      <td>67.040001</td>\n",
       "      <td>67.040001</td>\n",
       "      <td>67.080002</td>\n",
       "      <td>65.589996</td>\n",
       "      <td>65.589996</td>\n",
       "      <td>1146300</td>\n",
       "    </tr>\n",
       "    <tr>\n",
       "      <th>2</th>\n",
       "      <td>2/5/2019</td>\n",
       "      <td>AKAM</td>\n",
       "      <td>68.169998</td>\n",
       "      <td>68.169998</td>\n",
       "      <td>68.300003</td>\n",
       "      <td>67.279999</td>\n",
       "      <td>67.309998</td>\n",
       "      <td>1474300</td>\n",
       "    </tr>\n",
       "    <tr>\n",
       "      <th>3</th>\n",
       "      <td>2/6/2019</td>\n",
       "      <td>AKAM</td>\n",
       "      <td>67.510002</td>\n",
       "      <td>67.510002</td>\n",
       "      <td>68.500000</td>\n",
       "      <td>67.480003</td>\n",
       "      <td>68.089996</td>\n",
       "      <td>1379200</td>\n",
       "    </tr>\n",
       "    <tr>\n",
       "      <th>4</th>\n",
       "      <td>2/7/2019</td>\n",
       "      <td>AKAM</td>\n",
       "      <td>66.589996</td>\n",
       "      <td>66.589996</td>\n",
       "      <td>67.150002</td>\n",
       "      <td>65.889999</td>\n",
       "      <td>67.110001</td>\n",
       "      <td>1047600</td>\n",
       "    </tr>\n",
       "  </tbody>\n",
       "</table>\n",
       "</div>"
      ],
      "text/plain": [
       "       Date Symbol  Adj Close      Close       High        Low       Open   \n",
       "0  2/1/2019   AKAM  65.519997  65.519997  65.540001  64.500000  65.000000  \\\n",
       "1  2/4/2019   AKAM  67.040001  67.040001  67.080002  65.589996  65.589996   \n",
       "2  2/5/2019   AKAM  68.169998  68.169998  68.300003  67.279999  67.309998   \n",
       "3  2/6/2019   AKAM  67.510002  67.510002  68.500000  67.480003  68.089996   \n",
       "4  2/7/2019   AKAM  66.589996  66.589996  67.150002  65.889999  67.110001   \n",
       "\n",
       "    Volume  \n",
       "0  1426900  \n",
       "1  1146300  \n",
       "2  1474300  \n",
       "3  1379200  \n",
       "4  1047600  "
      ]
     },
     "execution_count": 3,
     "metadata": {},
     "output_type": "execute_result"
    }
   ],
   "source": [
    "df_akam.head()"
   ]
  },
  {
   "cell_type": "code",
   "execution_count": 4,
   "metadata": {},
   "outputs": [
    {
     "data": {
      "text/html": [
       "<div>\n",
       "<style scoped>\n",
       "    .dataframe tbody tr th:only-of-type {\n",
       "        vertical-align: middle;\n",
       "    }\n",
       "\n",
       "    .dataframe tbody tr th {\n",
       "        vertical-align: top;\n",
       "    }\n",
       "\n",
       "    .dataframe thead th {\n",
       "        text-align: right;\n",
       "    }\n",
       "</style>\n",
       "<table border=\"1\" class=\"dataframe\">\n",
       "  <thead>\n",
       "    <tr style=\"text-align: right;\">\n",
       "      <th></th>\n",
       "      <th>Adj Close</th>\n",
       "      <th>Close</th>\n",
       "      <th>High</th>\n",
       "      <th>Low</th>\n",
       "      <th>Open</th>\n",
       "      <th>Volume</th>\n",
       "    </tr>\n",
       "  </thead>\n",
       "  <tbody>\n",
       "    <tr>\n",
       "      <th>count</th>\n",
       "      <td>1295.000000</td>\n",
       "      <td>1295.000000</td>\n",
       "      <td>1295.000000</td>\n",
       "      <td>1295.000000</td>\n",
       "      <td>1295.000000</td>\n",
       "      <td>1.295000e+03</td>\n",
       "    </tr>\n",
       "    <tr>\n",
       "      <th>mean</th>\n",
       "      <td>98.405035</td>\n",
       "      <td>98.405035</td>\n",
       "      <td>99.424965</td>\n",
       "      <td>97.340371</td>\n",
       "      <td>98.370108</td>\n",
       "      <td>1.576752e+06</td>\n",
       "    </tr>\n",
       "    <tr>\n",
       "      <th>std</th>\n",
       "      <td>13.741631</td>\n",
       "      <td>13.741631</td>\n",
       "      <td>13.840541</td>\n",
       "      <td>13.667938</td>\n",
       "      <td>13.776701</td>\n",
       "      <td>9.350920e+05</td>\n",
       "    </tr>\n",
       "    <tr>\n",
       "      <th>min</th>\n",
       "      <td>65.519997</td>\n",
       "      <td>65.519997</td>\n",
       "      <td>65.540001</td>\n",
       "      <td>64.500000</td>\n",
       "      <td>65.000000</td>\n",
       "      <td>2.774000e+05</td>\n",
       "    </tr>\n",
       "    <tr>\n",
       "      <th>25%</th>\n",
       "      <td>88.125000</td>\n",
       "      <td>88.125000</td>\n",
       "      <td>88.815002</td>\n",
       "      <td>87.000000</td>\n",
       "      <td>87.840000</td>\n",
       "      <td>1.043050e+06</td>\n",
       "    </tr>\n",
       "    <tr>\n",
       "      <th>50%</th>\n",
       "      <td>99.669998</td>\n",
       "      <td>99.669998</td>\n",
       "      <td>101.239998</td>\n",
       "      <td>98.500000</td>\n",
       "      <td>99.529999</td>\n",
       "      <td>1.353100e+06</td>\n",
       "    </tr>\n",
       "    <tr>\n",
       "      <th>75%</th>\n",
       "      <td>110.185001</td>\n",
       "      <td>110.185001</td>\n",
       "      <td>111.575001</td>\n",
       "      <td>108.990002</td>\n",
       "      <td>110.119999</td>\n",
       "      <td>1.797750e+06</td>\n",
       "    </tr>\n",
       "    <tr>\n",
       "      <th>max</th>\n",
       "      <td>128.320007</td>\n",
       "      <td>128.320007</td>\n",
       "      <td>129.169998</td>\n",
       "      <td>126.980003</td>\n",
       "      <td>128.550003</td>\n",
       "      <td>1.077170e+07</td>\n",
       "    </tr>\n",
       "  </tbody>\n",
       "</table>\n",
       "</div>"
      ],
      "text/plain": [
       "         Adj Close        Close         High          Low         Open   \n",
       "count  1295.000000  1295.000000  1295.000000  1295.000000  1295.000000  \\\n",
       "mean     98.405035    98.405035    99.424965    97.340371    98.370108   \n",
       "std      13.741631    13.741631    13.840541    13.667938    13.776701   \n",
       "min      65.519997    65.519997    65.540001    64.500000    65.000000   \n",
       "25%      88.125000    88.125000    88.815002    87.000000    87.840000   \n",
       "50%      99.669998    99.669998   101.239998    98.500000    99.529999   \n",
       "75%     110.185001   110.185001   111.575001   108.990002   110.119999   \n",
       "max     128.320007   128.320007   129.169998   126.980003   128.550003   \n",
       "\n",
       "             Volume  \n",
       "count  1.295000e+03  \n",
       "mean   1.576752e+06  \n",
       "std    9.350920e+05  \n",
       "min    2.774000e+05  \n",
       "25%    1.043050e+06  \n",
       "50%    1.353100e+06  \n",
       "75%    1.797750e+06  \n",
       "max    1.077170e+07  "
      ]
     },
     "execution_count": 4,
     "metadata": {},
     "output_type": "execute_result"
    }
   ],
   "source": [
    "df_akam.describe()"
   ]
  },
  {
   "cell_type": "code",
   "execution_count": 5,
   "metadata": {},
   "outputs": [
    {
     "name": "stdout",
     "output_type": "stream",
     "text": [
      "<class 'pandas.core.frame.DataFrame'>\n",
      "RangeIndex: 1295 entries, 0 to 1294\n",
      "Data columns (total 8 columns):\n",
      " #   Column     Non-Null Count  Dtype  \n",
      "---  ------     --------------  -----  \n",
      " 0   Date       1295 non-null   object \n",
      " 1   Symbol     1295 non-null   object \n",
      " 2   Adj Close  1295 non-null   float64\n",
      " 3   Close      1295 non-null   float64\n",
      " 4   High       1295 non-null   float64\n",
      " 5   Low        1295 non-null   float64\n",
      " 6   Open       1295 non-null   float64\n",
      " 7   Volume     1295 non-null   int64  \n",
      "dtypes: float64(5), int64(1), object(2)\n",
      "memory usage: 81.1+ KB\n"
     ]
    }
   ],
   "source": [
    "df_akam.info()"
   ]
  },
  {
   "cell_type": "code",
   "execution_count": 6,
   "metadata": {},
   "outputs": [
    {
     "name": "stdout",
     "output_type": "stream",
     "text": [
      "<class 'pandas.core.frame.DataFrame'>\n",
      "RangeIndex: 1295 entries, 0 to 1294\n",
      "Data columns (total 8 columns):\n",
      " #   Column     Non-Null Count  Dtype         \n",
      "---  ------     --------------  -----         \n",
      " 0   Date       1295 non-null   datetime64[ns]\n",
      " 1   Symbol     1295 non-null   object        \n",
      " 2   Adj Close  1295 non-null   float64       \n",
      " 3   Close      1295 non-null   float64       \n",
      " 4   High       1295 non-null   float64       \n",
      " 5   Low        1295 non-null   float64       \n",
      " 6   Open       1295 non-null   float64       \n",
      " 7   Volume     1295 non-null   int64         \n",
      "dtypes: datetime64[ns](1), float64(5), int64(1), object(1)\n",
      "memory usage: 81.1+ KB\n"
     ]
    }
   ],
   "source": [
    "# Convert object to datetime64\n",
    "df_akam['Date'] = df_akam['Date'].apply(pd.to_datetime)\n",
    "# Sort data by date time value\n",
    "df_akam = df_akam.sort_values(by=\"Date\").reset_index(drop=True)\n",
    "df_akam.info()"
   ]
  },
  {
   "cell_type": "code",
   "execution_count": 7,
   "metadata": {},
   "outputs": [
    {
     "data": {
      "text/plain": [
       "0        65.519997\n",
       "1        67.040001\n",
       "2        68.169998\n",
       "3        67.510002\n",
       "4        66.589996\n",
       "           ...    \n",
       "1290    107.790001\n",
       "1291    109.599998\n",
       "1292    109.150002\n",
       "1293    108.970001\n",
       "1294    108.559998\n",
       "Name: Close, Length: 1295, dtype: float64"
      ]
     },
     "execution_count": 7,
     "metadata": {},
     "output_type": "execute_result"
    }
   ],
   "source": [
    "df_akam.Close"
   ]
  },
  {
   "cell_type": "code",
   "execution_count": 8,
   "metadata": {},
   "outputs": [
    {
     "data": {
      "text/plain": [
       "0              NaN\n",
       "1        65.519997\n",
       "2        67.040001\n",
       "3        68.169998\n",
       "4        67.510002\n",
       "           ...    \n",
       "1290    107.870003\n",
       "1291    107.790001\n",
       "1292    109.599998\n",
       "1293    109.150002\n",
       "1294    108.970001\n",
       "Name: Prev_close, Length: 1295, dtype: float64"
      ]
     },
     "execution_count": 8,
     "metadata": {},
     "output_type": "execute_result"
    }
   ],
   "source": [
    "df_akam['Prev_close'] = df_akam.shift(1)['Close']\n",
    "df_akam.Prev_close"
   ]
  },
  {
   "cell_type": "code",
   "execution_count": 9,
   "metadata": {},
   "outputs": [
    {
     "data": {
      "text/html": [
       "<div>\n",
       "<style scoped>\n",
       "    .dataframe tbody tr th:only-of-type {\n",
       "        vertical-align: middle;\n",
       "    }\n",
       "\n",
       "    .dataframe tbody tr th {\n",
       "        vertical-align: top;\n",
       "    }\n",
       "\n",
       "    .dataframe thead th {\n",
       "        text-align: right;\n",
       "    }\n",
       "</style>\n",
       "<table border=\"1\" class=\"dataframe\">\n",
       "  <thead>\n",
       "    <tr style=\"text-align: right;\">\n",
       "      <th></th>\n",
       "      <th>Date</th>\n",
       "      <th>Symbol</th>\n",
       "      <th>Adj Close</th>\n",
       "      <th>Close</th>\n",
       "      <th>High</th>\n",
       "      <th>Low</th>\n",
       "      <th>Open</th>\n",
       "      <th>Volume</th>\n",
       "      <th>Prev_close</th>\n",
       "    </tr>\n",
       "  </thead>\n",
       "  <tbody>\n",
       "    <tr>\n",
       "      <th>0</th>\n",
       "      <td>2019-02-01</td>\n",
       "      <td>AKAM</td>\n",
       "      <td>65.519997</td>\n",
       "      <td>65.519997</td>\n",
       "      <td>65.540001</td>\n",
       "      <td>64.500000</td>\n",
       "      <td>65.000000</td>\n",
       "      <td>1426900</td>\n",
       "      <td>NaN</td>\n",
       "    </tr>\n",
       "    <tr>\n",
       "      <th>1</th>\n",
       "      <td>2019-02-04</td>\n",
       "      <td>AKAM</td>\n",
       "      <td>67.040001</td>\n",
       "      <td>67.040001</td>\n",
       "      <td>67.080002</td>\n",
       "      <td>65.589996</td>\n",
       "      <td>65.589996</td>\n",
       "      <td>1146300</td>\n",
       "      <td>65.519997</td>\n",
       "    </tr>\n",
       "    <tr>\n",
       "      <th>2</th>\n",
       "      <td>2019-02-05</td>\n",
       "      <td>AKAM</td>\n",
       "      <td>68.169998</td>\n",
       "      <td>68.169998</td>\n",
       "      <td>68.300003</td>\n",
       "      <td>67.279999</td>\n",
       "      <td>67.309998</td>\n",
       "      <td>1474300</td>\n",
       "      <td>67.040001</td>\n",
       "    </tr>\n",
       "    <tr>\n",
       "      <th>3</th>\n",
       "      <td>2019-02-06</td>\n",
       "      <td>AKAM</td>\n",
       "      <td>67.510002</td>\n",
       "      <td>67.510002</td>\n",
       "      <td>68.500000</td>\n",
       "      <td>67.480003</td>\n",
       "      <td>68.089996</td>\n",
       "      <td>1379200</td>\n",
       "      <td>68.169998</td>\n",
       "    </tr>\n",
       "    <tr>\n",
       "      <th>4</th>\n",
       "      <td>2019-02-07</td>\n",
       "      <td>AKAM</td>\n",
       "      <td>66.589996</td>\n",
       "      <td>66.589996</td>\n",
       "      <td>67.150002</td>\n",
       "      <td>65.889999</td>\n",
       "      <td>67.110001</td>\n",
       "      <td>1047600</td>\n",
       "      <td>67.510002</td>\n",
       "    </tr>\n",
       "  </tbody>\n",
       "</table>\n",
       "</div>"
      ],
      "text/plain": [
       "        Date Symbol  Adj Close      Close       High        Low       Open   \n",
       "0 2019-02-01   AKAM  65.519997  65.519997  65.540001  64.500000  65.000000  \\\n",
       "1 2019-02-04   AKAM  67.040001  67.040001  67.080002  65.589996  65.589996   \n",
       "2 2019-02-05   AKAM  68.169998  68.169998  68.300003  67.279999  67.309998   \n",
       "3 2019-02-06   AKAM  67.510002  67.510002  68.500000  67.480003  68.089996   \n",
       "4 2019-02-07   AKAM  66.589996  66.589996  67.150002  65.889999  67.110001   \n",
       "\n",
       "    Volume  Prev_close  \n",
       "0  1426900         NaN  \n",
       "1  1146300   65.519997  \n",
       "2  1474300   67.040001  \n",
       "3  1379200   68.169998  \n",
       "4  1047600   67.510002  "
      ]
     },
     "execution_count": 9,
     "metadata": {},
     "output_type": "execute_result"
    }
   ],
   "source": [
    "df_akam.head()"
   ]
  },
  {
   "cell_type": "code",
   "execution_count": 10,
   "metadata": {},
   "outputs": [
    {
     "data": {
      "application/vnd.jupyter.widget-view+json": {
       "model_id": "0bd1fa75211947cc896f5f578c4870e2",
       "version_major": 2,
       "version_minor": 0
      },
      "text/plain": [
       "  0%|          | 0/1295 [00:00<?, ?it/s]"
      ]
     },
     "metadata": {},
     "output_type": "display_data"
    }
   ],
   "source": [
    "df_akam['Close_change'] = df_akam.progress_apply(\n",
    "    lambda row: 0 if np.isnan(row.Prev_close) else row.Close - row.Prev_close,\n",
    "    axis = 1\n",
    ")"
   ]
  },
  {
   "cell_type": "code",
   "execution_count": 11,
   "metadata": {},
   "outputs": [
    {
     "data": {
      "text/html": [
       "<div>\n",
       "<style scoped>\n",
       "    .dataframe tbody tr th:only-of-type {\n",
       "        vertical-align: middle;\n",
       "    }\n",
       "\n",
       "    .dataframe tbody tr th {\n",
       "        vertical-align: top;\n",
       "    }\n",
       "\n",
       "    .dataframe thead th {\n",
       "        text-align: right;\n",
       "    }\n",
       "</style>\n",
       "<table border=\"1\" class=\"dataframe\">\n",
       "  <thead>\n",
       "    <tr style=\"text-align: right;\">\n",
       "      <th></th>\n",
       "      <th>Date</th>\n",
       "      <th>Symbol</th>\n",
       "      <th>Adj Close</th>\n",
       "      <th>Close</th>\n",
       "      <th>High</th>\n",
       "      <th>Low</th>\n",
       "      <th>Open</th>\n",
       "      <th>Volume</th>\n",
       "      <th>Prev_close</th>\n",
       "      <th>Close_change</th>\n",
       "    </tr>\n",
       "  </thead>\n",
       "  <tbody>\n",
       "    <tr>\n",
       "      <th>0</th>\n",
       "      <td>2019-02-01</td>\n",
       "      <td>AKAM</td>\n",
       "      <td>65.519997</td>\n",
       "      <td>65.519997</td>\n",
       "      <td>65.540001</td>\n",
       "      <td>64.500000</td>\n",
       "      <td>65.000000</td>\n",
       "      <td>1426900</td>\n",
       "      <td>NaN</td>\n",
       "      <td>0.000000</td>\n",
       "    </tr>\n",
       "    <tr>\n",
       "      <th>1</th>\n",
       "      <td>2019-02-04</td>\n",
       "      <td>AKAM</td>\n",
       "      <td>67.040001</td>\n",
       "      <td>67.040001</td>\n",
       "      <td>67.080002</td>\n",
       "      <td>65.589996</td>\n",
       "      <td>65.589996</td>\n",
       "      <td>1146300</td>\n",
       "      <td>65.519997</td>\n",
       "      <td>1.520004</td>\n",
       "    </tr>\n",
       "    <tr>\n",
       "      <th>2</th>\n",
       "      <td>2019-02-05</td>\n",
       "      <td>AKAM</td>\n",
       "      <td>68.169998</td>\n",
       "      <td>68.169998</td>\n",
       "      <td>68.300003</td>\n",
       "      <td>67.279999</td>\n",
       "      <td>67.309998</td>\n",
       "      <td>1474300</td>\n",
       "      <td>67.040001</td>\n",
       "      <td>1.129997</td>\n",
       "    </tr>\n",
       "    <tr>\n",
       "      <th>3</th>\n",
       "      <td>2019-02-06</td>\n",
       "      <td>AKAM</td>\n",
       "      <td>67.510002</td>\n",
       "      <td>67.510002</td>\n",
       "      <td>68.500000</td>\n",
       "      <td>67.480003</td>\n",
       "      <td>68.089996</td>\n",
       "      <td>1379200</td>\n",
       "      <td>68.169998</td>\n",
       "      <td>-0.659996</td>\n",
       "    </tr>\n",
       "    <tr>\n",
       "      <th>4</th>\n",
       "      <td>2019-02-07</td>\n",
       "      <td>AKAM</td>\n",
       "      <td>66.589996</td>\n",
       "      <td>66.589996</td>\n",
       "      <td>67.150002</td>\n",
       "      <td>65.889999</td>\n",
       "      <td>67.110001</td>\n",
       "      <td>1047600</td>\n",
       "      <td>67.510002</td>\n",
       "      <td>-0.920006</td>\n",
       "    </tr>\n",
       "  </tbody>\n",
       "</table>\n",
       "</div>"
      ],
      "text/plain": [
       "        Date Symbol  Adj Close      Close       High        Low       Open   \n",
       "0 2019-02-01   AKAM  65.519997  65.519997  65.540001  64.500000  65.000000  \\\n",
       "1 2019-02-04   AKAM  67.040001  67.040001  67.080002  65.589996  65.589996   \n",
       "2 2019-02-05   AKAM  68.169998  68.169998  68.300003  67.279999  67.309998   \n",
       "3 2019-02-06   AKAM  67.510002  67.510002  68.500000  67.480003  68.089996   \n",
       "4 2019-02-07   AKAM  66.589996  66.589996  67.150002  65.889999  67.110001   \n",
       "\n",
       "    Volume  Prev_close  Close_change  \n",
       "0  1426900         NaN      0.000000  \n",
       "1  1146300   65.519997      1.520004  \n",
       "2  1474300   67.040001      1.129997  \n",
       "3  1379200   68.169998     -0.659996  \n",
       "4  1047600   67.510002     -0.920006  "
      ]
     },
     "execution_count": 11,
     "metadata": {},
     "output_type": "execute_result"
    }
   ],
   "source": [
    "df_akam.head()"
   ]
  },
  {
   "cell_type": "code",
   "execution_count": 12,
   "metadata": {},
   "outputs": [
    {
     "data": {
      "application/vnd.jupyter.widget-view+json": {
       "model_id": "7eb4d666e2fc48e2a26b788b55f62070",
       "version_major": 2,
       "version_minor": 0
      },
      "text/plain": [
       "  0%|          | 0/1295 [00:00<?, ?it/s]"
      ]
     },
     "metadata": {},
     "output_type": "display_data"
    }
   ],
   "source": [
    "rows = []\n",
    "for _,row in tqdm(df_akam.iterrows(), total=df_akam.shape[0]):\n",
    "    row_data = dict(\n",
    "        day = row.Date.day,\n",
    "        month = row.Date.month,\n",
    "        year = row.Date.year,\n",
    "        open = row.Open,\n",
    "        low = row.Close,\n",
    "        high = row.High, \n",
    "        close = row.Close, \n",
    "        volume = row.Volume,\n",
    "        close_change = row.Close_change\n",
    "    )\n",
    "    rows.append(row_data)\n",
    "features_akam = pd.DataFrame(rows)"
   ]
  },
  {
   "cell_type": "code",
   "execution_count": 13,
   "metadata": {},
   "outputs": [
    {
     "data": {
      "text/html": [
       "<div>\n",
       "<style scoped>\n",
       "    .dataframe tbody tr th:only-of-type {\n",
       "        vertical-align: middle;\n",
       "    }\n",
       "\n",
       "    .dataframe tbody tr th {\n",
       "        vertical-align: top;\n",
       "    }\n",
       "\n",
       "    .dataframe thead th {\n",
       "        text-align: right;\n",
       "    }\n",
       "</style>\n",
       "<table border=\"1\" class=\"dataframe\">\n",
       "  <thead>\n",
       "    <tr style=\"text-align: right;\">\n",
       "      <th></th>\n",
       "      <th>day</th>\n",
       "      <th>month</th>\n",
       "      <th>year</th>\n",
       "      <th>open</th>\n",
       "      <th>low</th>\n",
       "      <th>high</th>\n",
       "      <th>close</th>\n",
       "      <th>volume</th>\n",
       "      <th>close_change</th>\n",
       "    </tr>\n",
       "  </thead>\n",
       "  <tbody>\n",
       "    <tr>\n",
       "      <th>0</th>\n",
       "      <td>1</td>\n",
       "      <td>2</td>\n",
       "      <td>2019</td>\n",
       "      <td>65.000000</td>\n",
       "      <td>65.519997</td>\n",
       "      <td>65.540001</td>\n",
       "      <td>65.519997</td>\n",
       "      <td>1426900</td>\n",
       "      <td>0.000000</td>\n",
       "    </tr>\n",
       "    <tr>\n",
       "      <th>1</th>\n",
       "      <td>4</td>\n",
       "      <td>2</td>\n",
       "      <td>2019</td>\n",
       "      <td>65.589996</td>\n",
       "      <td>67.040001</td>\n",
       "      <td>67.080002</td>\n",
       "      <td>67.040001</td>\n",
       "      <td>1146300</td>\n",
       "      <td>1.520004</td>\n",
       "    </tr>\n",
       "    <tr>\n",
       "      <th>2</th>\n",
       "      <td>5</td>\n",
       "      <td>2</td>\n",
       "      <td>2019</td>\n",
       "      <td>67.309998</td>\n",
       "      <td>68.169998</td>\n",
       "      <td>68.300003</td>\n",
       "      <td>68.169998</td>\n",
       "      <td>1474300</td>\n",
       "      <td>1.129997</td>\n",
       "    </tr>\n",
       "    <tr>\n",
       "      <th>3</th>\n",
       "      <td>6</td>\n",
       "      <td>2</td>\n",
       "      <td>2019</td>\n",
       "      <td>68.089996</td>\n",
       "      <td>67.510002</td>\n",
       "      <td>68.500000</td>\n",
       "      <td>67.510002</td>\n",
       "      <td>1379200</td>\n",
       "      <td>-0.659996</td>\n",
       "    </tr>\n",
       "    <tr>\n",
       "      <th>4</th>\n",
       "      <td>7</td>\n",
       "      <td>2</td>\n",
       "      <td>2019</td>\n",
       "      <td>67.110001</td>\n",
       "      <td>66.589996</td>\n",
       "      <td>67.150002</td>\n",
       "      <td>66.589996</td>\n",
       "      <td>1047600</td>\n",
       "      <td>-0.920006</td>\n",
       "    </tr>\n",
       "  </tbody>\n",
       "</table>\n",
       "</div>"
      ],
      "text/plain": [
       "   day  month  year       open        low       high      close   volume   \n",
       "0    1      2  2019  65.000000  65.519997  65.540001  65.519997  1426900  \\\n",
       "1    4      2  2019  65.589996  67.040001  67.080002  67.040001  1146300   \n",
       "2    5      2  2019  67.309998  68.169998  68.300003  68.169998  1474300   \n",
       "3    6      2  2019  68.089996  67.510002  68.500000  67.510002  1379200   \n",
       "4    7      2  2019  67.110001  66.589996  67.150002  66.589996  1047600   \n",
       "\n",
       "   close_change  \n",
       "0      0.000000  \n",
       "1      1.520004  \n",
       "2      1.129997  \n",
       "3     -0.659996  \n",
       "4     -0.920006  "
      ]
     },
     "execution_count": 13,
     "metadata": {},
     "output_type": "execute_result"
    }
   ],
   "source": [
    "features_akam.head()"
   ]
  },
  {
   "cell_type": "code",
   "execution_count": 14,
   "metadata": {},
   "outputs": [],
   "source": [
    "def detect_outlier(df, col):\n",
    "    q1 = np.percentile(df[col], 25)\n",
    "    q3 = np.percentile(df[col], 75)\n",
    "    iqr = q3 - q1\n",
    "    lower_bound = q1 - 1.5 * iqr\n",
    "    upper_bound = q3 + 1.5 * iqr\n",
    "    print(df[(df[col] < lower_bound) | (df[col] > upper_bound)])"
   ]
  },
  {
   "cell_type": "code",
   "execution_count": 15,
   "metadata": {},
   "outputs": [
    {
     "name": "stdout",
     "output_type": "stream",
     "text": [
      "Empty DataFrame\n",
      "Columns: [day, month, year, open, low, high, close, volume, close_change]\n",
      "Index: []\n"
     ]
    }
   ],
   "source": [
    "detect_outlier(features_akam, 'close')"
   ]
  },
  {
   "cell_type": "code",
   "execution_count": 16,
   "metadata": {},
   "outputs": [
    {
     "name": "stdout",
     "output_type": "stream",
     "text": [
      "      day  month  year        open         low        high       close   \n",
      "8      13      2  2019   70.349998   70.370003   71.199997   70.370003  \\\n",
      "61      1      5  2019   86.010002   81.040001   86.190002   81.040001   \n",
      "97     21      6  2019   79.809998   78.550003   80.000000   78.550003   \n",
      "124    31      7  2019   85.000000   88.129997   90.760002   88.129997   \n",
      "125     1      8  2019   88.120003   90.110001   90.360001   90.110001   \n",
      "...   ...    ...   ...         ...         ...         ...         ...   \n",
      "1268   15      2  2024  114.199997  111.570000  114.669998  111.570000   \n",
      "1269   16      2  2024  111.050003  109.190002  112.110001  109.190002   \n",
      "1272   22      2  2024  108.470001  106.949997  108.709999  106.949997   \n",
      "1282    7      3  2024  111.839996  112.830002  113.139999  112.830002   \n",
      "1288   15      3  2024  108.279999  107.250000  108.900002  107.250000   \n",
      "\n",
      "       volume  close_change  \n",
      "8     4038100      1.040001  \n",
      "61    4597600      0.980003  \n",
      "97    3469700     -1.329994  \n",
      "124   4730100      4.099998  \n",
      "125   2975100      1.980003  \n",
      "...       ...           ...  \n",
      "1268  4018200     -3.230003  \n",
      "1269  3364800     -2.379997  \n",
      "1272  3471900     -0.210007  \n",
      "1282  3387700      2.669998  \n",
      "1288  2957800     -1.699997  \n",
      "\n",
      "[80 rows x 9 columns]\n"
     ]
    }
   ],
   "source": [
    "detect_outlier(features_akam, 'volume')"
   ]
  },
  {
   "cell_type": "code",
   "execution_count": 17,
   "metadata": {},
   "outputs": [
    {
     "name": "stdout",
     "output_type": "stream",
     "text": [
      "      day  month  year        open         low        high       close   \n",
      "124    31      7  2019   85.000000   88.129997   90.760002   88.129997  \\\n",
      "127     5      8  2019   86.559998   84.010002   86.949997   84.010002   \n",
      "134    14      8  2019   88.080002   84.080002   88.080002   84.080002   \n",
      "266    24      2  2020   97.099998   97.110001   98.540001   97.110001   \n",
      "267    25      2  2020   97.620003   93.730003   98.320000   93.730003   \n",
      "...   ...    ...   ...         ...         ...         ...         ...   \n",
      "1017   15      2  2023   81.529999   78.660004   81.529999   78.660004   \n",
      "1075   10      5  2023   83.199997   85.540001   86.500000   85.540001   \n",
      "1137    9      8  2023  101.500000  102.989998  107.470001  102.989998   \n",
      "1267   14      2  2024  119.120003  114.800003  122.000000  114.800003   \n",
      "1268   15      2  2024  114.199997  111.570000  114.669998  111.570000   \n",
      "\n",
      "       volume  close_change  \n",
      "124   4730100      4.099998  \n",
      "127   2371300     -4.309998  \n",
      "134   5810800     -5.290001  \n",
      "266   1514100     -3.409996  \n",
      "267   1293900     -3.379997  \n",
      "...       ...           ...  \n",
      "1017  7745400     -9.129997  \n",
      "1075  4274500      6.660004  \n",
      "1137  5637200      8.040001  \n",
      "1267  7080500    -10.250000  \n",
      "1268  4018200     -3.230003  \n",
      "\n",
      "[73 rows x 9 columns]\n"
     ]
    }
   ],
   "source": [
    "detect_outlier(features_akam, 'close_change')"
   ]
  },
  {
   "cell_type": "code",
   "execution_count": 18,
   "metadata": {},
   "outputs": [
    {
     "name": "stdout",
     "output_type": "stream",
     "text": [
      "(1036, 9) \n",
      " (128, 9) \n",
      " (129, 9)\n"
     ]
    }
   ],
   "source": [
    "train_size = int(len(features_akam) * .8)\n",
    "validation_size = int(len(features_akam) * .9)\n",
    "\n",
    "train_akam_df, validation_akam_df, test_akam_df = features_akam[:train_size], features_akam[train_size+1:validation_size], features_akam[validation_size+1:]\n",
    "\n",
    "print(train_akam_df.shape, '\\n', validation_akam_df.shape , '\\n', test_akam_df.shape)"
   ]
  },
  {
   "cell_type": "code",
   "execution_count": 19,
   "metadata": {
    "colab": {
     "base_uri": "https://localhost:8080/"
    },
    "executionInfo": {
     "elapsed": 5,
     "status": "ok",
     "timestamp": 1714850103883,
     "user": {
      "displayName": "DAO NGUYỄN THỊ BÍCH",
      "userId": "07070364028547772837"
     },
     "user_tz": -420
    },
    "id": "hxP-u3dnAkxl",
    "outputId": "8a8f72d6-ca49-491f-fe0c-67cd4289eb3a"
   },
   "outputs": [
    {
     "name": "stdout",
     "output_type": "stream",
     "text": [
      "Hệ số hồi quy (slope): [0.01449343]\n",
      "Sai số chệch (intercept): 90.1440332704319\n"
     ]
    }
   ],
   "source": [
    "#Quá trình Training\n",
    "x_train = np.array(train_akam_df.index).reshape(-1, 1)\n",
    "y_train = np.array(train_akam_df['close'])\n",
    "# Train the linear regression model\n",
    "model = LinearRegression()\n",
    "model.fit(x_train, y_train)\n",
    "# In các thông số của mô hình\n",
    "print(\"Hệ số hồi quy (slope):\", model.coef_)\n",
    "print(\"Sai số chệch (intercept):\", model.intercept_)"
   ]
  },
  {
   "cell_type": "code",
   "execution_count": 20,
   "metadata": {
    "colab": {
     "base_uri": "https://localhost:8080/",
     "height": 472
    },
    "executionInfo": {
     "elapsed": 743,
     "status": "ok",
     "timestamp": 1714850112013,
     "user": {
      "displayName": "DAO NGUYỄN THỊ BÍCH",
      "userId": "07070364028547772837"
     },
     "user_tz": -420
    },
    "id": "UKurQJg4BFbo",
    "outputId": "4d052be6-32c1-4bec-ee34-52c9cc2c5484"
   },
   "outputs": [
    {
     "data": {
      "image/png": "[encoded data removed]",
      "text/plain": [
       "<Figure size 640x480 with 1 Axes>"
      ]
     },
     "metadata": {},
     "output_type": "display_data"
    }
   ],
   "source": [
    "#Vẽ hình\n",
    "plt.plot(train_akam_df.index, train_akam_df['close'])\n",
    "plt.show()"
   ]
  },
  {
   "cell_type": "code",
   "execution_count": null,
   "metadata": {
    "id": "5MQqHxNKCMLj"
   },
   "outputs": [],
   "source": []
  }
 ],
 "metadata": {
  "colab": {
   "authorship_tag": "ABX9TyP8XXbeJnGqPojNMs2qoLp0",
   "provenance": []
  },
  "kernelspec": {
   "display_name": "Python 3 (ipykernel)",
   "language": "python",
   "name": "python3"
  },
  "language_info": {
   "codemirror_mode": {
    "name": "ipython",
    "version": 3
   },
   "file_extension": ".py",
   "mimetype": "text/x-python",
   "name": "python",
   "nbconvert_exporter": "python",
   "pygments_lexer": "ipython3",
   "version": "3.11.3"
  }
 },
 "nbformat": 4,
 "nbformat_minor": 4
}
