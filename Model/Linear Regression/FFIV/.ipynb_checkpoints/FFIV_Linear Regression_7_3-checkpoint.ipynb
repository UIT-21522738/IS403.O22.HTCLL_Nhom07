{
 "cells": [
  {
   "cell_type": "code",
   "execution_count": 1,
   "metadata": {
    "executionInfo": {
     "elapsed": 3725,
     "status": "ok",
     "timestamp": 1714849624982,
     "user": {
      "displayName": "DAO NGUYỄN THỊ BÍCH",
      "userId": "07070364028547772837"
     },
     "user_tz": -420
    },
    "id": "Aj8QUSkdwe9L"
   },
   "outputs": [],
   "source": [
    "import pandas as pd\n",
    "import numpy as np\n",
    "from scipy import stats\n",
    "import statsmodels.api as sm\n",
    "import matplotlib.pyplot as plt\n",
    "from sklearn.linear_model import LinearRegression\n",
    "from sklearn.preprocessing import MinMaxScaler\n",
    "from sklearn.preprocessing import StandardScaler\n",
    "from tqdm.notebook import tqdm\n",
    "tqdm.pandas()"
   ]
  },
  {
   "cell_type": "code",
   "execution_count": 2,
   "metadata": {
    "colab": {
     "base_uri": "https://localhost:8080/",
     "height": 71
    },
    "executionInfo": {
     "elapsed": 7479,
     "status": "ok",
     "timestamp": 1714850045131,
     "user": {
      "displayName": "DAO NGUYỄN THỊ BÍCH",
      "userId": "07070364028547772837"
     },
     "user_tz": -420
    },
    "id": "b2zApkhTAJjD",
    "outputId": "1609ae67-62b8-4db0-bfe4-32f85514705b"
   },
   "outputs": [],
   "source": [
    "csv_ffiv = \"C:/Business analysis/Project/IS403.O22.HTCLL_Nhom07/Dataset/ffiv_Stock.csv\"\n",
    "df_ffiv = pd.read_csv(csv_ffiv, thousands=',')"
   ]
  },
  {
   "cell_type": "code",
   "execution_count": 3,
   "metadata": {},
   "outputs": [
    {
     "data": {
      "text/html": [
       "<div>\n",
       "<style scoped>\n",
       "    .dataframe tbody tr th:only-of-type {\n",
       "        vertical-align: middle;\n",
       "    }\n",
       "\n",
       "    .dataframe tbody tr th {\n",
       "        vertical-align: top;\n",
       "    }\n",
       "\n",
       "    .dataframe thead th {\n",
       "        text-align: right;\n",
       "    }\n",
       "</style>\n",
       "<table border=\"1\" class=\"dataframe\">\n",
       "  <thead>\n",
       "    <tr style=\"text-align: right;\">\n",
       "      <th></th>\n",
       "      <th>Date</th>\n",
       "      <th>Symbol</th>\n",
       "      <th>Adj Close</th>\n",
       "      <th>Close</th>\n",
       "      <th>High</th>\n",
       "      <th>Low</th>\n",
       "      <th>Open</th>\n",
       "      <th>Volume</th>\n",
       "    </tr>\n",
       "  </thead>\n",
       "  <tbody>\n",
       "    <tr>\n",
       "      <th>0</th>\n",
       "      <td>3/1/2019</td>\n",
       "      <td>FFIV</td>\n",
       "      <td>166.529999</td>\n",
       "      <td>166.529999</td>\n",
       "      <td>168.330002</td>\n",
       "      <td>165.419998</td>\n",
       "      <td>167.600006</td>\n",
       "      <td>756400</td>\n",
       "    </tr>\n",
       "    <tr>\n",
       "      <th>1</th>\n",
       "      <td>3/4/2019</td>\n",
       "      <td>FFIV</td>\n",
       "      <td>163.289993</td>\n",
       "      <td>163.289993</td>\n",
       "      <td>167.289993</td>\n",
       "      <td>161.710007</td>\n",
       "      <td>166.970001</td>\n",
       "      <td>553700</td>\n",
       "    </tr>\n",
       "    <tr>\n",
       "      <th>2</th>\n",
       "      <td>3/5/2019</td>\n",
       "      <td>FFIV</td>\n",
       "      <td>162.149994</td>\n",
       "      <td>162.149994</td>\n",
       "      <td>163.399994</td>\n",
       "      <td>161.970001</td>\n",
       "      <td>163.240005</td>\n",
       "      <td>511300</td>\n",
       "    </tr>\n",
       "    <tr>\n",
       "      <th>3</th>\n",
       "      <td>3/6/2019</td>\n",
       "      <td>FFIV</td>\n",
       "      <td>161.080002</td>\n",
       "      <td>161.080002</td>\n",
       "      <td>162.139999</td>\n",
       "      <td>159.949997</td>\n",
       "      <td>161.919998</td>\n",
       "      <td>527000</td>\n",
       "    </tr>\n",
       "    <tr>\n",
       "      <th>4</th>\n",
       "      <td>3/7/2019</td>\n",
       "      <td>FFIV</td>\n",
       "      <td>158.990005</td>\n",
       "      <td>158.990005</td>\n",
       "      <td>161.250000</td>\n",
       "      <td>157.910004</td>\n",
       "      <td>160.630005</td>\n",
       "      <td>783200</td>\n",
       "    </tr>\n",
       "  </tbody>\n",
       "</table>\n",
       "</div>"
      ],
      "text/plain": [
       "       Date Symbol   Adj Close       Close        High         Low   \n",
       "0  3/1/2019   FFIV  166.529999  166.529999  168.330002  165.419998  \\\n",
       "1  3/4/2019   FFIV  163.289993  163.289993  167.289993  161.710007   \n",
       "2  3/5/2019   FFIV  162.149994  162.149994  163.399994  161.970001   \n",
       "3  3/6/2019   FFIV  161.080002  161.080002  162.139999  159.949997   \n",
       "4  3/7/2019   FFIV  158.990005  158.990005  161.250000  157.910004   \n",
       "\n",
       "         Open  Volume  \n",
       "0  167.600006  756400  \n",
       "1  166.970001  553700  \n",
       "2  163.240005  511300  \n",
       "3  161.919998  527000  \n",
       "4  160.630005  783200  "
      ]
     },
     "execution_count": 3,
     "metadata": {},
     "output_type": "execute_result"
    }
   ],
   "source": [
    "df_ffiv.head()"
   ]
  },
  {
   "cell_type": "code",
   "execution_count": 4,
   "metadata": {},
   "outputs": [
    {
     "data": {
      "text/html": [
       "<div>\n",
       "<style scoped>\n",
       "    .dataframe tbody tr th:only-of-type {\n",
       "        vertical-align: middle;\n",
       "    }\n",
       "\n",
       "    .dataframe tbody tr th {\n",
       "        vertical-align: top;\n",
       "    }\n",
       "\n",
       "    .dataframe thead th {\n",
       "        text-align: right;\n",
       "    }\n",
       "</style>\n",
       "<table border=\"1\" class=\"dataframe\">\n",
       "  <thead>\n",
       "    <tr style=\"text-align: right;\">\n",
       "      <th></th>\n",
       "      <th>Adj Close</th>\n",
       "      <th>Close</th>\n",
       "      <th>High</th>\n",
       "      <th>Low</th>\n",
       "      <th>Open</th>\n",
       "      <th>Volume</th>\n",
       "    </tr>\n",
       "  </thead>\n",
       "  <tbody>\n",
       "    <tr>\n",
       "      <th>count</th>\n",
       "      <td>1324.000000</td>\n",
       "      <td>1324.000000</td>\n",
       "      <td>1324.000000</td>\n",
       "      <td>1324.000000</td>\n",
       "      <td>1324.000000</td>\n",
       "      <td>1.324000e+03</td>\n",
       "    </tr>\n",
       "    <tr>\n",
       "      <th>mean</th>\n",
       "      <td>163.434992</td>\n",
       "      <td>163.434992</td>\n",
       "      <td>165.268542</td>\n",
       "      <td>161.482228</td>\n",
       "      <td>163.397160</td>\n",
       "      <td>6.147710e+05</td>\n",
       "    </tr>\n",
       "    <tr>\n",
       "      <th>std</th>\n",
       "      <td>29.329932</td>\n",
       "      <td>29.329932</td>\n",
       "      <td>29.577160</td>\n",
       "      <td>29.115418</td>\n",
       "      <td>29.336975</td>\n",
       "      <td>3.981027e+05</td>\n",
       "    </tr>\n",
       "    <tr>\n",
       "      <th>min</th>\n",
       "      <td>90.550003</td>\n",
       "      <td>90.550003</td>\n",
       "      <td>93.830002</td>\n",
       "      <td>79.779999</td>\n",
       "      <td>88.750000</td>\n",
       "      <td>1.205000e+05</td>\n",
       "    </tr>\n",
       "    <tr>\n",
       "      <th>25%</th>\n",
       "      <td>141.537506</td>\n",
       "      <td>141.537506</td>\n",
       "      <td>143.384998</td>\n",
       "      <td>139.952503</td>\n",
       "      <td>141.632496</td>\n",
       "      <td>3.971500e+05</td>\n",
       "    </tr>\n",
       "    <tr>\n",
       "      <th>50%</th>\n",
       "      <td>155.590004</td>\n",
       "      <td>155.590004</td>\n",
       "      <td>157.345001</td>\n",
       "      <td>154.154999</td>\n",
       "      <td>156.070000</td>\n",
       "      <td>5.293500e+05</td>\n",
       "    </tr>\n",
       "    <tr>\n",
       "      <th>75%</th>\n",
       "      <td>186.022503</td>\n",
       "      <td>186.022503</td>\n",
       "      <td>187.654995</td>\n",
       "      <td>184.379997</td>\n",
       "      <td>186.260002</td>\n",
       "      <td>6.974750e+05</td>\n",
       "    </tr>\n",
       "    <tr>\n",
       "      <th>max</th>\n",
       "      <td>247.779999</td>\n",
       "      <td>247.779999</td>\n",
       "      <td>249.000000</td>\n",
       "      <td>245.899994</td>\n",
       "      <td>247.779999</td>\n",
       "      <td>5.232700e+06</td>\n",
       "    </tr>\n",
       "  </tbody>\n",
       "</table>\n",
       "</div>"
      ],
      "text/plain": [
       "         Adj Close        Close         High          Low         Open   \n",
       "count  1324.000000  1324.000000  1324.000000  1324.000000  1324.000000  \\\n",
       "mean    163.434992   163.434992   165.268542   161.482228   163.397160   \n",
       "std      29.329932    29.329932    29.577160    29.115418    29.336975   \n",
       "min      90.550003    90.550003    93.830002    79.779999    88.750000   \n",
       "25%     141.537506   141.537506   143.384998   139.952503   141.632496   \n",
       "50%     155.590004   155.590004   157.345001   154.154999   156.070000   \n",
       "75%     186.022503   186.022503   187.654995   184.379997   186.260002   \n",
       "max     247.779999   247.779999   249.000000   245.899994   247.779999   \n",
       "\n",
       "             Volume  \n",
       "count  1.324000e+03  \n",
       "mean   6.147710e+05  \n",
       "std    3.981027e+05  \n",
       "min    1.205000e+05  \n",
       "25%    3.971500e+05  \n",
       "50%    5.293500e+05  \n",
       "75%    6.974750e+05  \n",
       "max    5.232700e+06  "
      ]
     },
     "execution_count": 4,
     "metadata": {},
     "output_type": "execute_result"
    }
   ],
   "source": [
    "df_ffiv.describe()"
   ]
  },
  {
   "cell_type": "code",
   "execution_count": 5,
   "metadata": {},
   "outputs": [
    {
     "name": "stdout",
     "output_type": "stream",
     "text": [
      "<class 'pandas.core.frame.DataFrame'>\n",
      "RangeIndex: 1324 entries, 0 to 1323\n",
      "Data columns (total 8 columns):\n",
      " #   Column     Non-Null Count  Dtype  \n",
      "---  ------     --------------  -----  \n",
      " 0   Date       1324 non-null   object \n",
      " 1   Symbol     1324 non-null   object \n",
      " 2   Adj Close  1324 non-null   float64\n",
      " 3   Close      1324 non-null   float64\n",
      " 4   High       1324 non-null   float64\n",
      " 5   Low        1324 non-null   float64\n",
      " 6   Open       1324 non-null   float64\n",
      " 7   Volume     1324 non-null   int64  \n",
      "dtypes: float64(5), int64(1), object(2)\n",
      "memory usage: 82.9+ KB\n"
     ]
    }
   ],
   "source": [
    "df_ffiv.info()"
   ]
  },
  {
   "cell_type": "code",
   "execution_count": 6,
   "metadata": {},
   "outputs": [
    {
     "name": "stdout",
     "output_type": "stream",
     "text": [
      "<class 'pandas.core.frame.DataFrame'>\n",
      "RangeIndex: 1324 entries, 0 to 1323\n",
      "Data columns (total 8 columns):\n",
      " #   Column     Non-Null Count  Dtype         \n",
      "---  ------     --------------  -----         \n",
      " 0   Date       1324 non-null   datetime64[ns]\n",
      " 1   Symbol     1324 non-null   object        \n",
      " 2   Adj Close  1324 non-null   float64       \n",
      " 3   Close      1324 non-null   float64       \n",
      " 4   High       1324 non-null   float64       \n",
      " 5   Low        1324 non-null   float64       \n",
      " 6   Open       1324 non-null   float64       \n",
      " 7   Volume     1324 non-null   int64         \n",
      "dtypes: datetime64[ns](1), float64(5), int64(1), object(1)\n",
      "memory usage: 82.9+ KB\n"
     ]
    }
   ],
   "source": [
    "# Convert object to datetime64\n",
    "df_ffiv['Date'] = df_ffiv['Date'].apply(pd.to_datetime)\n",
    "# Sort data by date time value\n",
    "df_ffiv = df_ffiv.sort_values(by=\"Date\").reset_index(drop=True)\n",
    "df_ffiv.info()"
   ]
  },
  {
   "cell_type": "code",
   "execution_count": 7,
   "metadata": {},
   "outputs": [
    {
     "data": {
      "text/plain": [
       "0       166.529999\n",
       "1       163.289993\n",
       "2       162.149994\n",
       "3       161.080002\n",
       "4       158.990005\n",
       "           ...    \n",
       "1319    168.339996\n",
       "1320    168.229996\n",
       "1321    167.300003\n",
       "1322    168.970001\n",
       "1323    166.910004\n",
       "Name: Close, Length: 1324, dtype: float64"
      ]
     },
     "execution_count": 7,
     "metadata": {},
     "output_type": "execute_result"
    }
   ],
   "source": [
    "df_ffiv.Close"
   ]
  },
  {
   "cell_type": "code",
   "execution_count": 8,
   "metadata": {},
   "outputs": [
    {
     "data": {
      "text/plain": [
       "0              NaN\n",
       "1       166.529999\n",
       "2       163.289993\n",
       "3       162.149994\n",
       "4       161.080002\n",
       "           ...    \n",
       "1319    169.899994\n",
       "1320    168.339996\n",
       "1321    168.229996\n",
       "1322    167.300003\n",
       "1323    168.970001\n",
       "Name: Prev_close, Length: 1324, dtype: float64"
      ]
     },
     "execution_count": 8,
     "metadata": {},
     "output_type": "execute_result"
    }
   ],
   "source": [
    "df_ffiv['Prev_close'] = df_ffiv.shift(1)['Close']\n",
    "df_ffiv.Prev_close"
   ]
  },
  {
   "cell_type": "code",
   "execution_count": 9,
   "metadata": {},
   "outputs": [
    {
     "data": {
      "text/html": [
       "<div>\n",
       "<style scoped>\n",
       "    .dataframe tbody tr th:only-of-type {\n",
       "        vertical-align: middle;\n",
       "    }\n",
       "\n",
       "    .dataframe tbody tr th {\n",
       "        vertical-align: top;\n",
       "    }\n",
       "\n",
       "    .dataframe thead th {\n",
       "        text-align: right;\n",
       "    }\n",
       "</style>\n",
       "<table border=\"1\" class=\"dataframe\">\n",
       "  <thead>\n",
       "    <tr style=\"text-align: right;\">\n",
       "      <th></th>\n",
       "      <th>Date</th>\n",
       "      <th>Symbol</th>\n",
       "      <th>Adj Close</th>\n",
       "      <th>Close</th>\n",
       "      <th>High</th>\n",
       "      <th>Low</th>\n",
       "      <th>Open</th>\n",
       "      <th>Volume</th>\n",
       "      <th>Prev_close</th>\n",
       "    </tr>\n",
       "  </thead>\n",
       "  <tbody>\n",
       "    <tr>\n",
       "      <th>0</th>\n",
       "      <td>2019-03-01</td>\n",
       "      <td>FFIV</td>\n",
       "      <td>166.529999</td>\n",
       "      <td>166.529999</td>\n",
       "      <td>168.330002</td>\n",
       "      <td>165.419998</td>\n",
       "      <td>167.600006</td>\n",
       "      <td>756400</td>\n",
       "      <td>NaN</td>\n",
       "    </tr>\n",
       "    <tr>\n",
       "      <th>1</th>\n",
       "      <td>2019-03-04</td>\n",
       "      <td>FFIV</td>\n",
       "      <td>163.289993</td>\n",
       "      <td>163.289993</td>\n",
       "      <td>167.289993</td>\n",
       "      <td>161.710007</td>\n",
       "      <td>166.970001</td>\n",
       "      <td>553700</td>\n",
       "      <td>166.529999</td>\n",
       "    </tr>\n",
       "    <tr>\n",
       "      <th>2</th>\n",
       "      <td>2019-03-05</td>\n",
       "      <td>FFIV</td>\n",
       "      <td>162.149994</td>\n",
       "      <td>162.149994</td>\n",
       "      <td>163.399994</td>\n",
       "      <td>161.970001</td>\n",
       "      <td>163.240005</td>\n",
       "      <td>511300</td>\n",
       "      <td>163.289993</td>\n",
       "    </tr>\n",
       "    <tr>\n",
       "      <th>3</th>\n",
       "      <td>2019-03-06</td>\n",
       "      <td>FFIV</td>\n",
       "      <td>161.080002</td>\n",
       "      <td>161.080002</td>\n",
       "      <td>162.139999</td>\n",
       "      <td>159.949997</td>\n",
       "      <td>161.919998</td>\n",
       "      <td>527000</td>\n",
       "      <td>162.149994</td>\n",
       "    </tr>\n",
       "    <tr>\n",
       "      <th>4</th>\n",
       "      <td>2019-03-07</td>\n",
       "      <td>FFIV</td>\n",
       "      <td>158.990005</td>\n",
       "      <td>158.990005</td>\n",
       "      <td>161.250000</td>\n",
       "      <td>157.910004</td>\n",
       "      <td>160.630005</td>\n",
       "      <td>783200</td>\n",
       "      <td>161.080002</td>\n",
       "    </tr>\n",
       "  </tbody>\n",
       "</table>\n",
       "</div>"
      ],
      "text/plain": [
       "        Date Symbol   Adj Close       Close        High         Low   \n",
       "0 2019-03-01   FFIV  166.529999  166.529999  168.330002  165.419998  \\\n",
       "1 2019-03-04   FFIV  163.289993  163.289993  167.289993  161.710007   \n",
       "2 2019-03-05   FFIV  162.149994  162.149994  163.399994  161.970001   \n",
       "3 2019-03-06   FFIV  161.080002  161.080002  162.139999  159.949997   \n",
       "4 2019-03-07   FFIV  158.990005  158.990005  161.250000  157.910004   \n",
       "\n",
       "         Open  Volume  Prev_close  \n",
       "0  167.600006  756400         NaN  \n",
       "1  166.970001  553700  166.529999  \n",
       "2  163.240005  511300  163.289993  \n",
       "3  161.919998  527000  162.149994  \n",
       "4  160.630005  783200  161.080002  "
      ]
     },
     "execution_count": 9,
     "metadata": {},
     "output_type": "execute_result"
    }
   ],
   "source": [
    "df_ffiv.head()"
   ]
  },
  {
   "cell_type": "code",
   "execution_count": 10,
   "metadata": {},
   "outputs": [
    {
     "data": {
      "application/vnd.jupyter.widget-view+json": {
       "model_id": "c0fcbbab9c59462ca9e7c32c7a1c0224",
       "version_major": 2,
       "version_minor": 0
      },
      "text/plain": [
       "  0%|          | 0/1324 [00:00<?, ?it/s]"
      ]
     },
     "metadata": {},
     "output_type": "display_data"
    }
   ],
   "source": [
    "df_ffiv['Close_change'] = df_ffiv.progress_apply(\n",
    "    lambda row: 0 if np.isnan(row.Prev_close) else row.Close - row.Prev_close,\n",
    "    axis = 1\n",
    ")"
   ]
  },
  {
   "cell_type": "code",
   "execution_count": 11,
   "metadata": {},
   "outputs": [
    {
     "data": {
      "text/html": [
       "<div>\n",
       "<style scoped>\n",
       "    .dataframe tbody tr th:only-of-type {\n",
       "        vertical-align: middle;\n",
       "    }\n",
       "\n",
       "    .dataframe tbody tr th {\n",
       "        vertical-align: top;\n",
       "    }\n",
       "\n",
       "    .dataframe thead th {\n",
       "        text-align: right;\n",
       "    }\n",
       "</style>\n",
       "<table border=\"1\" class=\"dataframe\">\n",
       "  <thead>\n",
       "    <tr style=\"text-align: right;\">\n",
       "      <th></th>\n",
       "      <th>Date</th>\n",
       "      <th>Symbol</th>\n",
       "      <th>Adj Close</th>\n",
       "      <th>Close</th>\n",
       "      <th>High</th>\n",
       "      <th>Low</th>\n",
       "      <th>Open</th>\n",
       "      <th>Volume</th>\n",
       "      <th>Prev_close</th>\n",
       "      <th>Close_change</th>\n",
       "    </tr>\n",
       "  </thead>\n",
       "  <tbody>\n",
       "    <tr>\n",
       "      <th>0</th>\n",
       "      <td>2019-03-01</td>\n",
       "      <td>FFIV</td>\n",
       "      <td>166.529999</td>\n",
       "      <td>166.529999</td>\n",
       "      <td>168.330002</td>\n",
       "      <td>165.419998</td>\n",
       "      <td>167.600006</td>\n",
       "      <td>756400</td>\n",
       "      <td>NaN</td>\n",
       "      <td>0.000000</td>\n",
       "    </tr>\n",
       "    <tr>\n",
       "      <th>1</th>\n",
       "      <td>2019-03-04</td>\n",
       "      <td>FFIV</td>\n",
       "      <td>163.289993</td>\n",
       "      <td>163.289993</td>\n",
       "      <td>167.289993</td>\n",
       "      <td>161.710007</td>\n",
       "      <td>166.970001</td>\n",
       "      <td>553700</td>\n",
       "      <td>166.529999</td>\n",
       "      <td>-3.240005</td>\n",
       "    </tr>\n",
       "    <tr>\n",
       "      <th>2</th>\n",
       "      <td>2019-03-05</td>\n",
       "      <td>FFIV</td>\n",
       "      <td>162.149994</td>\n",
       "      <td>162.149994</td>\n",
       "      <td>163.399994</td>\n",
       "      <td>161.970001</td>\n",
       "      <td>163.240005</td>\n",
       "      <td>511300</td>\n",
       "      <td>163.289993</td>\n",
       "      <td>-1.139999</td>\n",
       "    </tr>\n",
       "    <tr>\n",
       "      <th>3</th>\n",
       "      <td>2019-03-06</td>\n",
       "      <td>FFIV</td>\n",
       "      <td>161.080002</td>\n",
       "      <td>161.080002</td>\n",
       "      <td>162.139999</td>\n",
       "      <td>159.949997</td>\n",
       "      <td>161.919998</td>\n",
       "      <td>527000</td>\n",
       "      <td>162.149994</td>\n",
       "      <td>-1.069992</td>\n",
       "    </tr>\n",
       "    <tr>\n",
       "      <th>4</th>\n",
       "      <td>2019-03-07</td>\n",
       "      <td>FFIV</td>\n",
       "      <td>158.990005</td>\n",
       "      <td>158.990005</td>\n",
       "      <td>161.250000</td>\n",
       "      <td>157.910004</td>\n",
       "      <td>160.630005</td>\n",
       "      <td>783200</td>\n",
       "      <td>161.080002</td>\n",
       "      <td>-2.089996</td>\n",
       "    </tr>\n",
       "  </tbody>\n",
       "</table>\n",
       "</div>"
      ],
      "text/plain": [
       "        Date Symbol   Adj Close       Close        High         Low   \n",
       "0 2019-03-01   FFIV  166.529999  166.529999  168.330002  165.419998  \\\n",
       "1 2019-03-04   FFIV  163.289993  163.289993  167.289993  161.710007   \n",
       "2 2019-03-05   FFIV  162.149994  162.149994  163.399994  161.970001   \n",
       "3 2019-03-06   FFIV  161.080002  161.080002  162.139999  159.949997   \n",
       "4 2019-03-07   FFIV  158.990005  158.990005  161.250000  157.910004   \n",
       "\n",
       "         Open  Volume  Prev_close  Close_change  \n",
       "0  167.600006  756400         NaN      0.000000  \n",
       "1  166.970001  553700  166.529999     -3.240005  \n",
       "2  163.240005  511300  163.289993     -1.139999  \n",
       "3  161.919998  527000  162.149994     -1.069992  \n",
       "4  160.630005  783200  161.080002     -2.089996  "
      ]
     },
     "execution_count": 11,
     "metadata": {},
     "output_type": "execute_result"
    }
   ],
   "source": [
    "df_ffiv.head()"
   ]
  },
  {
   "cell_type": "code",
   "execution_count": 12,
   "metadata": {},
   "outputs": [
    {
     "data": {
      "application/vnd.jupyter.widget-view+json": {
       "model_id": "3f37f2a5ce7d4a82abcb12e58ea5f158",
       "version_major": 2,
       "version_minor": 0
      },
      "text/plain": [
       "  0%|          | 0/1324 [00:00<?, ?it/s]"
      ]
     },
     "metadata": {},
     "output_type": "display_data"
    }
   ],
   "source": [
    "rows = []\n",
    "for _,row in tqdm(df_ffiv.iterrows(), total=df_ffiv.shape[0]):\n",
    "    row_data = dict(\n",
    "        day = row.Date.day,\n",
    "        month = row.Date.month,\n",
    "        year = row.Date.year,\n",
    "        open = row.Open,\n",
    "        low = row.Close,\n",
    "        high = row.High, \n",
    "        close = row.Close, \n",
    "        volume = row.Volume,\n",
    "        close_change = row.Close_change\n",
    "    )\n",
    "    rows.append(row_data)\n",
    "features_ffiv = pd.DataFrame(rows)"
   ]
  },
  {
   "cell_type": "code",
   "execution_count": 13,
   "metadata": {},
   "outputs": [
    {
     "data": {
      "text/html": [
       "<div>\n",
       "<style scoped>\n",
       "    .dataframe tbody tr th:only-of-type {\n",
       "        vertical-align: middle;\n",
       "    }\n",
       "\n",
       "    .dataframe tbody tr th {\n",
       "        vertical-align: top;\n",
       "    }\n",
       "\n",
       "    .dataframe thead th {\n",
       "        text-align: right;\n",
       "    }\n",
       "</style>\n",
       "<table border=\"1\" class=\"dataframe\">\n",
       "  <thead>\n",
       "    <tr style=\"text-align: right;\">\n",
       "      <th></th>\n",
       "      <th>day</th>\n",
       "      <th>month</th>\n",
       "      <th>year</th>\n",
       "      <th>open</th>\n",
       "      <th>low</th>\n",
       "      <th>high</th>\n",
       "      <th>close</th>\n",
       "      <th>volume</th>\n",
       "      <th>close_change</th>\n",
       "    </tr>\n",
       "  </thead>\n",
       "  <tbody>\n",
       "    <tr>\n",
       "      <th>0</th>\n",
       "      <td>1</td>\n",
       "      <td>3</td>\n",
       "      <td>2019</td>\n",
       "      <td>167.600006</td>\n",
       "      <td>166.529999</td>\n",
       "      <td>168.330002</td>\n",
       "      <td>166.529999</td>\n",
       "      <td>756400</td>\n",
       "      <td>0.000000</td>\n",
       "    </tr>\n",
       "    <tr>\n",
       "      <th>1</th>\n",
       "      <td>4</td>\n",
       "      <td>3</td>\n",
       "      <td>2019</td>\n",
       "      <td>166.970001</td>\n",
       "      <td>163.289993</td>\n",
       "      <td>167.289993</td>\n",
       "      <td>163.289993</td>\n",
       "      <td>553700</td>\n",
       "      <td>-3.240005</td>\n",
       "    </tr>\n",
       "    <tr>\n",
       "      <th>2</th>\n",
       "      <td>5</td>\n",
       "      <td>3</td>\n",
       "      <td>2019</td>\n",
       "      <td>163.240005</td>\n",
       "      <td>162.149994</td>\n",
       "      <td>163.399994</td>\n",
       "      <td>162.149994</td>\n",
       "      <td>511300</td>\n",
       "      <td>-1.139999</td>\n",
       "    </tr>\n",
       "    <tr>\n",
       "      <th>3</th>\n",
       "      <td>6</td>\n",
       "      <td>3</td>\n",
       "      <td>2019</td>\n",
       "      <td>161.919998</td>\n",
       "      <td>161.080002</td>\n",
       "      <td>162.139999</td>\n",
       "      <td>161.080002</td>\n",
       "      <td>527000</td>\n",
       "      <td>-1.069992</td>\n",
       "    </tr>\n",
       "    <tr>\n",
       "      <th>4</th>\n",
       "      <td>7</td>\n",
       "      <td>3</td>\n",
       "      <td>2019</td>\n",
       "      <td>160.630005</td>\n",
       "      <td>158.990005</td>\n",
       "      <td>161.250000</td>\n",
       "      <td>158.990005</td>\n",
       "      <td>783200</td>\n",
       "      <td>-2.089996</td>\n",
       "    </tr>\n",
       "  </tbody>\n",
       "</table>\n",
       "</div>"
      ],
      "text/plain": [
       "   day  month  year        open         low        high       close  volume   \n",
       "0    1      3  2019  167.600006  166.529999  168.330002  166.529999  756400  \\\n",
       "1    4      3  2019  166.970001  163.289993  167.289993  163.289993  553700   \n",
       "2    5      3  2019  163.240005  162.149994  163.399994  162.149994  511300   \n",
       "3    6      3  2019  161.919998  161.080002  162.139999  161.080002  527000   \n",
       "4    7      3  2019  160.630005  158.990005  161.250000  158.990005  783200   \n",
       "\n",
       "   close_change  \n",
       "0      0.000000  \n",
       "1     -3.240005  \n",
       "2     -1.139999  \n",
       "3     -1.069992  \n",
       "4     -2.089996  "
      ]
     },
     "execution_count": 13,
     "metadata": {},
     "output_type": "execute_result"
    }
   ],
   "source": [
    "features_ffiv.head()"
   ]
  },
  {
   "cell_type": "code",
   "execution_count": 14,
   "metadata": {},
   "outputs": [],
   "source": [
    "def detect_outlier(df, col):\n",
    "    q1 = np.percentile(df[col], 25)\n",
    "    q3 = np.percentile(df[col], 75)\n",
    "    iqr = q3 - q1\n",
    "    lower_bound = q1 - 1.5 * iqr\n",
    "    upper_bound = q3 + 1.5 * iqr\n",
    "    print(df[(df[col] < lower_bound) | (df[col] > upper_bound)])"
   ]
  },
  {
   "cell_type": "code",
   "execution_count": 15,
   "metadata": {},
   "outputs": [
    {
     "name": "stdout",
     "output_type": "stream",
     "text": [
      "Empty DataFrame\n",
      "Columns: [day, month, year, open, low, high, close, volume, close_change]\n",
      "Index: []\n"
     ]
    }
   ],
   "source": [
    "detect_outlier(features_ffiv, 'close')"
   ]
  },
  {
   "cell_type": "code",
   "execution_count": 16,
   "metadata": {},
   "outputs": [
    {
     "name": "stdout",
     "output_type": "stream",
     "text": [
      "      day  month  year        open         low        high       close   \n",
      "7      12      3  2019  153.639999  149.649994  154.699997  149.649994  \\\n",
      "8      13      3  2019  149.779999  151.750000  153.119995  151.750000   \n",
      "60     28      5  2019  137.850006  136.639999  138.710007  136.639999   \n",
      "73     14      6  2019  140.449997  136.929993  142.330002  136.929993   \n",
      "78     21      6  2019  142.210007  143.729996  143.860001  143.729996   \n",
      "...   ...    ...   ...         ...         ...         ...         ...   \n",
      "1197   30     11  2023  170.130005  171.190002  172.169998  171.190002   \n",
      "1208   15     12  2023  176.919998  177.619995  177.919998  177.619995   \n",
      "1236   29      1  2024  183.789993  185.369995  185.919998  185.369995   \n",
      "1237   30      1  2024  195.009995  186.839996  199.490005  186.839996   \n",
      "1300   30      4  2024  162.250000  165.309998  170.000000  165.309998   \n",
      "\n",
      "       volume  close_change  \n",
      "7     2278500    -12.440002  \n",
      "8     1252400      2.100006  \n",
      "60    1217900     -0.300003  \n",
      "73    1187500     -8.200012  \n",
      "78    1869500      1.440002  \n",
      "...       ...           ...  \n",
      "1197  2644200      1.139999  \n",
      "1208  1293400      0.699997  \n",
      "1236  1156600      1.739990  \n",
      "1237  1780100      1.470001  \n",
      "1300  2061300    -16.820007  \n",
      "\n",
      "[81 rows x 9 columns]\n"
     ]
    }
   ],
   "source": [
    "detect_outlier(features_ffiv, 'volume')"
   ]
  },
  {
   "cell_type": "code",
   "execution_count": 17,
   "metadata": {},
   "outputs": [
    {
     "name": "stdout",
     "output_type": "stream",
     "text": [
      "      day  month  year        open         low        high       close   \n",
      "7      12      3  2019  153.639999  149.649994  154.699997  149.649994  \\\n",
      "73     14      6  2019  140.449997  136.929993  142.330002  136.929993   \n",
      "165    24     10  2019  150.000000  145.940002  153.000000  145.940002   \n",
      "229    28      1  2020  125.040001  126.000000  131.309998  126.000000   \n",
      "257     9      3  2020  114.000000  111.690002  119.639999  111.690002   \n",
      "259    11      3  2020  114.730003  107.800003  115.589996  107.800003   \n",
      "260    12      3  2020  101.089996   98.330002  104.559998   98.330002   \n",
      "261    13      3  2020  103.220001  105.699997  105.779999  105.699997   \n",
      "262    16      3  2020   95.169998   95.660004  100.059998   95.660004   \n",
      "265    19      3  2020   89.059998   98.330002  101.239998   98.330002   \n",
      "270    26      3  2020  105.180000  114.050003  115.349998  114.050003   \n",
      "292    28      4  2020  147.850006  140.860001  153.559998  140.860001   \n",
      "302    12      5  2020  148.699997  140.410004  149.380005  140.410004   \n",
      "323    11      6  2020  144.029999  137.509995  144.029999  137.509995   \n",
      "342     9      7  2020  139.509995  144.820007  145.000000  144.820007   \n",
      "355    28      7  2020  144.750000  137.970001  145.339996  137.970001   \n",
      "419    27     10  2020  131.990005  136.259995  139.789993  136.259995   \n",
      "426     5     11  2020  134.869995  140.850006  141.800003  140.850006   \n",
      "428     9     11  2020  161.000000  154.970001  162.500000  154.970001   \n",
      "435    18     11  2020  161.479996  155.429993  161.479996  155.429993   \n",
      "469     8      1  2021  193.720001  191.240005  200.570007  191.240005   \n",
      "481    27      1  2021  203.500000  201.220001  208.550003  201.220001   \n",
      "522    26      3  2021  201.259995  210.440002  210.449997  210.440002   \n",
      "544    28      4  2021  189.850006  186.699997  191.759995  186.699997   \n",
      "554    12      5  2021  180.429993  174.960007  180.660004  174.960007   \n",
      "606    27      7  2021  206.570007  204.570007  211.949997  204.570007   \n",
      "671    27     10  2021  215.800003  216.020004  225.070007  216.020004   \n",
      "675     2     11  2021  213.179993  222.619995  222.639999  222.619995   \n",
      "699     7     12  2021  228.020004  232.199997  233.529999  232.199997   \n",
      "712    27     12  2021  235.570007  243.320007  243.460007  243.320007   \n",
      "719     5      1  2022  239.360001  232.309998  240.529999  232.309998   \n",
      "727    18      1  2022  232.410004  223.500000  233.399994  223.500000   \n",
      "733    26      1  2022  195.000000  202.490005  207.649994  202.490005   \n",
      "736    31      1  2022  199.190002  207.619995  207.839996  207.619995   \n",
      "747    15      2  2022  195.929993  201.649994  201.779999  201.649994   \n",
      "788    14      4  2022  208.880005  199.529999  210.000000  199.529999   \n",
      "795    26      4  2022  201.089996  193.910004  202.940002  193.910004   \n",
      "796    27      4  2022  172.789993  169.009995  175.860001  169.009995   \n",
      "797    28      4  2022  169.690002  175.910004  177.990005  175.910004   \n",
      "798    29      4  2022  175.669998  167.410004  177.169998  167.410004   \n",
      "802     5      5  2022  175.389999  170.630005  176.080002  170.630005   \n",
      "806    11      5  2022  169.330002  164.020004  171.809998  164.020004   \n",
      "811    18      5  2022  166.979996  161.300003  167.520004  161.300003   \n",
      "880    26      8  2022  167.429993  160.169998  167.429993  160.169998   \n",
      "891    13      9  2022  158.740005  156.059998  159.460007  156.059998   \n",
      "909     7     10  2022  150.949997  144.169998  150.949997  144.169998   \n",
      "922    26     10  2022  140.889999  142.389999  142.820007  142.389999   \n",
      "933    10     11  2022  140.589996  144.740005  144.850006  144.740005   \n",
      "1107   25      7  2023  164.970001  158.979996  167.889999  158.979996   \n",
      "1300   30      4  2024  162.250000  165.309998  170.000000  165.309998   \n",
      "\n",
      "       volume  close_change  \n",
      "7     2278500    -12.440002  \n",
      "73    1187500     -8.200012  \n",
      "165   2154200      7.619995  \n",
      "229   2594700     -6.699997  \n",
      "257   1284600     -7.949997  \n",
      "259   1027700    -10.079994  \n",
      "260   1193200     -9.470001  \n",
      "261   1397900      7.369995  \n",
      "262    907200    -10.039993  \n",
      "265   1127800      7.779999  \n",
      "270   1043700      8.760002  \n",
      "292   4579400      9.940002  \n",
      "302    965000     -8.059998  \n",
      "323    778100     -8.510010  \n",
      "342   1726000     10.660004  \n",
      "355   3898700    -13.270004  \n",
      "419   2650400     10.689995  \n",
      "426    993800      6.850006  \n",
      "428   2187000     10.600006  \n",
      "435    667800     -6.660004  \n",
      "469   1806500     11.139999  \n",
      "481   3259400     -7.339996  \n",
      "522    817200      9.139999  \n",
      "544   3111500    -18.639999  \n",
      "554    648000     -7.639999  \n",
      "606   1868300     11.950012  \n",
      "671   1509700     12.120010  \n",
      "675    835900      7.500000  \n",
      "699    462200      7.610001  \n",
      "712    330100      8.480011  \n",
      "719    403300     -7.589996  \n",
      "727    641600    -12.630005  \n",
      "733   5232700    -18.649994  \n",
      "736   1192200      8.110001  \n",
      "747    551100      7.849991  \n",
      "788    438400     -9.580002  \n",
      "795   1040200     -9.089996  \n",
      "796   2619800    -24.900009  \n",
      "797   1148300      6.900009  \n",
      "798    840400     -8.500000  \n",
      "802    698900     -7.289993  \n",
      "806    712500     -6.610001  \n",
      "811    681800     -7.779999  \n",
      "880    351600     -7.259995  \n",
      "891    437600     -7.010010  \n",
      "909    591200     -8.070007  \n",
      "922   2176200    -11.080002  \n",
      "933    577600     10.490005  \n",
      "1107  2490200      8.769989  \n",
      "1300  2061300    -16.820007  \n"
     ]
    }
   ],
   "source": [
    "detect_outlier(features_ffiv, 'close_change')"
   ]
  },
  {
   "cell_type": "code",
   "execution_count": 18,
   "metadata": {},
   "outputs": [],
   "source": [
    "train_size = int(0.7 * len(features_ffiv))\n",
    "test_size = len(features_ffiv)-train_size\n",
    "\n",
    "train_ffiv_df = features_ffiv[:train_size]\n",
    "test_ffiv_df = features_ffiv[train_size:]"
   ]
  },
  {
   "cell_type": "code",
   "execution_count": 19,
   "metadata": {
    "colab": {
     "base_uri": "https://localhost:8080/"
    },
    "executionInfo": {
     "elapsed": 5,
     "status": "ok",
     "timestamp": 1714850103883,
     "user": {
      "displayName": "DAO NGUYỄN THỊ BÍCH",
      "userId": "07070364028547772837"
     },
     "user_tz": -420
    },
    "id": "hxP-u3dnAkxl",
    "outputId": "8a8f72d6-ca49-491f-fe0c-67cd4289eb3a"
   },
   "outputs": [
    {
     "name": "stdout",
     "output_type": "stream",
     "text": [
      "Hệ số hồi quy (slope): [0.06941155]\n",
      "Sai số chệch (intercept): 133.21643540176993\n"
     ]
    }
   ],
   "source": [
    "#Quá trình Training\n",
    "x_train = np.array(train_ffiv_df.index).reshape(-1, 1)\n",
    "y_train = np.array(train_ffiv_df['close'])\n",
    "# Train the linear regression model\n",
    "model = LinearRegression()\n",
    "model.fit(x_train, y_train)\n",
    "# In các thông số của mô hình\n",
    "print(\"Hệ số hồi quy (slope):\", model.coef_)\n",
    "print(\"Sai số chệch (intercept):\", model.intercept_)"
   ]
  },
  {
   "cell_type": "code",
   "execution_count": 20,
   "metadata": {},
   "outputs": [],
   "source": [
    "#Quá trình testing\n",
    "x_test = np.array(test_ffiv_df.index).reshape(-1, 1)\n",
    "y_test = np.array(test_ffiv_df['close'])\n",
    "y_pred = model.predict(x_test)"
   ]
  },
  {
   "cell_type": "code",
   "execution_count": 21,
   "metadata": {},
   "outputs": [
    {
     "name": "stdout",
     "output_type": "stream",
     "text": [
      "Predicted closing prices for the next 30 days:\n",
      "[225.11732531 225.18673686 225.25614841 225.32555995 225.3949715\n",
      " 225.46438305 225.5337946  225.60320615 225.6726177  225.74202924\n",
      " 225.81144079 225.88085234 225.95026389 226.01967544 226.08908698\n",
      " 226.15849853 226.22791008 226.29732163 226.36673318 226.43614473\n",
      " 226.50555627 226.57496782 226.64437937 226.71379092 226.78320247\n",
      " 226.85261402 226.92202556 226.99143711 227.06084866 227.13026021]\n"
     ]
    }
   ],
   "source": [
    "#Quá trình tạo index predict 30 ngày tiếp theo\n",
    "last_index = features_ffiv.index[-1]\n",
    "last_30_data = pd.RangeIndex(start=last_index, stop=last_index+30, step=1)\n",
    "\n",
    "# Create an array of 30 consecutive integers starting from last_index\n",
    "x_next_30_days = np.array(range(last_index+1, last_index+31)).reshape(-1, 1)\n",
    "\n",
    "# Predict the closing prices for the next 30 days\n",
    "y_next_30_days = model.predict(x_next_30_days)\n",
    "\n",
    "# Print the predicted closing prices for the next 30 days\n",
    "print('Predicted closing prices for the next 30 days:')\n",
    "print(y_next_30_days)"
   ]
  },
  {
   "cell_type": "code",
   "execution_count": 22,
   "metadata": {},
   "outputs": [
    {
     "name": "stdout",
     "output_type": "stream",
     "text": [
      "Predicted closing prices for the next 60 days:\n",
      "[225.11732531 225.18673686 225.25614841 225.32555995 225.3949715\n",
      " 225.46438305 225.5337946  225.60320615 225.6726177  225.74202924\n",
      " 225.81144079 225.88085234 225.95026389 226.01967544 226.08908698\n",
      " 226.15849853 226.22791008 226.29732163 226.36673318 226.43614473\n",
      " 226.50555627 226.57496782 226.64437937 226.71379092 226.78320247\n",
      " 226.85261402 226.92202556 226.99143711 227.06084866 227.13026021\n",
      " 227.19967176 227.26908331 227.33849485 227.4079064  227.47731795\n",
      " 227.5467295  227.61614105 227.68555259 227.75496414 227.82437569\n",
      " 227.89378724 227.96319879 228.03261034 228.10202188 228.17143343\n",
      " 228.24084498 228.31025653 228.37966808 228.44907963 228.51849117\n",
      " 228.58790272 228.65731427 228.72672582 228.79613737 228.86554892\n",
      " 228.93496046 229.00437201 229.07378356 229.14319511 229.21260666]\n"
     ]
    }
   ],
   "source": [
    "#Quá trình tạo index predict 60 ngày tiếp theo\n",
    "last_index = features_ffiv.index[-1]\n",
    "last_60_data = pd.RangeIndex(start=last_index, stop=last_index+60, step=1)\n",
    "\n",
    "# Create an array of 60 consecutive integers starting from last_index\n",
    "x_next_60_days = np.array(range(last_index+1, last_index+61)).reshape(-1, 1)\n",
    "\n",
    "# Predict the closing prices for the next 60 days\n",
    "y_next_60_days = model.predict(x_next_60_days)\n",
    "\n",
    "# Print the predicted closing prices for the next 60 days\n",
    "print('Predicted closing prices for the next 60 days:')\n",
    "print(y_next_60_days)"
   ]
  },
  {
   "cell_type": "code",
   "execution_count": 23,
   "metadata": {},
   "outputs": [
    {
     "name": "stdout",
     "output_type": "stream",
     "text": [
      "Predicted closing prices for the next 90 days:\n",
      "[225.11732531 225.18673686 225.25614841 225.32555995 225.3949715\n",
      " 225.46438305 225.5337946  225.60320615 225.6726177  225.74202924\n",
      " 225.81144079 225.88085234 225.95026389 226.01967544 226.08908698\n",
      " 226.15849853 226.22791008 226.29732163 226.36673318 226.43614473\n",
      " 226.50555627 226.57496782 226.64437937 226.71379092 226.78320247\n",
      " 226.85261402 226.92202556 226.99143711 227.06084866 227.13026021\n",
      " 227.19967176 227.26908331 227.33849485 227.4079064  227.47731795\n",
      " 227.5467295  227.61614105 227.68555259 227.75496414 227.82437569\n",
      " 227.89378724 227.96319879 228.03261034 228.10202188 228.17143343\n",
      " 228.24084498 228.31025653 228.37966808 228.44907963 228.51849117\n",
      " 228.58790272 228.65731427 228.72672582 228.79613737 228.86554892\n",
      " 228.93496046 229.00437201 229.07378356 229.14319511 229.21260666\n",
      " 229.28201821 229.35142975 229.4208413  229.49025285 229.5596644\n",
      " 229.62907595 229.69848749 229.76789904 229.83731059 229.90672214\n",
      " 229.97613369 230.04554524 230.11495678 230.18436833 230.25377988\n",
      " 230.32319143 230.39260298 230.46201453 230.53142607 230.60083762\n",
      " 230.67024917 230.73966072 230.80907227 230.87848382 230.94789536\n",
      " 231.01730691 231.08671846 231.15613001 231.22554156 231.2949531 ]\n"
     ]
    }
   ],
   "source": [
    "#Quá trình tạo index predict 90 ngày tiếp theo\n",
    "last_index = features_ffiv.index[-1]\n",
    "last_90_data = pd.RangeIndex(start=last_index, stop=last_index+90, step=1)\n",
    "\n",
    "# Create an array of 90 consecutive integers starting from last_index\n",
    "x_next_90_days = np.array(range(last_index+1, last_index+91)).reshape(-1, 1)\n",
    "\n",
    "# Predict the closing prices for the next 30 days\n",
    "y_next_90_days = model.predict(x_next_90_days)\n",
    "\n",
    "# Print the predicted closing prices for the next 90 days\n",
    "print('Predicted closing prices for the next 90 days:')\n",
    "print(y_next_90_days)"
   ]
  },
  {
   "cell_type": "code",
   "execution_count": 24,
   "metadata": {},
   "outputs": [
    {
     "name": "stdout",
     "output_type": "stream",
     "text": [
      "Testing RMSE: 53.36860761459759\n",
      "Testing MAE: 52.21876654657142\n",
      "Testing MAPE: 0.33837121195321435\n"
     ]
    }
   ],
   "source": [
    "#Evaluating algorithm accuracy using\n",
    "#RMSE\n",
    "test_rmse = np.sqrt(np.mean((y_pred - y_test)**2))\n",
    "print('Testing RMSE:', test_rmse)\n",
    "\n",
    "#MAE\n",
    "from sklearn.metrics import mean_absolute_error\n",
    "test_mae = mean_absolute_error(y_test, y_pred)\n",
    "print('Testing MAE:', test_mae)\n",
    "\n",
    "#MAPE\n",
    "from sklearn.metrics import mean_absolute_percentage_error\n",
    "test_mape = mean_absolute_percentage_error(y_test, y_pred)\n",
    "print('Testing MAPE:', test_mape)"
   ]
  },
  {
   "cell_type": "code",
   "execution_count": 25,
   "metadata": {
    "colab": {
     "base_uri": "https://localhost:8080/",
     "height": 472
    },
    "executionInfo": {
     "elapsed": 743,
     "status": "ok",
     "timestamp": 1714850112013,
     "user": {
      "displayName": "DAO NGUYỄN THỊ BÍCH",
      "userId": "07070364028547772837"
     },
     "user_tz": -420
    },
    "id": "UKurQJg4BFbo",
    "outputId": "4d052be6-32c1-4bec-ee34-52c9cc2c5484"
   },
   "outputs": [
    {
     "data": {
      "image/png": "[encoded data removed]",
      "text/plain": [
       "<Figure size 640x480 with 1 Axes>"
      ]
     },
     "metadata": {},
     "output_type": "display_data"
    }
   ],
   "source": [
    "#Vẽ hình\n",
    "plt.plot(train_ffiv_df.index, train_ffiv_df['close'])\n",
    "plt.plot(test_ffiv_df.index, test_ffiv_df['close'])\n",
    "plt.plot(test_ffiv_df.index, y_pred)\n",
    "plt.plot(last_30_data,y_next_30_days)\n",
    "plt.plot(last_60_data,y_next_60_days)\n",
    "plt.plot(last_90_data,y_next_90_days)\n",
    "plt.legend(['Train', 'Test', 'Predictions','Next30Day','Next60Day','Next90Day'])\n",
    "plt.show()"
   ]
  },
  {
   "cell_type": "code",
   "execution_count": null,
   "metadata": {
    "id": "5MQqHxNKCMLj"
   },
   "outputs": [],
   "source": []
  }
 ],
 "metadata": {
  "colab": {
   "authorship_tag": "ABX9TyP8XXbeJnGqPojNMs2qoLp0",
   "provenance": []
  },
  "kernelspec": {
   "display_name": "Python 3 (ipykernel)",
   "language": "python",
   "name": "python3"
  },
  "language_info": {
   "codemirror_mode": {
    "name": "ipython",
    "version": 3
   },
   "file_extension": ".py",
   "mimetype": "text/x-python",
   "name": "python",
   "nbconvert_exporter": "python",
   "pygments_lexer": "ipython3",
   "version": "3.11.3"
  }
 },
 "nbformat": 4,
 "nbformat_minor": 4
}
