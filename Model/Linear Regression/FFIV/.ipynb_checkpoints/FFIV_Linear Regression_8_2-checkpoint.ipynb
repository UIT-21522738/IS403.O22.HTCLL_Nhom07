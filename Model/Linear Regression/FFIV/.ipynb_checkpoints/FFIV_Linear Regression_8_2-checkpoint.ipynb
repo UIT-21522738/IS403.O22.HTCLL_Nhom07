{
 "cells": [
  {
   "cell_type": "code",
   "execution_count": 1,
   "metadata": {
    "executionInfo": {
     "elapsed": 3725,
     "status": "ok",
     "timestamp": 1714849624982,
     "user": {
      "displayName": "DAO NGUYỄN THỊ BÍCH",
      "userId": "07070364028547772837"
     },
     "user_tz": -420
    },
    "id": "Aj8QUSkdwe9L"
   },
   "outputs": [],
   "source": [
    "import pandas as pd\n",
    "import numpy as np\n",
    "from scipy import stats\n",
    "import statsmodels.api as sm\n",
    "import matplotlib.pyplot as plt\n",
    "from sklearn.linear_model import LinearRegression\n",
    "from sklearn.preprocessing import MinMaxScaler\n",
    "from sklearn.preprocessing import StandardScaler\n",
    "from tqdm.notebook import tqdm\n",
    "tqdm.pandas()"
   ]
  },
  {
   "cell_type": "code",
   "execution_count": 2,
   "metadata": {
    "colab": {
     "base_uri": "https://localhost:8080/",
     "height": 71
    },
    "executionInfo": {
     "elapsed": 7479,
     "status": "ok",
     "timestamp": 1714850045131,
     "user": {
      "displayName": "DAO NGUYỄN THỊ BÍCH",
      "userId": "07070364028547772837"
     },
     "user_tz": -420
    },
    "id": "b2zApkhTAJjD",
    "outputId": "1609ae67-62b8-4db0-bfe4-32f85514705b"
   },
   "outputs": [],
   "source": [
    "csv_ffiv = \"C:/Business analysis/Project/IS403.O22.HTCLL_Nhom07/Dataset/ffiv_Stock.csv\"\n",
    "df_ffiv = pd.read_csv(csv_ffiv, thousands=',')"
   ]
  },
  {
   "cell_type": "code",
   "execution_count": 3,
   "metadata": {},
   "outputs": [
    {
     "data": {
      "text/html": [
       "<div>\n",
       "<style scoped>\n",
       "    .dataframe tbody tr th:only-of-type {\n",
       "        vertical-align: middle;\n",
       "    }\n",
       "\n",
       "    .dataframe tbody tr th {\n",
       "        vertical-align: top;\n",
       "    }\n",
       "\n",
       "    .dataframe thead th {\n",
       "        text-align: right;\n",
       "    }\n",
       "</style>\n",
       "<table border=\"1\" class=\"dataframe\">\n",
       "  <thead>\n",
       "    <tr style=\"text-align: right;\">\n",
       "      <th></th>\n",
       "      <th>Date</th>\n",
       "      <th>Symbol</th>\n",
       "      <th>Adj Close</th>\n",
       "      <th>Close</th>\n",
       "      <th>High</th>\n",
       "      <th>Low</th>\n",
       "      <th>Open</th>\n",
       "      <th>Volume</th>\n",
       "    </tr>\n",
       "  </thead>\n",
       "  <tbody>\n",
       "    <tr>\n",
       "      <th>0</th>\n",
       "      <td>3/1/2019</td>\n",
       "      <td>FFIV</td>\n",
       "      <td>166.529999</td>\n",
       "      <td>166.529999</td>\n",
       "      <td>168.330002</td>\n",
       "      <td>165.419998</td>\n",
       "      <td>167.600006</td>\n",
       "      <td>756400</td>\n",
       "    </tr>\n",
       "    <tr>\n",
       "      <th>1</th>\n",
       "      <td>3/4/2019</td>\n",
       "      <td>FFIV</td>\n",
       "      <td>163.289993</td>\n",
       "      <td>163.289993</td>\n",
       "      <td>167.289993</td>\n",
       "      <td>161.710007</td>\n",
       "      <td>166.970001</td>\n",
       "      <td>553700</td>\n",
       "    </tr>\n",
       "    <tr>\n",
       "      <th>2</th>\n",
       "      <td>3/5/2019</td>\n",
       "      <td>FFIV</td>\n",
       "      <td>162.149994</td>\n",
       "      <td>162.149994</td>\n",
       "      <td>163.399994</td>\n",
       "      <td>161.970001</td>\n",
       "      <td>163.240005</td>\n",
       "      <td>511300</td>\n",
       "    </tr>\n",
       "    <tr>\n",
       "      <th>3</th>\n",
       "      <td>3/6/2019</td>\n",
       "      <td>FFIV</td>\n",
       "      <td>161.080002</td>\n",
       "      <td>161.080002</td>\n",
       "      <td>162.139999</td>\n",
       "      <td>159.949997</td>\n",
       "      <td>161.919998</td>\n",
       "      <td>527000</td>\n",
       "    </tr>\n",
       "    <tr>\n",
       "      <th>4</th>\n",
       "      <td>3/7/2019</td>\n",
       "      <td>FFIV</td>\n",
       "      <td>158.990005</td>\n",
       "      <td>158.990005</td>\n",
       "      <td>161.250000</td>\n",
       "      <td>157.910004</td>\n",
       "      <td>160.630005</td>\n",
       "      <td>783200</td>\n",
       "    </tr>\n",
       "  </tbody>\n",
       "</table>\n",
       "</div>"
      ],
      "text/plain": [
       "       Date Symbol   Adj Close       Close        High         Low   \n",
       "0  3/1/2019   FFIV  166.529999  166.529999  168.330002  165.419998  \\\n",
       "1  3/4/2019   FFIV  163.289993  163.289993  167.289993  161.710007   \n",
       "2  3/5/2019   FFIV  162.149994  162.149994  163.399994  161.970001   \n",
       "3  3/6/2019   FFIV  161.080002  161.080002  162.139999  159.949997   \n",
       "4  3/7/2019   FFIV  158.990005  158.990005  161.250000  157.910004   \n",
       "\n",
       "         Open  Volume  \n",
       "0  167.600006  756400  \n",
       "1  166.970001  553700  \n",
       "2  163.240005  511300  \n",
       "3  161.919998  527000  \n",
       "4  160.630005  783200  "
      ]
     },
     "execution_count": 3,
     "metadata": {},
     "output_type": "execute_result"
    }
   ],
   "source": [
    "df_ffiv.head()"
   ]
  },
  {
   "cell_type": "code",
   "execution_count": 4,
   "metadata": {},
   "outputs": [
    {
     "data": {
      "text/html": [
       "<div>\n",
       "<style scoped>\n",
       "    .dataframe tbody tr th:only-of-type {\n",
       "        vertical-align: middle;\n",
       "    }\n",
       "\n",
       "    .dataframe tbody tr th {\n",
       "        vertical-align: top;\n",
       "    }\n",
       "\n",
       "    .dataframe thead th {\n",
       "        text-align: right;\n",
       "    }\n",
       "</style>\n",
       "<table border=\"1\" class=\"dataframe\">\n",
       "  <thead>\n",
       "    <tr style=\"text-align: right;\">\n",
       "      <th></th>\n",
       "      <th>Adj Close</th>\n",
       "      <th>Close</th>\n",
       "      <th>High</th>\n",
       "      <th>Low</th>\n",
       "      <th>Open</th>\n",
       "      <th>Volume</th>\n",
       "    </tr>\n",
       "  </thead>\n",
       "  <tbody>\n",
       "    <tr>\n",
       "      <th>count</th>\n",
       "      <td>1324.000000</td>\n",
       "      <td>1324.000000</td>\n",
       "      <td>1324.000000</td>\n",
       "      <td>1324.000000</td>\n",
       "      <td>1324.000000</td>\n",
       "      <td>1.324000e+03</td>\n",
       "    </tr>\n",
       "    <tr>\n",
       "      <th>mean</th>\n",
       "      <td>163.434992</td>\n",
       "      <td>163.434992</td>\n",
       "      <td>165.268542</td>\n",
       "      <td>161.482228</td>\n",
       "      <td>163.397160</td>\n",
       "      <td>6.147710e+05</td>\n",
       "    </tr>\n",
       "    <tr>\n",
       "      <th>std</th>\n",
       "      <td>29.329932</td>\n",
       "      <td>29.329932</td>\n",
       "      <td>29.577160</td>\n",
       "      <td>29.115418</td>\n",
       "      <td>29.336975</td>\n",
       "      <td>3.981027e+05</td>\n",
       "    </tr>\n",
       "    <tr>\n",
       "      <th>min</th>\n",
       "      <td>90.550003</td>\n",
       "      <td>90.550003</td>\n",
       "      <td>93.830002</td>\n",
       "      <td>79.779999</td>\n",
       "      <td>88.750000</td>\n",
       "      <td>1.205000e+05</td>\n",
       "    </tr>\n",
       "    <tr>\n",
       "      <th>25%</th>\n",
       "      <td>141.537506</td>\n",
       "      <td>141.537506</td>\n",
       "      <td>143.384998</td>\n",
       "      <td>139.952503</td>\n",
       "      <td>141.632496</td>\n",
       "      <td>3.971500e+05</td>\n",
       "    </tr>\n",
       "    <tr>\n",
       "      <th>50%</th>\n",
       "      <td>155.590004</td>\n",
       "      <td>155.590004</td>\n",
       "      <td>157.345001</td>\n",
       "      <td>154.154999</td>\n",
       "      <td>156.070000</td>\n",
       "      <td>5.293500e+05</td>\n",
       "    </tr>\n",
       "    <tr>\n",
       "      <th>75%</th>\n",
       "      <td>186.022503</td>\n",
       "      <td>186.022503</td>\n",
       "      <td>187.654995</td>\n",
       "      <td>184.379997</td>\n",
       "      <td>186.260002</td>\n",
       "      <td>6.974750e+05</td>\n",
       "    </tr>\n",
       "    <tr>\n",
       "      <th>max</th>\n",
       "      <td>247.779999</td>\n",
       "      <td>247.779999</td>\n",
       "      <td>249.000000</td>\n",
       "      <td>245.899994</td>\n",
       "      <td>247.779999</td>\n",
       "      <td>5.232700e+06</td>\n",
       "    </tr>\n",
       "  </tbody>\n",
       "</table>\n",
       "</div>"
      ],
      "text/plain": [
       "         Adj Close        Close         High          Low         Open   \n",
       "count  1324.000000  1324.000000  1324.000000  1324.000000  1324.000000  \\\n",
       "mean    163.434992   163.434992   165.268542   161.482228   163.397160   \n",
       "std      29.329932    29.329932    29.577160    29.115418    29.336975   \n",
       "min      90.550003    90.550003    93.830002    79.779999    88.750000   \n",
       "25%     141.537506   141.537506   143.384998   139.952503   141.632496   \n",
       "50%     155.590004   155.590004   157.345001   154.154999   156.070000   \n",
       "75%     186.022503   186.022503   187.654995   184.379997   186.260002   \n",
       "max     247.779999   247.779999   249.000000   245.899994   247.779999   \n",
       "\n",
       "             Volume  \n",
       "count  1.324000e+03  \n",
       "mean   6.147710e+05  \n",
       "std    3.981027e+05  \n",
       "min    1.205000e+05  \n",
       "25%    3.971500e+05  \n",
       "50%    5.293500e+05  \n",
       "75%    6.974750e+05  \n",
       "max    5.232700e+06  "
      ]
     },
     "execution_count": 4,
     "metadata": {},
     "output_type": "execute_result"
    }
   ],
   "source": [
    "df_ffiv.describe()"
   ]
  },
  {
   "cell_type": "code",
   "execution_count": 5,
   "metadata": {},
   "outputs": [
    {
     "name": "stdout",
     "output_type": "stream",
     "text": [
      "<class 'pandas.core.frame.DataFrame'>\n",
      "RangeIndex: 1324 entries, 0 to 1323\n",
      "Data columns (total 8 columns):\n",
      " #   Column     Non-Null Count  Dtype  \n",
      "---  ------     --------------  -----  \n",
      " 0   Date       1324 non-null   object \n",
      " 1   Symbol     1324 non-null   object \n",
      " 2   Adj Close  1324 non-null   float64\n",
      " 3   Close      1324 non-null   float64\n",
      " 4   High       1324 non-null   float64\n",
      " 5   Low        1324 non-null   float64\n",
      " 6   Open       1324 non-null   float64\n",
      " 7   Volume     1324 non-null   int64  \n",
      "dtypes: float64(5), int64(1), object(2)\n",
      "memory usage: 82.9+ KB\n"
     ]
    }
   ],
   "source": [
    "df_ffiv.info()"
   ]
  },
  {
   "cell_type": "code",
   "execution_count": 6,
   "metadata": {},
   "outputs": [
    {
     "name": "stdout",
     "output_type": "stream",
     "text": [
      "<class 'pandas.core.frame.DataFrame'>\n",
      "RangeIndex: 1324 entries, 0 to 1323\n",
      "Data columns (total 8 columns):\n",
      " #   Column     Non-Null Count  Dtype         \n",
      "---  ------     --------------  -----         \n",
      " 0   Date       1324 non-null   datetime64[ns]\n",
      " 1   Symbol     1324 non-null   object        \n",
      " 2   Adj Close  1324 non-null   float64       \n",
      " 3   Close      1324 non-null   float64       \n",
      " 4   High       1324 non-null   float64       \n",
      " 5   Low        1324 non-null   float64       \n",
      " 6   Open       1324 non-null   float64       \n",
      " 7   Volume     1324 non-null   int64         \n",
      "dtypes: datetime64[ns](1), float64(5), int64(1), object(1)\n",
      "memory usage: 82.9+ KB\n"
     ]
    }
   ],
   "source": [
    "# Convert object to datetime64\n",
    "df_ffiv['Date'] = df_ffiv['Date'].apply(pd.to_datetime)\n",
    "# Sort data by date time value\n",
    "df_ffiv = df_ffiv.sort_values(by=\"Date\").reset_index(drop=True)\n",
    "df_ffiv.info()"
   ]
  },
  {
   "cell_type": "code",
   "execution_count": 7,
   "metadata": {},
   "outputs": [
    {
     "data": {
      "text/plain": [
       "0       166.529999\n",
       "1       163.289993\n",
       "2       162.149994\n",
       "3       161.080002\n",
       "4       158.990005\n",
       "           ...    \n",
       "1319    168.339996\n",
       "1320    168.229996\n",
       "1321    167.300003\n",
       "1322    168.970001\n",
       "1323    166.910004\n",
       "Name: Close, Length: 1324, dtype: float64"
      ]
     },
     "execution_count": 7,
     "metadata": {},
     "output_type": "execute_result"
    }
   ],
   "source": [
    "df_ffiv.Close"
   ]
  },
  {
   "cell_type": "code",
   "execution_count": 8,
   "metadata": {},
   "outputs": [
    {
     "data": {
      "application/vnd.jupyter.widget-view+json": {
       "model_id": "90d7965503c140108662e9f9c3566221",
       "version_major": 2,
       "version_minor": 0
      },
      "text/plain": [
       "  0%|          | 0/1324 [00:00<?, ?it/s]"
      ]
     },
     "metadata": {},
     "output_type": "display_data"
    }
   ],
   "source": [
    "rows = []\n",
    "for _,row in tqdm(df_ffiv.iterrows(), total=df_ffiv.shape[0]):\n",
    "    row_data = dict(\n",
    "        day = row.Date.day,\n",
    "        month = row.Date.month,\n",
    "        year = row.Date.year,\n",
    "        open = row.Open,\n",
    "        low = row.Close,\n",
    "        high = row.High, \n",
    "        close = row.Close, \n",
    "        volume = row.Volume\n",
    "    )\n",
    "    rows.append(row_data)\n",
    "features_ffiv = pd.DataFrame(rows)"
   ]
  },
  {
   "cell_type": "code",
   "execution_count": 9,
   "metadata": {},
   "outputs": [
    {
     "data": {
      "text/html": [
       "<div>\n",
       "<style scoped>\n",
       "    .dataframe tbody tr th:only-of-type {\n",
       "        vertical-align: middle;\n",
       "    }\n",
       "\n",
       "    .dataframe tbody tr th {\n",
       "        vertical-align: top;\n",
       "    }\n",
       "\n",
       "    .dataframe thead th {\n",
       "        text-align: right;\n",
       "    }\n",
       "</style>\n",
       "<table border=\"1\" class=\"dataframe\">\n",
       "  <thead>\n",
       "    <tr style=\"text-align: right;\">\n",
       "      <th></th>\n",
       "      <th>day</th>\n",
       "      <th>month</th>\n",
       "      <th>year</th>\n",
       "      <th>open</th>\n",
       "      <th>low</th>\n",
       "      <th>high</th>\n",
       "      <th>close</th>\n",
       "      <th>volume</th>\n",
       "    </tr>\n",
       "  </thead>\n",
       "  <tbody>\n",
       "    <tr>\n",
       "      <th>0</th>\n",
       "      <td>1</td>\n",
       "      <td>3</td>\n",
       "      <td>2019</td>\n",
       "      <td>167.600006</td>\n",
       "      <td>166.529999</td>\n",
       "      <td>168.330002</td>\n",
       "      <td>166.529999</td>\n",
       "      <td>756400</td>\n",
       "    </tr>\n",
       "    <tr>\n",
       "      <th>1</th>\n",
       "      <td>4</td>\n",
       "      <td>3</td>\n",
       "      <td>2019</td>\n",
       "      <td>166.970001</td>\n",
       "      <td>163.289993</td>\n",
       "      <td>167.289993</td>\n",
       "      <td>163.289993</td>\n",
       "      <td>553700</td>\n",
       "    </tr>\n",
       "    <tr>\n",
       "      <th>2</th>\n",
       "      <td>5</td>\n",
       "      <td>3</td>\n",
       "      <td>2019</td>\n",
       "      <td>163.240005</td>\n",
       "      <td>162.149994</td>\n",
       "      <td>163.399994</td>\n",
       "      <td>162.149994</td>\n",
       "      <td>511300</td>\n",
       "    </tr>\n",
       "    <tr>\n",
       "      <th>3</th>\n",
       "      <td>6</td>\n",
       "      <td>3</td>\n",
       "      <td>2019</td>\n",
       "      <td>161.919998</td>\n",
       "      <td>161.080002</td>\n",
       "      <td>162.139999</td>\n",
       "      <td>161.080002</td>\n",
       "      <td>527000</td>\n",
       "    </tr>\n",
       "    <tr>\n",
       "      <th>4</th>\n",
       "      <td>7</td>\n",
       "      <td>3</td>\n",
       "      <td>2019</td>\n",
       "      <td>160.630005</td>\n",
       "      <td>158.990005</td>\n",
       "      <td>161.250000</td>\n",
       "      <td>158.990005</td>\n",
       "      <td>783200</td>\n",
       "    </tr>\n",
       "  </tbody>\n",
       "</table>\n",
       "</div>"
      ],
      "text/plain": [
       "   day  month  year        open         low        high       close  volume\n",
       "0    1      3  2019  167.600006  166.529999  168.330002  166.529999  756400\n",
       "1    4      3  2019  166.970001  163.289993  167.289993  163.289993  553700\n",
       "2    5      3  2019  163.240005  162.149994  163.399994  162.149994  511300\n",
       "3    6      3  2019  161.919998  161.080002  162.139999  161.080002  527000\n",
       "4    7      3  2019  160.630005  158.990005  161.250000  158.990005  783200"
      ]
     },
     "execution_count": 9,
     "metadata": {},
     "output_type": "execute_result"
    }
   ],
   "source": [
    "features_ffiv.head()"
   ]
  },
  {
   "cell_type": "code",
   "execution_count": 10,
   "metadata": {},
   "outputs": [],
   "source": [
    "def detect_outlier(df, col):\n",
    "    q1 = np.percentile(df[col], 25)\n",
    "    q3 = np.percentile(df[col], 75)\n",
    "    iqr = q3 - q1\n",
    "    lower_bound = q1 - 1.5 * iqr\n",
    "    upper_bound = q3 + 1.5 * iqr\n",
    "    print(df[(df[col] < lower_bound) | (df[col] > upper_bound)])"
   ]
  },
  {
   "cell_type": "code",
   "execution_count": 11,
   "metadata": {},
   "outputs": [
    {
     "name": "stdout",
     "output_type": "stream",
     "text": [
      "Empty DataFrame\n",
      "Columns: [day, month, year, open, low, high, close, volume]\n",
      "Index: []\n"
     ]
    }
   ],
   "source": [
    "detect_outlier(features_ffiv, 'close')"
   ]
  },
  {
   "cell_type": "code",
   "execution_count": 12,
   "metadata": {},
   "outputs": [],
   "source": [
    "train_size = int(0.8 * len(features_ffiv))\n",
    "test_size = len(features_ffiv)-train_size\n",
    "\n",
    "train_ffiv_df = features_ffiv[:train_size]\n",
    "test_ffiv_df = features_ffiv[train_size:]"
   ]
  },
  {
   "cell_type": "code",
   "execution_count": 13,
   "metadata": {
    "colab": {
     "base_uri": "https://localhost:8080/"
    },
    "executionInfo": {
     "elapsed": 5,
     "status": "ok",
     "timestamp": 1714850103883,
     "user": {
      "displayName": "DAO NGUYỄN THỊ BÍCH",
      "userId": "07070364028547772837"
     },
     "user_tz": -420
    },
    "id": "hxP-u3dnAkxl",
    "outputId": "8a8f72d6-ca49-491f-fe0c-67cd4289eb3a"
   },
   "outputs": [
    {
     "name": "stdout",
     "output_type": "stream",
     "text": [
      "Hệ số hồi quy (slope): [0.0328422]\n",
      "Sai số chệch (intercept): 145.24223649286094\n"
     ]
    }
   ],
   "source": [
    "#Quá trình Training\n",
    "x_train = np.array(train_ffiv_df.index).reshape(-1, 1)\n",
    "y_train = np.array(train_ffiv_df['close'])\n",
    "# Train the linear regression model\n",
    "model = LinearRegression()\n",
    "model.fit(x_train, y_train)\n",
    "# In các thông số của mô hình\n",
    "print(\"Hệ số hồi quy (slope):\", model.coef_)\n",
    "print(\"Sai số chệch (intercept):\", model.intercept_)"
   ]
  },
  {
   "cell_type": "code",
   "execution_count": 14,
   "metadata": {},
   "outputs": [],
   "source": [
    "#Quá trình testing\n",
    "x_test = np.array(test_ffiv_df.index).reshape(-1, 1)\n",
    "y_test = np.array(test_ffiv_df['close'])\n",
    "y_pred = model.predict(x_test)"
   ]
  },
  {
   "cell_type": "code",
   "execution_count": 15,
   "metadata": {},
   "outputs": [
    {
     "name": "stdout",
     "output_type": "stream",
     "text": [
      "Predicted closing prices for the next 30 days:\n",
      "[188.72530888 188.75815108 188.79099327 188.82383547 188.85667767\n",
      " 188.88951987 188.92236207 188.95520427 188.98804647 189.02088867\n",
      " 189.05373087 189.08657307 189.11941527 189.15225747 189.18509967\n",
      " 189.21794187 189.25078407 189.28362627 189.31646847 189.34931067\n",
      " 189.38215287 189.41499507 189.44783727 189.48067947 189.51352167\n",
      " 189.54636387 189.57920607 189.61204827 189.64489047 189.67773267]\n"
     ]
    }
   ],
   "source": [
    "#Quá trình tạo index predict 30 ngày tiếp theo\n",
    "last_index = features_ffiv.index[-1]\n",
    "last_30_data = pd.RangeIndex(start=last_index, stop=last_index+30, step=1)\n",
    "\n",
    "# Create an array of 30 consecutive integers starting from last_index\n",
    "x_next_30_days = np.array(range(last_index+1, last_index+31)).reshape(-1, 1)\n",
    "\n",
    "# Predict the closing prices for the next 30 days\n",
    "y_next_30_days = model.predict(x_next_30_days)\n",
    "\n",
    "# Print the predicted closing prices for the next 30 days\n",
    "print('Predicted closing prices for the next 30 days:')\n",
    "print(y_next_30_days)"
   ]
  },
  {
   "cell_type": "code",
   "execution_count": 16,
   "metadata": {},
   "outputs": [
    {
     "name": "stdout",
     "output_type": "stream",
     "text": [
      "Predicted closing prices for the next 60 days:\n",
      "[188.72530888 188.75815108 188.79099327 188.82383547 188.85667767\n",
      " 188.88951987 188.92236207 188.95520427 188.98804647 189.02088867\n",
      " 189.05373087 189.08657307 189.11941527 189.15225747 189.18509967\n",
      " 189.21794187 189.25078407 189.28362627 189.31646847 189.34931067\n",
      " 189.38215287 189.41499507 189.44783727 189.48067947 189.51352167\n",
      " 189.54636387 189.57920607 189.61204827 189.64489047 189.67773267\n",
      " 189.71057487 189.74341707 189.77625927 189.80910147 189.84194366\n",
      " 189.87478586 189.90762806 189.94047026 189.97331246 190.00615466\n",
      " 190.03899686 190.07183906 190.10468126 190.13752346 190.17036566\n",
      " 190.20320786 190.23605006 190.26889226 190.30173446 190.33457666\n",
      " 190.36741886 190.40026106 190.43310326 190.46594546 190.49878766\n",
      " 190.53162986 190.56447206 190.59731426 190.63015646 190.66299866]\n"
     ]
    }
   ],
   "source": [
    "#Quá trình tạo index predict 60 ngày tiếp theo\n",
    "last_index = features_ffiv.index[-1]\n",
    "last_60_data = pd.RangeIndex(start=last_index, stop=last_index+60, step=1)\n",
    "\n",
    "# Create an array of 60 consecutive integers starting from last_index\n",
    "x_next_60_days = np.array(range(last_index+1, last_index+61)).reshape(-1, 1)\n",
    "\n",
    "# Predict the closing prices for the next 60 days\n",
    "y_next_60_days = model.predict(x_next_60_days)\n",
    "\n",
    "# Print the predicted closing prices for the next 60 days\n",
    "print('Predicted closing prices for the next 60 days:')\n",
    "print(y_next_60_days)"
   ]
  },
  {
   "cell_type": "code",
   "execution_count": 17,
   "metadata": {},
   "outputs": [
    {
     "name": "stdout",
     "output_type": "stream",
     "text": [
      "Predicted closing prices for the next 90 days:\n",
      "[188.72530888 188.75815108 188.79099327 188.82383547 188.85667767\n",
      " 188.88951987 188.92236207 188.95520427 188.98804647 189.02088867\n",
      " 189.05373087 189.08657307 189.11941527 189.15225747 189.18509967\n",
      " 189.21794187 189.25078407 189.28362627 189.31646847 189.34931067\n",
      " 189.38215287 189.41499507 189.44783727 189.48067947 189.51352167\n",
      " 189.54636387 189.57920607 189.61204827 189.64489047 189.67773267\n",
      " 189.71057487 189.74341707 189.77625927 189.80910147 189.84194366\n",
      " 189.87478586 189.90762806 189.94047026 189.97331246 190.00615466\n",
      " 190.03899686 190.07183906 190.10468126 190.13752346 190.17036566\n",
      " 190.20320786 190.23605006 190.26889226 190.30173446 190.33457666\n",
      " 190.36741886 190.40026106 190.43310326 190.46594546 190.49878766\n",
      " 190.53162986 190.56447206 190.59731426 190.63015646 190.66299866\n",
      " 190.69584086 190.72868306 190.76152526 190.79436746 190.82720966\n",
      " 190.86005186 190.89289405 190.92573625 190.95857845 190.99142065\n",
      " 191.02426285 191.05710505 191.08994725 191.12278945 191.15563165\n",
      " 191.18847385 191.22131605 191.25415825 191.28700045 191.31984265\n",
      " 191.35268485 191.38552705 191.41836925 191.45121145 191.48405365\n",
      " 191.51689585 191.54973805 191.58258025 191.61542245 191.64826465]\n"
     ]
    }
   ],
   "source": [
    "#Quá trình tạo index predict 90 ngày tiếp theo\n",
    "last_index = features_ffiv.index[-1]\n",
    "last_90_data = pd.RangeIndex(start=last_index, stop=last_index+90, step=1)\n",
    "\n",
    "# Create an array of 90 consecutive integers starting from last_index\n",
    "x_next_90_days = np.array(range(last_index+1, last_index+91)).reshape(-1, 1)\n",
    "\n",
    "# Predict the closing prices for the next 30 days\n",
    "y_next_90_days = model.predict(x_next_90_days)\n",
    "\n",
    "# Print the predicted closing prices for the next 90 days\n",
    "print('Predicted closing prices for the next 90 days:')\n",
    "print(y_next_90_days)"
   ]
  },
  {
   "cell_type": "code",
   "execution_count": 18,
   "metadata": {},
   "outputs": [
    {
     "name": "stdout",
     "output_type": "stream",
     "text": [
      "Testing RMSE: 22.01748978906614\n",
      "Testing MAE: 18.48265316196877\n",
      "Testing MAPE: 0.11826328963810567\n"
     ]
    }
   ],
   "source": [
    "#Evaluating algorithm accuracy using\n",
    "#RMSE\n",
    "test_rmse = np.sqrt(np.mean((y_pred - y_test)**2))\n",
    "print('Testing RMSE:', test_rmse)\n",
    "\n",
    "#MAE\n",
    "from sklearn.metrics import mean_absolute_error\n",
    "test_mae = mean_absolute_error(y_test, y_pred)\n",
    "print('Testing MAE:', test_mae)\n",
    "\n",
    "#MAPE\n",
    "from sklearn.metrics import mean_absolute_percentage_error\n",
    "test_mape = mean_absolute_percentage_error(y_test, y_pred)\n",
    "print('Testing MAPE:', test_mape)"
   ]
  },
  {
   "cell_type": "code",
   "execution_count": 19,
   "metadata": {
    "colab": {
     "base_uri": "https://localhost:8080/",
     "height": 472
    },
    "executionInfo": {
     "elapsed": 743,
     "status": "ok",
     "timestamp": 1714850112013,
     "user": {
      "displayName": "DAO NGUYỄN THỊ BÍCH",
      "userId": "07070364028547772837"
     },
     "user_tz": -420
    },
    "id": "UKurQJg4BFbo",
    "outputId": "4d052be6-32c1-4bec-ee34-52c9cc2c5484"
   },
   "outputs": [
    {
     "data": {
      "image/png": "[encoded data removed]",
      "text/plain": [
       "<Figure size 1000x800 with 1 Axes>"
      ]
     },
     "metadata": {},
     "output_type": "display_data"
    }
   ],
   "source": [
    "#Vẽ hình\n",
    "plt.figure(figsize=(10, 8))\n",
    "plt.plot(train_ffiv_df.index, train_ffiv_df['close'])\n",
    "plt.plot(test_ffiv_df.index, test_ffiv_df['close'])\n",
    "plt.plot(test_ffiv_df.index, y_pred)\n",
    "plt.plot(last_90_data,y_next_90_days)\n",
    "plt.plot(last_60_data,y_next_60_days)\n",
    "plt.plot(last_30_data,y_next_30_days)\n",
    "plt.legend(['Test', 'Predictions','Next90Day','Next60Day','Next30Day'])\n",
    "plt.show()"
   ]
  },
  {
   "cell_type": "code",
   "execution_count": 20,
   "metadata": {
    "id": "5MQqHxNKCMLj"
   },
   "outputs": [
    {
     "data": {
      "image/png": "[encoded data removed]",
      "text/plain": [
       "<Figure size 1000x800 with 1 Axes>"
      ]
     },
     "metadata": {},
     "output_type": "display_data"
    }
   ],
   "source": [
    "plt.figure(figsize=(10, 8))\n",
    "plt.plot(last_90_data,y_next_90_days)\n",
    "plt.plot(last_60_data,y_next_60_days)\n",
    "plt.plot(last_30_data,y_next_30_days)\n",
    "plt.legend(['Next90Day','Next60Day','Next30Day'])\n",
    "plt.show()"
   ]
  }
 ],
 "metadata": {
  "colab": {
   "authorship_tag": "ABX9TyP8XXbeJnGqPojNMs2qoLp0",
   "provenance": []
  },
  "kernelspec": {
   "display_name": "Python 3 (ipykernel)",
   "language": "python",
   "name": "python3"
  },
  "language_info": {
   "codemirror_mode": {
    "name": "ipython",
    "version": 3
   },
   "file_extension": ".py",
   "mimetype": "text/x-python",
   "name": "python",
   "nbconvert_exporter": "python",
   "pygments_lexer": "ipython3",
   "version": "3.11.3"
  }
 },
 "nbformat": 4,
 "nbformat_minor": 4
}
