{
 "cells": [
  {
   "cell_type": "code",
   "execution_count": 1,
   "metadata": {
    "executionInfo": {
     "elapsed": 3725,
     "status": "ok",
     "timestamp": 1714849624982,
     "user": {
      "displayName": "DAO NGUYỄN THỊ BÍCH",
      "userId": "07070364028547772837"
     },
     "user_tz": -420
    },
    "id": "Aj8QUSkdwe9L"
   },
   "outputs": [],
   "source": [
    "import pandas as pd\n",
    "import numpy as np\n",
    "from scipy import stats\n",
    "import statsmodels.api as sm\n",
    "import matplotlib.pyplot as plt\n",
    "from sklearn.linear_model import LinearRegression\n",
    "from sklearn.preprocessing import MinMaxScaler\n",
    "from sklearn.preprocessing import StandardScaler\n",
    "from tqdm.notebook import tqdm\n",
    "tqdm.pandas()"
   ]
  },
  {
   "cell_type": "code",
   "execution_count": 2,
   "metadata": {
    "colab": {
     "base_uri": "https://localhost:8080/",
     "height": 71
    },
    "executionInfo": {
     "elapsed": 7479,
     "status": "ok",
     "timestamp": 1714850045131,
     "user": {
      "displayName": "DAO NGUYỄN THỊ BÍCH",
      "userId": "07070364028547772837"
     },
     "user_tz": -420
    },
    "id": "b2zApkhTAJjD",
    "outputId": "1609ae67-62b8-4db0-bfe4-32f85514705b"
   },
   "outputs": [],
   "source": [
    "csv_akam = \"C:/Business analysis/Project/IS403.O22.HTCLL_Nhom07/Dataset/AKAM_Stock.csv\"\n",
    "df_akam = pd.read_csv(csv_akam, thousands=',')"
   ]
  },
  {
   "cell_type": "code",
   "execution_count": 3,
   "metadata": {},
   "outputs": [
    {
     "data": {
      "text/html": [
       "<div>\n",
       "<style scoped>\n",
       "    .dataframe tbody tr th:only-of-type {\n",
       "        vertical-align: middle;\n",
       "    }\n",
       "\n",
       "    .dataframe tbody tr th {\n",
       "        vertical-align: top;\n",
       "    }\n",
       "\n",
       "    .dataframe thead th {\n",
       "        text-align: right;\n",
       "    }\n",
       "</style>\n",
       "<table border=\"1\" class=\"dataframe\">\n",
       "  <thead>\n",
       "    <tr style=\"text-align: right;\">\n",
       "      <th></th>\n",
       "      <th>Date</th>\n",
       "      <th>Symbol</th>\n",
       "      <th>Adj Close</th>\n",
       "      <th>Close</th>\n",
       "      <th>High</th>\n",
       "      <th>Low</th>\n",
       "      <th>Open</th>\n",
       "      <th>Volume</th>\n",
       "    </tr>\n",
       "  </thead>\n",
       "  <tbody>\n",
       "    <tr>\n",
       "      <th>0</th>\n",
       "      <td>3/1/2019</td>\n",
       "      <td>AKAM</td>\n",
       "      <td>71.089996</td>\n",
       "      <td>71.089996</td>\n",
       "      <td>71.489998</td>\n",
       "      <td>69.739998</td>\n",
       "      <td>70.059998</td>\n",
       "      <td>1633700</td>\n",
       "    </tr>\n",
       "    <tr>\n",
       "      <th>1</th>\n",
       "      <td>3/4/2019</td>\n",
       "      <td>AKAM</td>\n",
       "      <td>70.290001</td>\n",
       "      <td>70.290001</td>\n",
       "      <td>71.790001</td>\n",
       "      <td>69.709999</td>\n",
       "      <td>71.550003</td>\n",
       "      <td>995000</td>\n",
       "    </tr>\n",
       "    <tr>\n",
       "      <th>2</th>\n",
       "      <td>3/5/2019</td>\n",
       "      <td>AKAM</td>\n",
       "      <td>70.550003</td>\n",
       "      <td>70.550003</td>\n",
       "      <td>70.989998</td>\n",
       "      <td>69.800003</td>\n",
       "      <td>70.209999</td>\n",
       "      <td>1282100</td>\n",
       "    </tr>\n",
       "    <tr>\n",
       "      <th>3</th>\n",
       "      <td>3/6/2019</td>\n",
       "      <td>AKAM</td>\n",
       "      <td>71.540001</td>\n",
       "      <td>71.540001</td>\n",
       "      <td>71.680000</td>\n",
       "      <td>70.510002</td>\n",
       "      <td>70.620003</td>\n",
       "      <td>1658400</td>\n",
       "    </tr>\n",
       "    <tr>\n",
       "      <th>4</th>\n",
       "      <td>3/7/2019</td>\n",
       "      <td>AKAM</td>\n",
       "      <td>70.470001</td>\n",
       "      <td>70.470001</td>\n",
       "      <td>71.150002</td>\n",
       "      <td>70.019997</td>\n",
       "      <td>71.089996</td>\n",
       "      <td>1353400</td>\n",
       "    </tr>\n",
       "  </tbody>\n",
       "</table>\n",
       "</div>"
      ],
      "text/plain": [
       "       Date Symbol  Adj Close      Close       High        Low       Open   \n",
       "0  3/1/2019   AKAM  71.089996  71.089996  71.489998  69.739998  70.059998  \\\n",
       "1  3/4/2019   AKAM  70.290001  70.290001  71.790001  69.709999  71.550003   \n",
       "2  3/5/2019   AKAM  70.550003  70.550003  70.989998  69.800003  70.209999   \n",
       "3  3/6/2019   AKAM  71.540001  71.540001  71.680000  70.510002  70.620003   \n",
       "4  3/7/2019   AKAM  70.470001  70.470001  71.150002  70.019997  71.089996   \n",
       "\n",
       "    Volume  \n",
       "0  1633700  \n",
       "1   995000  \n",
       "2  1282100  \n",
       "3  1658400  \n",
       "4  1353400  "
      ]
     },
     "execution_count": 3,
     "metadata": {},
     "output_type": "execute_result"
    }
   ],
   "source": [
    "df_akam.head()"
   ]
  },
  {
   "cell_type": "code",
   "execution_count": 4,
   "metadata": {},
   "outputs": [
    {
     "data": {
      "text/html": [
       "<div>\n",
       "<style scoped>\n",
       "    .dataframe tbody tr th:only-of-type {\n",
       "        vertical-align: middle;\n",
       "    }\n",
       "\n",
       "    .dataframe tbody tr th {\n",
       "        vertical-align: top;\n",
       "    }\n",
       "\n",
       "    .dataframe thead th {\n",
       "        text-align: right;\n",
       "    }\n",
       "</style>\n",
       "<table border=\"1\" class=\"dataframe\">\n",
       "  <thead>\n",
       "    <tr style=\"text-align: right;\">\n",
       "      <th></th>\n",
       "      <th>Adj Close</th>\n",
       "      <th>Close</th>\n",
       "      <th>High</th>\n",
       "      <th>Low</th>\n",
       "      <th>Open</th>\n",
       "      <th>Volume</th>\n",
       "    </tr>\n",
       "  </thead>\n",
       "  <tbody>\n",
       "    <tr>\n",
       "      <th>count</th>\n",
       "      <td>1324.000000</td>\n",
       "      <td>1324.000000</td>\n",
       "      <td>1324.000000</td>\n",
       "      <td>1324.000000</td>\n",
       "      <td>1324.000000</td>\n",
       "      <td>1.324000e+03</td>\n",
       "    </tr>\n",
       "    <tr>\n",
       "      <th>mean</th>\n",
       "      <td>98.894456</td>\n",
       "      <td>98.894456</td>\n",
       "      <td>99.920030</td>\n",
       "      <td>97.838044</td>\n",
       "      <td>98.871488</td>\n",
       "      <td>1.582324e+06</td>\n",
       "    </tr>\n",
       "    <tr>\n",
       "      <th>std</th>\n",
       "      <td>13.155544</td>\n",
       "      <td>13.155544</td>\n",
       "      <td>13.238076</td>\n",
       "      <td>13.092423</td>\n",
       "      <td>13.186564</td>\n",
       "      <td>9.565868e+05</td>\n",
       "    </tr>\n",
       "    <tr>\n",
       "      <th>min</th>\n",
       "      <td>69.120003</td>\n",
       "      <td>69.120003</td>\n",
       "      <td>69.260002</td>\n",
       "      <td>67.279999</td>\n",
       "      <td>68.230003</td>\n",
       "      <td>2.774000e+05</td>\n",
       "    </tr>\n",
       "    <tr>\n",
       "      <th>25%</th>\n",
       "      <td>88.715000</td>\n",
       "      <td>88.715000</td>\n",
       "      <td>89.742500</td>\n",
       "      <td>87.667500</td>\n",
       "      <td>88.660004</td>\n",
       "      <td>1.043800e+06</td>\n",
       "    </tr>\n",
       "    <tr>\n",
       "      <th>50%</th>\n",
       "      <td>100.404999</td>\n",
       "      <td>100.404999</td>\n",
       "      <td>101.779999</td>\n",
       "      <td>99.184998</td>\n",
       "      <td>100.419998</td>\n",
       "      <td>1.350500e+06</td>\n",
       "    </tr>\n",
       "    <tr>\n",
       "      <th>75%</th>\n",
       "      <td>110.002501</td>\n",
       "      <td>110.002501</td>\n",
       "      <td>111.330000</td>\n",
       "      <td>108.862501</td>\n",
       "      <td>109.972502</td>\n",
       "      <td>1.799050e+06</td>\n",
       "    </tr>\n",
       "    <tr>\n",
       "      <th>max</th>\n",
       "      <td>128.320007</td>\n",
       "      <td>128.320007</td>\n",
       "      <td>129.169998</td>\n",
       "      <td>126.980003</td>\n",
       "      <td>128.550003</td>\n",
       "      <td>1.077170e+07</td>\n",
       "    </tr>\n",
       "  </tbody>\n",
       "</table>\n",
       "</div>"
      ],
      "text/plain": [
       "         Adj Close        Close         High          Low         Open   \n",
       "count  1324.000000  1324.000000  1324.000000  1324.000000  1324.000000  \\\n",
       "mean     98.894456    98.894456    99.920030    97.838044    98.871488   \n",
       "std      13.155544    13.155544    13.238076    13.092423    13.186564   \n",
       "min      69.120003    69.120003    69.260002    67.279999    68.230003   \n",
       "25%      88.715000    88.715000    89.742500    87.667500    88.660004   \n",
       "50%     100.404999   100.404999   101.779999    99.184998   100.419998   \n",
       "75%     110.002501   110.002501   111.330000   108.862501   109.972502   \n",
       "max     128.320007   128.320007   129.169998   126.980003   128.550003   \n",
       "\n",
       "             Volume  \n",
       "count  1.324000e+03  \n",
       "mean   1.582324e+06  \n",
       "std    9.565868e+05  \n",
       "min    2.774000e+05  \n",
       "25%    1.043800e+06  \n",
       "50%    1.350500e+06  \n",
       "75%    1.799050e+06  \n",
       "max    1.077170e+07  "
      ]
     },
     "execution_count": 4,
     "metadata": {},
     "output_type": "execute_result"
    }
   ],
   "source": [
    "df_akam.describe()"
   ]
  },
  {
   "cell_type": "code",
   "execution_count": 5,
   "metadata": {},
   "outputs": [
    {
     "name": "stdout",
     "output_type": "stream",
     "text": [
      "<class 'pandas.core.frame.DataFrame'>\n",
      "RangeIndex: 1324 entries, 0 to 1323\n",
      "Data columns (total 8 columns):\n",
      " #   Column     Non-Null Count  Dtype  \n",
      "---  ------     --------------  -----  \n",
      " 0   Date       1324 non-null   object \n",
      " 1   Symbol     1324 non-null   object \n",
      " 2   Adj Close  1324 non-null   float64\n",
      " 3   Close      1324 non-null   float64\n",
      " 4   High       1324 non-null   float64\n",
      " 5   Low        1324 non-null   float64\n",
      " 6   Open       1324 non-null   float64\n",
      " 7   Volume     1324 non-null   int64  \n",
      "dtypes: float64(5), int64(1), object(2)\n",
      "memory usage: 82.9+ KB\n"
     ]
    }
   ],
   "source": [
    "df_akam.info()"
   ]
  },
  {
   "cell_type": "code",
   "execution_count": 6,
   "metadata": {},
   "outputs": [
    {
     "name": "stdout",
     "output_type": "stream",
     "text": [
      "<class 'pandas.core.frame.DataFrame'>\n",
      "RangeIndex: 1324 entries, 0 to 1323\n",
      "Data columns (total 8 columns):\n",
      " #   Column     Non-Null Count  Dtype         \n",
      "---  ------     --------------  -----         \n",
      " 0   Date       1324 non-null   datetime64[ns]\n",
      " 1   Symbol     1324 non-null   object        \n",
      " 2   Adj Close  1324 non-null   float64       \n",
      " 3   Close      1324 non-null   float64       \n",
      " 4   High       1324 non-null   float64       \n",
      " 5   Low        1324 non-null   float64       \n",
      " 6   Open       1324 non-null   float64       \n",
      " 7   Volume     1324 non-null   int64         \n",
      "dtypes: datetime64[ns](1), float64(5), int64(1), object(1)\n",
      "memory usage: 82.9+ KB\n"
     ]
    }
   ],
   "source": [
    "# Convert object to datetime64\n",
    "df_akam['Date'] = df_akam['Date'].apply(pd.to_datetime)\n",
    "# Sort data by date time value\n",
    "df_akam = df_akam.sort_values(by=\"Date\").reset_index(drop=True)\n",
    "df_akam.info()"
   ]
  },
  {
   "cell_type": "code",
   "execution_count": 7,
   "metadata": {},
   "outputs": [
    {
     "data": {
      "text/plain": [
       "0       71.089996\n",
       "1       70.290001\n",
       "2       70.550003\n",
       "3       71.540001\n",
       "4       70.470001\n",
       "          ...    \n",
       "1319    92.589996\n",
       "1320    90.839996\n",
       "1321    90.220001\n",
       "1322    92.239998\n",
       "1323    90.900002\n",
       "Name: Close, Length: 1324, dtype: float64"
      ]
     },
     "execution_count": 7,
     "metadata": {},
     "output_type": "execute_result"
    }
   ],
   "source": [
    "df_akam.Close"
   ]
  },
  {
   "cell_type": "code",
   "execution_count": 8,
   "metadata": {},
   "outputs": [
    {
     "data": {
      "application/vnd.jupyter.widget-view+json": {
       "model_id": "115cede8aa6d4d9f83c55217a5c85fc2",
       "version_major": 2,
       "version_minor": 0
      },
      "text/plain": [
       "  0%|          | 0/1324 [00:00<?, ?it/s]"
      ]
     },
     "metadata": {},
     "output_type": "display_data"
    }
   ],
   "source": [
    "rows = []\n",
    "for _,row in tqdm(df_akam.iterrows(), total=df_akam.shape[0]):\n",
    "    row_data = dict(\n",
    "        day = row.Date.day,\n",
    "        month = row.Date.month,\n",
    "        year = row.Date.year,\n",
    "        open = row.Open,\n",
    "        low = row.Close,\n",
    "        high = row.High, \n",
    "        close = row.Close, \n",
    "        volume = row.Volume,\n",
    "    )\n",
    "    rows.append(row_data)\n",
    "features_akam = pd.DataFrame(rows)"
   ]
  },
  {
   "cell_type": "code",
   "execution_count": 9,
   "metadata": {},
   "outputs": [
    {
     "data": {
      "text/html": [
       "<div>\n",
       "<style scoped>\n",
       "    .dataframe tbody tr th:only-of-type {\n",
       "        vertical-align: middle;\n",
       "    }\n",
       "\n",
       "    .dataframe tbody tr th {\n",
       "        vertical-align: top;\n",
       "    }\n",
       "\n",
       "    .dataframe thead th {\n",
       "        text-align: right;\n",
       "    }\n",
       "</style>\n",
       "<table border=\"1\" class=\"dataframe\">\n",
       "  <thead>\n",
       "    <tr style=\"text-align: right;\">\n",
       "      <th></th>\n",
       "      <th>day</th>\n",
       "      <th>month</th>\n",
       "      <th>year</th>\n",
       "      <th>open</th>\n",
       "      <th>low</th>\n",
       "      <th>high</th>\n",
       "      <th>close</th>\n",
       "      <th>volume</th>\n",
       "    </tr>\n",
       "  </thead>\n",
       "  <tbody>\n",
       "    <tr>\n",
       "      <th>0</th>\n",
       "      <td>1</td>\n",
       "      <td>3</td>\n",
       "      <td>2019</td>\n",
       "      <td>70.059998</td>\n",
       "      <td>71.089996</td>\n",
       "      <td>71.489998</td>\n",
       "      <td>71.089996</td>\n",
       "      <td>1633700</td>\n",
       "    </tr>\n",
       "    <tr>\n",
       "      <th>1</th>\n",
       "      <td>4</td>\n",
       "      <td>3</td>\n",
       "      <td>2019</td>\n",
       "      <td>71.550003</td>\n",
       "      <td>70.290001</td>\n",
       "      <td>71.790001</td>\n",
       "      <td>70.290001</td>\n",
       "      <td>995000</td>\n",
       "    </tr>\n",
       "    <tr>\n",
       "      <th>2</th>\n",
       "      <td>5</td>\n",
       "      <td>3</td>\n",
       "      <td>2019</td>\n",
       "      <td>70.209999</td>\n",
       "      <td>70.550003</td>\n",
       "      <td>70.989998</td>\n",
       "      <td>70.550003</td>\n",
       "      <td>1282100</td>\n",
       "    </tr>\n",
       "    <tr>\n",
       "      <th>3</th>\n",
       "      <td>6</td>\n",
       "      <td>3</td>\n",
       "      <td>2019</td>\n",
       "      <td>70.620003</td>\n",
       "      <td>71.540001</td>\n",
       "      <td>71.680000</td>\n",
       "      <td>71.540001</td>\n",
       "      <td>1658400</td>\n",
       "    </tr>\n",
       "    <tr>\n",
       "      <th>4</th>\n",
       "      <td>7</td>\n",
       "      <td>3</td>\n",
       "      <td>2019</td>\n",
       "      <td>71.089996</td>\n",
       "      <td>70.470001</td>\n",
       "      <td>71.150002</td>\n",
       "      <td>70.470001</td>\n",
       "      <td>1353400</td>\n",
       "    </tr>\n",
       "  </tbody>\n",
       "</table>\n",
       "</div>"
      ],
      "text/plain": [
       "   day  month  year       open        low       high      close   volume\n",
       "0    1      3  2019  70.059998  71.089996  71.489998  71.089996  1633700\n",
       "1    4      3  2019  71.550003  70.290001  71.790001  70.290001   995000\n",
       "2    5      3  2019  70.209999  70.550003  70.989998  70.550003  1282100\n",
       "3    6      3  2019  70.620003  71.540001  71.680000  71.540001  1658400\n",
       "4    7      3  2019  71.089996  70.470001  71.150002  70.470001  1353400"
      ]
     },
     "execution_count": 9,
     "metadata": {},
     "output_type": "execute_result"
    }
   ],
   "source": [
    "features_akam.head()"
   ]
  },
  {
   "cell_type": "code",
   "execution_count": 10,
   "metadata": {},
   "outputs": [],
   "source": [
    "def detect_outlier(df, col):\n",
    "    q1 = np.percentile(df[col], 25)\n",
    "    q3 = np.percentile(df[col], 75)\n",
    "    iqr = q3 - q1\n",
    "    lower_bound = q1 - 1.5 * iqr\n",
    "    upper_bound = q3 + 1.5 * iqr\n",
    "    print(df[(df[col] < lower_bound) | (df[col] > upper_bound)])"
   ]
  },
  {
   "cell_type": "code",
   "execution_count": 11,
   "metadata": {},
   "outputs": [
    {
     "name": "stdout",
     "output_type": "stream",
     "text": [
      "Empty DataFrame\n",
      "Columns: [day, month, year, open, low, high, close, volume]\n",
      "Index: []\n"
     ]
    }
   ],
   "source": [
    "detect_outlier(features_akam, 'close')"
   ]
  },
  {
   "cell_type": "code",
   "execution_count": 12,
   "metadata": {},
   "outputs": [],
   "source": [
    "train_size = int(0.8 * len(features_akam))\n",
    "test_size = len(features_akam)-train_size\n",
    "\n",
    "train_akam_df = features_akam[:train_size]\n",
    "test_akam_df = features_akam[train_size:]"
   ]
  },
  {
   "cell_type": "code",
   "execution_count": 13,
   "metadata": {
    "colab": {
     "base_uri": "https://localhost:8080/"
    },
    "executionInfo": {
     "elapsed": 5,
     "status": "ok",
     "timestamp": 1714850103883,
     "user": {
      "displayName": "DAO NGUYỄN THỊ BÍCH",
      "userId": "07070364028547772837"
     },
     "user_tz": -420
    },
    "id": "hxP-u3dnAkxl",
    "outputId": "8a8f72d6-ca49-491f-fe0c-67cd4289eb3a"
   },
   "outputs": [
    {
     "name": "stdout",
     "output_type": "stream",
     "text": [
      "Hệ số hồi quy (slope): [0.00657364]\n",
      "Sai số chệch (intercept): 93.94338419696372\n"
     ]
    }
   ],
   "source": [
    "#Quá trình Training\n",
    "x_train = np.array(train_akam_df.index).reshape(-1, 1)\n",
    "y_train = np.array(train_akam_df['close'])\n",
    "# Train the linear regression model\n",
    "model = LinearRegression()\n",
    "model.fit(x_train, y_train)\n",
    "# In các thông số của mô hình\n",
    "print(\"Hệ số hồi quy (slope):\", model.coef_)\n",
    "print(\"Sai số chệch (intercept):\", model.intercept_)"
   ]
  },
  {
   "cell_type": "code",
   "execution_count": 14,
   "metadata": {},
   "outputs": [],
   "source": [
    "#Quá trình testing\n",
    "x_test = np.array(test_akam_df.index).reshape(-1, 1)\n",
    "y_test = np.array(test_akam_df['close'])\n",
    "y_pred = model.predict(x_test)"
   ]
  },
  {
   "cell_type": "code",
   "execution_count": 15,
   "metadata": {},
   "outputs": [
    {
     "name": "stdout",
     "output_type": "stream",
     "text": [
      "Predicted closing prices for the next 30 days:\n",
      "[102.64688554 102.65345918 102.66003282 102.66660647 102.67318011\n",
      " 102.67975375 102.68632739 102.69290103 102.69947467 102.70604832\n",
      " 102.71262196 102.7191956  102.72576924 102.73234288 102.73891652\n",
      " 102.74549016 102.75206381 102.75863745 102.76521109 102.77178473\n",
      " 102.77835837 102.78493201 102.79150565 102.7980793  102.80465294\n",
      " 102.81122658 102.81780022 102.82437386 102.8309475  102.83752115]\n"
     ]
    }
   ],
   "source": [
    "#Quá trình tạo index predict 30 ngày tiếp theo\n",
    "last_index = features_akam.index[-1]\n",
    "last_30_data = pd.RangeIndex(start=last_index, stop=last_index+30, step=1)\n",
    "\n",
    "# Create an array of 30 consecutive integers starting from last_index\n",
    "x_next_30_days = np.array(range(last_index+1, last_index+31)).reshape(-1, 1)\n",
    "\n",
    "# Predict the closing prices for the next 30 days\n",
    "y_next_30_days = model.predict(x_next_30_days)\n",
    "\n",
    "# Print the predicted closing prices for the next 30 days\n",
    "print('Predicted closing prices for the next 30 days:')\n",
    "print(y_next_30_days)"
   ]
  },
  {
   "cell_type": "code",
   "execution_count": 16,
   "metadata": {},
   "outputs": [
    {
     "name": "stdout",
     "output_type": "stream",
     "text": [
      "Predicted closing prices for the next 60 days:\n",
      "[102.64688554 102.65345918 102.66003282 102.66660647 102.67318011\n",
      " 102.67975375 102.68632739 102.69290103 102.69947467 102.70604832\n",
      " 102.71262196 102.7191956  102.72576924 102.73234288 102.73891652\n",
      " 102.74549016 102.75206381 102.75863745 102.76521109 102.77178473\n",
      " 102.77835837 102.78493201 102.79150565 102.7980793  102.80465294\n",
      " 102.81122658 102.81780022 102.82437386 102.8309475  102.83752115\n",
      " 102.84409479 102.85066843 102.85724207 102.86381571 102.87038935\n",
      " 102.87696299 102.88353664 102.89011028 102.89668392 102.90325756\n",
      " 102.9098312  102.91640484 102.92297848 102.92955213 102.93612577\n",
      " 102.94269941 102.94927305 102.95584669 102.96242033 102.96899398\n",
      " 102.97556762 102.98214126 102.9887149  102.99528854 103.00186218\n",
      " 103.00843582 103.01500947 103.02158311 103.02815675 103.03473039]\n"
     ]
    }
   ],
   "source": [
    "#Quá trình tạo index predict 60 ngày tiếp theo\n",
    "last_index = features_akam.index[-1]\n",
    "last_60_data = pd.RangeIndex(start=last_index, stop=last_index+60, step=1)\n",
    "\n",
    "# Create an array of 60 consecutive integers starting from last_index\n",
    "x_next_60_days = np.array(range(last_index+1, last_index+61)).reshape(-1, 1)\n",
    "\n",
    "# Predict the closing prices for the next 60 days\n",
    "y_next_60_days = model.predict(x_next_60_days)\n",
    "\n",
    "# Print the predicted closing prices for the next 60 days\n",
    "print('Predicted closing prices for the next 60 days:')\n",
    "print(y_next_60_days)"
   ]
  },
  {
   "cell_type": "code",
   "execution_count": 17,
   "metadata": {},
   "outputs": [
    {
     "name": "stdout",
     "output_type": "stream",
     "text": [
      "Predicted closing prices for the next 90 days:\n",
      "[102.64688554 102.65345918 102.66003282 102.66660647 102.67318011\n",
      " 102.67975375 102.68632739 102.69290103 102.69947467 102.70604832\n",
      " 102.71262196 102.7191956  102.72576924 102.73234288 102.73891652\n",
      " 102.74549016 102.75206381 102.75863745 102.76521109 102.77178473\n",
      " 102.77835837 102.78493201 102.79150565 102.7980793  102.80465294\n",
      " 102.81122658 102.81780022 102.82437386 102.8309475  102.83752115\n",
      " 102.84409479 102.85066843 102.85724207 102.86381571 102.87038935\n",
      " 102.87696299 102.88353664 102.89011028 102.89668392 102.90325756\n",
      " 102.9098312  102.91640484 102.92297848 102.92955213 102.93612577\n",
      " 102.94269941 102.94927305 102.95584669 102.96242033 102.96899398\n",
      " 102.97556762 102.98214126 102.9887149  102.99528854 103.00186218\n",
      " 103.00843582 103.01500947 103.02158311 103.02815675 103.03473039\n",
      " 103.04130403 103.04787767 103.05445131 103.06102496 103.0675986\n",
      " 103.07417224 103.08074588 103.08731952 103.09389316 103.10046681\n",
      " 103.10704045 103.11361409 103.12018773 103.12676137 103.13333501\n",
      " 103.13990865 103.1464823  103.15305594 103.15962958 103.16620322\n",
      " 103.17277686 103.1793505  103.18592414 103.19249779 103.19907143\n",
      " 103.20564507 103.21221871 103.21879235 103.22536599 103.23193964]\n"
     ]
    }
   ],
   "source": [
    "#Quá trình tạo index predict 90 ngày tiếp theo\n",
    "last_index = features_akam.index[-1]\n",
    "last_90_data = pd.RangeIndex(start=last_index, stop=last_index+90, step=1)\n",
    "\n",
    "# Create an array of 90 consecutive integers starting from last_index\n",
    "x_next_90_days = np.array(range(last_index+1, last_index+91)).reshape(-1, 1)\n",
    "\n",
    "# Predict the closing prices for the next 30 days\n",
    "y_next_90_days = model.predict(x_next_90_days)\n",
    "\n",
    "# Print the predicted closing prices for the next 90 days\n",
    "print('Predicted closing prices for the next 90 days:')\n",
    "print(y_next_90_days)"
   ]
  },
  {
   "cell_type": "code",
   "execution_count": 18,
   "metadata": {},
   "outputs": [
    {
     "name": "stdout",
     "output_type": "stream",
     "text": [
      "Testing RMSE: 10.460402058986343\n",
      "Testing MAE: 8.690409239896994\n",
      "Testing MAPE: 0.0817695144604402\n"
     ]
    }
   ],
   "source": [
    "#Evaluating algorithm accuracy using\n",
    "#RMSE\n",
    "test_rmse = np.sqrt(np.mean((y_pred - y_test)**2))\n",
    "print('Testing RMSE:', test_rmse)\n",
    "\n",
    "#MAE\n",
    "from sklearn.metrics import mean_absolute_error\n",
    "test_mae = mean_absolute_error(y_test, y_pred)\n",
    "print('Testing MAE:', test_mae)\n",
    "\n",
    "#MAPE\n",
    "from sklearn.metrics import mean_absolute_percentage_error\n",
    "test_mape = mean_absolute_percentage_error(y_test, y_pred)\n",
    "print('Testing MAPE:', test_mape)"
   ]
  },
  {
   "cell_type": "code",
   "execution_count": 19,
   "metadata": {
    "colab": {
     "base_uri": "https://localhost:8080/",
     "height": 472
    },
    "executionInfo": {
     "elapsed": 743,
     "status": "ok",
     "timestamp": 1714850112013,
     "user": {
      "displayName": "DAO NGUYỄN THỊ BÍCH",
      "userId": "07070364028547772837"
     },
     "user_tz": -420
    },
    "id": "UKurQJg4BFbo",
    "outputId": "4d052be6-32c1-4bec-ee34-52c9cc2c5484"
   },
   "outputs": [
    {
     "data": {
      "image/png": "[encoded data removed]",
      "text/plain": [
       "<Figure size 1000x800 with 1 Axes>"
      ]
     },
     "metadata": {},
     "output_type": "display_data"
    }
   ],
   "source": [
    "#Vẽ hình\n",
    "plt.figure(figsize=(10, 8))\n",
    "plt.plot(train_akam_df.index, train_akam_df['close'])\n",
    "plt.plot(test_akam_df.index, test_akam_df['close'])\n",
    "plt.plot(test_akam_df.index, y_pred)\n",
    "plt.plot(last_90_data,y_next_90_days)\n",
    "plt.plot(last_60_data,y_next_60_days)\n",
    "plt.plot(last_30_data,y_next_30_days)\n",
    "plt.legend(['Test', 'Predictions','Next90Day','Next60Day','Next30Day'])\n",
    "plt.show()"
   ]
  },
  {
   "cell_type": "code",
   "execution_count": 20,
   "metadata": {
    "id": "5MQqHxNKCMLj"
   },
   "outputs": [
    {
     "data": {
      "image/png": "[encoded data removed]",
      "text/plain": [
       "<Figure size 1000x800 with 1 Axes>"
      ]
     },
     "metadata": {},
     "output_type": "display_data"
    }
   ],
   "source": [
    "plt.figure(figsize=(10, 8))\n",
    "plt.plot(last_90_data,y_next_90_days)\n",
    "plt.plot(last_60_data,y_next_60_days)\n",
    "plt.plot(last_30_data,y_next_30_days)\n",
    "plt.legend(['Next90Day','Next60Day','Next30Day'])\n",
    "plt.show()"
   ]
  }
 ],
 "metadata": {
  "colab": {
   "authorship_tag": "ABX9TyP8XXbeJnGqPojNMs2qoLp0",
   "provenance": []
  },
  "kernelspec": {
   "display_name": "Python 3 (ipykernel)",
   "language": "python",
   "name": "python3"
  },
  "language_info": {
   "codemirror_mode": {
    "name": "ipython",
    "version": 3
   },
   "file_extension": ".py",
   "mimetype": "text/x-python",
   "name": "python",
   "nbconvert_exporter": "python",
   "pygments_lexer": "ipython3",
   "version": "3.11.3"
  }
 },
 "nbformat": 4,
 "nbformat_minor": 4
}
