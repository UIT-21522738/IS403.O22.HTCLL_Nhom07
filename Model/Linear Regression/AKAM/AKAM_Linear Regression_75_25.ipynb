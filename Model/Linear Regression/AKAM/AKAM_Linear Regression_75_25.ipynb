{
 "cells": [
  {
   "cell_type": "code",
   "execution_count": 1,
   "metadata": {
    "executionInfo": {
     "elapsed": 3725,
     "status": "ok",
     "timestamp": 1714849624982,
     "user": {
      "displayName": "DAO NGUYỄN THỊ BÍCH",
      "userId": "07070364028547772837"
     },
     "user_tz": -420
    },
    "id": "Aj8QUSkdwe9L"
   },
   "outputs": [],
   "source": [
    "import pandas as pd\n",
    "import numpy as np\n",
    "from scipy import stats\n",
    "import statsmodels.api as sm\n",
    "import matplotlib.pyplot as plt\n",
    "from sklearn.linear_model import LinearRegression\n",
    "from sklearn.preprocessing import MinMaxScaler\n",
    "from sklearn.preprocessing import StandardScaler\n",
    "from tqdm.notebook import tqdm\n",
    "tqdm.pandas()"
   ]
  },
  {
   "cell_type": "code",
   "execution_count": 2,
   "metadata": {
    "colab": {
     "base_uri": "https://localhost:8080/",
     "height": 71
    },
    "executionInfo": {
     "elapsed": 7479,
     "status": "ok",
     "timestamp": 1714850045131,
     "user": {
      "displayName": "DAO NGUYỄN THỊ BÍCH",
      "userId": "07070364028547772837"
     },
     "user_tz": -420
    },
    "id": "b2zApkhTAJjD",
    "outputId": "1609ae67-62b8-4db0-bfe4-32f85514705b"
   },
   "outputs": [],
   "source": [
    "csv_akam = \"C:/Business analysis/Project/IS403.O22.HTCLL_Nhom07/Dataset/AKAM_Stock.csv\"\n",
    "df_akam = pd.read_csv(csv_akam, thousands=',')"
   ]
  },
  {
   "cell_type": "code",
   "execution_count": 3,
   "metadata": {},
   "outputs": [
    {
     "data": {
      "text/html": [
       "<div>\n",
       "<style scoped>\n",
       "    .dataframe tbody tr th:only-of-type {\n",
       "        vertical-align: middle;\n",
       "    }\n",
       "\n",
       "    .dataframe tbody tr th {\n",
       "        vertical-align: top;\n",
       "    }\n",
       "\n",
       "    .dataframe thead th {\n",
       "        text-align: right;\n",
       "    }\n",
       "</style>\n",
       "<table border=\"1\" class=\"dataframe\">\n",
       "  <thead>\n",
       "    <tr style=\"text-align: right;\">\n",
       "      <th></th>\n",
       "      <th>Date</th>\n",
       "      <th>Symbol</th>\n",
       "      <th>Adj Close</th>\n",
       "      <th>Close</th>\n",
       "      <th>High</th>\n",
       "      <th>Low</th>\n",
       "      <th>Open</th>\n",
       "      <th>Volume</th>\n",
       "    </tr>\n",
       "  </thead>\n",
       "  <tbody>\n",
       "    <tr>\n",
       "      <th>0</th>\n",
       "      <td>3/1/2019</td>\n",
       "      <td>AKAM</td>\n",
       "      <td>71.089996</td>\n",
       "      <td>71.089996</td>\n",
       "      <td>71.489998</td>\n",
       "      <td>69.739998</td>\n",
       "      <td>70.059998</td>\n",
       "      <td>1633700</td>\n",
       "    </tr>\n",
       "    <tr>\n",
       "      <th>1</th>\n",
       "      <td>3/4/2019</td>\n",
       "      <td>AKAM</td>\n",
       "      <td>70.290001</td>\n",
       "      <td>70.290001</td>\n",
       "      <td>71.790001</td>\n",
       "      <td>69.709999</td>\n",
       "      <td>71.550003</td>\n",
       "      <td>995000</td>\n",
       "    </tr>\n",
       "    <tr>\n",
       "      <th>2</th>\n",
       "      <td>3/5/2019</td>\n",
       "      <td>AKAM</td>\n",
       "      <td>70.550003</td>\n",
       "      <td>70.550003</td>\n",
       "      <td>70.989998</td>\n",
       "      <td>69.800003</td>\n",
       "      <td>70.209999</td>\n",
       "      <td>1282100</td>\n",
       "    </tr>\n",
       "    <tr>\n",
       "      <th>3</th>\n",
       "      <td>3/6/2019</td>\n",
       "      <td>AKAM</td>\n",
       "      <td>71.540001</td>\n",
       "      <td>71.540001</td>\n",
       "      <td>71.680000</td>\n",
       "      <td>70.510002</td>\n",
       "      <td>70.620003</td>\n",
       "      <td>1658400</td>\n",
       "    </tr>\n",
       "    <tr>\n",
       "      <th>4</th>\n",
       "      <td>3/7/2019</td>\n",
       "      <td>AKAM</td>\n",
       "      <td>70.470001</td>\n",
       "      <td>70.470001</td>\n",
       "      <td>71.150002</td>\n",
       "      <td>70.019997</td>\n",
       "      <td>71.089996</td>\n",
       "      <td>1353400</td>\n",
       "    </tr>\n",
       "  </tbody>\n",
       "</table>\n",
       "</div>"
      ],
      "text/plain": [
       "       Date Symbol  Adj Close      Close       High        Low       Open   \n",
       "0  3/1/2019   AKAM  71.089996  71.089996  71.489998  69.739998  70.059998  \\\n",
       "1  3/4/2019   AKAM  70.290001  70.290001  71.790001  69.709999  71.550003   \n",
       "2  3/5/2019   AKAM  70.550003  70.550003  70.989998  69.800003  70.209999   \n",
       "3  3/6/2019   AKAM  71.540001  71.540001  71.680000  70.510002  70.620003   \n",
       "4  3/7/2019   AKAM  70.470001  70.470001  71.150002  70.019997  71.089996   \n",
       "\n",
       "    Volume  \n",
       "0  1633700  \n",
       "1   995000  \n",
       "2  1282100  \n",
       "3  1658400  \n",
       "4  1353400  "
      ]
     },
     "execution_count": 3,
     "metadata": {},
     "output_type": "execute_result"
    }
   ],
   "source": [
    "df_akam.head()"
   ]
  },
  {
   "cell_type": "code",
   "execution_count": 4,
   "metadata": {},
   "outputs": [
    {
     "data": {
      "text/html": [
       "<div>\n",
       "<style scoped>\n",
       "    .dataframe tbody tr th:only-of-type {\n",
       "        vertical-align: middle;\n",
       "    }\n",
       "\n",
       "    .dataframe tbody tr th {\n",
       "        vertical-align: top;\n",
       "    }\n",
       "\n",
       "    .dataframe thead th {\n",
       "        text-align: right;\n",
       "    }\n",
       "</style>\n",
       "<table border=\"1\" class=\"dataframe\">\n",
       "  <thead>\n",
       "    <tr style=\"text-align: right;\">\n",
       "      <th></th>\n",
       "      <th>Adj Close</th>\n",
       "      <th>Close</th>\n",
       "      <th>High</th>\n",
       "      <th>Low</th>\n",
       "      <th>Open</th>\n",
       "      <th>Volume</th>\n",
       "    </tr>\n",
       "  </thead>\n",
       "  <tbody>\n",
       "    <tr>\n",
       "      <th>count</th>\n",
       "      <td>1324.000000</td>\n",
       "      <td>1324.000000</td>\n",
       "      <td>1324.000000</td>\n",
       "      <td>1324.000000</td>\n",
       "      <td>1324.000000</td>\n",
       "      <td>1.324000e+03</td>\n",
       "    </tr>\n",
       "    <tr>\n",
       "      <th>mean</th>\n",
       "      <td>98.894456</td>\n",
       "      <td>98.894456</td>\n",
       "      <td>99.920030</td>\n",
       "      <td>97.838044</td>\n",
       "      <td>98.871488</td>\n",
       "      <td>1.582324e+06</td>\n",
       "    </tr>\n",
       "    <tr>\n",
       "      <th>std</th>\n",
       "      <td>13.155544</td>\n",
       "      <td>13.155544</td>\n",
       "      <td>13.238076</td>\n",
       "      <td>13.092423</td>\n",
       "      <td>13.186564</td>\n",
       "      <td>9.565868e+05</td>\n",
       "    </tr>\n",
       "    <tr>\n",
       "      <th>min</th>\n",
       "      <td>69.120003</td>\n",
       "      <td>69.120003</td>\n",
       "      <td>69.260002</td>\n",
       "      <td>67.279999</td>\n",
       "      <td>68.230003</td>\n",
       "      <td>2.774000e+05</td>\n",
       "    </tr>\n",
       "    <tr>\n",
       "      <th>25%</th>\n",
       "      <td>88.715000</td>\n",
       "      <td>88.715000</td>\n",
       "      <td>89.742500</td>\n",
       "      <td>87.667500</td>\n",
       "      <td>88.660004</td>\n",
       "      <td>1.043800e+06</td>\n",
       "    </tr>\n",
       "    <tr>\n",
       "      <th>50%</th>\n",
       "      <td>100.404999</td>\n",
       "      <td>100.404999</td>\n",
       "      <td>101.779999</td>\n",
       "      <td>99.184998</td>\n",
       "      <td>100.419998</td>\n",
       "      <td>1.350500e+06</td>\n",
       "    </tr>\n",
       "    <tr>\n",
       "      <th>75%</th>\n",
       "      <td>110.002501</td>\n",
       "      <td>110.002501</td>\n",
       "      <td>111.330000</td>\n",
       "      <td>108.862501</td>\n",
       "      <td>109.972502</td>\n",
       "      <td>1.799050e+06</td>\n",
       "    </tr>\n",
       "    <tr>\n",
       "      <th>max</th>\n",
       "      <td>128.320007</td>\n",
       "      <td>128.320007</td>\n",
       "      <td>129.169998</td>\n",
       "      <td>126.980003</td>\n",
       "      <td>128.550003</td>\n",
       "      <td>1.077170e+07</td>\n",
       "    </tr>\n",
       "  </tbody>\n",
       "</table>\n",
       "</div>"
      ],
      "text/plain": [
       "         Adj Close        Close         High          Low         Open   \n",
       "count  1324.000000  1324.000000  1324.000000  1324.000000  1324.000000  \\\n",
       "mean     98.894456    98.894456    99.920030    97.838044    98.871488   \n",
       "std      13.155544    13.155544    13.238076    13.092423    13.186564   \n",
       "min      69.120003    69.120003    69.260002    67.279999    68.230003   \n",
       "25%      88.715000    88.715000    89.742500    87.667500    88.660004   \n",
       "50%     100.404999   100.404999   101.779999    99.184998   100.419998   \n",
       "75%     110.002501   110.002501   111.330000   108.862501   109.972502   \n",
       "max     128.320007   128.320007   129.169998   126.980003   128.550003   \n",
       "\n",
       "             Volume  \n",
       "count  1.324000e+03  \n",
       "mean   1.582324e+06  \n",
       "std    9.565868e+05  \n",
       "min    2.774000e+05  \n",
       "25%    1.043800e+06  \n",
       "50%    1.350500e+06  \n",
       "75%    1.799050e+06  \n",
       "max    1.077170e+07  "
      ]
     },
     "execution_count": 4,
     "metadata": {},
     "output_type": "execute_result"
    }
   ],
   "source": [
    "df_akam.describe()"
   ]
  },
  {
   "cell_type": "code",
   "execution_count": 5,
   "metadata": {},
   "outputs": [
    {
     "name": "stdout",
     "output_type": "stream",
     "text": [
      "<class 'pandas.core.frame.DataFrame'>\n",
      "RangeIndex: 1324 entries, 0 to 1323\n",
      "Data columns (total 8 columns):\n",
      " #   Column     Non-Null Count  Dtype  \n",
      "---  ------     --------------  -----  \n",
      " 0   Date       1324 non-null   object \n",
      " 1   Symbol     1324 non-null   object \n",
      " 2   Adj Close  1324 non-null   float64\n",
      " 3   Close      1324 non-null   float64\n",
      " 4   High       1324 non-null   float64\n",
      " 5   Low        1324 non-null   float64\n",
      " 6   Open       1324 non-null   float64\n",
      " 7   Volume     1324 non-null   int64  \n",
      "dtypes: float64(5), int64(1), object(2)\n",
      "memory usage: 82.9+ KB\n"
     ]
    }
   ],
   "source": [
    "df_akam.info()"
   ]
  },
  {
   "cell_type": "code",
   "execution_count": 6,
   "metadata": {},
   "outputs": [
    {
     "name": "stdout",
     "output_type": "stream",
     "text": [
      "<class 'pandas.core.frame.DataFrame'>\n",
      "RangeIndex: 1324 entries, 0 to 1323\n",
      "Data columns (total 8 columns):\n",
      " #   Column     Non-Null Count  Dtype         \n",
      "---  ------     --------------  -----         \n",
      " 0   Date       1324 non-null   datetime64[ns]\n",
      " 1   Symbol     1324 non-null   object        \n",
      " 2   Adj Close  1324 non-null   float64       \n",
      " 3   Close      1324 non-null   float64       \n",
      " 4   High       1324 non-null   float64       \n",
      " 5   Low        1324 non-null   float64       \n",
      " 6   Open       1324 non-null   float64       \n",
      " 7   Volume     1324 non-null   int64         \n",
      "dtypes: datetime64[ns](1), float64(5), int64(1), object(1)\n",
      "memory usage: 82.9+ KB\n"
     ]
    }
   ],
   "source": [
    "# Convert object to datetime64\n",
    "df_akam['Date'] = df_akam['Date'].apply(pd.to_datetime)\n",
    "# Sort data by date time value\n",
    "df_akam = df_akam.sort_values(by=\"Date\").reset_index(drop=True)\n",
    "df_akam.info()"
   ]
  },
  {
   "cell_type": "code",
   "execution_count": 7,
   "metadata": {},
   "outputs": [
    {
     "data": {
      "text/plain": [
       "0       71.089996\n",
       "1       70.290001\n",
       "2       70.550003\n",
       "3       71.540001\n",
       "4       70.470001\n",
       "          ...    \n",
       "1319    92.589996\n",
       "1320    90.839996\n",
       "1321    90.220001\n",
       "1322    92.239998\n",
       "1323    90.900002\n",
       "Name: Close, Length: 1324, dtype: float64"
      ]
     },
     "execution_count": 7,
     "metadata": {},
     "output_type": "execute_result"
    }
   ],
   "source": [
    "df_akam.Close"
   ]
  },
  {
   "cell_type": "code",
   "execution_count": 8,
   "metadata": {},
   "outputs": [
    {
     "data": {
      "text/plain": [
       "0             NaN\n",
       "1       71.089996\n",
       "2       70.290001\n",
       "3       70.550003\n",
       "4       71.540001\n",
       "          ...    \n",
       "1319    94.139999\n",
       "1320    92.589996\n",
       "1321    90.839996\n",
       "1322    90.220001\n",
       "1323    92.239998\n",
       "Name: Prev_close, Length: 1324, dtype: float64"
      ]
     },
     "execution_count": 8,
     "metadata": {},
     "output_type": "execute_result"
    }
   ],
   "source": [
    "df_akam['Prev_close'] = df_akam.shift(1)['Close']\n",
    "df_akam.Prev_close"
   ]
  },
  {
   "cell_type": "code",
   "execution_count": 9,
   "metadata": {},
   "outputs": [
    {
     "data": {
      "text/html": [
       "<div>\n",
       "<style scoped>\n",
       "    .dataframe tbody tr th:only-of-type {\n",
       "        vertical-align: middle;\n",
       "    }\n",
       "\n",
       "    .dataframe tbody tr th {\n",
       "        vertical-align: top;\n",
       "    }\n",
       "\n",
       "    .dataframe thead th {\n",
       "        text-align: right;\n",
       "    }\n",
       "</style>\n",
       "<table border=\"1\" class=\"dataframe\">\n",
       "  <thead>\n",
       "    <tr style=\"text-align: right;\">\n",
       "      <th></th>\n",
       "      <th>Date</th>\n",
       "      <th>Symbol</th>\n",
       "      <th>Adj Close</th>\n",
       "      <th>Close</th>\n",
       "      <th>High</th>\n",
       "      <th>Low</th>\n",
       "      <th>Open</th>\n",
       "      <th>Volume</th>\n",
       "      <th>Prev_close</th>\n",
       "    </tr>\n",
       "  </thead>\n",
       "  <tbody>\n",
       "    <tr>\n",
       "      <th>0</th>\n",
       "      <td>2019-03-01</td>\n",
       "      <td>AKAM</td>\n",
       "      <td>71.089996</td>\n",
       "      <td>71.089996</td>\n",
       "      <td>71.489998</td>\n",
       "      <td>69.739998</td>\n",
       "      <td>70.059998</td>\n",
       "      <td>1633700</td>\n",
       "      <td>NaN</td>\n",
       "    </tr>\n",
       "    <tr>\n",
       "      <th>1</th>\n",
       "      <td>2019-03-04</td>\n",
       "      <td>AKAM</td>\n",
       "      <td>70.290001</td>\n",
       "      <td>70.290001</td>\n",
       "      <td>71.790001</td>\n",
       "      <td>69.709999</td>\n",
       "      <td>71.550003</td>\n",
       "      <td>995000</td>\n",
       "      <td>71.089996</td>\n",
       "    </tr>\n",
       "    <tr>\n",
       "      <th>2</th>\n",
       "      <td>2019-03-05</td>\n",
       "      <td>AKAM</td>\n",
       "      <td>70.550003</td>\n",
       "      <td>70.550003</td>\n",
       "      <td>70.989998</td>\n",
       "      <td>69.800003</td>\n",
       "      <td>70.209999</td>\n",
       "      <td>1282100</td>\n",
       "      <td>70.290001</td>\n",
       "    </tr>\n",
       "    <tr>\n",
       "      <th>3</th>\n",
       "      <td>2019-03-06</td>\n",
       "      <td>AKAM</td>\n",
       "      <td>71.540001</td>\n",
       "      <td>71.540001</td>\n",
       "      <td>71.680000</td>\n",
       "      <td>70.510002</td>\n",
       "      <td>70.620003</td>\n",
       "      <td>1658400</td>\n",
       "      <td>70.550003</td>\n",
       "    </tr>\n",
       "    <tr>\n",
       "      <th>4</th>\n",
       "      <td>2019-03-07</td>\n",
       "      <td>AKAM</td>\n",
       "      <td>70.470001</td>\n",
       "      <td>70.470001</td>\n",
       "      <td>71.150002</td>\n",
       "      <td>70.019997</td>\n",
       "      <td>71.089996</td>\n",
       "      <td>1353400</td>\n",
       "      <td>71.540001</td>\n",
       "    </tr>\n",
       "  </tbody>\n",
       "</table>\n",
       "</div>"
      ],
      "text/plain": [
       "        Date Symbol  Adj Close      Close       High        Low       Open   \n",
       "0 2019-03-01   AKAM  71.089996  71.089996  71.489998  69.739998  70.059998  \\\n",
       "1 2019-03-04   AKAM  70.290001  70.290001  71.790001  69.709999  71.550003   \n",
       "2 2019-03-05   AKAM  70.550003  70.550003  70.989998  69.800003  70.209999   \n",
       "3 2019-03-06   AKAM  71.540001  71.540001  71.680000  70.510002  70.620003   \n",
       "4 2019-03-07   AKAM  70.470001  70.470001  71.150002  70.019997  71.089996   \n",
       "\n",
       "    Volume  Prev_close  \n",
       "0  1633700         NaN  \n",
       "1   995000   71.089996  \n",
       "2  1282100   70.290001  \n",
       "3  1658400   70.550003  \n",
       "4  1353400   71.540001  "
      ]
     },
     "execution_count": 9,
     "metadata": {},
     "output_type": "execute_result"
    }
   ],
   "source": [
    "df_akam.head()"
   ]
  },
  {
   "cell_type": "code",
   "execution_count": 10,
   "metadata": {},
   "outputs": [
    {
     "data": {
      "application/vnd.jupyter.widget-view+json": {
       "model_id": "f2c3366694364720b2ec494b05234890",
       "version_major": 2,
       "version_minor": 0
      },
      "text/plain": [
       "  0%|          | 0/1324 [00:00<?, ?it/s]"
      ]
     },
     "metadata": {},
     "output_type": "display_data"
    }
   ],
   "source": [
    "df_akam['Close_change'] = df_akam.progress_apply(\n",
    "    lambda row: 0 if np.isnan(row.Prev_close) else row.Close - row.Prev_close,\n",
    "    axis = 1\n",
    ")"
   ]
  },
  {
   "cell_type": "code",
   "execution_count": 11,
   "metadata": {},
   "outputs": [
    {
     "data": {
      "text/html": [
       "<div>\n",
       "<style scoped>\n",
       "    .dataframe tbody tr th:only-of-type {\n",
       "        vertical-align: middle;\n",
       "    }\n",
       "\n",
       "    .dataframe tbody tr th {\n",
       "        vertical-align: top;\n",
       "    }\n",
       "\n",
       "    .dataframe thead th {\n",
       "        text-align: right;\n",
       "    }\n",
       "</style>\n",
       "<table border=\"1\" class=\"dataframe\">\n",
       "  <thead>\n",
       "    <tr style=\"text-align: right;\">\n",
       "      <th></th>\n",
       "      <th>Date</th>\n",
       "      <th>Symbol</th>\n",
       "      <th>Adj Close</th>\n",
       "      <th>Close</th>\n",
       "      <th>High</th>\n",
       "      <th>Low</th>\n",
       "      <th>Open</th>\n",
       "      <th>Volume</th>\n",
       "      <th>Prev_close</th>\n",
       "      <th>Close_change</th>\n",
       "    </tr>\n",
       "  </thead>\n",
       "  <tbody>\n",
       "    <tr>\n",
       "      <th>0</th>\n",
       "      <td>2019-03-01</td>\n",
       "      <td>AKAM</td>\n",
       "      <td>71.089996</td>\n",
       "      <td>71.089996</td>\n",
       "      <td>71.489998</td>\n",
       "      <td>69.739998</td>\n",
       "      <td>70.059998</td>\n",
       "      <td>1633700</td>\n",
       "      <td>NaN</td>\n",
       "      <td>0.000000</td>\n",
       "    </tr>\n",
       "    <tr>\n",
       "      <th>1</th>\n",
       "      <td>2019-03-04</td>\n",
       "      <td>AKAM</td>\n",
       "      <td>70.290001</td>\n",
       "      <td>70.290001</td>\n",
       "      <td>71.790001</td>\n",
       "      <td>69.709999</td>\n",
       "      <td>71.550003</td>\n",
       "      <td>995000</td>\n",
       "      <td>71.089996</td>\n",
       "      <td>-0.799995</td>\n",
       "    </tr>\n",
       "    <tr>\n",
       "      <th>2</th>\n",
       "      <td>2019-03-05</td>\n",
       "      <td>AKAM</td>\n",
       "      <td>70.550003</td>\n",
       "      <td>70.550003</td>\n",
       "      <td>70.989998</td>\n",
       "      <td>69.800003</td>\n",
       "      <td>70.209999</td>\n",
       "      <td>1282100</td>\n",
       "      <td>70.290001</td>\n",
       "      <td>0.260002</td>\n",
       "    </tr>\n",
       "    <tr>\n",
       "      <th>3</th>\n",
       "      <td>2019-03-06</td>\n",
       "      <td>AKAM</td>\n",
       "      <td>71.540001</td>\n",
       "      <td>71.540001</td>\n",
       "      <td>71.680000</td>\n",
       "      <td>70.510002</td>\n",
       "      <td>70.620003</td>\n",
       "      <td>1658400</td>\n",
       "      <td>70.550003</td>\n",
       "      <td>0.989998</td>\n",
       "    </tr>\n",
       "    <tr>\n",
       "      <th>4</th>\n",
       "      <td>2019-03-07</td>\n",
       "      <td>AKAM</td>\n",
       "      <td>70.470001</td>\n",
       "      <td>70.470001</td>\n",
       "      <td>71.150002</td>\n",
       "      <td>70.019997</td>\n",
       "      <td>71.089996</td>\n",
       "      <td>1353400</td>\n",
       "      <td>71.540001</td>\n",
       "      <td>-1.070000</td>\n",
       "    </tr>\n",
       "  </tbody>\n",
       "</table>\n",
       "</div>"
      ],
      "text/plain": [
       "        Date Symbol  Adj Close      Close       High        Low       Open   \n",
       "0 2019-03-01   AKAM  71.089996  71.089996  71.489998  69.739998  70.059998  \\\n",
       "1 2019-03-04   AKAM  70.290001  70.290001  71.790001  69.709999  71.550003   \n",
       "2 2019-03-05   AKAM  70.550003  70.550003  70.989998  69.800003  70.209999   \n",
       "3 2019-03-06   AKAM  71.540001  71.540001  71.680000  70.510002  70.620003   \n",
       "4 2019-03-07   AKAM  70.470001  70.470001  71.150002  70.019997  71.089996   \n",
       "\n",
       "    Volume  Prev_close  Close_change  \n",
       "0  1633700         NaN      0.000000  \n",
       "1   995000   71.089996     -0.799995  \n",
       "2  1282100   70.290001      0.260002  \n",
       "3  1658400   70.550003      0.989998  \n",
       "4  1353400   71.540001     -1.070000  "
      ]
     },
     "execution_count": 11,
     "metadata": {},
     "output_type": "execute_result"
    }
   ],
   "source": [
    "df_akam.head()"
   ]
  },
  {
   "cell_type": "code",
   "execution_count": 12,
   "metadata": {},
   "outputs": [
    {
     "data": {
      "application/vnd.jupyter.widget-view+json": {
       "model_id": "0d000c067a224df6b5297f71344e6f52",
       "version_major": 2,
       "version_minor": 0
      },
      "text/plain": [
       "  0%|          | 0/1324 [00:00<?, ?it/s]"
      ]
     },
     "metadata": {},
     "output_type": "display_data"
    }
   ],
   "source": [
    "rows = []\n",
    "for _,row in tqdm(df_akam.iterrows(), total=df_akam.shape[0]):\n",
    "    row_data = dict(\n",
    "        day = row.Date.day,\n",
    "        month = row.Date.month,\n",
    "        year = row.Date.year,\n",
    "        open = row.Open,\n",
    "        low = row.Close,\n",
    "        high = row.High, \n",
    "        close = row.Close, \n",
    "        volume = row.Volume,\n",
    "        close_change = row.Close_change\n",
    "    )\n",
    "    rows.append(row_data)\n",
    "features_akam = pd.DataFrame(rows)"
   ]
  },
  {
   "cell_type": "code",
   "execution_count": 13,
   "metadata": {},
   "outputs": [
    {
     "data": {
      "text/html": [
       "<div>\n",
       "<style scoped>\n",
       "    .dataframe tbody tr th:only-of-type {\n",
       "        vertical-align: middle;\n",
       "    }\n",
       "\n",
       "    .dataframe tbody tr th {\n",
       "        vertical-align: top;\n",
       "    }\n",
       "\n",
       "    .dataframe thead th {\n",
       "        text-align: right;\n",
       "    }\n",
       "</style>\n",
       "<table border=\"1\" class=\"dataframe\">\n",
       "  <thead>\n",
       "    <tr style=\"text-align: right;\">\n",
       "      <th></th>\n",
       "      <th>day</th>\n",
       "      <th>month</th>\n",
       "      <th>year</th>\n",
       "      <th>open</th>\n",
       "      <th>low</th>\n",
       "      <th>high</th>\n",
       "      <th>close</th>\n",
       "      <th>volume</th>\n",
       "      <th>close_change</th>\n",
       "    </tr>\n",
       "  </thead>\n",
       "  <tbody>\n",
       "    <tr>\n",
       "      <th>0</th>\n",
       "      <td>1</td>\n",
       "      <td>3</td>\n",
       "      <td>2019</td>\n",
       "      <td>70.059998</td>\n",
       "      <td>71.089996</td>\n",
       "      <td>71.489998</td>\n",
       "      <td>71.089996</td>\n",
       "      <td>1633700</td>\n",
       "      <td>0.000000</td>\n",
       "    </tr>\n",
       "    <tr>\n",
       "      <th>1</th>\n",
       "      <td>4</td>\n",
       "      <td>3</td>\n",
       "      <td>2019</td>\n",
       "      <td>71.550003</td>\n",
       "      <td>70.290001</td>\n",
       "      <td>71.790001</td>\n",
       "      <td>70.290001</td>\n",
       "      <td>995000</td>\n",
       "      <td>-0.799995</td>\n",
       "    </tr>\n",
       "    <tr>\n",
       "      <th>2</th>\n",
       "      <td>5</td>\n",
       "      <td>3</td>\n",
       "      <td>2019</td>\n",
       "      <td>70.209999</td>\n",
       "      <td>70.550003</td>\n",
       "      <td>70.989998</td>\n",
       "      <td>70.550003</td>\n",
       "      <td>1282100</td>\n",
       "      <td>0.260002</td>\n",
       "    </tr>\n",
       "    <tr>\n",
       "      <th>3</th>\n",
       "      <td>6</td>\n",
       "      <td>3</td>\n",
       "      <td>2019</td>\n",
       "      <td>70.620003</td>\n",
       "      <td>71.540001</td>\n",
       "      <td>71.680000</td>\n",
       "      <td>71.540001</td>\n",
       "      <td>1658400</td>\n",
       "      <td>0.989998</td>\n",
       "    </tr>\n",
       "    <tr>\n",
       "      <th>4</th>\n",
       "      <td>7</td>\n",
       "      <td>3</td>\n",
       "      <td>2019</td>\n",
       "      <td>71.089996</td>\n",
       "      <td>70.470001</td>\n",
       "      <td>71.150002</td>\n",
       "      <td>70.470001</td>\n",
       "      <td>1353400</td>\n",
       "      <td>-1.070000</td>\n",
       "    </tr>\n",
       "  </tbody>\n",
       "</table>\n",
       "</div>"
      ],
      "text/plain": [
       "   day  month  year       open        low       high      close   volume   \n",
       "0    1      3  2019  70.059998  71.089996  71.489998  71.089996  1633700  \\\n",
       "1    4      3  2019  71.550003  70.290001  71.790001  70.290001   995000   \n",
       "2    5      3  2019  70.209999  70.550003  70.989998  70.550003  1282100   \n",
       "3    6      3  2019  70.620003  71.540001  71.680000  71.540001  1658400   \n",
       "4    7      3  2019  71.089996  70.470001  71.150002  70.470001  1353400   \n",
       "\n",
       "   close_change  \n",
       "0      0.000000  \n",
       "1     -0.799995  \n",
       "2      0.260002  \n",
       "3      0.989998  \n",
       "4     -1.070000  "
      ]
     },
     "execution_count": 13,
     "metadata": {},
     "output_type": "execute_result"
    }
   ],
   "source": [
    "features_akam.head()"
   ]
  },
  {
   "cell_type": "code",
   "execution_count": 14,
   "metadata": {},
   "outputs": [],
   "source": [
    "def detect_outlier(df, col):\n",
    "    q1 = np.percentile(df[col], 25)\n",
    "    q3 = np.percentile(df[col], 75)\n",
    "    iqr = q3 - q1\n",
    "    lower_bound = q1 - 1.5 * iqr\n",
    "    upper_bound = q3 + 1.5 * iqr\n",
    "    print(df[(df[col] < lower_bound) | (df[col] > upper_bound)])"
   ]
  },
  {
   "cell_type": "code",
   "execution_count": 15,
   "metadata": {},
   "outputs": [
    {
     "name": "stdout",
     "output_type": "stream",
     "text": [
      "Empty DataFrame\n",
      "Columns: [day, month, year, open, low, high, close, volume, close_change]\n",
      "Index: []\n"
     ]
    }
   ],
   "source": [
    "detect_outlier(features_akam, 'close')"
   ]
  },
  {
   "cell_type": "code",
   "execution_count": 16,
   "metadata": {},
   "outputs": [
    {
     "name": "stdout",
     "output_type": "stream",
     "text": [
      "      day  month  year        open         low        high       close   \n",
      "42      1      5  2019   86.010002   81.040001   86.190002   81.040001  \\\n",
      "78     21      6  2019   79.809998   78.550003   80.000000   78.550003   \n",
      "105    31      7  2019   85.000000   88.129997   90.760002   88.129997   \n",
      "106     1      8  2019   88.120003   90.110001   90.360001   90.110001   \n",
      "115    14      8  2019   88.080002   84.080002   88.080002   84.080002   \n",
      "...   ...    ...   ...         ...         ...         ...         ...   \n",
      "1269   15      3  2024  108.279999  107.250000  108.900002  107.250000   \n",
      "1307    9      5  2024  102.099998  102.459999  102.650002  102.459999   \n",
      "1308   10      5  2024   94.199997   91.190002   94.820000   91.190002   \n",
      "1309   13      5  2024   91.470001   94.320000   94.730003   94.320000   \n",
      "1322   31      5  2024   90.120003   92.239998   92.410004   92.239998   \n",
      "\n",
      "       volume  close_change  \n",
      "42    4597600      0.980003  \n",
      "78    3469700     -1.329994  \n",
      "105   4730100      4.099998  \n",
      "106   2975100      1.980003  \n",
      "115   5810800     -5.290001  \n",
      "...       ...           ...  \n",
      "1269  2957800     -1.699997  \n",
      "1307  3679100      0.339996  \n",
      "1308  9731100    -11.269997  \n",
      "1309  3462400      3.129997  \n",
      "1322  3298500      2.019997  \n",
      "\n",
      "[83 rows x 9 columns]\n"
     ]
    }
   ],
   "source": [
    "detect_outlier(features_akam, 'volume')"
   ]
  },
  {
   "cell_type": "code",
   "execution_count": 17,
   "metadata": {},
   "outputs": [
    {
     "name": "stdout",
     "output_type": "stream",
     "text": [
      "      day  month  year        open         low        high       close   \n",
      "105    31      7  2019   85.000000   88.129997   90.760002   88.129997  \\\n",
      "108     5      8  2019   86.559998   84.010002   86.949997   84.010002   \n",
      "115    14      8  2019   88.080002   84.080002   88.080002   84.080002   \n",
      "247    24      2  2020   97.099998   97.110001   98.540001   97.110001   \n",
      "248    25      2  2020   97.620003   93.730003   98.320000   93.730003   \n",
      "...   ...    ...   ...         ...         ...         ...         ...   \n",
      "1056   10      5  2023   83.199997   85.540001   86.500000   85.540001   \n",
      "1118    9      8  2023  101.500000  102.989998  107.470001  102.989998   \n",
      "1248   14      2  2024  119.120003  114.800003  122.000000  114.800003   \n",
      "1249   15      2  2024  114.199997  111.570000  114.669998  111.570000   \n",
      "1308   10      5  2024   94.199997   91.190002   94.820000   91.190002   \n",
      "\n",
      "       volume  close_change  \n",
      "105   4730100      4.099998  \n",
      "108   2371300     -4.309998  \n",
      "115   5810800     -5.290001  \n",
      "247   1514100     -3.409996  \n",
      "248   1293900     -3.379997  \n",
      "...       ...           ...  \n",
      "1056  4274500      6.660004  \n",
      "1118  5637200      8.040001  \n",
      "1248  7080500    -10.250000  \n",
      "1249  4018200     -3.230003  \n",
      "1308  9731100    -11.269997  \n",
      "\n",
      "[72 rows x 9 columns]\n"
     ]
    }
   ],
   "source": [
    "detect_outlier(features_akam, 'close_change')"
   ]
  },
  {
   "cell_type": "code",
   "execution_count": 18,
   "metadata": {},
   "outputs": [],
   "source": [
    "train_size = int(0.75 * len(features_akam))\n",
    "test_size = len(features_akam)-train_size\n",
    "\n",
    "train_akam_df = features_akam[:train_size]\n",
    "test_akam_df = features_akam[train_size:]"
   ]
  },
  {
   "cell_type": "code",
   "execution_count": 19,
   "metadata": {
    "colab": {
     "base_uri": "https://localhost:8080/"
    },
    "executionInfo": {
     "elapsed": 5,
     "status": "ok",
     "timestamp": 1714850103883,
     "user": {
      "displayName": "DAO NGUYỄN THỊ BÍCH",
      "userId": "07070364028547772837"
     },
     "user_tz": -420
    },
    "id": "hxP-u3dnAkxl",
    "outputId": "8a8f72d6-ca49-491f-fe0c-67cd4289eb3a"
   },
   "outputs": [
    {
     "name": "stdout",
     "output_type": "stream",
     "text": [
      "Hệ số hồi quy (slope): [0.0161627]\n",
      "Sai số chệch (intercept): 90.67792351875974\n"
     ]
    }
   ],
   "source": [
    "#Quá trình Training\n",
    "x_train = np.array(train_akam_df.index).reshape(-1, 1)\n",
    "y_train = np.array(train_akam_df['close'])\n",
    "# Train the linear regression model\n",
    "model = LinearRegression()\n",
    "model.fit(x_train, y_train)\n",
    "# In các thông số của mô hình\n",
    "print(\"Hệ số hồi quy (slope):\", model.coef_)\n",
    "print(\"Sai số chệch (intercept):\", model.intercept_)"
   ]
  },
  {
   "cell_type": "code",
   "execution_count": 20,
   "metadata": {},
   "outputs": [],
   "source": [
    "#Quá trình testing\n",
    "x_test = np.array(test_akam_df.index).reshape(-1, 1)\n",
    "y_test = np.array(test_akam_df['close'])\n",
    "y_pred = model.predict(x_test)"
   ]
  },
  {
   "cell_type": "code",
   "execution_count": 21,
   "metadata": {},
   "outputs": [
    {
     "name": "stdout",
     "output_type": "stream",
     "text": [
      "Predicted closing prices for the next 30 days:\n",
      "[112.07733762 112.09350032 112.10966302 112.12582572 112.14198842\n",
      " 112.15815112 112.17431382 112.19047652 112.20663922 112.22280192\n",
      " 112.23896462 112.25512732 112.27129002 112.28745272 112.30361542\n",
      " 112.31977811 112.33594081 112.35210351 112.36826621 112.38442891\n",
      " 112.40059161 112.41675431 112.43291701 112.44907971 112.46524241\n",
      " 112.48140511 112.49756781 112.51373051 112.52989321 112.54605591]\n"
     ]
    }
   ],
   "source": [
    "#Quá trình tạo index predict 30 ngày tiếp theo\n",
    "last_index = features_akam.index[-1]\n",
    "last_30_data = pd.RangeIndex(start=last_index, stop=last_index+30, step=1)\n",
    "\n",
    "# Create an array of 30 consecutive integers starting from last_index\n",
    "x_next_30_days = np.array(range(last_index+1, last_index+31)).reshape(-1, 1)\n",
    "\n",
    "# Predict the closing prices for the next 30 days\n",
    "y_next_30_days = model.predict(x_next_30_days)\n",
    "\n",
    "# Print the predicted closing prices for the next 30 days\n",
    "print('Predicted closing prices for the next 30 days:')\n",
    "print(y_next_30_days)"
   ]
  },
  {
   "cell_type": "code",
   "execution_count": 22,
   "metadata": {},
   "outputs": [
    {
     "name": "stdout",
     "output_type": "stream",
     "text": [
      "Predicted closing prices for the next 60 days:\n",
      "[112.07733762 112.09350032 112.10966302 112.12582572 112.14198842\n",
      " 112.15815112 112.17431382 112.19047652 112.20663922 112.22280192\n",
      " 112.23896462 112.25512732 112.27129002 112.28745272 112.30361542\n",
      " 112.31977811 112.33594081 112.35210351 112.36826621 112.38442891\n",
      " 112.40059161 112.41675431 112.43291701 112.44907971 112.46524241\n",
      " 112.48140511 112.49756781 112.51373051 112.52989321 112.54605591\n",
      " 112.56221861 112.57838131 112.59454401 112.61070671 112.6268694\n",
      " 112.6430321  112.6591948  112.6753575  112.6915202  112.7076829\n",
      " 112.7238456  112.7400083  112.756171   112.7723337  112.7884964\n",
      " 112.8046591  112.8208218  112.8369845  112.8531472  112.8693099\n",
      " 112.8854726  112.9016353  112.917798   112.93396069 112.95012339\n",
      " 112.96628609 112.98244879 112.99861149 113.01477419 113.03093689]\n"
     ]
    }
   ],
   "source": [
    "#Quá trình tạo index predict 60 ngày tiếp theo\n",
    "last_index = features_akam.index[-1]\n",
    "last_60_data = pd.RangeIndex(start=last_index, stop=last_index+60, step=1)\n",
    "\n",
    "# Create an array of 60 consecutive integers starting from last_index\n",
    "x_next_60_days = np.array(range(last_index+1, last_index+61)).reshape(-1, 1)\n",
    "\n",
    "# Predict the closing prices for the next 60 days\n",
    "y_next_60_days = model.predict(x_next_60_days)\n",
    "\n",
    "# Print the predicted closing prices for the next 60 days\n",
    "print('Predicted closing prices for the next 60 days:')\n",
    "print(y_next_60_days)"
   ]
  },
  {
   "cell_type": "code",
   "execution_count": 23,
   "metadata": {},
   "outputs": [
    {
     "name": "stdout",
     "output_type": "stream",
     "text": [
      "Predicted closing prices for the next 90 days:\n",
      "[112.07733762 112.09350032 112.10966302 112.12582572 112.14198842\n",
      " 112.15815112 112.17431382 112.19047652 112.20663922 112.22280192\n",
      " 112.23896462 112.25512732 112.27129002 112.28745272 112.30361542\n",
      " 112.31977811 112.33594081 112.35210351 112.36826621 112.38442891\n",
      " 112.40059161 112.41675431 112.43291701 112.44907971 112.46524241\n",
      " 112.48140511 112.49756781 112.51373051 112.52989321 112.54605591\n",
      " 112.56221861 112.57838131 112.59454401 112.61070671 112.6268694\n",
      " 112.6430321  112.6591948  112.6753575  112.6915202  112.7076829\n",
      " 112.7238456  112.7400083  112.756171   112.7723337  112.7884964\n",
      " 112.8046591  112.8208218  112.8369845  112.8531472  112.8693099\n",
      " 112.8854726  112.9016353  112.917798   112.93396069 112.95012339\n",
      " 112.96628609 112.98244879 112.99861149 113.01477419 113.03093689\n",
      " 113.04709959 113.06326229 113.07942499 113.09558769 113.11175039\n",
      " 113.12791309 113.14407579 113.16023849 113.17640119 113.19256389\n",
      " 113.20872659 113.22488929 113.24105198 113.25721468 113.27337738\n",
      " 113.28954008 113.30570278 113.32186548 113.33802818 113.35419088\n",
      " 113.37035358 113.38651628 113.40267898 113.41884168 113.43500438\n",
      " 113.45116708 113.46732978 113.48349248 113.49965518 113.51581788]\n"
     ]
    }
   ],
   "source": [
    "#Quá trình tạo index predict 90 ngày tiếp theo\n",
    "last_index = features_akam.index[-1]\n",
    "last_90_data = pd.RangeIndex(start=last_index, stop=last_index+90, step=1)\n",
    "\n",
    "# Create an array of 90 consecutive integers starting from last_index\n",
    "x_next_90_days = np.array(range(last_index+1, last_index+91)).reshape(-1, 1)\n",
    "\n",
    "# Predict the closing prices for the next 30 days\n",
    "y_next_90_days = model.predict(x_next_90_days)\n",
    "\n",
    "# Print the predicted closing prices for the next 90 days\n",
    "print('Predicted closing prices for the next 90 days:')\n",
    "print(y_next_90_days)"
   ]
  },
  {
   "cell_type": "code",
   "execution_count": 24,
   "metadata": {},
   "outputs": [
    {
     "name": "stdout",
     "output_type": "stream",
     "text": [
      "Testing RMSE: 16.381530019885147\n",
      "Testing MAE: 13.042283777690413\n",
      "Testing MAPE: 0.14769947973968675\n"
     ]
    }
   ],
   "source": [
    "#Evaluating algorithm accuracy using\n",
    "#RMSE\n",
    "test_rmse = np.sqrt(np.mean((y_pred - y_test)**2))\n",
    "print('Testing RMSE:', test_rmse)\n",
    "\n",
    "#MAE\n",
    "from sklearn.metrics import mean_absolute_error\n",
    "test_mae = mean_absolute_error(y_test, y_pred)\n",
    "print('Testing MAE:', test_mae)\n",
    "\n",
    "#MAPE\n",
    "from sklearn.metrics import mean_absolute_percentage_error\n",
    "test_mape = mean_absolute_percentage_error(y_test, y_pred)\n",
    "print('Testing MAPE:', test_mape)"
   ]
  },
  {
   "cell_type": "code",
   "execution_count": 25,
   "metadata": {
    "colab": {
     "base_uri": "https://localhost:8080/",
     "height": 472
    },
    "executionInfo": {
     "elapsed": 743,
     "status": "ok",
     "timestamp": 1714850112013,
     "user": {
      "displayName": "DAO NGUYỄN THỊ BÍCH",
      "userId": "07070364028547772837"
     },
     "user_tz": -420
    },
    "id": "UKurQJg4BFbo",
    "outputId": "4d052be6-32c1-4bec-ee34-52c9cc2c5484"
   },
   "outputs": [
    {
     "data": {
      "image/png": "[encoded data removed]",
      "text/plain": [
       "<Figure size 640x480 with 1 Axes>"
      ]
     },
     "metadata": {},
     "output_type": "display_data"
    }
   ],
   "source": [
    "#Vẽ hình\n",
    "plt.plot(train_akam_df.index, train_akam_df['close'])\n",
    "plt.plot(test_akam_df.index, test_akam_df['close'])\n",
    "plt.plot(test_akam_df.index, y_pred)\n",
    "plt.plot(last_30_data,y_next_30_days)\n",
    "plt.plot(last_60_data,y_next_60_days)\n",
    "plt.plot(last_90_data,y_next_90_days)\n",
    "plt.legend(['Train', 'Test', 'Predictions','Next30Day','Next60Day','Next90Day'])\n",
    "plt.show()"
   ]
  },
  {
   "cell_type": "code",
   "execution_count": null,
   "metadata": {
    "id": "5MQqHxNKCMLj"
   },
   "outputs": [],
   "source": []
  }
 ],
 "metadata": {
  "colab": {
   "authorship_tag": "ABX9TyP8XXbeJnGqPojNMs2qoLp0",
   "provenance": []
  },
  "kernelspec": {
   "display_name": "Python 3 (ipykernel)",
   "language": "python",
   "name": "python3"
  },
  "language_info": {
   "codemirror_mode": {
    "name": "ipython",
    "version": 3
   },
   "file_extension": ".py",
   "mimetype": "text/x-python",
   "name": "python",
   "nbconvert_exporter": "python",
   "pygments_lexer": "ipython3",
   "version": "3.11.3"
  }
 },
 "nbformat": 4,
 "nbformat_minor": 4
}
