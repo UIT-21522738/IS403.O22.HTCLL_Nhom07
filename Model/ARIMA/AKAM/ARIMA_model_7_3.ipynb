{
 "cells": [
  {
   "cell_type": "code",
   "execution_count": 1,
   "metadata": {
    "id": "TOsoPjnYzZCW"
   },
   "outputs": [],
   "source": [
    "# 1. Các thư viện cần thiết\n",
    "import numpy as np\n",
    "import pandas as pd\n",
    "import matplotlib.pyplot as plt\n",
    "\n"
   ]
  },
  {
   "cell_type": "code",
   "execution_count": 2,
   "metadata": {
    "colab": {
     "base_uri": "https://localhost:8080/",
     "height": 455
    },
    "id": "DewQquJ1zXi_",
    "outputId": "dc507c84-0a1f-4af5-d3b1-d2460e4a5f5a"
   },
   "outputs": [
    {
     "data": {
      "text/html": [
       "<div>\n",
       "<style scoped>\n",
       "    .dataframe tbody tr th:only-of-type {\n",
       "        vertical-align: middle;\n",
       "    }\n",
       "\n",
       "    .dataframe tbody tr th {\n",
       "        vertical-align: top;\n",
       "    }\n",
       "\n",
       "    .dataframe thead th {\n",
       "        text-align: right;\n",
       "    }\n",
       "</style>\n",
       "<table border=\"1\" class=\"dataframe\">\n",
       "  <thead>\n",
       "    <tr style=\"text-align: right;\">\n",
       "      <th></th>\n",
       "      <th>Date</th>\n",
       "      <th>Symbol</th>\n",
       "      <th>Adj Close</th>\n",
       "      <th>Close</th>\n",
       "      <th>High</th>\n",
       "      <th>Low</th>\n",
       "      <th>Open</th>\n",
       "      <th>Volume</th>\n",
       "    </tr>\n",
       "  </thead>\n",
       "  <tbody>\n",
       "    <tr>\n",
       "      <th>0</th>\n",
       "      <td>3/1/2019</td>\n",
       "      <td>AKAM</td>\n",
       "      <td>71.089996</td>\n",
       "      <td>71.089996</td>\n",
       "      <td>71.489998</td>\n",
       "      <td>69.739998</td>\n",
       "      <td>70.059998</td>\n",
       "      <td>1633700</td>\n",
       "    </tr>\n",
       "    <tr>\n",
       "      <th>1</th>\n",
       "      <td>3/4/2019</td>\n",
       "      <td>AKAM</td>\n",
       "      <td>70.290001</td>\n",
       "      <td>70.290001</td>\n",
       "      <td>71.790001</td>\n",
       "      <td>69.709999</td>\n",
       "      <td>71.550003</td>\n",
       "      <td>995000</td>\n",
       "    </tr>\n",
       "    <tr>\n",
       "      <th>2</th>\n",
       "      <td>3/5/2019</td>\n",
       "      <td>AKAM</td>\n",
       "      <td>70.550003</td>\n",
       "      <td>70.550003</td>\n",
       "      <td>70.989998</td>\n",
       "      <td>69.800003</td>\n",
       "      <td>70.209999</td>\n",
       "      <td>1282100</td>\n",
       "    </tr>\n",
       "    <tr>\n",
       "      <th>3</th>\n",
       "      <td>3/6/2019</td>\n",
       "      <td>AKAM</td>\n",
       "      <td>71.540001</td>\n",
       "      <td>71.540001</td>\n",
       "      <td>71.680000</td>\n",
       "      <td>70.510002</td>\n",
       "      <td>70.620003</td>\n",
       "      <td>1658400</td>\n",
       "    </tr>\n",
       "    <tr>\n",
       "      <th>4</th>\n",
       "      <td>3/7/2019</td>\n",
       "      <td>AKAM</td>\n",
       "      <td>70.470001</td>\n",
       "      <td>70.470001</td>\n",
       "      <td>71.150002</td>\n",
       "      <td>70.019997</td>\n",
       "      <td>71.089996</td>\n",
       "      <td>1353400</td>\n",
       "    </tr>\n",
       "    <tr>\n",
       "      <th>...</th>\n",
       "      <td>...</td>\n",
       "      <td>...</td>\n",
       "      <td>...</td>\n",
       "      <td>...</td>\n",
       "      <td>...</td>\n",
       "      <td>...</td>\n",
       "      <td>...</td>\n",
       "      <td>...</td>\n",
       "    </tr>\n",
       "    <tr>\n",
       "      <th>1319</th>\n",
       "      <td>5/28/2024</td>\n",
       "      <td>AKAM</td>\n",
       "      <td>92.589996</td>\n",
       "      <td>92.589996</td>\n",
       "      <td>94.150002</td>\n",
       "      <td>92.489998</td>\n",
       "      <td>93.540001</td>\n",
       "      <td>1497900</td>\n",
       "    </tr>\n",
       "    <tr>\n",
       "      <th>1320</th>\n",
       "      <td>5/29/2024</td>\n",
       "      <td>AKAM</td>\n",
       "      <td>90.839996</td>\n",
       "      <td>90.839996</td>\n",
       "      <td>92.379997</td>\n",
       "      <td>90.779999</td>\n",
       "      <td>92.000000</td>\n",
       "      <td>1332200</td>\n",
       "    </tr>\n",
       "    <tr>\n",
       "      <th>1321</th>\n",
       "      <td>5/30/2024</td>\n",
       "      <td>AKAM</td>\n",
       "      <td>90.220001</td>\n",
       "      <td>90.220001</td>\n",
       "      <td>90.889999</td>\n",
       "      <td>89.550003</td>\n",
       "      <td>90.839996</td>\n",
       "      <td>2662200</td>\n",
       "    </tr>\n",
       "    <tr>\n",
       "      <th>1322</th>\n",
       "      <td>5/31/2024</td>\n",
       "      <td>AKAM</td>\n",
       "      <td>92.239998</td>\n",
       "      <td>92.239998</td>\n",
       "      <td>92.410004</td>\n",
       "      <td>89.599998</td>\n",
       "      <td>90.120003</td>\n",
       "      <td>3298500</td>\n",
       "    </tr>\n",
       "    <tr>\n",
       "      <th>1323</th>\n",
       "      <td>6/3/2024</td>\n",
       "      <td>AKAM</td>\n",
       "      <td>90.900002</td>\n",
       "      <td>90.900002</td>\n",
       "      <td>92.750000</td>\n",
       "      <td>90.300003</td>\n",
       "      <td>92.239998</td>\n",
       "      <td>1483600</td>\n",
       "    </tr>\n",
       "  </tbody>\n",
       "</table>\n",
       "<p>1324 rows × 8 columns</p>\n",
       "</div>"
      ],
      "text/plain": [
       "           Date Symbol  Adj Close      Close       High        Low       Open  \\\n",
       "0      3/1/2019   AKAM  71.089996  71.089996  71.489998  69.739998  70.059998   \n",
       "1      3/4/2019   AKAM  70.290001  70.290001  71.790001  69.709999  71.550003   \n",
       "2      3/5/2019   AKAM  70.550003  70.550003  70.989998  69.800003  70.209999   \n",
       "3      3/6/2019   AKAM  71.540001  71.540001  71.680000  70.510002  70.620003   \n",
       "4      3/7/2019   AKAM  70.470001  70.470001  71.150002  70.019997  71.089996   \n",
       "...         ...    ...        ...        ...        ...        ...        ...   \n",
       "1319  5/28/2024   AKAM  92.589996  92.589996  94.150002  92.489998  93.540001   \n",
       "1320  5/29/2024   AKAM  90.839996  90.839996  92.379997  90.779999  92.000000   \n",
       "1321  5/30/2024   AKAM  90.220001  90.220001  90.889999  89.550003  90.839996   \n",
       "1322  5/31/2024   AKAM  92.239998  92.239998  92.410004  89.599998  90.120003   \n",
       "1323   6/3/2024   AKAM  90.900002  90.900002  92.750000  90.300003  92.239998   \n",
       "\n",
       "       Volume  \n",
       "0     1633700  \n",
       "1      995000  \n",
       "2     1282100  \n",
       "3     1658400  \n",
       "4     1353400  \n",
       "...       ...  \n",
       "1319  1497900  \n",
       "1320  1332200  \n",
       "1321  2662200  \n",
       "1322  3298500  \n",
       "1323  1483600  \n",
       "\n",
       "[1324 rows x 8 columns]"
      ]
     },
     "execution_count": 2,
     "metadata": {},
     "output_type": "execute_result"
    }
   ],
   "source": [
    "# Load data from CSV file\n",
    "data = pd.read_csv('../../../Dataset/AKAM_Stock.csv')\n",
    "\n",
    "# Tiền xử lí dữ liệu\n",
    "# Hàm chuyển đổi \"Vol.\" từ chuỗi sang số\n",
    "def convert_volume_to_number(volume_str):\n",
    "    if volume_str[-1] == 'K':\n",
    "        return int(float(volume_str[:-1]) * 1000)\n",
    "    elif volume_str[-1] == 'M':\n",
    "        return int(float(volume_str[:-1]) * 1000000)\n",
    "    elif volume_str[-1] == 'B':\n",
    "        return int(float(volume_str[:-1]) * 1000000000)\n",
    "    else:\n",
    "        return int(volume_str)\n",
    "\n",
    "data"
   ]
  },
  {
   "cell_type": "code",
   "execution_count": 3,
   "metadata": {
    "id": "gJuOh8-y_Uif"
   },
   "outputs": [],
   "source": [
    "# 2. Đọc file dữ liệu chứng khoán AAPL và chia train test validate theo tỉ lệ 7:2:1\n",
    "df = data\n",
    "df = df[['Close']]\n",
    "df = df.dropna() # Drop missing values\n",
    "df = df.reset_index(drop=True) # Reset the index\n",
    "\n",
    "# Split the data into training, testing, and validation sets\n",
    "train_size = int(0.7 * len(df))\n",
    "test_size = len(df) - train_size\n",
    "\n",
    "train_data = df[:train_size]\n",
    "test_data = df[train_size:]"
   ]
  },
  {
   "cell_type": "code",
   "execution_count": 4,
   "metadata": {
    "colab": {
     "base_uri": "https://localhost:8080/",
     "height": 387
    },
    "id": "JbQNK8an_imI",
    "outputId": "8a54dfde-fd22-4b5d-f277-bf09c0c29b62"
   },
   "outputs": [
    {
     "name": "stdout",
     "output_type": "stream",
     "text": [
      "Performing stepwise search to minimize aic\n",
      " ARIMA(2,1,2)(0,0,0)[0] intercept   : AIC=3775.940, Time=0.97 sec\n",
      " ARIMA(0,1,0)(0,0,0)[0] intercept   : AIC=3776.888, Time=0.02 sec\n",
      " ARIMA(1,1,0)(0,0,0)[0] intercept   : AIC=3778.814, Time=0.05 sec\n",
      " ARIMA(0,1,1)(0,0,0)[0] intercept   : AIC=3778.804, Time=0.08 sec\n",
      " ARIMA(0,1,0)(0,0,0)[0]             : AIC=3774.981, Time=0.02 sec\n",
      " ARIMA(1,1,1)(0,0,0)[0] intercept   : AIC=3775.053, Time=0.62 sec\n",
      "\n",
      "Best model:  ARIMA(0,1,0)(0,0,0)[0]          \n",
      "Total fit time: 1.768 seconds\n"
     ]
    },
    {
     "data": {
      "text/html": [
       "<style>#sk-container-id-1 {color: black;}#sk-container-id-1 pre{padding: 0;}#sk-container-id-1 div.sk-toggleable {background-color: white;}#sk-container-id-1 label.sk-toggleable__label {cursor: pointer;display: block;width: 100%;margin-bottom: 0;padding: 0.3em;box-sizing: border-box;text-align: center;}#sk-container-id-1 label.sk-toggleable__label-arrow:before {content: \"▸\";float: left;margin-right: 0.25em;color: #696969;}#sk-container-id-1 label.sk-toggleable__label-arrow:hover:before {color: black;}#sk-container-id-1 div.sk-estimator:hover label.sk-toggleable__label-arrow:before {color: black;}#sk-container-id-1 div.sk-toggleable__content {max-height: 0;max-width: 0;overflow: hidden;text-align: left;background-color: #f0f8ff;}#sk-container-id-1 div.sk-toggleable__content pre {margin: 0.2em;color: black;border-radius: 0.25em;background-color: #f0f8ff;}#sk-container-id-1 input.sk-toggleable__control:checked~div.sk-toggleable__content {max-height: 200px;max-width: 100%;overflow: auto;}#sk-container-id-1 input.sk-toggleable__control:checked~label.sk-toggleable__label-arrow:before {content: \"▾\";}#sk-container-id-1 div.sk-estimator input.sk-toggleable__control:checked~label.sk-toggleable__label {background-color: #d4ebff;}#sk-container-id-1 div.sk-label input.sk-toggleable__control:checked~label.sk-toggleable__label {background-color: #d4ebff;}#sk-container-id-1 input.sk-hidden--visually {border: 0;clip: rect(1px 1px 1px 1px);clip: rect(1px, 1px, 1px, 1px);height: 1px;margin: -1px;overflow: hidden;padding: 0;position: absolute;width: 1px;}#sk-container-id-1 div.sk-estimator {font-family: monospace;background-color: #f0f8ff;border: 1px dotted black;border-radius: 0.25em;box-sizing: border-box;margin-bottom: 0.5em;}#sk-container-id-1 div.sk-estimator:hover {background-color: #d4ebff;}#sk-container-id-1 div.sk-parallel-item::after {content: \"\";width: 100%;border-bottom: 1px solid gray;flex-grow: 1;}#sk-container-id-1 div.sk-label:hover label.sk-toggleable__label {background-color: #d4ebff;}#sk-container-id-1 div.sk-serial::before {content: \"\";position: absolute;border-left: 1px solid gray;box-sizing: border-box;top: 0;bottom: 0;left: 50%;z-index: 0;}#sk-container-id-1 div.sk-serial {display: flex;flex-direction: column;align-items: center;background-color: white;padding-right: 0.2em;padding-left: 0.2em;position: relative;}#sk-container-id-1 div.sk-item {position: relative;z-index: 1;}#sk-container-id-1 div.sk-parallel {display: flex;align-items: stretch;justify-content: center;background-color: white;position: relative;}#sk-container-id-1 div.sk-item::before, #sk-container-id-1 div.sk-parallel-item::before {content: \"\";position: absolute;border-left: 1px solid gray;box-sizing: border-box;top: 0;bottom: 0;left: 50%;z-index: -1;}#sk-container-id-1 div.sk-parallel-item {display: flex;flex-direction: column;z-index: 1;position: relative;background-color: white;}#sk-container-id-1 div.sk-parallel-item:first-child::after {align-self: flex-end;width: 50%;}#sk-container-id-1 div.sk-parallel-item:last-child::after {align-self: flex-start;width: 50%;}#sk-container-id-1 div.sk-parallel-item:only-child::after {width: 0;}#sk-container-id-1 div.sk-dashed-wrapped {border: 1px dashed gray;margin: 0 0.4em 0.5em 0.4em;box-sizing: border-box;padding-bottom: 0.4em;background-color: white;}#sk-container-id-1 div.sk-label label {font-family: monospace;font-weight: bold;display: inline-block;line-height: 1.2em;}#sk-container-id-1 div.sk-label-container {text-align: center;}#sk-container-id-1 div.sk-container {/* jupyter's `normalize.less` sets `[hidden] { display: none; }` but bootstrap.min.css set `[hidden] { display: none !important; }` so we also need the `!important` here to be able to override the default hidden behavior on the sphinx rendered scikit-learn.org. See: https://github.com/scikit-learn/scikit-learn/issues/21755 */display: inline-block !important;position: relative;}#sk-container-id-1 div.sk-text-repr-fallback {display: none;}</style><div id=\"sk-container-id-1\" class=\"sk-top-container\"><div class=\"sk-text-repr-fallback\"><pre> ARIMA(0,1,0)(0,0,0)[0]          </pre><b>In a Jupyter environment, please rerun this cell to show the HTML representation or trust the notebook. <br />On GitHub, the HTML representation is unable to render, please try loading this page with nbviewer.org.</b></div><div class=\"sk-container\" hidden><div class=\"sk-item\"><div class=\"sk-estimator sk-toggleable\"><input class=\"sk-toggleable__control sk-hidden--visually\" id=\"sk-estimator-id-1\" type=\"checkbox\" checked><label for=\"sk-estimator-id-1\" class=\"sk-toggleable__label sk-toggleable__label-arrow\">ARIMA</label><div class=\"sk-toggleable__content\"><pre> ARIMA(0,1,0)(0,0,0)[0]          </pre></div></div></div></div></div>"
      ],
      "text/plain": [
       "ARIMA(order=(0, 1, 0), scoring_args={}, suppress_warnings=True,\n",
       "      with_intercept=False)"
      ]
     },
     "execution_count": 4,
     "metadata": {},
     "output_type": "execute_result"
    }
   ],
   "source": [
    "# 3. Quá trình Training\n",
    "x_train = np.array(train_data.index).reshape(-1, 1)\n",
    "y_train = np.array(train_data['Close'])\n",
    "\n",
    "# Find the best ARIMA model using auto_arima\n",
    "from pmdarima.arima import auto_arima\n",
    "model = auto_arima(y_train, trace=True, error_action='ignore', suppress_warnings=True)\n",
    "\n",
    "# Fit the model\n",
    "model.fit(y_train)"
   ]
  },
  {
   "cell_type": "code",
   "execution_count": 5,
   "metadata": {
    "id": "tq3vSOvd_xL3"
   },
   "outputs": [],
   "source": [
    "# 4. Quá trình testing \n",
    "x_test = np.array(test_data.index).reshape(-1, 1)\n",
    "y_test = np.array(test_data['Close'])\n",
    "y_pred = model.predict(n_periods=len(y_test))\n"
   ]
  },
  {
   "cell_type": "code",
   "execution_count": 6,
   "metadata": {
    "colab": {
     "base_uri": "https://localhost:8080/"
    },
    "id": "mI2qmayj_-rD",
    "outputId": "d648e73b-f491-41e3-9835-906ee8eb8f6d"
   },
   "outputs": [
    {
     "name": "stdout",
     "output_type": "stream",
     "text": [
      "Predicted closing prices for the next 30 days:\n",
      "[88.33000183 88.33000183 88.33000183 88.33000183 88.33000183 88.33000183\n",
      " 88.33000183 88.33000183 88.33000183 88.33000183 88.33000183 88.33000183\n",
      " 88.33000183 88.33000183 88.33000183 88.33000183 88.33000183 88.33000183\n",
      " 88.33000183 88.33000183 88.33000183 88.33000183 88.33000183 88.33000183\n",
      " 88.33000183 88.33000183 88.33000183 88.33000183 88.33000183 88.33000183]\n"
     ]
    }
   ],
   "source": [
    "# 5. Quá trình tạo index predict 30 ngày tiếp theo\n",
    "last_index =  df.index[-1]\n",
    "last_data_30 = pd.RangeIndex(start=last_index, stop=last_index+30, step=1)\n",
    "\n",
    "# Create an array of 30 consecutive integers starting from last_index\n",
    "x_next_30_days = np.array(range(last_index+1, last_index+31)).reshape(-1, 1)\n",
    "\n",
    "# Predict the closing prices for the next 30 days\n",
    "y_next_30_days = model.predict(n_periods=len(x_next_30_days))\n",
    "\n",
    "# Print the predicted closing prices for the next 30 days\n",
    "print('Predicted closing prices for the next 30 days:')\n",
    "print(y_next_30_days)"
   ]
  },
  {
   "cell_type": "code",
   "execution_count": 7,
   "metadata": {},
   "outputs": [
    {
     "name": "stdout",
     "output_type": "stream",
     "text": [
      "Predicted closing prices for the next 60 days:\n",
      "[88.33000183 88.33000183 88.33000183 88.33000183 88.33000183 88.33000183\n",
      " 88.33000183 88.33000183 88.33000183 88.33000183 88.33000183 88.33000183\n",
      " 88.33000183 88.33000183 88.33000183 88.33000183 88.33000183 88.33000183\n",
      " 88.33000183 88.33000183 88.33000183 88.33000183 88.33000183 88.33000183\n",
      " 88.33000183 88.33000183 88.33000183 88.33000183 88.33000183 88.33000183\n",
      " 88.33000183 88.33000183 88.33000183 88.33000183 88.33000183 88.33000183\n",
      " 88.33000183 88.33000183 88.33000183 88.33000183 88.33000183 88.33000183\n",
      " 88.33000183 88.33000183 88.33000183 88.33000183 88.33000183 88.33000183\n",
      " 88.33000183 88.33000183 88.33000183 88.33000183 88.33000183 88.33000183\n",
      " 88.33000183 88.33000183 88.33000183 88.33000183 88.33000183 88.33000183]\n"
     ]
    }
   ],
   "source": [
    "# 6. Quá trình tạo index predict 60 ngày tiếp theo\n",
    "last_index =  df.index[-1]\n",
    "last_data_60 = pd.RangeIndex(start=last_index, stop=last_index+60, step=1)\n",
    "\n",
    "# Create an array of 30 consecutive integers starting from last_index\n",
    "x_next_60_days = np.array(range(last_index+1, last_index+61)).reshape(-1, 1)\n",
    "\n",
    "# Predict the closing prices for the next 30 days\n",
    "y_next_60_days = model.predict(n_periods=len(x_next_60_days))\n",
    "\n",
    "# Print the predicted closing prices for the next 30 days\n",
    "print('Predicted closing prices for the next 60 days:')\n",
    "print(y_next_60_days)"
   ]
  },
  {
   "cell_type": "code",
   "execution_count": 8,
   "metadata": {},
   "outputs": [
    {
     "name": "stdout",
     "output_type": "stream",
     "text": [
      "Predicted closing prices for the next 90 days:\n",
      "[88.33000183 88.33000183 88.33000183 88.33000183 88.33000183 88.33000183\n",
      " 88.33000183 88.33000183 88.33000183 88.33000183 88.33000183 88.33000183\n",
      " 88.33000183 88.33000183 88.33000183 88.33000183 88.33000183 88.33000183\n",
      " 88.33000183 88.33000183 88.33000183 88.33000183 88.33000183 88.33000183\n",
      " 88.33000183 88.33000183 88.33000183 88.33000183 88.33000183 88.33000183\n",
      " 88.33000183 88.33000183 88.33000183 88.33000183 88.33000183 88.33000183\n",
      " 88.33000183 88.33000183 88.33000183 88.33000183 88.33000183 88.33000183\n",
      " 88.33000183 88.33000183 88.33000183 88.33000183 88.33000183 88.33000183\n",
      " 88.33000183 88.33000183 88.33000183 88.33000183 88.33000183 88.33000183\n",
      " 88.33000183 88.33000183 88.33000183 88.33000183 88.33000183 88.33000183\n",
      " 88.33000183 88.33000183 88.33000183 88.33000183 88.33000183 88.33000183\n",
      " 88.33000183 88.33000183 88.33000183 88.33000183 88.33000183 88.33000183\n",
      " 88.33000183 88.33000183 88.33000183 88.33000183 88.33000183 88.33000183\n",
      " 88.33000183 88.33000183 88.33000183 88.33000183 88.33000183 88.33000183\n",
      " 88.33000183 88.33000183 88.33000183 88.33000183 88.33000183 88.33000183]\n"
     ]
    }
   ],
   "source": [
    "# 6. Quá trình tạo index predict 60 ngày tiếp theo\n",
    "last_index =  df.index[-1]\n",
    "last_data_90 = pd.RangeIndex(start=last_index, stop=last_index+90, step=1)\n",
    "\n",
    "# Create an array of 30 consecutive integers starting from last_index\n",
    "x_next_90_days = np.array(range(last_index+1, last_index+91)).reshape(-1, 1)\n",
    "\n",
    "# Predict the closing prices for the next 30 days\n",
    "y_next_90_days = model.predict(n_periods=len(x_next_90_days))\n",
    "\n",
    "# Print the predicted closing prices for the next 30 days\n",
    "print('Predicted closing prices for the next 90 days:')\n",
    "print(y_next_90_days)"
   ]
  },
  {
   "cell_type": "code",
   "execution_count": 9,
   "metadata": {
    "colab": {
     "base_uri": "https://localhost:8080/"
    },
    "id": "JwcVt4wgAHCy",
    "outputId": "72abb27d-2114-49e5-ec95-6922e37d60a9"
   },
   "outputs": [
    {
     "name": "stdout",
     "output_type": "stream",
     "text": [
      "Testing RMSE: 16.4766554250472\n"
     ]
    }
   ],
   "source": [
    "# 7. Đánh giá độ chính xác validate, test\n",
    "test_rmse = np.sqrt(np.mean((y_pred - y_test)**2))\n",
    "print('Testing RMSE:', test_rmse)\n"
   ]
  },
  {
   "cell_type": "code",
   "execution_count": 10,
   "metadata": {
    "colab": {
     "base_uri": "https://localhost:8080/",
     "height": 465
    },
    "id": "DE3Pge7a0EHs",
    "outputId": "df98bb23-fd48-47c6-c83d-e9f5cfbf1ca0"
   },
   "outputs": [
    {
     "data": {
      "image/png": "[encoded data removed]",
      "text/plain": [
       "<Figure size 640x480 with 1 Axes>"
      ]
     },
     "metadata": {},
     "output_type": "display_data"
    }
   ],
   "source": [
    "# 8.Vẽ hình\n",
    "plt.plot(train_data.index, train_data['Close'])\n",
    "plt.plot(test_data.index, test_data['Close'])\n",
    "plt.plot(test_data.index, y_pred)\n",
    "plt.plot(last_data_90,y_next_90_days)\n",
    "plt.plot(last_data_60,y_next_60_days)\n",
    "plt.plot(last_data_30,y_next_30_days)\n",
    "plt.legend(['Train', 'Test', 'Predictions','Validate','Next90Day', 'Next60Day', 'Next30Day'])\n",
    "plt.show()"
   ]
  },
  {
   "cell_type": "code",
   "execution_count": 11,
   "metadata": {
    "colab": {
     "base_uri": "https://localhost:8080/"
    },
    "id": "Eyxpcd3v7i-k",
    "outputId": "2478d5af-e6b1-4bfe-a276-b15fd1cead66"
   },
   "outputs": [
    {
     "data": {
      "text/plain": [
       "RangeIndex(start=926, stop=1324, step=1)"
      ]
     },
     "execution_count": 11,
     "metadata": {},
     "output_type": "execute_result"
    }
   ],
   "source": [
    "test_data.index"
   ]
  },
  {
   "cell_type": "code",
   "execution_count": 12,
   "metadata": {},
   "outputs": [
    {
     "name": "stdout",
     "output_type": "stream",
     "text": [
      "Testing RMSE: 16.4766554250472\n",
      "Testing MAPE: 12.663543081642068\n",
      "Testing MAE: 13.117185026859294\n"
     ]
    }
   ],
   "source": [
    "# Tính MAPE\n",
    "def calculate_mape(y_true, y_pred):\n",
    "    return np.mean(np.abs((y_true - y_pred) / y_true)) * 100\n",
    "\n",
    "#  Tính MAE\n",
    "def calculate_mae(y_true, y_pred):\n",
    "    y_true = np.array(y_true)\n",
    "    y_pred = np.array(y_pred)\n",
    "    \n",
    "    mae = np.mean(np.abs(y_true - y_pred))\n",
    "    return mae\n",
    "\n",
    "# Tính toán RMSE, MAPE và MDA\n",
    "test_rmse = np.sqrt(np.mean((y_pred - y_test) ** 2))\n",
    "test_mape = calculate_mape(y_test, y_pred)\n",
    "test_mae = calculate_mae(y_test, y_pred)\n",
    "\n",
    "# In kết quả\n",
    "print('Testing RMSE:', test_rmse)\n",
    "print('Testing MAPE:', test_mape)\n",
    "print('Testing MAE:', test_mae)"
   ]
  }
 ],
 "metadata": {
  "colab": {
   "provenance": []
  },
  "kernelspec": {
   "display_name": "Python 3 (ipykernel)",
   "language": "python",
   "name": "python3"
  },
  "language_info": {
   "codemirror_mode": {
    "name": "ipython",
    "version": 3
   },
   "file_extension": ".py",
   "mimetype": "text/x-python",
   "name": "python",
   "nbconvert_exporter": "python",
   "pygments_lexer": "ipython3",
   "version": "3.11.5"
  }
 },
 "nbformat": 4,
 "nbformat_minor": 1
}
