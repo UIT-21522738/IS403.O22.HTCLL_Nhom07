{
 "cells": [
  {
   "cell_type": "code",
   "execution_count": 1,
   "metadata": {
    "id": "TOsoPjnYzZCW"
   },
   "outputs": [],
   "source": [
    "# 1. Các thư viện cần thiết\n",
    "import numpy as np\n",
    "import pandas as pd\n",
    "import matplotlib.pyplot as plt\n",
    "\n"
   ]
  },
  {
   "cell_type": "code",
   "execution_count": 2,
   "metadata": {
    "colab": {
     "base_uri": "https://localhost:8080/",
     "height": 455
    },
    "id": "DewQquJ1zXi_",
    "outputId": "dc507c84-0a1f-4af5-d3b1-d2460e4a5f5a"
   },
   "outputs": [
    {
     "data": {
      "text/html": [
       "<div>\n",
       "<style scoped>\n",
       "    .dataframe tbody tr th:only-of-type {\n",
       "        vertical-align: middle;\n",
       "    }\n",
       "\n",
       "    .dataframe tbody tr th {\n",
       "        vertical-align: top;\n",
       "    }\n",
       "\n",
       "    .dataframe thead th {\n",
       "        text-align: right;\n",
       "    }\n",
       "</style>\n",
       "<table border=\"1\" class=\"dataframe\">\n",
       "  <thead>\n",
       "    <tr style=\"text-align: right;\">\n",
       "      <th></th>\n",
       "      <th>Date</th>\n",
       "      <th>Symbol</th>\n",
       "      <th>Adj Close</th>\n",
       "      <th>Close</th>\n",
       "      <th>High</th>\n",
       "      <th>Low</th>\n",
       "      <th>Open</th>\n",
       "      <th>Volume</th>\n",
       "    </tr>\n",
       "  </thead>\n",
       "  <tbody>\n",
       "    <tr>\n",
       "      <th>0</th>\n",
       "      <td>1/2/2019</td>\n",
       "      <td>ADBE</td>\n",
       "      <td>224.570007</td>\n",
       "      <td>224.570007</td>\n",
       "      <td>226.169998</td>\n",
       "      <td>219.000000</td>\n",
       "      <td>219.910004</td>\n",
       "      <td>2784100</td>\n",
       "    </tr>\n",
       "    <tr>\n",
       "      <th>1</th>\n",
       "      <td>1/3/2019</td>\n",
       "      <td>ADBE</td>\n",
       "      <td>215.699997</td>\n",
       "      <td>215.699997</td>\n",
       "      <td>223.630005</td>\n",
       "      <td>215.149994</td>\n",
       "      <td>220.880005</td>\n",
       "      <td>3663500</td>\n",
       "    </tr>\n",
       "    <tr>\n",
       "      <th>2</th>\n",
       "      <td>1/4/2019</td>\n",
       "      <td>ADBE</td>\n",
       "      <td>226.190002</td>\n",
       "      <td>226.190002</td>\n",
       "      <td>227.649994</td>\n",
       "      <td>217.479996</td>\n",
       "      <td>219.839996</td>\n",
       "      <td>4043400</td>\n",
       "    </tr>\n",
       "    <tr>\n",
       "      <th>3</th>\n",
       "      <td>1/7/2019</td>\n",
       "      <td>ADBE</td>\n",
       "      <td>229.259995</td>\n",
       "      <td>229.259995</td>\n",
       "      <td>232.600006</td>\n",
       "      <td>227.289993</td>\n",
       "      <td>229.949997</td>\n",
       "      <td>3638500</td>\n",
       "    </tr>\n",
       "    <tr>\n",
       "      <th>4</th>\n",
       "      <td>1/8/2019</td>\n",
       "      <td>ADBE</td>\n",
       "      <td>232.679993</td>\n",
       "      <td>232.679993</td>\n",
       "      <td>233.770004</td>\n",
       "      <td>228.330002</td>\n",
       "      <td>232.649994</td>\n",
       "      <td>3685900</td>\n",
       "    </tr>\n",
       "    <tr>\n",
       "      <th>...</th>\n",
       "      <td>...</td>\n",
       "      <td>...</td>\n",
       "      <td>...</td>\n",
       "      <td>...</td>\n",
       "      <td>...</td>\n",
       "      <td>...</td>\n",
       "      <td>...</td>\n",
       "      <td>...</td>\n",
       "    </tr>\n",
       "    <tr>\n",
       "      <th>1311</th>\n",
       "      <td>3/19/2024</td>\n",
       "      <td>ADBE</td>\n",
       "      <td>521.190002</td>\n",
       "      <td>521.190002</td>\n",
       "      <td>522.679993</td>\n",
       "      <td>508.989990</td>\n",
       "      <td>509.890015</td>\n",
       "      <td>7081800</td>\n",
       "    </tr>\n",
       "    <tr>\n",
       "      <th>1312</th>\n",
       "      <td>3/20/2024</td>\n",
       "      <td>ADBE</td>\n",
       "      <td>519.140015</td>\n",
       "      <td>519.140015</td>\n",
       "      <td>523.869995</td>\n",
       "      <td>512.500000</td>\n",
       "      <td>523.289978</td>\n",
       "      <td>4239600</td>\n",
       "    </tr>\n",
       "    <tr>\n",
       "      <th>1313</th>\n",
       "      <td>3/21/2024</td>\n",
       "      <td>ADBE</td>\n",
       "      <td>511.250000</td>\n",
       "      <td>511.250000</td>\n",
       "      <td>519.729981</td>\n",
       "      <td>506.200012</td>\n",
       "      <td>517.599976</td>\n",
       "      <td>5206600</td>\n",
       "    </tr>\n",
       "    <tr>\n",
       "      <th>1314</th>\n",
       "      <td>3/22/2024</td>\n",
       "      <td>ADBE</td>\n",
       "      <td>499.519989</td>\n",
       "      <td>499.519989</td>\n",
       "      <td>511.589996</td>\n",
       "      <td>496.670013</td>\n",
       "      <td>509.070007</td>\n",
       "      <td>5410300</td>\n",
       "    </tr>\n",
       "    <tr>\n",
       "      <th>1315</th>\n",
       "      <td>3/25/2024</td>\n",
       "      <td>ADBE</td>\n",
       "      <td>507.230011</td>\n",
       "      <td>507.230011</td>\n",
       "      <td>510.570007</td>\n",
       "      <td>496.690002</td>\n",
       "      <td>496.700012</td>\n",
       "      <td>4265618</td>\n",
       "    </tr>\n",
       "  </tbody>\n",
       "</table>\n",
       "<p>1316 rows × 8 columns</p>\n",
       "</div>"
      ],
      "text/plain": [
       "           Date Symbol   Adj Close       Close        High         Low  \\\n",
       "0      1/2/2019   ADBE  224.570007  224.570007  226.169998  219.000000   \n",
       "1      1/3/2019   ADBE  215.699997  215.699997  223.630005  215.149994   \n",
       "2      1/4/2019   ADBE  226.190002  226.190002  227.649994  217.479996   \n",
       "3      1/7/2019   ADBE  229.259995  229.259995  232.600006  227.289993   \n",
       "4      1/8/2019   ADBE  232.679993  232.679993  233.770004  228.330002   \n",
       "...         ...    ...         ...         ...         ...         ...   \n",
       "1311  3/19/2024   ADBE  521.190002  521.190002  522.679993  508.989990   \n",
       "1312  3/20/2024   ADBE  519.140015  519.140015  523.869995  512.500000   \n",
       "1313  3/21/2024   ADBE  511.250000  511.250000  519.729981  506.200012   \n",
       "1314  3/22/2024   ADBE  499.519989  499.519989  511.589996  496.670013   \n",
       "1315  3/25/2024   ADBE  507.230011  507.230011  510.570007  496.690002   \n",
       "\n",
       "            Open   Volume  \n",
       "0     219.910004  2784100  \n",
       "1     220.880005  3663500  \n",
       "2     219.839996  4043400  \n",
       "3     229.949997  3638500  \n",
       "4     232.649994  3685900  \n",
       "...          ...      ...  \n",
       "1311  509.890015  7081800  \n",
       "1312  523.289978  4239600  \n",
       "1313  517.599976  5206600  \n",
       "1314  509.070007  5410300  \n",
       "1315  496.700012  4265618  \n",
       "\n",
       "[1316 rows x 8 columns]"
      ]
     },
     "execution_count": 2,
     "metadata": {},
     "output_type": "execute_result"
    }
   ],
   "source": [
    "# Load data from CSV file\n",
    "data = pd.read_csv('../../../Dataset/ADBE_Stock.csv')\n",
    "\n",
    "# Tiền xử lí dữ liệu\n",
    "# Hàm chuyển đổi \"Vol.\" từ chuỗi sang số\n",
    "def convert_volume_to_number(volume_str):\n",
    "    if volume_str[-1] == 'K':\n",
    "        return int(float(volume_str[:-1]) * 1000)\n",
    "    elif volume_str[-1] == 'M':\n",
    "        return int(float(volume_str[:-1]) * 1000000)\n",
    "    elif volume_str[-1] == 'B':\n",
    "        return int(float(volume_str[:-1]) * 1000000000)\n",
    "    else:\n",
    "        return int(volume_str)\n",
    "\n",
    "data"
   ]
  },
  {
   "cell_type": "code",
   "execution_count": 3,
   "metadata": {
    "id": "gJuOh8-y_Uif"
   },
   "outputs": [],
   "source": [
    "# 2. Đọc file dữ liệu chứng khoán AAPL và chia train test validate theo tỉ lệ 7:2:1\n",
    "df = data\n",
    "df = df[['Close']]\n",
    "df = df.dropna() # Drop missing values\n",
    "df = df.reset_index(drop=True) # Reset the index\n",
    "\n",
    "# Split the data into training, testing, and validation sets\n",
    "train_size = int(0.7 * len(df))\n",
    "test_size = int(0.2 * len(df))\n",
    "val_size = len(df) - train_size - test_size\n",
    "\n",
    "train_data = df[:train_size]\n",
    "test_data = df[train_size:train_size+test_size]\n",
    "val_data = df[train_size+test_size:]"
   ]
  },
  {
   "cell_type": "code",
   "execution_count": 4,
   "metadata": {
    "colab": {
     "base_uri": "https://localhost:8080/",
     "height": 387
    },
    "id": "JbQNK8an_imI",
    "outputId": "8a54dfde-fd22-4b5d-f277-bf09c0c29b62"
   },
   "outputs": [
    {
     "name": "stdout",
     "output_type": "stream",
     "text": [
      "Performing stepwise search to minimize aic\n",
      " ARIMA(2,1,2)(0,0,0)[0] intercept   : AIC=6808.580, Time=0.50 sec\n",
      " ARIMA(0,1,0)(0,0,0)[0] intercept   : AIC=6820.525, Time=0.02 sec\n",
      " ARIMA(1,1,0)(0,0,0)[0] intercept   : AIC=6804.711, Time=0.04 sec\n",
      " ARIMA(0,1,1)(0,0,0)[0] intercept   : AIC=6806.102, Time=0.10 sec\n",
      " ARIMA(0,1,0)(0,0,0)[0]             : AIC=6818.801, Time=0.01 sec\n",
      " ARIMA(2,1,0)(0,0,0)[0] intercept   : AIC=6805.343, Time=0.08 sec\n",
      " ARIMA(1,1,1)(0,0,0)[0] intercept   : AIC=6804.966, Time=0.22 sec\n",
      " ARIMA(2,1,1)(0,0,0)[0] intercept   : AIC=6807.492, Time=0.50 sec\n",
      " ARIMA(1,1,0)(0,0,0)[0]             : AIC=6803.093, Time=0.03 sec\n",
      " ARIMA(2,1,0)(0,0,0)[0]             : AIC=6803.692, Time=0.06 sec\n",
      " ARIMA(1,1,1)(0,0,0)[0]             : AIC=6803.322, Time=0.12 sec\n",
      " ARIMA(0,1,1)(0,0,0)[0]             : AIC=6804.489, Time=0.05 sec\n",
      " ARIMA(2,1,1)(0,0,0)[0]             : AIC=6805.878, Time=0.21 sec\n",
      "\n",
      "Best model:  ARIMA(1,1,0)(0,0,0)[0]          \n",
      "Total fit time: 1.936 seconds\n"
     ]
    },
    {
     "data": {
      "text/html": [
       "<style>#sk-container-id-1 {color: black;}#sk-container-id-1 pre{padding: 0;}#sk-container-id-1 div.sk-toggleable {background-color: white;}#sk-container-id-1 label.sk-toggleable__label {cursor: pointer;display: block;width: 100%;margin-bottom: 0;padding: 0.3em;box-sizing: border-box;text-align: center;}#sk-container-id-1 label.sk-toggleable__label-arrow:before {content: \"▸\";float: left;margin-right: 0.25em;color: #696969;}#sk-container-id-1 label.sk-toggleable__label-arrow:hover:before {color: black;}#sk-container-id-1 div.sk-estimator:hover label.sk-toggleable__label-arrow:before {color: black;}#sk-container-id-1 div.sk-toggleable__content {max-height: 0;max-width: 0;overflow: hidden;text-align: left;background-color: #f0f8ff;}#sk-container-id-1 div.sk-toggleable__content pre {margin: 0.2em;color: black;border-radius: 0.25em;background-color: #f0f8ff;}#sk-container-id-1 input.sk-toggleable__control:checked~div.sk-toggleable__content {max-height: 200px;max-width: 100%;overflow: auto;}#sk-container-id-1 input.sk-toggleable__control:checked~label.sk-toggleable__label-arrow:before {content: \"▾\";}#sk-container-id-1 div.sk-estimator input.sk-toggleable__control:checked~label.sk-toggleable__label {background-color: #d4ebff;}#sk-container-id-1 div.sk-label input.sk-toggleable__control:checked~label.sk-toggleable__label {background-color: #d4ebff;}#sk-container-id-1 input.sk-hidden--visually {border: 0;clip: rect(1px 1px 1px 1px);clip: rect(1px, 1px, 1px, 1px);height: 1px;margin: -1px;overflow: hidden;padding: 0;position: absolute;width: 1px;}#sk-container-id-1 div.sk-estimator {font-family: monospace;background-color: #f0f8ff;border: 1px dotted black;border-radius: 0.25em;box-sizing: border-box;margin-bottom: 0.5em;}#sk-container-id-1 div.sk-estimator:hover {background-color: #d4ebff;}#sk-container-id-1 div.sk-parallel-item::after {content: \"\";width: 100%;border-bottom: 1px solid gray;flex-grow: 1;}#sk-container-id-1 div.sk-label:hover label.sk-toggleable__label {background-color: #d4ebff;}#sk-container-id-1 div.sk-serial::before {content: \"\";position: absolute;border-left: 1px solid gray;box-sizing: border-box;top: 0;bottom: 0;left: 50%;z-index: 0;}#sk-container-id-1 div.sk-serial {display: flex;flex-direction: column;align-items: center;background-color: white;padding-right: 0.2em;padding-left: 0.2em;position: relative;}#sk-container-id-1 div.sk-item {position: relative;z-index: 1;}#sk-container-id-1 div.sk-parallel {display: flex;align-items: stretch;justify-content: center;background-color: white;position: relative;}#sk-container-id-1 div.sk-item::before, #sk-container-id-1 div.sk-parallel-item::before {content: \"\";position: absolute;border-left: 1px solid gray;box-sizing: border-box;top: 0;bottom: 0;left: 50%;z-index: -1;}#sk-container-id-1 div.sk-parallel-item {display: flex;flex-direction: column;z-index: 1;position: relative;background-color: white;}#sk-container-id-1 div.sk-parallel-item:first-child::after {align-self: flex-end;width: 50%;}#sk-container-id-1 div.sk-parallel-item:last-child::after {align-self: flex-start;width: 50%;}#sk-container-id-1 div.sk-parallel-item:only-child::after {width: 0;}#sk-container-id-1 div.sk-dashed-wrapped {border: 1px dashed gray;margin: 0 0.4em 0.5em 0.4em;box-sizing: border-box;padding-bottom: 0.4em;background-color: white;}#sk-container-id-1 div.sk-label label {font-family: monospace;font-weight: bold;display: inline-block;line-height: 1.2em;}#sk-container-id-1 div.sk-label-container {text-align: center;}#sk-container-id-1 div.sk-container {/* jupyter's `normalize.less` sets `[hidden] { display: none; }` but bootstrap.min.css set `[hidden] { display: none !important; }` so we also need the `!important` here to be able to override the default hidden behavior on the sphinx rendered scikit-learn.org. See: https://github.com/scikit-learn/scikit-learn/issues/21755 */display: inline-block !important;position: relative;}#sk-container-id-1 div.sk-text-repr-fallback {display: none;}</style><div id=\"sk-container-id-1\" class=\"sk-top-container\"><div class=\"sk-text-repr-fallback\"><pre> ARIMA(1,1,0)(0,0,0)[0]          </pre><b>In a Jupyter environment, please rerun this cell to show the HTML representation or trust the notebook. <br />On GitHub, the HTML representation is unable to render, please try loading this page with nbviewer.org.</b></div><div class=\"sk-container\" hidden><div class=\"sk-item\"><div class=\"sk-estimator sk-toggleable\"><input class=\"sk-toggleable__control sk-hidden--visually\" id=\"sk-estimator-id-1\" type=\"checkbox\" checked><label for=\"sk-estimator-id-1\" class=\"sk-toggleable__label sk-toggleable__label-arrow\">ARIMA</label><div class=\"sk-toggleable__content\"><pre> ARIMA(1,1,0)(0,0,0)[0]          </pre></div></div></div></div></div>"
      ],
      "text/plain": [
       "ARIMA(order=(1, 1, 0), scoring_args={}, suppress_warnings=True,\n",
       "      with_intercept=False)"
      ]
     },
     "execution_count": 4,
     "metadata": {},
     "output_type": "execute_result"
    }
   ],
   "source": [
    "# 3. Quá trình Training\n",
    "x_train = np.array(train_data.index).reshape(-1, 1)\n",
    "y_train = np.array(train_data['Close'])\n",
    "\n",
    "# Find the best ARIMA model using auto_arima\n",
    "from pmdarima.arima import auto_arima\n",
    "model = auto_arima(y_train, trace=True, error_action='ignore', suppress_warnings=True)\n",
    "\n",
    "# Fit the model\n",
    "model.fit(y_train)"
   ]
  },
  {
   "cell_type": "code",
   "execution_count": 5,
   "metadata": {
    "id": "tq3vSOvd_xL3"
   },
   "outputs": [],
   "source": [
    "# 4. Quá trình testing \n",
    "x_test = np.array(test_data.index).reshape(-1, 1)\n",
    "y_test = np.array(test_data['Close'])\n",
    "y_pred = model.predict(n_periods=len(y_test))\n",
    "\n",
    "# 5. Quá trình Validate\n",
    "x_val= np.array(val_data.index).reshape(-1, 1)\n",
    "y_val = np.array(val_data['Close'])\n",
    "y_pred_val =  model.predict(n_periods=len(y_val))"
   ]
  },
  {
   "cell_type": "code",
   "execution_count": 6,
   "metadata": {
    "colab": {
     "base_uri": "https://localhost:8080/"
    },
    "id": "mI2qmayj_-rD",
    "outputId": "d648e73b-f491-41e3-9835-906ee8eb8f6d"
   },
   "outputs": [
    {
     "name": "stdout",
     "output_type": "stream",
     "text": [
      "Predicted closing prices for the next 30 days:\n",
      "[384.192038   383.7528458  383.81365501 383.80523555 383.80640128\n",
      " 383.80623988 383.80626223 383.80625913 383.80625956 383.8062595\n",
      " 383.80625951 383.80625951 383.80625951 383.80625951 383.80625951\n",
      " 383.80625951 383.80625951 383.80625951 383.80625951 383.80625951\n",
      " 383.80625951 383.80625951 383.80625951 383.80625951 383.80625951\n",
      " 383.80625951 383.80625951 383.80625951 383.80625951 383.80625951]\n"
     ]
    }
   ],
   "source": [
    "# 6. Quá trình tạo index predict 30 ngày tiếp theo\n",
    "last_index =  df.index[-1]\n",
    "last_data = pd.RangeIndex(start=last_index, stop=last_index+30, step=1)\n",
    "\n",
    "# Create an array of 30 consecutive integers starting from last_index\n",
    "x_next_30_days = np.array(range(last_index+1, last_index+31)).reshape(-1, 1)\n",
    "\n",
    "# Predict the closing prices for the next 30 days\n",
    "y_next_30_days = model.predict(n_periods=len(x_next_30_days))\n",
    "\n",
    "# Print the predicted closing prices for the next 30 days\n",
    "print('Predicted closing prices for the next 30 days:')\n",
    "print(y_next_30_days)"
   ]
  },
  {
   "cell_type": "code",
   "execution_count": 7,
   "metadata": {
    "colab": {
     "base_uri": "https://localhost:8080/"
    },
    "id": "JwcVt4wgAHCy",
    "outputId": "72abb27d-2114-49e5-ec95-6922e37d60a9"
   },
   "outputs": [
    {
     "name": "stdout",
     "output_type": "stream",
     "text": [
      "Validation RMSE: 191.93437658699136\n",
      "Testing RMSE: 81.04388031008295\n"
     ]
    }
   ],
   "source": [
    "# 7. Đánh giá độ chính xác validate, test\n",
    "valid_rmse = np.sqrt(np.mean((y_pred_val - y_val)**2))\n",
    "test_rmse = np.sqrt(np.mean((y_pred - y_test)**2))\n",
    "print('Validation RMSE:', valid_rmse)\n",
    "print('Testing RMSE:', test_rmse)\n"
   ]
  },
  {
   "cell_type": "code",
   "execution_count": 8,
   "metadata": {
    "colab": {
     "base_uri": "https://localhost:8080/",
     "height": 465
    },
    "id": "DE3Pge7a0EHs",
    "outputId": "df98bb23-fd48-47c6-c83d-e9f5cfbf1ca0"
   },
   "outputs": [
    {
     "name": "stdout",
     "output_type": "stream",
     "text": [
      "Validation RMSE: 191.93437658699136\n",
      "Testing RMSE: 81.04388031008295\n"
     ]
    },
    {
     "data": {
      "image/png": "[encoded data removed]",
      "text/plain": [
       "<Figure size 640x480 with 1 Axes>"
      ]
     },
     "metadata": {},
     "output_type": "display_data"
    }
   ],
   "source": [
    "# 8. Tính RMSE\n",
    "valid_rmse = np.sqrt(np.mean((y_pred_val - y_val)**2))\n",
    "test_rmse = np.sqrt(np.mean((y_pred - y_test)**2))\n",
    "print('Validation RMSE:', valid_rmse)\n",
    "print('Testing RMSE:', test_rmse)\n",
    "\n",
    "# 9.Vẽ hình\n",
    "plt.plot(train_data.index, train_data['Close'])\n",
    "plt.plot(test_data.index, test_data['Close'])\n",
    "plt.plot(test_data.index, y_pred)\n",
    "plt.plot(val_data.index, y_pred_val)\n",
    "plt.plot(last_data,y_next_30_days)\n",
    "plt.legend(['Train', 'Test', 'Predictions','Validate','Next30Day'])\n",
    "plt.show()"
   ]
  },
  {
   "cell_type": "code",
   "execution_count": 9,
   "metadata": {
    "colab": {
     "base_uri": "https://localhost:8080/"
    },
    "id": "Eyxpcd3v7i-k",
    "outputId": "2478d5af-e6b1-4bfe-a276-b15fd1cead66"
   },
   "outputs": [
    {
     "data": {
      "text/plain": [
       "RangeIndex(start=921, stop=1184, step=1)"
      ]
     },
     "execution_count": 9,
     "metadata": {},
     "output_type": "execute_result"
    }
   ],
   "source": [
    "test_data.index"
   ]
  },
  {
   "cell_type": "code",
   "execution_count": 10,
   "metadata": {},
   "outputs": [
    {
     "name": "stdout",
     "output_type": "stream",
     "text": [
      "Validation RMSE: 191.93437658699136\n",
      "Testing RMSE: 81.04388031008295\n",
      "Validation MAPE: 32.571388493670405\n",
      "Testing MAPE: 16.120023154212817\n",
      "Validation MDA: 4.580152671755725\n",
      "Testing MDA: 2.6717557251908395\n"
     ]
    }
   ],
   "source": [
    "# Tính MAPE\n",
    "def calculate_mape(y_true, y_pred):\n",
    "    return np.mean(np.abs((y_true - y_pred) / y_true)) * 100\n",
    "\n",
    "# Tính MDA\n",
    "def calculate_mda(y_true, y_pred):\n",
    "    y_true_diff = np.diff(y_true)\n",
    "    y_pred_diff = np.diff(y_pred)\n",
    "    correct_direction = np.sign(y_true_diff) == np.sign(y_pred_diff)\n",
    "    return np.mean(correct_direction) * 100\n",
    "\n",
    "# Tính toán RMSE, MAPE và MDA\n",
    "valid_rmse = np.sqrt(np.mean((y_pred_val - y_val) ** 2))\n",
    "test_rmse = np.sqrt(np.mean((y_pred - y_test) ** 2))\n",
    "valid_mape = calculate_mape(y_val, y_pred_val)\n",
    "test_mape = calculate_mape(y_test, y_pred)\n",
    "valid_mda = calculate_mda(y_val, y_pred_val)\n",
    "test_mda = calculate_mda(y_test, y_pred)\n",
    "\n",
    "# In kết quả\n",
    "print('Validation RMSE:', valid_rmse)\n",
    "print('Testing RMSE:', test_rmse)\n",
    "print('Validation MAPE:', valid_mape)\n",
    "print('Testing MAPE:', test_mape)\n",
    "print('Validation MDA:', valid_mda)\n",
    "print('Testing MDA:', test_mda)"
   ]
  },
  {
   "cell_type": "code",
   "execution_count": null,
   "metadata": {},
   "outputs": [],
   "source": []
  }
 ],
 "metadata": {
  "colab": {
   "provenance": []
  },
  "kernelspec": {
   "display_name": "Python 3 (ipykernel)",
   "language": "python",
   "name": "python3"
  },
  "language_info": {
   "codemirror_mode": {
    "name": "ipython",
    "version": 3
   },
   "file_extension": ".py",
   "mimetype": "text/x-python",
   "name": "python",
   "nbconvert_exporter": "python",
   "pygments_lexer": "ipython3",
   "version": "3.11.5"
  }
 },
 "nbformat": 4,
 "nbformat_minor": 1
}
