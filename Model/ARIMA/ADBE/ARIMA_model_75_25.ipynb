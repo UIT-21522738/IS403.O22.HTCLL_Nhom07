{
 "cells": [
  {
   "cell_type": "code",
   "execution_count": 1,
   "metadata": {
    "id": "TOsoPjnYzZCW"
   },
   "outputs": [],
   "source": [
    "# 1. Các thư viện cần thiết\n",
    "import numpy as np\n",
    "import pandas as pd\n",
    "import matplotlib.pyplot as plt\n",
    "\n"
   ]
  },
  {
   "cell_type": "code",
   "execution_count": 2,
   "metadata": {
    "colab": {
     "base_uri": "https://localhost:8080/",
     "height": 455
    },
    "id": "DewQquJ1zXi_",
    "outputId": "dc507c84-0a1f-4af5-d3b1-d2460e4a5f5a"
   },
   "outputs": [
    {
     "data": {
      "text/html": [
       "<div>\n",
       "<style scoped>\n",
       "    .dataframe tbody tr th:only-of-type {\n",
       "        vertical-align: middle;\n",
       "    }\n",
       "\n",
       "    .dataframe tbody tr th {\n",
       "        vertical-align: top;\n",
       "    }\n",
       "\n",
       "    .dataframe thead th {\n",
       "        text-align: right;\n",
       "    }\n",
       "</style>\n",
       "<table border=\"1\" class=\"dataframe\">\n",
       "  <thead>\n",
       "    <tr style=\"text-align: right;\">\n",
       "      <th></th>\n",
       "      <th>Date</th>\n",
       "      <th>Symbol</th>\n",
       "      <th>Adj Close</th>\n",
       "      <th>Close</th>\n",
       "      <th>High</th>\n",
       "      <th>Low</th>\n",
       "      <th>Open</th>\n",
       "      <th>Volume</th>\n",
       "    </tr>\n",
       "  </thead>\n",
       "  <tbody>\n",
       "    <tr>\n",
       "      <th>0</th>\n",
       "      <td>3/1/2019</td>\n",
       "      <td>ADBE</td>\n",
       "      <td>264.010010</td>\n",
       "      <td>264.010010</td>\n",
       "      <td>266.239990</td>\n",
       "      <td>261.500000</td>\n",
       "      <td>265.750000</td>\n",
       "      <td>2594000</td>\n",
       "    </tr>\n",
       "    <tr>\n",
       "      <th>1</th>\n",
       "      <td>3/4/2019</td>\n",
       "      <td>ADBE</td>\n",
       "      <td>258.160004</td>\n",
       "      <td>258.160004</td>\n",
       "      <td>267.000000</td>\n",
       "      <td>254.080002</td>\n",
       "      <td>266.700012</td>\n",
       "      <td>2994900</td>\n",
       "    </tr>\n",
       "    <tr>\n",
       "      <th>2</th>\n",
       "      <td>3/5/2019</td>\n",
       "      <td>ADBE</td>\n",
       "      <td>257.380005</td>\n",
       "      <td>257.380005</td>\n",
       "      <td>259.869995</td>\n",
       "      <td>256.369995</td>\n",
       "      <td>259.000000</td>\n",
       "      <td>2101800</td>\n",
       "    </tr>\n",
       "    <tr>\n",
       "      <th>3</th>\n",
       "      <td>3/6/2019</td>\n",
       "      <td>ADBE</td>\n",
       "      <td>256.399994</td>\n",
       "      <td>256.399994</td>\n",
       "      <td>259.489990</td>\n",
       "      <td>253.839996</td>\n",
       "      <td>257.399994</td>\n",
       "      <td>1950500</td>\n",
       "    </tr>\n",
       "    <tr>\n",
       "      <th>4</th>\n",
       "      <td>3/7/2019</td>\n",
       "      <td>ADBE</td>\n",
       "      <td>255.460007</td>\n",
       "      <td>255.460007</td>\n",
       "      <td>257.489990</td>\n",
       "      <td>253.289993</td>\n",
       "      <td>255.770004</td>\n",
       "      <td>3185200</td>\n",
       "    </tr>\n",
       "    <tr>\n",
       "      <th>...</th>\n",
       "      <td>...</td>\n",
       "      <td>...</td>\n",
       "      <td>...</td>\n",
       "      <td>...</td>\n",
       "      <td>...</td>\n",
       "      <td>...</td>\n",
       "      <td>...</td>\n",
       "      <td>...</td>\n",
       "    </tr>\n",
       "    <tr>\n",
       "      <th>1319</th>\n",
       "      <td>5/28/2024</td>\n",
       "      <td>ADBE</td>\n",
       "      <td>478.429993</td>\n",
       "      <td>478.429993</td>\n",
       "      <td>478.670013</td>\n",
       "      <td>469.600006</td>\n",
       "      <td>473.010010</td>\n",
       "      <td>2575300</td>\n",
       "    </tr>\n",
       "    <tr>\n",
       "      <th>1320</th>\n",
       "      <td>5/29/2024</td>\n",
       "      <td>ADBE</td>\n",
       "      <td>477.600006</td>\n",
       "      <td>477.600006</td>\n",
       "      <td>482.790008</td>\n",
       "      <td>472.600006</td>\n",
       "      <td>472.779999</td>\n",
       "      <td>2214800</td>\n",
       "    </tr>\n",
       "    <tr>\n",
       "      <th>1321</th>\n",
       "      <td>5/30/2024</td>\n",
       "      <td>ADBE</td>\n",
       "      <td>445.869995</td>\n",
       "      <td>445.869995</td>\n",
       "      <td>466.820007</td>\n",
       "      <td>444.839996</td>\n",
       "      <td>464.899994</td>\n",
       "      <td>5606900</td>\n",
       "    </tr>\n",
       "    <tr>\n",
       "      <th>1322</th>\n",
       "      <td>5/31/2024</td>\n",
       "      <td>ADBE</td>\n",
       "      <td>444.760010</td>\n",
       "      <td>444.760010</td>\n",
       "      <td>448.230011</td>\n",
       "      <td>433.970001</td>\n",
       "      <td>447.720001</td>\n",
       "      <td>7487500</td>\n",
       "    </tr>\n",
       "    <tr>\n",
       "      <th>1323</th>\n",
       "      <td>6/3/2024</td>\n",
       "      <td>ADBE</td>\n",
       "      <td>439.019989</td>\n",
       "      <td>439.019989</td>\n",
       "      <td>449.839996</td>\n",
       "      <td>436.579987</td>\n",
       "      <td>447.579987</td>\n",
       "      <td>3967700</td>\n",
       "    </tr>\n",
       "  </tbody>\n",
       "</table>\n",
       "<p>1324 rows × 8 columns</p>\n",
       "</div>"
      ],
      "text/plain": [
       "           Date Symbol   Adj Close       Close        High         Low  \\\n",
       "0      3/1/2019   ADBE  264.010010  264.010010  266.239990  261.500000   \n",
       "1      3/4/2019   ADBE  258.160004  258.160004  267.000000  254.080002   \n",
       "2      3/5/2019   ADBE  257.380005  257.380005  259.869995  256.369995   \n",
       "3      3/6/2019   ADBE  256.399994  256.399994  259.489990  253.839996   \n",
       "4      3/7/2019   ADBE  255.460007  255.460007  257.489990  253.289993   \n",
       "...         ...    ...         ...         ...         ...         ...   \n",
       "1319  5/28/2024   ADBE  478.429993  478.429993  478.670013  469.600006   \n",
       "1320  5/29/2024   ADBE  477.600006  477.600006  482.790008  472.600006   \n",
       "1321  5/30/2024   ADBE  445.869995  445.869995  466.820007  444.839996   \n",
       "1322  5/31/2024   ADBE  444.760010  444.760010  448.230011  433.970001   \n",
       "1323   6/3/2024   ADBE  439.019989  439.019989  449.839996  436.579987   \n",
       "\n",
       "            Open   Volume  \n",
       "0     265.750000  2594000  \n",
       "1     266.700012  2994900  \n",
       "2     259.000000  2101800  \n",
       "3     257.399994  1950500  \n",
       "4     255.770004  3185200  \n",
       "...          ...      ...  \n",
       "1319  473.010010  2575300  \n",
       "1320  472.779999  2214800  \n",
       "1321  464.899994  5606900  \n",
       "1322  447.720001  7487500  \n",
       "1323  447.579987  3967700  \n",
       "\n",
       "[1324 rows x 8 columns]"
      ]
     },
     "execution_count": 2,
     "metadata": {},
     "output_type": "execute_result"
    }
   ],
   "source": [
    "# Load data from CSV file\n",
    "data = pd.read_csv('../../../Dataset/ADBE_Stock.csv')\n",
    "\n",
    "# Tiền xử lí dữ liệu\n",
    "# Hàm chuyển đổi \"Vol.\" từ chuỗi sang số\n",
    "def convert_volume_to_number(volume_str):\n",
    "    if volume_str[-1] == 'K':\n",
    "        return int(float(volume_str[:-1]) * 1000)\n",
    "    elif volume_str[-1] == 'M':\n",
    "        return int(float(volume_str[:-1]) * 1000000)\n",
    "    elif volume_str[-1] == 'B':\n",
    "        return int(float(volume_str[:-1]) * 1000000000)\n",
    "    else:\n",
    "        return int(volume_str)\n",
    "\n",
    "data"
   ]
  },
  {
   "cell_type": "code",
   "execution_count": 3,
   "metadata": {
    "id": "gJuOh8-y_Uif"
   },
   "outputs": [],
   "source": [
    "# 2. Đọc file dữ liệu chứng khoán AAPL và chia train test validate theo tỉ lệ 7:2:1\n",
    "df = data\n",
    "df = df[['Close']]\n",
    "df = df.dropna() # Drop missing values\n",
    "df = df.reset_index(drop=True) # Reset the index\n",
    "\n",
    "# Split the data into training, testing, and validation sets\n",
    "train_size = int(0.75 * len(df))\n",
    "test_size = len(df) - train_size\n",
    "\n",
    "train_data = df[:train_size]\n",
    "test_data = df[train_size:]"
   ]
  },
  {
   "cell_type": "code",
   "execution_count": 4,
   "metadata": {
    "colab": {
     "base_uri": "https://localhost:8080/",
     "height": 387
    },
    "id": "JbQNK8an_imI",
    "outputId": "8a54dfde-fd22-4b5d-f277-bf09c0c29b62"
   },
   "outputs": [
    {
     "name": "stdout",
     "output_type": "stream",
     "text": [
      "Performing stepwise search to minimize aic\n",
      " ARIMA(2,1,2)(0,0,0)[0] intercept   : AIC=7379.180, Time=0.42 sec\n",
      " ARIMA(0,1,0)(0,0,0)[0] intercept   : AIC=7386.416, Time=0.04 sec\n",
      " ARIMA(1,1,0)(0,0,0)[0] intercept   : AIC=7375.531, Time=0.10 sec\n",
      " ARIMA(0,1,1)(0,0,0)[0] intercept   : AIC=7376.738, Time=0.16 sec\n",
      " ARIMA(0,1,0)(0,0,0)[0]             : AIC=7384.561, Time=0.02 sec\n",
      " ARIMA(2,1,0)(0,0,0)[0] intercept   : AIC=7375.178, Time=0.16 sec\n",
      " ARIMA(3,1,0)(0,0,0)[0] intercept   : AIC=7376.696, Time=0.19 sec\n",
      " ARIMA(2,1,1)(0,0,0)[0] intercept   : AIC=7376.981, Time=0.41 sec\n",
      " ARIMA(1,1,1)(0,0,0)[0] intercept   : AIC=7375.227, Time=0.30 sec\n",
      " ARIMA(3,1,1)(0,0,0)[0] intercept   : AIC=7377.772, Time=0.49 sec\n",
      " ARIMA(2,1,0)(0,0,0)[0]             : AIC=7373.342, Time=0.07 sec\n",
      " ARIMA(1,1,0)(0,0,0)[0]             : AIC=7373.712, Time=0.03 sec\n",
      " ARIMA(3,1,0)(0,0,0)[0]             : AIC=7374.868, Time=0.09 sec\n",
      " ARIMA(2,1,1)(0,0,0)[0]             : AIC=7375.147, Time=0.15 sec\n",
      " ARIMA(1,1,1)(0,0,0)[0]             : AIC=7373.399, Time=0.16 sec\n",
      " ARIMA(3,1,1)(0,0,0)[0]             : AIC=7375.962, Time=0.26 sec\n",
      "\n",
      "Best model:  ARIMA(2,1,0)(0,0,0)[0]          \n",
      "Total fit time: 3.034 seconds\n"
     ]
    },
    {
     "data": {
      "text/html": [
       "<style>#sk-container-id-1 {color: black;}#sk-container-id-1 pre{padding: 0;}#sk-container-id-1 div.sk-toggleable {background-color: white;}#sk-container-id-1 label.sk-toggleable__label {cursor: pointer;display: block;width: 100%;margin-bottom: 0;padding: 0.3em;box-sizing: border-box;text-align: center;}#sk-container-id-1 label.sk-toggleable__label-arrow:before {content: \"▸\";float: left;margin-right: 0.25em;color: #696969;}#sk-container-id-1 label.sk-toggleable__label-arrow:hover:before {color: black;}#sk-container-id-1 div.sk-estimator:hover label.sk-toggleable__label-arrow:before {color: black;}#sk-container-id-1 div.sk-toggleable__content {max-height: 0;max-width: 0;overflow: hidden;text-align: left;background-color: #f0f8ff;}#sk-container-id-1 div.sk-toggleable__content pre {margin: 0.2em;color: black;border-radius: 0.25em;background-color: #f0f8ff;}#sk-container-id-1 input.sk-toggleable__control:checked~div.sk-toggleable__content {max-height: 200px;max-width: 100%;overflow: auto;}#sk-container-id-1 input.sk-toggleable__control:checked~label.sk-toggleable__label-arrow:before {content: \"▾\";}#sk-container-id-1 div.sk-estimator input.sk-toggleable__control:checked~label.sk-toggleable__label {background-color: #d4ebff;}#sk-container-id-1 div.sk-label input.sk-toggleable__control:checked~label.sk-toggleable__label {background-color: #d4ebff;}#sk-container-id-1 input.sk-hidden--visually {border: 0;clip: rect(1px 1px 1px 1px);clip: rect(1px, 1px, 1px, 1px);height: 1px;margin: -1px;overflow: hidden;padding: 0;position: absolute;width: 1px;}#sk-container-id-1 div.sk-estimator {font-family: monospace;background-color: #f0f8ff;border: 1px dotted black;border-radius: 0.25em;box-sizing: border-box;margin-bottom: 0.5em;}#sk-container-id-1 div.sk-estimator:hover {background-color: #d4ebff;}#sk-container-id-1 div.sk-parallel-item::after {content: \"\";width: 100%;border-bottom: 1px solid gray;flex-grow: 1;}#sk-container-id-1 div.sk-label:hover label.sk-toggleable__label {background-color: #d4ebff;}#sk-container-id-1 div.sk-serial::before {content: \"\";position: absolute;border-left: 1px solid gray;box-sizing: border-box;top: 0;bottom: 0;left: 50%;z-index: 0;}#sk-container-id-1 div.sk-serial {display: flex;flex-direction: column;align-items: center;background-color: white;padding-right: 0.2em;padding-left: 0.2em;position: relative;}#sk-container-id-1 div.sk-item {position: relative;z-index: 1;}#sk-container-id-1 div.sk-parallel {display: flex;align-items: stretch;justify-content: center;background-color: white;position: relative;}#sk-container-id-1 div.sk-item::before, #sk-container-id-1 div.sk-parallel-item::before {content: \"\";position: absolute;border-left: 1px solid gray;box-sizing: border-box;top: 0;bottom: 0;left: 50%;z-index: -1;}#sk-container-id-1 div.sk-parallel-item {display: flex;flex-direction: column;z-index: 1;position: relative;background-color: white;}#sk-container-id-1 div.sk-parallel-item:first-child::after {align-self: flex-end;width: 50%;}#sk-container-id-1 div.sk-parallel-item:last-child::after {align-self: flex-start;width: 50%;}#sk-container-id-1 div.sk-parallel-item:only-child::after {width: 0;}#sk-container-id-1 div.sk-dashed-wrapped {border: 1px dashed gray;margin: 0 0.4em 0.5em 0.4em;box-sizing: border-box;padding-bottom: 0.4em;background-color: white;}#sk-container-id-1 div.sk-label label {font-family: monospace;font-weight: bold;display: inline-block;line-height: 1.2em;}#sk-container-id-1 div.sk-label-container {text-align: center;}#sk-container-id-1 div.sk-container {/* jupyter's `normalize.less` sets `[hidden] { display: none; }` but bootstrap.min.css set `[hidden] { display: none !important; }` so we also need the `!important` here to be able to override the default hidden behavior on the sphinx rendered scikit-learn.org. See: https://github.com/scikit-learn/scikit-learn/issues/21755 */display: inline-block !important;position: relative;}#sk-container-id-1 div.sk-text-repr-fallback {display: none;}</style><div id=\"sk-container-id-1\" class=\"sk-top-container\"><div class=\"sk-text-repr-fallback\"><pre> ARIMA(2,1,0)(0,0,0)[0]          </pre><b>In a Jupyter environment, please rerun this cell to show the HTML representation or trust the notebook. <br />On GitHub, the HTML representation is unable to render, please try loading this page with nbviewer.org.</b></div><div class=\"sk-container\" hidden><div class=\"sk-item\"><div class=\"sk-estimator sk-toggleable\"><input class=\"sk-toggleable__control sk-hidden--visually\" id=\"sk-estimator-id-1\" type=\"checkbox\" checked><label for=\"sk-estimator-id-1\" class=\"sk-toggleable__label sk-toggleable__label-arrow\">ARIMA</label><div class=\"sk-toggleable__content\"><pre> ARIMA(2,1,0)(0,0,0)[0]          </pre></div></div></div></div></div>"
      ],
      "text/plain": [
       "ARIMA(order=(2, 1, 0), scoring_args={}, suppress_warnings=True,\n",
       "      with_intercept=False)"
      ]
     },
     "execution_count": 4,
     "metadata": {},
     "output_type": "execute_result"
    }
   ],
   "source": [
    "# 3. Quá trình Training\n",
    "x_train = np.array(train_data.index).reshape(-1, 1)\n",
    "y_train = np.array(train_data['Close'])\n",
    "\n",
    "# Find the best ARIMA model using auto_arima\n",
    "from pmdarima.arima import auto_arima\n",
    "model = auto_arima(y_train, trace=True, error_action='ignore', suppress_warnings=True)\n",
    "\n",
    "# Fit the model\n",
    "model.fit(y_train)"
   ]
  },
  {
   "cell_type": "code",
   "execution_count": 5,
   "metadata": {
    "id": "tq3vSOvd_xL3"
   },
   "outputs": [],
   "source": [
    "# 4. Quá trình testing \n",
    "x_test = np.array(test_data.index).reshape(-1, 1)\n",
    "y_test = np.array(test_data['Close'])\n",
    "y_pred = model.predict(n_periods=len(y_test))\n"
   ]
  },
  {
   "cell_type": "code",
   "execution_count": 6,
   "metadata": {
    "colab": {
     "base_uri": "https://localhost:8080/"
    },
    "id": "mI2qmayj_-rD",
    "outputId": "d648e73b-f491-41e3-9835-906ee8eb8f6d"
   },
   "outputs": [
    {
     "name": "stdout",
     "output_type": "stream",
     "text": [
      "Predicted closing prices for the next 30 days:\n",
      "[382.69299661 383.23402827 383.12062396 383.15927724 383.14956943\n",
      " 383.15250422 383.15171356 383.15194216 383.15187889 383.15189688\n",
      " 383.15189185 383.15189327 383.15189287 383.15189299 383.15189295\n",
      " 383.15189296 383.15189296 383.15189296 383.15189296 383.15189296\n",
      " 383.15189296 383.15189296 383.15189296 383.15189296 383.15189296\n",
      " 383.15189296 383.15189296 383.15189296 383.15189296 383.15189296]\n"
     ]
    }
   ],
   "source": [
    "# 5. Quá trình tạo index predict 30 ngày tiếp theo\n",
    "last_index =  df.index[-1]\n",
    "last_data_30 = pd.RangeIndex(start=last_index, stop=last_index+30, step=1)\n",
    "\n",
    "# Create an array of 30 consecutive integers starting from last_index\n",
    "x_next_30_days = np.array(range(last_index+1, last_index+31)).reshape(-1, 1)\n",
    "\n",
    "# Predict the closing prices for the next 30 days\n",
    "y_next_30_days = model.predict(n_periods=len(x_next_30_days))\n",
    "\n",
    "# Print the predicted closing prices for the next 30 days\n",
    "print('Predicted closing prices for the next 30 days:')\n",
    "print(y_next_30_days)"
   ]
  },
  {
   "cell_type": "code",
   "execution_count": 7,
   "metadata": {},
   "outputs": [
    {
     "name": "stdout",
     "output_type": "stream",
     "text": [
      "Predicted closing prices for the next 60 days:\n",
      "[382.69299661 383.23402827 383.12062396 383.15927724 383.14956943\n",
      " 383.15250422 383.15171356 383.15194216 383.15187889 383.15189688\n",
      " 383.15189185 383.15189327 383.15189287 383.15189299 383.15189295\n",
      " 383.15189296 383.15189296 383.15189296 383.15189296 383.15189296\n",
      " 383.15189296 383.15189296 383.15189296 383.15189296 383.15189296\n",
      " 383.15189296 383.15189296 383.15189296 383.15189296 383.15189296\n",
      " 383.15189296 383.15189296 383.15189296 383.15189296 383.15189296\n",
      " 383.15189296 383.15189296 383.15189296 383.15189296 383.15189296\n",
      " 383.15189296 383.15189296 383.15189296 383.15189296 383.15189296\n",
      " 383.15189296 383.15189296 383.15189296 383.15189296 383.15189296\n",
      " 383.15189296 383.15189296 383.15189296 383.15189296 383.15189296\n",
      " 383.15189296 383.15189296 383.15189296 383.15189296 383.15189296]\n"
     ]
    }
   ],
   "source": [
    "# 6. Quá trình tạo index predict 60 ngày tiếp theo\n",
    "last_index =  df.index[-1]\n",
    "last_data_60 = pd.RangeIndex(start=last_index, stop=last_index+60, step=1)\n",
    "\n",
    "# Create an array of 30 consecutive integers starting from last_index\n",
    "x_next_60_days = np.array(range(last_index+1, last_index+61)).reshape(-1, 1)\n",
    "\n",
    "# Predict the closing prices for the next 30 days\n",
    "y_next_60_days = model.predict(n_periods=len(x_next_60_days))\n",
    "\n",
    "# Print the predicted closing prices for the next 30 days\n",
    "print('Predicted closing prices for the next 60 days:')\n",
    "print(y_next_60_days)"
   ]
  },
  {
   "cell_type": "code",
   "execution_count": 8,
   "metadata": {},
   "outputs": [
    {
     "name": "stdout",
     "output_type": "stream",
     "text": [
      "Predicted closing prices for the next 90 days:\n",
      "[382.69299661 383.23402827 383.12062396 383.15927724 383.14956943\n",
      " 383.15250422 383.15171356 383.15194216 383.15187889 383.15189688\n",
      " 383.15189185 383.15189327 383.15189287 383.15189299 383.15189295\n",
      " 383.15189296 383.15189296 383.15189296 383.15189296 383.15189296\n",
      " 383.15189296 383.15189296 383.15189296 383.15189296 383.15189296\n",
      " 383.15189296 383.15189296 383.15189296 383.15189296 383.15189296\n",
      " 383.15189296 383.15189296 383.15189296 383.15189296 383.15189296\n",
      " 383.15189296 383.15189296 383.15189296 383.15189296 383.15189296\n",
      " 383.15189296 383.15189296 383.15189296 383.15189296 383.15189296\n",
      " 383.15189296 383.15189296 383.15189296 383.15189296 383.15189296\n",
      " 383.15189296 383.15189296 383.15189296 383.15189296 383.15189296\n",
      " 383.15189296 383.15189296 383.15189296 383.15189296 383.15189296\n",
      " 383.15189296 383.15189296 383.15189296 383.15189296 383.15189296\n",
      " 383.15189296 383.15189296 383.15189296 383.15189296 383.15189296\n",
      " 383.15189296 383.15189296 383.15189296 383.15189296 383.15189296\n",
      " 383.15189296 383.15189296 383.15189296 383.15189296 383.15189296\n",
      " 383.15189296 383.15189296 383.15189296 383.15189296 383.15189296\n",
      " 383.15189296 383.15189296 383.15189296 383.15189296 383.15189296]\n"
     ]
    }
   ],
   "source": [
    "# 6. Quá trình tạo index predict 60 ngày tiếp theo\n",
    "last_index =  df.index[-1]\n",
    "last_data_90 = pd.RangeIndex(start=last_index, stop=last_index+90, step=1)\n",
    "\n",
    "# Create an array of 30 consecutive integers starting from last_index\n",
    "x_next_90_days = np.array(range(last_index+1, last_index+91)).reshape(-1, 1)\n",
    "\n",
    "# Predict the closing prices for the next 30 days\n",
    "y_next_90_days = model.predict(n_periods=len(x_next_90_days))\n",
    "\n",
    "# Print the predicted closing prices for the next 30 days\n",
    "print('Predicted closing prices for the next 90 days:')\n",
    "print(y_next_90_days)"
   ]
  },
  {
   "cell_type": "code",
   "execution_count": 9,
   "metadata": {
    "colab": {
     "base_uri": "https://localhost:8080/"
    },
    "id": "JwcVt4wgAHCy",
    "outputId": "72abb27d-2114-49e5-ec95-6922e37d60a9"
   },
   "outputs": [
    {
     "name": "stdout",
     "output_type": "stream",
     "text": [
      "Testing RMSE: 141.94473757606278\n"
     ]
    }
   ],
   "source": [
    "# 7. Đánh giá độ chính xác validate, test\n",
    "test_rmse = np.sqrt(np.mean((y_pred - y_test)**2))\n",
    "print('Testing RMSE:', test_rmse)\n"
   ]
  },
  {
   "cell_type": "code",
   "execution_count": 10,
   "metadata": {
    "colab": {
     "base_uri": "https://localhost:8080/",
     "height": 465
    },
    "id": "DE3Pge7a0EHs",
    "outputId": "df98bb23-fd48-47c6-c83d-e9f5cfbf1ca0"
   },
   "outputs": [
    {
     "data": {
      "image/png": "[encoded data removed]",
      "text/plain": [
       "<Figure size 640x480 with 1 Axes>"
      ]
     },
     "metadata": {},
     "output_type": "display_data"
    }
   ],
   "source": [
    "# 8.Vẽ hình\n",
    "plt.plot(train_data.index, train_data['Close'])\n",
    "plt.plot(test_data.index, test_data['Close'])\n",
    "plt.plot(test_data.index, y_pred)\n",
    "plt.plot(last_data_90,y_next_90_days)\n",
    "plt.plot(last_data_60,y_next_60_days)\n",
    "plt.plot(last_data_30,y_next_30_days)\n",
    "plt.legend(['Train', 'Test', 'Predictions','Validate','Next90Day', 'Next60Day', 'Next30Day'])\n",
    "plt.show()"
   ]
  },
  {
   "cell_type": "code",
   "execution_count": 11,
   "metadata": {
    "colab": {
     "base_uri": "https://localhost:8080/"
    },
    "id": "Eyxpcd3v7i-k",
    "outputId": "2478d5af-e6b1-4bfe-a276-b15fd1cead66"
   },
   "outputs": [
    {
     "data": {
      "text/plain": [
       "RangeIndex(start=993, stop=1324, step=1)"
      ]
     },
     "execution_count": 11,
     "metadata": {},
     "output_type": "execute_result"
    }
   ],
   "source": [
    "test_data.index"
   ]
  },
  {
   "cell_type": "code",
   "execution_count": 12,
   "metadata": {},
   "outputs": [
    {
     "name": "stdout",
     "output_type": "stream",
     "text": [
      "Testing RMSE: 141.94473757606278\n",
      "Testing MAPE: 22.90667670272269\n",
      "Testing MAE: 122.58448189132159\n"
     ]
    }
   ],
   "source": [
    "# Tính MAPE\n",
    "def calculate_mape(y_true, y_pred):\n",
    "    return np.mean(np.abs((y_true - y_pred) / y_true)) * 100\n",
    "\n",
    "#  Tính MAE\n",
    "def calculate_mae(y_true, y_pred):\n",
    "    y_true = np.array(y_true)\n",
    "    y_pred = np.array(y_pred)\n",
    "    \n",
    "    mae = np.mean(np.abs(y_true - y_pred))\n",
    "    return mae\n",
    "\n",
    "# Tính toán RMSE, MAPE và MDA\n",
    "test_rmse = np.sqrt(np.mean((y_pred - y_test) ** 2))\n",
    "test_mape = calculate_mape(y_test, y_pred)\n",
    "test_mae = calculate_mae(y_test, y_pred)\n",
    "\n",
    "# In kết quả\n",
    "print('Testing RMSE:', test_rmse)\n",
    "print('Testing MAPE:', test_mape)\n",
    "print('Testing MAE:', test_mae)"
   ]
  }
 ],
 "metadata": {
  "colab": {
   "provenance": []
  },
  "kernelspec": {
   "display_name": "Python 3 (ipykernel)",
   "language": "python",
   "name": "python3"
  },
  "language_info": {
   "codemirror_mode": {
    "name": "ipython",
    "version": 3
   },
   "file_extension": ".py",
   "mimetype": "text/x-python",
   "name": "python",
   "nbconvert_exporter": "python",
   "pygments_lexer": "ipython3",
   "version": "3.11.5"
  }
 },
 "nbformat": 4,
 "nbformat_minor": 1
}
