{
 "cells": [
  {
   "cell_type": "code",
   "execution_count": 1,
   "metadata": {
    "id": "TOsoPjnYzZCW"
   },
   "outputs": [],
   "source": [
    "# 1. Các thư viện cần thiết\n",
    "import numpy as np\n",
    "import pandas as pd\n",
    "import matplotlib.pyplot as plt\n",
    "\n"
   ]
  },
  {
   "cell_type": "code",
   "execution_count": 2,
   "metadata": {
    "colab": {
     "base_uri": "https://localhost:8080/",
     "height": 455
    },
    "id": "DewQquJ1zXi_",
    "outputId": "dc507c84-0a1f-4af5-d3b1-d2460e4a5f5a"
   },
   "outputs": [
    {
     "data": {
      "text/html": [
       "<div>\n",
       "<style scoped>\n",
       "    .dataframe tbody tr th:only-of-type {\n",
       "        vertical-align: middle;\n",
       "    }\n",
       "\n",
       "    .dataframe tbody tr th {\n",
       "        vertical-align: top;\n",
       "    }\n",
       "\n",
       "    .dataframe thead th {\n",
       "        text-align: right;\n",
       "    }\n",
       "</style>\n",
       "<table border=\"1\" class=\"dataframe\">\n",
       "  <thead>\n",
       "    <tr style=\"text-align: right;\">\n",
       "      <th></th>\n",
       "      <th>Date</th>\n",
       "      <th>Symbol</th>\n",
       "      <th>Adj Close</th>\n",
       "      <th>Close</th>\n",
       "      <th>High</th>\n",
       "      <th>Low</th>\n",
       "      <th>Open</th>\n",
       "      <th>Volume</th>\n",
       "    </tr>\n",
       "  </thead>\n",
       "  <tbody>\n",
       "    <tr>\n",
       "      <th>0</th>\n",
       "      <td>1/2/2019</td>\n",
       "      <td>FFIV</td>\n",
       "      <td>161.179993</td>\n",
       "      <td>161.179993</td>\n",
       "      <td>162.910004</td>\n",
       "      <td>158.190002</td>\n",
       "      <td>158.190002</td>\n",
       "      <td>758700</td>\n",
       "    </tr>\n",
       "    <tr>\n",
       "      <th>1</th>\n",
       "      <td>1/3/2019</td>\n",
       "      <td>FFIV</td>\n",
       "      <td>154.309998</td>\n",
       "      <td>154.309998</td>\n",
       "      <td>160.169998</td>\n",
       "      <td>153.910004</td>\n",
       "      <td>159.610001</td>\n",
       "      <td>1227800</td>\n",
       "    </tr>\n",
       "    <tr>\n",
       "      <th>2</th>\n",
       "      <td>1/4/2019</td>\n",
       "      <td>FFIV</td>\n",
       "      <td>159.789993</td>\n",
       "      <td>159.789993</td>\n",
       "      <td>160.130005</td>\n",
       "      <td>156.300003</td>\n",
       "      <td>156.699997</td>\n",
       "      <td>805100</td>\n",
       "    </tr>\n",
       "    <tr>\n",
       "      <th>3</th>\n",
       "      <td>1/7/2019</td>\n",
       "      <td>FFIV</td>\n",
       "      <td>163.820007</td>\n",
       "      <td>163.820007</td>\n",
       "      <td>165.470001</td>\n",
       "      <td>159.639999</td>\n",
       "      <td>159.949997</td>\n",
       "      <td>913300</td>\n",
       "    </tr>\n",
       "    <tr>\n",
       "      <th>4</th>\n",
       "      <td>1/8/2019</td>\n",
       "      <td>FFIV</td>\n",
       "      <td>164.820007</td>\n",
       "      <td>164.820007</td>\n",
       "      <td>166.369995</td>\n",
       "      <td>161.949997</td>\n",
       "      <td>165.169998</td>\n",
       "      <td>634200</td>\n",
       "    </tr>\n",
       "    <tr>\n",
       "      <th>...</th>\n",
       "      <td>...</td>\n",
       "      <td>...</td>\n",
       "      <td>...</td>\n",
       "      <td>...</td>\n",
       "      <td>...</td>\n",
       "      <td>...</td>\n",
       "      <td>...</td>\n",
       "      <td>...</td>\n",
       "    </tr>\n",
       "    <tr>\n",
       "      <th>1311</th>\n",
       "      <td>3/19/2024</td>\n",
       "      <td>FFIV</td>\n",
       "      <td>189.009995</td>\n",
       "      <td>189.009995</td>\n",
       "      <td>189.070007</td>\n",
       "      <td>185.759995</td>\n",
       "      <td>187.300003</td>\n",
       "      <td>342200</td>\n",
       "    </tr>\n",
       "    <tr>\n",
       "      <th>1312</th>\n",
       "      <td>3/20/2024</td>\n",
       "      <td>FFIV</td>\n",
       "      <td>189.529999</td>\n",
       "      <td>189.529999</td>\n",
       "      <td>190.190002</td>\n",
       "      <td>188.009995</td>\n",
       "      <td>189.119995</td>\n",
       "      <td>201600</td>\n",
       "    </tr>\n",
       "    <tr>\n",
       "      <th>1313</th>\n",
       "      <td>3/21/2024</td>\n",
       "      <td>FFIV</td>\n",
       "      <td>191.070007</td>\n",
       "      <td>191.070007</td>\n",
       "      <td>192.300003</td>\n",
       "      <td>189.229996</td>\n",
       "      <td>190.000000</td>\n",
       "      <td>278000</td>\n",
       "    </tr>\n",
       "    <tr>\n",
       "      <th>1314</th>\n",
       "      <td>3/22/2024</td>\n",
       "      <td>FFIV</td>\n",
       "      <td>190.570007</td>\n",
       "      <td>190.570007</td>\n",
       "      <td>191.279999</td>\n",
       "      <td>189.729996</td>\n",
       "      <td>191.279999</td>\n",
       "      <td>240000</td>\n",
       "    </tr>\n",
       "    <tr>\n",
       "      <th>1315</th>\n",
       "      <td>3/25/2024</td>\n",
       "      <td>FFIV</td>\n",
       "      <td>188.529999</td>\n",
       "      <td>188.529999</td>\n",
       "      <td>190.549896</td>\n",
       "      <td>188.149994</td>\n",
       "      <td>190.080002</td>\n",
       "      <td>211968</td>\n",
       "    </tr>\n",
       "  </tbody>\n",
       "</table>\n",
       "<p>1316 rows × 8 columns</p>\n",
       "</div>"
      ],
      "text/plain": [
       "           Date Symbol   Adj Close       Close        High         Low  \\\n",
       "0      1/2/2019   FFIV  161.179993  161.179993  162.910004  158.190002   \n",
       "1      1/3/2019   FFIV  154.309998  154.309998  160.169998  153.910004   \n",
       "2      1/4/2019   FFIV  159.789993  159.789993  160.130005  156.300003   \n",
       "3      1/7/2019   FFIV  163.820007  163.820007  165.470001  159.639999   \n",
       "4      1/8/2019   FFIV  164.820007  164.820007  166.369995  161.949997   \n",
       "...         ...    ...         ...         ...         ...         ...   \n",
       "1311  3/19/2024   FFIV  189.009995  189.009995  189.070007  185.759995   \n",
       "1312  3/20/2024   FFIV  189.529999  189.529999  190.190002  188.009995   \n",
       "1313  3/21/2024   FFIV  191.070007  191.070007  192.300003  189.229996   \n",
       "1314  3/22/2024   FFIV  190.570007  190.570007  191.279999  189.729996   \n",
       "1315  3/25/2024   FFIV  188.529999  188.529999  190.549896  188.149994   \n",
       "\n",
       "            Open   Volume  \n",
       "0     158.190002   758700  \n",
       "1     159.610001  1227800  \n",
       "2     156.699997   805100  \n",
       "3     159.949997   913300  \n",
       "4     165.169998   634200  \n",
       "...          ...      ...  \n",
       "1311  187.300003   342200  \n",
       "1312  189.119995   201600  \n",
       "1313  190.000000   278000  \n",
       "1314  191.279999   240000  \n",
       "1315  190.080002   211968  \n",
       "\n",
       "[1316 rows x 8 columns]"
      ]
     },
     "execution_count": 2,
     "metadata": {},
     "output_type": "execute_result"
    }
   ],
   "source": [
    "# Load data from CSV file\n",
    "data = pd.read_csv('../../../Dataset/FFIV_Stock.csv')\n",
    "\n",
    "# Tiền xử lí dữ liệu\n",
    "# Hàm chuyển đổi \"Vol.\" từ chuỗi sang số\n",
    "def convert_volume_to_number(volume_str):\n",
    "    if volume_str[-1] == 'K':\n",
    "        return int(float(volume_str[:-1]) * 1000)\n",
    "    elif volume_str[-1] == 'M':\n",
    "        return int(float(volume_str[:-1]) * 1000000)\n",
    "    elif volume_str[-1] == 'B':\n",
    "        return int(float(volume_str[:-1]) * 1000000000)\n",
    "    else:\n",
    "        return int(volume_str)\n",
    "\n",
    "data"
   ]
  },
  {
   "cell_type": "code",
   "execution_count": 3,
   "metadata": {
    "id": "gJuOh8-y_Uif"
   },
   "outputs": [],
   "source": [
    "# 2. Đọc file dữ liệu chứng khoán AAPL và chia train test validate theo tỉ lệ 7:2:1\n",
    "df = data\n",
    "df = df[['Close']]\n",
    "df = df.dropna() # Drop missing values\n",
    "df = df.reset_index(drop=True) # Reset the index\n",
    "\n",
    "# Split the data into training, testing, and validation sets\n",
    "train_size = int(0.7 * len(df))\n",
    "test_size = int(0.2 * len(df))\n",
    "val_size = len(df) - train_size - test_size\n",
    "\n",
    "train_data = df[:train_size]\n",
    "test_data = df[train_size:train_size+test_size]\n",
    "val_data = df[train_size+test_size:]"
   ]
  },
  {
   "cell_type": "code",
   "execution_count": 4,
   "metadata": {
    "colab": {
     "base_uri": "https://localhost:8080/",
     "height": 387
    },
    "id": "JbQNK8an_imI",
    "outputId": "8a54dfde-fd22-4b5d-f277-bf09c0c29b62"
   },
   "outputs": [
    {
     "name": "stdout",
     "output_type": "stream",
     "text": [
      "Performing stepwise search to minimize aic\n",
      " ARIMA(2,1,2)(0,0,0)[0] intercept   : AIC=4852.159, Time=1.10 sec\n",
      " ARIMA(0,1,0)(0,0,0)[0] intercept   : AIC=4850.565, Time=0.02 sec\n",
      " ARIMA(1,1,0)(0,0,0)[0] intercept   : AIC=4850.928, Time=0.08 sec\n",
      " ARIMA(0,1,1)(0,0,0)[0] intercept   : AIC=4851.021, Time=0.08 sec\n",
      " ARIMA(0,1,0)(0,0,0)[0]             : AIC=4848.565, Time=0.02 sec\n",
      " ARIMA(1,1,1)(0,0,0)[0] intercept   : AIC=4852.365, Time=0.19 sec\n",
      "\n",
      "Best model:  ARIMA(0,1,0)(0,0,0)[0]          \n",
      "Total fit time: 1.495 seconds\n"
     ]
    },
    {
     "data": {
      "text/html": [
       "<style>#sk-container-id-1 {color: black;}#sk-container-id-1 pre{padding: 0;}#sk-container-id-1 div.sk-toggleable {background-color: white;}#sk-container-id-1 label.sk-toggleable__label {cursor: pointer;display: block;width: 100%;margin-bottom: 0;padding: 0.3em;box-sizing: border-box;text-align: center;}#sk-container-id-1 label.sk-toggleable__label-arrow:before {content: \"▸\";float: left;margin-right: 0.25em;color: #696969;}#sk-container-id-1 label.sk-toggleable__label-arrow:hover:before {color: black;}#sk-container-id-1 div.sk-estimator:hover label.sk-toggleable__label-arrow:before {color: black;}#sk-container-id-1 div.sk-toggleable__content {max-height: 0;max-width: 0;overflow: hidden;text-align: left;background-color: #f0f8ff;}#sk-container-id-1 div.sk-toggleable__content pre {margin: 0.2em;color: black;border-radius: 0.25em;background-color: #f0f8ff;}#sk-container-id-1 input.sk-toggleable__control:checked~div.sk-toggleable__content {max-height: 200px;max-width: 100%;overflow: auto;}#sk-container-id-1 input.sk-toggleable__control:checked~label.sk-toggleable__label-arrow:before {content: \"▾\";}#sk-container-id-1 div.sk-estimator input.sk-toggleable__control:checked~label.sk-toggleable__label {background-color: #d4ebff;}#sk-container-id-1 div.sk-label input.sk-toggleable__control:checked~label.sk-toggleable__label {background-color: #d4ebff;}#sk-container-id-1 input.sk-hidden--visually {border: 0;clip: rect(1px 1px 1px 1px);clip: rect(1px, 1px, 1px, 1px);height: 1px;margin: -1px;overflow: hidden;padding: 0;position: absolute;width: 1px;}#sk-container-id-1 div.sk-estimator {font-family: monospace;background-color: #f0f8ff;border: 1px dotted black;border-radius: 0.25em;box-sizing: border-box;margin-bottom: 0.5em;}#sk-container-id-1 div.sk-estimator:hover {background-color: #d4ebff;}#sk-container-id-1 div.sk-parallel-item::after {content: \"\";width: 100%;border-bottom: 1px solid gray;flex-grow: 1;}#sk-container-id-1 div.sk-label:hover label.sk-toggleable__label {background-color: #d4ebff;}#sk-container-id-1 div.sk-serial::before {content: \"\";position: absolute;border-left: 1px solid gray;box-sizing: border-box;top: 0;bottom: 0;left: 50%;z-index: 0;}#sk-container-id-1 div.sk-serial {display: flex;flex-direction: column;align-items: center;background-color: white;padding-right: 0.2em;padding-left: 0.2em;position: relative;}#sk-container-id-1 div.sk-item {position: relative;z-index: 1;}#sk-container-id-1 div.sk-parallel {display: flex;align-items: stretch;justify-content: center;background-color: white;position: relative;}#sk-container-id-1 div.sk-item::before, #sk-container-id-1 div.sk-parallel-item::before {content: \"\";position: absolute;border-left: 1px solid gray;box-sizing: border-box;top: 0;bottom: 0;left: 50%;z-index: -1;}#sk-container-id-1 div.sk-parallel-item {display: flex;flex-direction: column;z-index: 1;position: relative;background-color: white;}#sk-container-id-1 div.sk-parallel-item:first-child::after {align-self: flex-end;width: 50%;}#sk-container-id-1 div.sk-parallel-item:last-child::after {align-self: flex-start;width: 50%;}#sk-container-id-1 div.sk-parallel-item:only-child::after {width: 0;}#sk-container-id-1 div.sk-dashed-wrapped {border: 1px dashed gray;margin: 0 0.4em 0.5em 0.4em;box-sizing: border-box;padding-bottom: 0.4em;background-color: white;}#sk-container-id-1 div.sk-label label {font-family: monospace;font-weight: bold;display: inline-block;line-height: 1.2em;}#sk-container-id-1 div.sk-label-container {text-align: center;}#sk-container-id-1 div.sk-container {/* jupyter's `normalize.less` sets `[hidden] { display: none; }` but bootstrap.min.css set `[hidden] { display: none !important; }` so we also need the `!important` here to be able to override the default hidden behavior on the sphinx rendered scikit-learn.org. See: https://github.com/scikit-learn/scikit-learn/issues/21755 */display: inline-block !important;position: relative;}#sk-container-id-1 div.sk-text-repr-fallback {display: none;}</style><div id=\"sk-container-id-1\" class=\"sk-top-container\"><div class=\"sk-text-repr-fallback\"><pre> ARIMA(0,1,0)(0,0,0)[0]          </pre><b>In a Jupyter environment, please rerun this cell to show the HTML representation or trust the notebook. <br />On GitHub, the HTML representation is unable to render, please try loading this page with nbviewer.org.</b></div><div class=\"sk-container\" hidden><div class=\"sk-item\"><div class=\"sk-estimator sk-toggleable\"><input class=\"sk-toggleable__control sk-hidden--visually\" id=\"sk-estimator-id-1\" type=\"checkbox\" checked><label for=\"sk-estimator-id-1\" class=\"sk-toggleable__label sk-toggleable__label-arrow\">ARIMA</label><div class=\"sk-toggleable__content\"><pre> ARIMA(0,1,0)(0,0,0)[0]          </pre></div></div></div></div></div>"
      ],
      "text/plain": [
       "ARIMA(order=(0, 1, 0), scoring_args={}, suppress_warnings=True,\n",
       "      with_intercept=False)"
      ]
     },
     "execution_count": 4,
     "metadata": {},
     "output_type": "execute_result"
    }
   ],
   "source": [
    "# 3. Quá trình Training\n",
    "x_train = np.array(train_data.index).reshape(-1, 1)\n",
    "y_train = np.array(train_data['Close'])\n",
    "\n",
    "# Find the best ARIMA model using auto_arima\n",
    "from pmdarima.arima import auto_arima\n",
    "model = auto_arima(y_train, trace=True, error_action='ignore', suppress_warnings=True)\n",
    "\n",
    "# Fit the model\n",
    "model.fit(y_train)"
   ]
  },
  {
   "cell_type": "code",
   "execution_count": 5,
   "metadata": {
    "id": "tq3vSOvd_xL3"
   },
   "outputs": [],
   "source": [
    "# 4. Quá trình testing \n",
    "x_test = np.array(test_data.index).reshape(-1, 1)\n",
    "y_test = np.array(test_data['Close'])\n",
    "y_pred = model.predict(n_periods=len(y_test))\n",
    "\n",
    "# 5. Quá trình Validate\n",
    "x_val= np.array(val_data.index).reshape(-1, 1)\n",
    "y_val = np.array(val_data['Close'])\n",
    "y_pred_val =  model.predict(n_periods=len(y_val))"
   ]
  },
  {
   "cell_type": "code",
   "execution_count": 6,
   "metadata": {
    "colab": {
     "base_uri": "https://localhost:8080/"
    },
    "id": "mI2qmayj_-rD",
    "outputId": "d648e73b-f491-41e3-9835-906ee8eb8f6d"
   },
   "outputs": [
    {
     "name": "stdout",
     "output_type": "stream",
     "text": [
      "Predicted closing prices for the next 30 days:\n",
      "[160.1699982 160.1699982 160.1699982 160.1699982 160.1699982 160.1699982\n",
      " 160.1699982 160.1699982 160.1699982 160.1699982 160.1699982 160.1699982\n",
      " 160.1699982 160.1699982 160.1699982 160.1699982 160.1699982 160.1699982\n",
      " 160.1699982 160.1699982 160.1699982 160.1699982 160.1699982 160.1699982\n",
      " 160.1699982 160.1699982 160.1699982 160.1699982 160.1699982 160.1699982]\n"
     ]
    }
   ],
   "source": [
    "# 6. Quá trình tạo index predict 30 ngày tiếp theo\n",
    "last_index =  df.index[-1]\n",
    "last_data = pd.RangeIndex(start=last_index, stop=last_index+30, step=1)\n",
    "\n",
    "# Create an array of 30 consecutive integers starting from last_index\n",
    "x_next_30_days = np.array(range(last_index+1, last_index+31)).reshape(-1, 1)\n",
    "\n",
    "# Predict the closing prices for the next 30 days\n",
    "y_next_30_days = model.predict(n_periods=len(x_next_30_days))\n",
    "\n",
    "# Print the predicted closing prices for the next 30 days\n",
    "print('Predicted closing prices for the next 30 days:')\n",
    "print(y_next_30_days)"
   ]
  },
  {
   "cell_type": "code",
   "execution_count": 7,
   "metadata": {
    "colab": {
     "base_uri": "https://localhost:8080/"
    },
    "id": "JwcVt4wgAHCy",
    "outputId": "72abb27d-2114-49e5-ec95-6922e37d60a9"
   },
   "outputs": [
    {
     "name": "stdout",
     "output_type": "stream",
     "text": [
      "Validation RMSE: 18.063618000151155\n",
      "Testing RMSE: 14.84314135383924\n"
     ]
    }
   ],
   "source": [
    "# 7. Đánh giá độ chính xác validate, test\n",
    "valid_rmse = np.sqrt(np.mean((y_pred_val - y_val)**2))\n",
    "test_rmse = np.sqrt(np.mean((y_pred - y_test)**2))\n",
    "print('Validation RMSE:', valid_rmse)\n",
    "print('Testing RMSE:', test_rmse)\n"
   ]
  },
  {
   "cell_type": "code",
   "execution_count": 8,
   "metadata": {
    "colab": {
     "base_uri": "https://localhost:8080/",
     "height": 465
    },
    "id": "DE3Pge7a0EHs",
    "outputId": "df98bb23-fd48-47c6-c83d-e9f5cfbf1ca0"
   },
   "outputs": [
    {
     "name": "stdout",
     "output_type": "stream",
     "text": [
      "Validation RMSE: 18.063618000151155\n",
      "Testing RMSE: 14.84314135383924\n"
     ]
    },
    {
     "data": {
      "image/png": "[encoded data removed]",
      "text/plain": [
       "<Figure size 640x480 with 1 Axes>"
      ]
     },
     "metadata": {},
     "output_type": "display_data"
    }
   ],
   "source": [
    "# 8. Tính RMSE\n",
    "valid_rmse = np.sqrt(np.mean((y_pred_val - y_val)**2))\n",
    "test_rmse = np.sqrt(np.mean((y_pred - y_test)**2))\n",
    "print('Validation RMSE:', valid_rmse)\n",
    "print('Testing RMSE:', test_rmse)\n",
    "\n",
    "# 9.Vẽ hình\n",
    "plt.plot(train_data.index, train_data['Close'])\n",
    "plt.plot(test_data.index, test_data['Close'])\n",
    "plt.plot(test_data.index, y_pred)\n",
    "plt.plot(val_data.index, y_pred_val)\n",
    "plt.plot(last_data,y_next_30_days)\n",
    "plt.legend(['Train', 'Test', 'Predictions','Validate','Next30Day'])\n",
    "plt.show()"
   ]
  },
  {
   "cell_type": "code",
   "execution_count": 9,
   "metadata": {
    "colab": {
     "base_uri": "https://localhost:8080/"
    },
    "id": "Eyxpcd3v7i-k",
    "outputId": "2478d5af-e6b1-4bfe-a276-b15fd1cead66"
   },
   "outputs": [
    {
     "data": {
      "text/plain": [
       "RangeIndex(start=921, stop=1184, step=1)"
      ]
     },
     "execution_count": 9,
     "metadata": {},
     "output_type": "execute_result"
    }
   ],
   "source": [
    "test_data.index"
   ]
  },
  {
   "cell_type": "code",
   "execution_count": 10,
   "metadata": {},
   "outputs": [
    {
     "name": "stdout",
     "output_type": "stream",
     "text": [
      "Validation RMSE: 18.063618000151155\n",
      "Testing RMSE: 14.84314135383924\n",
      "Validation MAPE: 8.472925963747146\n",
      "Testing MAPE: 9.140888810627011\n",
      "Validation MDA: 0.0\n",
      "Testing MDA: 0.38167938931297707\n"
     ]
    }
   ],
   "source": [
    "# Tính MAPE\n",
    "def calculate_mape(y_true, y_pred):\n",
    "    return np.mean(np.abs((y_true - y_pred) / y_true)) * 100\n",
    "\n",
    "# Tính MDA\n",
    "def calculate_mda(y_true, y_pred):\n",
    "    y_true_diff = np.diff(y_true)\n",
    "    y_pred_diff = np.diff(y_pred)\n",
    "    correct_direction = np.sign(y_true_diff) == np.sign(y_pred_diff)\n",
    "    return np.mean(correct_direction) * 100\n",
    "\n",
    "# Tính toán RMSE, MAPE và MDA\n",
    "valid_rmse = np.sqrt(np.mean((y_pred_val - y_val) ** 2))\n",
    "test_rmse = np.sqrt(np.mean((y_pred - y_test) ** 2))\n",
    "valid_mape = calculate_mape(y_val, y_pred_val)\n",
    "test_mape = calculate_mape(y_test, y_pred)\n",
    "valid_mda = calculate_mda(y_val, y_pred_val)\n",
    "test_mda = calculate_mda(y_test, y_pred)\n",
    "\n",
    "# In kết quả\n",
    "print('Validation RMSE:', valid_rmse)\n",
    "print('Testing RMSE:', test_rmse)\n",
    "print('Validation MAPE:', valid_mape)\n",
    "print('Testing MAPE:', test_mape)\n",
    "print('Validation MDA:', valid_mda)\n",
    "print('Testing MDA:', test_mda)"
   ]
  },
  {
   "cell_type": "code",
   "execution_count": null,
   "metadata": {},
   "outputs": [],
   "source": []
  }
 ],
 "metadata": {
  "colab": {
   "provenance": []
  },
  "kernelspec": {
   "display_name": "Python 3 (ipykernel)",
   "language": "python",
   "name": "python3"
  },
  "language_info": {
   "codemirror_mode": {
    "name": "ipython",
    "version": 3
   },
   "file_extension": ".py",
   "mimetype": "text/x-python",
   "name": "python",
   "nbconvert_exporter": "python",
   "pygments_lexer": "ipython3",
   "version": "3.11.5"
  }
 },
 "nbformat": 4,
 "nbformat_minor": 1
}
