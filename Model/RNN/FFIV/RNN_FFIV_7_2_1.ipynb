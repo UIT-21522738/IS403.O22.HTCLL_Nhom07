{
 "cells": [
  {
   "cell_type": "code",
   "execution_count": 1,
   "metadata": {},
   "outputs": [],
   "source": [
    "# 1. Import thư viện cần thiết\n",
    "import numpy as np\n",
    "import pandas as pd\n",
    "import matplotlib.pyplot as plt\n",
    "from sklearn.preprocessing import MinMaxScaler\n",
    "from keras.models import Sequential\n",
    "from keras.layers import Dense, SimpleRNN\n",
    "from numpy import array"
   ]
  },
  {
   "cell_type": "code",
   "execution_count": 2,
   "metadata": {},
   "outputs": [],
   "source": [
    "# 2. Đọc file csv và gắng index với giá Close\n",
    "df = pd.read_csv('D:/UIT/DA_Gr07/Dataset/FFIV_Stock.csv')\n",
    "df1=df.reset_index()['Close']"
   ]
  },
  {
   "cell_type": "code",
   "execution_count": 3,
   "metadata": {},
   "outputs": [],
   "source": [
    "# 3. Scaler data\n",
    "scaler=MinMaxScaler(feature_range=(0,1))\n",
    "df1=scaler.fit_transform(np.array(df1).reshape(-1,1))"
   ]
  },
  {
   "cell_type": "code",
   "execution_count": 4,
   "metadata": {},
   "outputs": [],
   "source": [
    "# 4. Chia train test\n",
    "train_size = int(0.7 * len(df1))\n",
    "test_size = int(0.2 * len(df1))\n",
    "val_size = len(df1) - train_size - test_size\n",
    "\n",
    "train_data = df1[:train_size]\n",
    "test_data = df1[train_size:train_size+test_size]\n",
    "val_data = df1[train_size+test_size:]"
   ]
  },
  {
   "cell_type": "code",
   "execution_count": 5,
   "metadata": {},
   "outputs": [],
   "source": [
    "# 5. Hàm Create Dataset\n",
    "import numpy\n",
    "# convert an array of values into a dataset matrix\n",
    "def create_dataset(dataset, time_step=1):\n",
    "\tdataX, dataY = [], []\n",
    "\tfor i in range(len(dataset)-time_step-1):\n",
    "\t\ta = dataset[i:(i+time_step), 0]   ###i=0, X=0,1,2,3-----99   Y=100 \n",
    "\t\tdataX.append(a)\n",
    "\t\tdataY.append(dataset[i + time_step, 0])\n",
    "\treturn numpy.array(dataX), numpy.array(dataY)"
   ]
  },
  {
   "cell_type": "code",
   "execution_count": 6,
   "metadata": {},
   "outputs": [],
   "source": [
    "#6. Reshape into X=t,t+1,t+2..t+99 and Y=t+100\n",
    "\n",
    "time_step = 100\n",
    "X_train, y_train = create_dataset(train_data, time_step)\n",
    "X_val, yval = create_dataset(val_data, time_step)\n",
    "X_test, ytest = create_dataset(test_data, time_step)"
   ]
  },
  {
   "cell_type": "code",
   "execution_count": 7,
   "metadata": {},
   "outputs": [],
   "source": [
    "# 7. Reshape input to be [samples, time steps, features] which is required for LSTM\n",
    "# X_train =X_train.reshape(X_train.shape[0],X_train.shape[1] , 1)\n",
    "# X_test = X_test.reshape(X_test.shape[0],X_test.shape[1] , 1)\n",
    "# X_val = X_val.reshape(X_val.shape[0],X_val.shape[1] , 1)\n",
    "\n",
    "if len(X_train.shape) == 2:\n",
    "    X_train = X_train.reshape(X_train.shape[0], X_train.shape[1], 1)\n",
    "if len(X_test.shape) == 2:\n",
    "    X_test = X_test.reshape(X_test.shape[0], X_test.shape[1], 1)\n",
    "if len(X_val.shape) == 2:\n",
    "    X_val = X_val.reshape(X_val.shape[0], X_val.shape[1], 1)"
   ]
  },
  {
   "cell_type": "code",
   "execution_count": 8,
   "metadata": {},
   "outputs": [
    {
     "name": "stderr",
     "output_type": "stream",
     "text": [
      "c:\\Users\\HP\\AppData\\Local\\Programs\\Python\\Python312\\Lib\\site-packages\\keras\\src\\layers\\rnn\\rnn.py:204: UserWarning: Do not pass an `input_shape`/`input_dim` argument to a layer. When using Sequential models, prefer using an `Input(shape)` object as the first layer in the model instead.\n",
      "  super().__init__(**kwargs)\n"
     ]
    }
   ],
   "source": [
    "# 8. Define LSTM Model\n",
    "\n",
    "model = Sequential()\n",
    "model.add(SimpleRNN(50, input_shape=(time_step, 1)))\n",
    "model.add(Dense(1))\n",
    "model.compile(loss='mean_squared_error',optimizer='adam')"
   ]
  },
  {
   "cell_type": "code",
   "execution_count": 9,
   "metadata": {},
   "outputs": [
    {
     "name": "stdout",
     "output_type": "stream",
     "text": [
      "Epoch 1/100\n",
      "\u001b[1m13/13\u001b[0m \u001b[32m━━━━━━━━━━━━━━━━━━━━\u001b[0m\u001b[37m\u001b[0m \u001b[1m2s\u001b[0m 44ms/step - loss: 0.1034 - val_loss: 0.0032\n",
      "Epoch 2/100\n",
      "\u001b[1m13/13\u001b[0m \u001b[32m━━━━━━━━━━━━━━━━━━━━\u001b[0m\u001b[37m\u001b[0m \u001b[1m0s\u001b[0m 19ms/step - loss: 0.0127 - val_loss: 0.0032\n",
      "Epoch 3/100\n",
      "\u001b[1m13/13\u001b[0m \u001b[32m━━━━━━━━━━━━━━━━━━━━\u001b[0m\u001b[37m\u001b[0m \u001b[1m0s\u001b[0m 18ms/step - loss: 0.0053 - val_loss: 0.0013\n",
      "Epoch 4/100\n",
      "\u001b[1m13/13\u001b[0m \u001b[32m━━━━━━━━━━━━━━━━━━━━\u001b[0m\u001b[37m\u001b[0m \u001b[1m0s\u001b[0m 18ms/step - loss: 0.0029 - val_loss: 0.0013\n",
      "Epoch 5/100\n",
      "\u001b[1m13/13\u001b[0m \u001b[32m━━━━━━━━━━━━━━━━━━━━\u001b[0m\u001b[37m\u001b[0m \u001b[1m0s\u001b[0m 27ms/step - loss: 0.0029 - val_loss: 0.0014\n",
      "Epoch 6/100\n",
      "\u001b[1m13/13\u001b[0m \u001b[32m━━━━━━━━━━━━━━━━━━━━\u001b[0m\u001b[37m\u001b[0m \u001b[1m0s\u001b[0m 14ms/step - loss: 0.0024 - val_loss: 9.8221e-04\n",
      "Epoch 7/100\n",
      "\u001b[1m13/13\u001b[0m \u001b[32m━━━━━━━━━━━━━━━━━━━━\u001b[0m\u001b[37m\u001b[0m \u001b[1m0s\u001b[0m 17ms/step - loss: 0.0023 - val_loss: 9.0241e-04\n",
      "Epoch 8/100\n",
      "\u001b[1m13/13\u001b[0m \u001b[32m━━━━━━━━━━━━━━━━━━━━\u001b[0m\u001b[37m\u001b[0m \u001b[1m0s\u001b[0m 14ms/step - loss: 0.0023 - val_loss: 8.1884e-04\n",
      "Epoch 9/100\n",
      "\u001b[1m13/13\u001b[0m \u001b[32m━━━━━━━━━━━━━━━━━━━━\u001b[0m\u001b[37m\u001b[0m \u001b[1m0s\u001b[0m 13ms/step - loss: 0.0022 - val_loss: 8.1320e-04\n",
      "Epoch 10/100\n",
      "\u001b[1m13/13\u001b[0m \u001b[32m━━━━━━━━━━━━━━━━━━━━\u001b[0m\u001b[37m\u001b[0m \u001b[1m0s\u001b[0m 16ms/step - loss: 0.0021 - val_loss: 6.7329e-04\n",
      "Epoch 11/100\n",
      "\u001b[1m13/13\u001b[0m \u001b[32m━━━━━━━━━━━━━━━━━━━━\u001b[0m\u001b[37m\u001b[0m \u001b[1m0s\u001b[0m 19ms/step - loss: 0.0021 - val_loss: 6.5424e-04\n",
      "Epoch 12/100\n",
      "\u001b[1m13/13\u001b[0m \u001b[32m━━━━━━━━━━━━━━━━━━━━\u001b[0m\u001b[37m\u001b[0m \u001b[1m0s\u001b[0m 18ms/step - loss: 0.0018 - val_loss: 6.7197e-04\n",
      "Epoch 13/100\n",
      "\u001b[1m13/13\u001b[0m \u001b[32m━━━━━━━━━━━━━━━━━━━━\u001b[0m\u001b[37m\u001b[0m \u001b[1m0s\u001b[0m 18ms/step - loss: 0.0019 - val_loss: 5.9741e-04\n",
      "Epoch 14/100\n",
      "\u001b[1m13/13\u001b[0m \u001b[32m━━━━━━━━━━━━━━━━━━━━\u001b[0m\u001b[37m\u001b[0m \u001b[1m0s\u001b[0m 19ms/step - loss: 0.0020 - val_loss: 6.1197e-04\n",
      "Epoch 15/100\n",
      "\u001b[1m13/13\u001b[0m \u001b[32m━━━━━━━━━━━━━━━━━━━━\u001b[0m\u001b[37m\u001b[0m \u001b[1m0s\u001b[0m 16ms/step - loss: 0.0018 - val_loss: 5.8240e-04\n",
      "Epoch 16/100\n",
      "\u001b[1m13/13\u001b[0m \u001b[32m━━━━━━━━━━━━━━━━━━━━\u001b[0m\u001b[37m\u001b[0m \u001b[1m0s\u001b[0m 15ms/step - loss: 0.0017 - val_loss: 5.6021e-04\n",
      "Epoch 17/100\n",
      "\u001b[1m13/13\u001b[0m \u001b[32m━━━━━━━━━━━━━━━━━━━━\u001b[0m\u001b[37m\u001b[0m \u001b[1m0s\u001b[0m 19ms/step - loss: 0.0018 - val_loss: 5.4726e-04\n",
      "Epoch 18/100\n",
      "\u001b[1m13/13\u001b[0m \u001b[32m━━━━━━━━━━━━━━━━━━━━\u001b[0m\u001b[37m\u001b[0m \u001b[1m0s\u001b[0m 29ms/step - loss: 0.0017 - val_loss: 5.2823e-04\n",
      "Epoch 19/100\n",
      "\u001b[1m13/13\u001b[0m \u001b[32m━━━━━━━━━━━━━━━━━━━━\u001b[0m\u001b[37m\u001b[0m \u001b[1m0s\u001b[0m 20ms/step - loss: 0.0017 - val_loss: 6.0010e-04\n",
      "Epoch 20/100\n",
      "\u001b[1m13/13\u001b[0m \u001b[32m━━━━━━━━━━━━━━━━━━━━\u001b[0m\u001b[37m\u001b[0m \u001b[1m0s\u001b[0m 21ms/step - loss: 0.0019 - val_loss: 9.9598e-04\n",
      "Epoch 21/100\n",
      "\u001b[1m13/13\u001b[0m \u001b[32m━━━━━━━━━━━━━━━━━━━━\u001b[0m\u001b[37m\u001b[0m \u001b[1m0s\u001b[0m 17ms/step - loss: 0.0018 - val_loss: 5.1322e-04\n",
      "Epoch 22/100\n",
      "\u001b[1m13/13\u001b[0m \u001b[32m━━━━━━━━━━━━━━━━━━━━\u001b[0m\u001b[37m\u001b[0m \u001b[1m0s\u001b[0m 16ms/step - loss: 0.0016 - val_loss: 5.9303e-04\n",
      "Epoch 23/100\n",
      "\u001b[1m13/13\u001b[0m \u001b[32m━━━━━━━━━━━━━━━━━━━━\u001b[0m\u001b[37m\u001b[0m \u001b[1m0s\u001b[0m 15ms/step - loss: 0.0017 - val_loss: 4.9698e-04\n",
      "Epoch 24/100\n",
      "\u001b[1m13/13\u001b[0m \u001b[32m━━━━━━━━━━━━━━━━━━━━\u001b[0m\u001b[37m\u001b[0m \u001b[1m0s\u001b[0m 15ms/step - loss: 0.0015 - val_loss: 4.9322e-04\n",
      "Epoch 25/100\n",
      "\u001b[1m13/13\u001b[0m \u001b[32m━━━━━━━━━━━━━━━━━━━━\u001b[0m\u001b[37m\u001b[0m \u001b[1m0s\u001b[0m 16ms/step - loss: 0.0016 - val_loss: 6.1157e-04\n",
      "Epoch 26/100\n",
      "\u001b[1m13/13\u001b[0m \u001b[32m━━━━━━━━━━━━━━━━━━━━\u001b[0m\u001b[37m\u001b[0m \u001b[1m0s\u001b[0m 14ms/step - loss: 0.0015 - val_loss: 4.7961e-04\n",
      "Epoch 27/100\n",
      "\u001b[1m13/13\u001b[0m \u001b[32m━━━━━━━━━━━━━━━━━━━━\u001b[0m\u001b[37m\u001b[0m \u001b[1m0s\u001b[0m 15ms/step - loss: 0.0015 - val_loss: 5.1485e-04\n",
      "Epoch 28/100\n",
      "\u001b[1m13/13\u001b[0m \u001b[32m━━━━━━━━━━━━━━━━━━━━\u001b[0m\u001b[37m\u001b[0m \u001b[1m0s\u001b[0m 25ms/step - loss: 0.0015 - val_loss: 4.7410e-04\n",
      "Epoch 29/100\n",
      "\u001b[1m13/13\u001b[0m \u001b[32m━━━━━━━━━━━━━━━━━━━━\u001b[0m\u001b[37m\u001b[0m \u001b[1m0s\u001b[0m 24ms/step - loss: 0.0014 - val_loss: 4.7092e-04\n",
      "Epoch 30/100\n",
      "\u001b[1m13/13\u001b[0m \u001b[32m━━━━━━━━━━━━━━━━━━━━\u001b[0m\u001b[37m\u001b[0m \u001b[1m0s\u001b[0m 22ms/step - loss: 0.0016 - val_loss: 6.0701e-04\n",
      "Epoch 31/100\n",
      "\u001b[1m13/13\u001b[0m \u001b[32m━━━━━━━━━━━━━━━━━━━━\u001b[0m\u001b[37m\u001b[0m \u001b[1m0s\u001b[0m 23ms/step - loss: 0.0015 - val_loss: 5.7849e-04\n",
      "Epoch 32/100\n",
      "\u001b[1m13/13\u001b[0m \u001b[32m━━━━━━━━━━━━━━━━━━━━\u001b[0m\u001b[37m\u001b[0m \u001b[1m0s\u001b[0m 17ms/step - loss: 0.0014 - val_loss: 4.8835e-04\n",
      "Epoch 33/100\n",
      "\u001b[1m13/13\u001b[0m \u001b[32m━━━━━━━━━━━━━━━━━━━━\u001b[0m\u001b[37m\u001b[0m \u001b[1m0s\u001b[0m 21ms/step - loss: 0.0015 - val_loss: 5.3782e-04\n",
      "Epoch 34/100\n",
      "\u001b[1m13/13\u001b[0m \u001b[32m━━━━━━━━━━━━━━━━━━━━\u001b[0m\u001b[37m\u001b[0m \u001b[1m0s\u001b[0m 21ms/step - loss: 0.0016 - val_loss: 5.2860e-04\n",
      "Epoch 35/100\n",
      "\u001b[1m13/13\u001b[0m \u001b[32m━━━━━━━━━━━━━━━━━━━━\u001b[0m\u001b[37m\u001b[0m \u001b[1m0s\u001b[0m 22ms/step - loss: 0.0014 - val_loss: 4.7857e-04\n",
      "Epoch 36/100\n",
      "\u001b[1m13/13\u001b[0m \u001b[32m━━━━━━━━━━━━━━━━━━━━\u001b[0m\u001b[37m\u001b[0m \u001b[1m0s\u001b[0m 22ms/step - loss: 0.0015 - val_loss: 4.5021e-04\n",
      "Epoch 37/100\n",
      "\u001b[1m13/13\u001b[0m \u001b[32m━━━━━━━━━━━━━━━━━━━━\u001b[0m\u001b[37m\u001b[0m \u001b[1m0s\u001b[0m 25ms/step - loss: 0.0014 - val_loss: 4.0169e-04\n",
      "Epoch 38/100\n",
      "\u001b[1m13/13\u001b[0m \u001b[32m━━━━━━━━━━━━━━━━━━━━\u001b[0m\u001b[37m\u001b[0m \u001b[1m0s\u001b[0m 22ms/step - loss: 0.0014 - val_loss: 4.5174e-04\n",
      "Epoch 39/100\n",
      "\u001b[1m13/13\u001b[0m \u001b[32m━━━━━━━━━━━━━━━━━━━━\u001b[0m\u001b[37m\u001b[0m \u001b[1m0s\u001b[0m 24ms/step - loss: 0.0012 - val_loss: 4.7004e-04\n",
      "Epoch 40/100\n",
      "\u001b[1m13/13\u001b[0m \u001b[32m━━━━━━━━━━━━━━━━━━━━\u001b[0m\u001b[37m\u001b[0m \u001b[1m1s\u001b[0m 22ms/step - loss: 0.0013 - val_loss: 4.2287e-04\n",
      "Epoch 41/100\n",
      "\u001b[1m13/13\u001b[0m \u001b[32m━━━━━━━━━━━━━━━━━━━━\u001b[0m\u001b[37m\u001b[0m \u001b[1m0s\u001b[0m 21ms/step - loss: 0.0014 - val_loss: 3.9135e-04\n",
      "Epoch 42/100\n",
      "\u001b[1m13/13\u001b[0m \u001b[32m━━━━━━━━━━━━━━━━━━━━\u001b[0m\u001b[37m\u001b[0m \u001b[1m0s\u001b[0m 21ms/step - loss: 0.0012 - val_loss: 3.8310e-04\n",
      "Epoch 43/100\n",
      "\u001b[1m13/13\u001b[0m \u001b[32m━━━━━━━━━━━━━━━━━━━━\u001b[0m\u001b[37m\u001b[0m \u001b[1m0s\u001b[0m 22ms/step - loss: 0.0012 - val_loss: 3.9536e-04\n",
      "Epoch 44/100\n",
      "\u001b[1m13/13\u001b[0m \u001b[32m━━━━━━━━━━━━━━━━━━━━\u001b[0m\u001b[37m\u001b[0m \u001b[1m0s\u001b[0m 19ms/step - loss: 0.0012 - val_loss: 3.8381e-04\n",
      "Epoch 45/100\n",
      "\u001b[1m13/13\u001b[0m \u001b[32m━━━━━━━━━━━━━━━━━━━━\u001b[0m\u001b[37m\u001b[0m \u001b[1m0s\u001b[0m 22ms/step - loss: 0.0011 - val_loss: 3.7064e-04\n",
      "Epoch 46/100\n",
      "\u001b[1m13/13\u001b[0m \u001b[32m━━━━━━━━━━━━━━━━━━━━\u001b[0m\u001b[37m\u001b[0m \u001b[1m0s\u001b[0m 24ms/step - loss: 0.0011 - val_loss: 3.8273e-04\n",
      "Epoch 47/100\n",
      "\u001b[1m13/13\u001b[0m \u001b[32m━━━━━━━━━━━━━━━━━━━━\u001b[0m\u001b[37m\u001b[0m \u001b[1m0s\u001b[0m 27ms/step - loss: 0.0011 - val_loss: 4.3290e-04\n",
      "Epoch 48/100\n",
      "\u001b[1m13/13\u001b[0m \u001b[32m━━━━━━━━━━━━━━━━━━━━\u001b[0m\u001b[37m\u001b[0m \u001b[1m0s\u001b[0m 30ms/step - loss: 0.0012 - val_loss: 3.6728e-04\n",
      "Epoch 49/100\n",
      "\u001b[1m13/13\u001b[0m \u001b[32m━━━━━━━━━━━━━━━━━━━━\u001b[0m\u001b[37m\u001b[0m \u001b[1m0s\u001b[0m 25ms/step - loss: 0.0012 - val_loss: 4.4482e-04\n",
      "Epoch 50/100\n",
      "\u001b[1m13/13\u001b[0m \u001b[32m━━━━━━━━━━━━━━━━━━━━\u001b[0m\u001b[37m\u001b[0m \u001b[1m0s\u001b[0m 26ms/step - loss: 0.0011 - val_loss: 3.5990e-04\n",
      "Epoch 51/100\n",
      "\u001b[1m13/13\u001b[0m \u001b[32m━━━━━━━━━━━━━━━━━━━━\u001b[0m\u001b[37m\u001b[0m \u001b[1m0s\u001b[0m 24ms/step - loss: 9.3064e-04 - val_loss: 3.7554e-04\n",
      "Epoch 52/100\n",
      "\u001b[1m13/13\u001b[0m \u001b[32m━━━━━━━━━━━━━━━━━━━━\u001b[0m\u001b[37m\u001b[0m \u001b[1m0s\u001b[0m 24ms/step - loss: 0.0012 - val_loss: 4.7527e-04\n",
      "Epoch 53/100\n",
      "\u001b[1m13/13\u001b[0m \u001b[32m━━━━━━━━━━━━━━━━━━━━\u001b[0m\u001b[37m\u001b[0m \u001b[1m0s\u001b[0m 30ms/step - loss: 0.0011 - val_loss: 5.4857e-04\n",
      "Epoch 54/100\n",
      "\u001b[1m13/13\u001b[0m \u001b[32m━━━━━━━━━━━━━━━━━━━━\u001b[0m\u001b[37m\u001b[0m \u001b[1m0s\u001b[0m 22ms/step - loss: 0.0011 - val_loss: 3.4606e-04\n",
      "Epoch 55/100\n",
      "\u001b[1m13/13\u001b[0m \u001b[32m━━━━━━━━━━━━━━━━━━━━\u001b[0m\u001b[37m\u001b[0m \u001b[1m0s\u001b[0m 23ms/step - loss: 0.0010 - val_loss: 4.2199e-04\n",
      "Epoch 56/100\n",
      "\u001b[1m13/13\u001b[0m \u001b[32m━━━━━━━━━━━━━━━━━━━━\u001b[0m\u001b[37m\u001b[0m \u001b[1m0s\u001b[0m 26ms/step - loss: 0.0012 - val_loss: 3.5537e-04\n",
      "Epoch 57/100\n",
      "\u001b[1m13/13\u001b[0m \u001b[32m━━━━━━━━━━━━━━━━━━━━\u001b[0m\u001b[37m\u001b[0m \u001b[1m0s\u001b[0m 25ms/step - loss: 0.0012 - val_loss: 3.4403e-04\n",
      "Epoch 58/100\n",
      "\u001b[1m13/13\u001b[0m \u001b[32m━━━━━━━━━━━━━━━━━━━━\u001b[0m\u001b[37m\u001b[0m \u001b[1m0s\u001b[0m 27ms/step - loss: 0.0010 - val_loss: 3.5531e-04\n",
      "Epoch 59/100\n",
      "\u001b[1m13/13\u001b[0m \u001b[32m━━━━━━━━━━━━━━━━━━━━\u001b[0m\u001b[37m\u001b[0m \u001b[1m0s\u001b[0m 24ms/step - loss: 0.0011 - val_loss: 4.1011e-04\n",
      "Epoch 60/100\n",
      "\u001b[1m13/13\u001b[0m \u001b[32m━━━━━━━━━━━━━━━━━━━━\u001b[0m\u001b[37m\u001b[0m \u001b[1m0s\u001b[0m 24ms/step - loss: 9.3445e-04 - val_loss: 4.2530e-04\n",
      "Epoch 61/100\n",
      "\u001b[1m13/13\u001b[0m \u001b[32m━━━━━━━━━━━━━━━━━━━━\u001b[0m\u001b[37m\u001b[0m \u001b[1m0s\u001b[0m 24ms/step - loss: 0.0011 - val_loss: 3.7586e-04\n",
      "Epoch 62/100\n",
      "\u001b[1m13/13\u001b[0m \u001b[32m━━━━━━━━━━━━━━━━━━━━\u001b[0m\u001b[37m\u001b[0m \u001b[1m1s\u001b[0m 34ms/step - loss: 9.6190e-04 - val_loss: 3.4257e-04\n",
      "Epoch 63/100\n",
      "\u001b[1m13/13\u001b[0m \u001b[32m━━━━━━━━━━━━━━━━━━━━\u001b[0m\u001b[37m\u001b[0m \u001b[1m0s\u001b[0m 23ms/step - loss: 9.0337e-04 - val_loss: 3.4583e-04\n",
      "Epoch 64/100\n",
      "\u001b[1m13/13\u001b[0m \u001b[32m━━━━━━━━━━━━━━━━━━━━\u001b[0m\u001b[37m\u001b[0m \u001b[1m0s\u001b[0m 27ms/step - loss: 8.4146e-04 - val_loss: 3.3975e-04\n",
      "Epoch 65/100\n",
      "\u001b[1m13/13\u001b[0m \u001b[32m━━━━━━━━━━━━━━━━━━━━\u001b[0m\u001b[37m\u001b[0m \u001b[1m0s\u001b[0m 25ms/step - loss: 8.3938e-04 - val_loss: 3.3050e-04\n",
      "Epoch 66/100\n",
      "\u001b[1m13/13\u001b[0m \u001b[32m━━━━━━━━━━━━━━━━━━━━\u001b[0m\u001b[37m\u001b[0m \u001b[1m0s\u001b[0m 29ms/step - loss: 0.0011 - val_loss: 3.6405e-04\n",
      "Epoch 67/100\n",
      "\u001b[1m13/13\u001b[0m \u001b[32m━━━━━━━━━━━━━━━━━━━━\u001b[0m\u001b[37m\u001b[0m \u001b[1m0s\u001b[0m 25ms/step - loss: 8.5407e-04 - val_loss: 4.0257e-04\n",
      "Epoch 68/100\n",
      "\u001b[1m13/13\u001b[0m \u001b[32m━━━━━━━━━━━━━━━━━━━━\u001b[0m\u001b[37m\u001b[0m \u001b[1m0s\u001b[0m 26ms/step - loss: 9.7844e-04 - val_loss: 4.2030e-04\n",
      "Epoch 69/100\n",
      "\u001b[1m13/13\u001b[0m \u001b[32m━━━━━━━━━━━━━━━━━━━━\u001b[0m\u001b[37m\u001b[0m \u001b[1m0s\u001b[0m 25ms/step - loss: 9.6894e-04 - val_loss: 3.4821e-04\n",
      "Epoch 70/100\n",
      "\u001b[1m13/13\u001b[0m \u001b[32m━━━━━━━━━━━━━━━━━━━━\u001b[0m\u001b[37m\u001b[0m \u001b[1m0s\u001b[0m 24ms/step - loss: 8.5843e-04 - val_loss: 3.2375e-04\n",
      "Epoch 71/100\n",
      "\u001b[1m13/13\u001b[0m \u001b[32m━━━━━━━━━━━━━━━━━━━━\u001b[0m\u001b[37m\u001b[0m \u001b[1m0s\u001b[0m 24ms/step - loss: 9.4213e-04 - val_loss: 3.3247e-04\n",
      "Epoch 72/100\n",
      "\u001b[1m13/13\u001b[0m \u001b[32m━━━━━━━━━━━━━━━━━━━━\u001b[0m\u001b[37m\u001b[0m \u001b[1m0s\u001b[0m 25ms/step - loss: 9.0882e-04 - val_loss: 3.2471e-04\n",
      "Epoch 73/100\n",
      "\u001b[1m13/13\u001b[0m \u001b[32m━━━━━━━━━━━━━━━━━━━━\u001b[0m\u001b[37m\u001b[0m \u001b[1m0s\u001b[0m 28ms/step - loss: 8.0839e-04 - val_loss: 3.4478e-04\n",
      "Epoch 74/100\n",
      "\u001b[1m13/13\u001b[0m \u001b[32m━━━━━━━━━━━━━━━━━━━━\u001b[0m\u001b[37m\u001b[0m \u001b[1m0s\u001b[0m 25ms/step - loss: 8.4213e-04 - val_loss: 4.1969e-04\n",
      "Epoch 75/100\n",
      "\u001b[1m13/13\u001b[0m \u001b[32m━━━━━━━━━━━━━━━━━━━━\u001b[0m\u001b[37m\u001b[0m \u001b[1m1s\u001b[0m 27ms/step - loss: 9.9124e-04 - val_loss: 3.1465e-04\n",
      "Epoch 76/100\n",
      "\u001b[1m13/13\u001b[0m \u001b[32m━━━━━━━━━━━━━━━━━━━━\u001b[0m\u001b[37m\u001b[0m \u001b[1m0s\u001b[0m 31ms/step - loss: 7.9986e-04 - val_loss: 4.1404e-04\n",
      "Epoch 77/100\n",
      "\u001b[1m13/13\u001b[0m \u001b[32m━━━━━━━━━━━━━━━━━━━━\u001b[0m\u001b[37m\u001b[0m \u001b[1m0s\u001b[0m 27ms/step - loss: 7.4436e-04 - val_loss: 3.1264e-04\n",
      "Epoch 78/100\n",
      "\u001b[1m13/13\u001b[0m \u001b[32m━━━━━━━━━━━━━━━━━━━━\u001b[0m\u001b[37m\u001b[0m \u001b[1m0s\u001b[0m 26ms/step - loss: 8.0135e-04 - val_loss: 3.7475e-04\n",
      "Epoch 79/100\n",
      "\u001b[1m13/13\u001b[0m \u001b[32m━━━━━━━━━━━━━━━━━━━━\u001b[0m\u001b[37m\u001b[0m \u001b[1m0s\u001b[0m 27ms/step - loss: 7.9343e-04 - val_loss: 3.2579e-04\n",
      "Epoch 80/100\n",
      "\u001b[1m13/13\u001b[0m \u001b[32m━━━━━━━━━━━━━━━━━━━━\u001b[0m\u001b[37m\u001b[0m \u001b[1m0s\u001b[0m 26ms/step - loss: 7.7657e-04 - val_loss: 3.1656e-04\n",
      "Epoch 81/100\n",
      "\u001b[1m13/13\u001b[0m \u001b[32m━━━━━━━━━━━━━━━━━━━━\u001b[0m\u001b[37m\u001b[0m \u001b[1m0s\u001b[0m 24ms/step - loss: 8.2297e-04 - val_loss: 3.0468e-04\n",
      "Epoch 82/100\n",
      "\u001b[1m13/13\u001b[0m \u001b[32m━━━━━━━━━━━━━━━━━━━━\u001b[0m\u001b[37m\u001b[0m \u001b[1m0s\u001b[0m 28ms/step - loss: 7.7023e-04 - val_loss: 3.5483e-04\n",
      "Epoch 83/100\n",
      "\u001b[1m13/13\u001b[0m \u001b[32m━━━━━━━━━━━━━━━━━━━━\u001b[0m\u001b[37m\u001b[0m \u001b[1m1s\u001b[0m 33ms/step - loss: 7.4578e-04 - val_loss: 3.4651e-04\n",
      "Epoch 84/100\n",
      "\u001b[1m13/13\u001b[0m \u001b[32m━━━━━━━━━━━━━━━━━━━━\u001b[0m\u001b[37m\u001b[0m \u001b[1m0s\u001b[0m 25ms/step - loss: 9.0903e-04 - val_loss: 3.4115e-04\n",
      "Epoch 85/100\n",
      "\u001b[1m13/13\u001b[0m \u001b[32m━━━━━━━━━━━━━━━━━━━━\u001b[0m\u001b[37m\u001b[0m \u001b[1m0s\u001b[0m 26ms/step - loss: 8.2714e-04 - val_loss: 2.9811e-04\n",
      "Epoch 86/100\n",
      "\u001b[1m13/13\u001b[0m \u001b[32m━━━━━━━━━━━━━━━━━━━━\u001b[0m\u001b[37m\u001b[0m \u001b[1m0s\u001b[0m 30ms/step - loss: 6.7396e-04 - val_loss: 3.7687e-04\n",
      "Epoch 87/100\n",
      "\u001b[1m13/13\u001b[0m \u001b[32m━━━━━━━━━━━━━━━━━━━━\u001b[0m\u001b[37m\u001b[0m \u001b[1m0s\u001b[0m 26ms/step - loss: 7.7110e-04 - val_loss: 3.1270e-04\n",
      "Epoch 88/100\n",
      "\u001b[1m13/13\u001b[0m \u001b[32m━━━━━━━━━━━━━━━━━━━━\u001b[0m\u001b[37m\u001b[0m \u001b[1m0s\u001b[0m 25ms/step - loss: 7.2286e-04 - val_loss: 3.6468e-04\n",
      "Epoch 89/100\n",
      "\u001b[1m13/13\u001b[0m \u001b[32m━━━━━━━━━━━━━━━━━━━━\u001b[0m\u001b[37m\u001b[0m \u001b[1m0s\u001b[0m 23ms/step - loss: 7.8062e-04 - val_loss: 3.6052e-04\n",
      "Epoch 90/100\n",
      "\u001b[1m13/13\u001b[0m \u001b[32m━━━━━━━━━━━━━━━━━━━━\u001b[0m\u001b[37m\u001b[0m \u001b[1m0s\u001b[0m 26ms/step - loss: 8.1636e-04 - val_loss: 2.9519e-04\n",
      "Epoch 91/100\n",
      "\u001b[1m13/13\u001b[0m \u001b[32m━━━━━━━━━━━━━━━━━━━━\u001b[0m\u001b[37m\u001b[0m \u001b[1m0s\u001b[0m 22ms/step - loss: 7.1677e-04 - val_loss: 3.7324e-04\n",
      "Epoch 92/100\n",
      "\u001b[1m13/13\u001b[0m \u001b[32m━━━━━━━━━━━━━━━━━━━━\u001b[0m\u001b[37m\u001b[0m \u001b[1m0s\u001b[0m 33ms/step - loss: 9.4677e-04 - val_loss: 3.9799e-04\n",
      "Epoch 93/100\n",
      "\u001b[1m13/13\u001b[0m \u001b[32m━━━━━━━━━━━━━━━━━━━━\u001b[0m\u001b[37m\u001b[0m \u001b[1m1s\u001b[0m 29ms/step - loss: 7.9910e-04 - val_loss: 2.8421e-04\n",
      "Epoch 94/100\n",
      "\u001b[1m13/13\u001b[0m \u001b[32m━━━━━━━━━━━━━━━━━━━━\u001b[0m\u001b[37m\u001b[0m \u001b[1m0s\u001b[0m 28ms/step - loss: 7.1196e-04 - val_loss: 2.9762e-04\n",
      "Epoch 95/100\n",
      "\u001b[1m13/13\u001b[0m \u001b[32m━━━━━━━━━━━━━━━━━━━━\u001b[0m\u001b[37m\u001b[0m \u001b[1m0s\u001b[0m 23ms/step - loss: 6.4809e-04 - val_loss: 3.1308e-04\n",
      "Epoch 96/100\n",
      "\u001b[1m13/13\u001b[0m \u001b[32m━━━━━━━━━━━━━━━━━━━━\u001b[0m\u001b[37m\u001b[0m \u001b[1m0s\u001b[0m 25ms/step - loss: 8.4371e-04 - val_loss: 3.3229e-04\n",
      "Epoch 97/100\n",
      "\u001b[1m13/13\u001b[0m \u001b[32m━━━━━━━━━━━━━━━━━━━━\u001b[0m\u001b[37m\u001b[0m \u001b[1m0s\u001b[0m 28ms/step - loss: 8.1656e-04 - val_loss: 3.4591e-04\n",
      "Epoch 98/100\n",
      "\u001b[1m13/13\u001b[0m \u001b[32m━━━━━━━━━━━━━━━━━━━━\u001b[0m\u001b[37m\u001b[0m \u001b[1m0s\u001b[0m 28ms/step - loss: 7.8182e-04 - val_loss: 2.9342e-04\n",
      "Epoch 99/100\n",
      "\u001b[1m13/13\u001b[0m \u001b[32m━━━━━━━━━━━━━━━━━━━━\u001b[0m\u001b[37m\u001b[0m \u001b[1m0s\u001b[0m 23ms/step - loss: 7.9357e-04 - val_loss: 2.6586e-04\n",
      "Epoch 100/100\n",
      "\u001b[1m13/13\u001b[0m \u001b[32m━━━━━━━━━━━━━━━━━━━━\u001b[0m\u001b[37m\u001b[0m \u001b[1m0s\u001b[0m 22ms/step - loss: 6.5722e-04 - val_loss: 2.6779e-04\n"
     ]
    },
    {
     "data": {
      "text/plain": [
       "<keras.src.callbacks.history.History at 0x1a9a19f3ce0>"
      ]
     },
     "execution_count": 9,
     "metadata": {},
     "output_type": "execute_result"
    }
   ],
   "source": [
    "# 9. Fit mô hình với dữ liệu train\n",
    "model.fit(X_train,y_train,validation_data=(X_test,ytest),epochs=100,batch_size=64,verbose=1)"
   ]
  },
  {
   "cell_type": "code",
   "execution_count": 10,
   "metadata": {},
   "outputs": [
    {
     "name": "stdout",
     "output_type": "stream",
     "text": [
      "\u001b[1m26/26\u001b[0m \u001b[32m━━━━━━━━━━━━━━━━━━━━\u001b[0m\u001b[37m\u001b[0m \u001b[1m1s\u001b[0m 23ms/step\n",
      "\u001b[1m6/6\u001b[0m \u001b[32m━━━━━━━━━━━━━━━━━━━━\u001b[0m\u001b[37m\u001b[0m \u001b[1m0s\u001b[0m 7ms/step \n",
      "\u001b[1m2/2\u001b[0m \u001b[32m━━━━━━━━━━━━━━━━━━━━\u001b[0m\u001b[37m\u001b[0m \u001b[1m0s\u001b[0m 7ms/step \n"
     ]
    }
   ],
   "source": [
    "# 10. Dự báo dữ liệu test, val\n",
    "train_predict=model.predict(X_train)\n",
    "y_pred=model.predict(X_test)\n",
    "y_pred_val=model.predict(X_val)"
   ]
  },
  {
   "cell_type": "code",
   "execution_count": 11,
   "metadata": {},
   "outputs": [],
   "source": [
    "# 11. Chuẩn hóa dữ liệu y_pred, y_pred_val\n",
    "train_predict=scaler.inverse_transform(train_predict)\n",
    "y_pred=scaler.inverse_transform(y_pred)\n",
    "y_pred_val=scaler.inverse_transform(y_pred_val)"
   ]
  },
  {
   "cell_type": "code",
   "execution_count": 12,
   "metadata": {},
   "outputs": [
    {
     "name": "stdout",
     "output_type": "stream",
     "text": [
      "Validation RMSE: 174.30253706530104\n",
      "Testing RMSE: 150.48206566717332\n"
     ]
    }
   ],
   "source": [
    "# 12. Đánh giá độ chính xác thuật toán bằng RMSE\n",
    "valid_rmse = np.sqrt(np.mean((y_pred_val - yval)**2))\n",
    "test_rmse = np.sqrt(np.mean((y_pred - ytest)**2))\n",
    "print('Validation RMSE:', valid_rmse)\n",
    "print('Testing RMSE:', test_rmse)"
   ]
  },
  {
   "cell_type": "code",
   "execution_count": 13,
   "metadata": {},
   "outputs": [
    {
     "name": "stdout",
     "output_type": "stream",
     "text": [
      "Validation MAPE: 1.3632148886043591\n",
      "Testing MAPE: 1.3038967879990904\n"
     ]
    }
   ],
   "source": [
    "#Đánh giá độ chính xác thuật toán bằng MAPE\n",
    "# Hàm tính MAPE\n",
    "def mean_absolute_percentage_error(y_true, y_pred):\n",
    "    return np.mean(np.abs((y_true - y_pred) / y_true)) * 100\n",
    "\n",
    "# Chuyển đổi y_test và y_val về dạng ban đầu\n",
    "y_test_original = scaler.inverse_transform(ytest.reshape(-1, 1))\n",
    "y_val_original = scaler.inverse_transform(yval.reshape(-1, 1))\n",
    "\n",
    "# Tính toán MAPE cho dữ liệu test và validation\n",
    "test_mape = mean_absolute_percentage_error(y_test_original, y_pred)\n",
    "val_mape = mean_absolute_percentage_error(y_val_original, y_pred_val)\n",
    "\n",
    "# In kết quả\n",
    "print('Validation MAPE:', val_mape)\n",
    "print('Testing MAPE:', test_mape)"
   ]
  },
  {
   "cell_type": "code",
   "execution_count": 14,
   "metadata": {},
   "outputs": [
    {
     "name": "stdout",
     "output_type": "stream",
     "text": [
      "Validation MAE: 2.337014399343039\n",
      "Testing MAE: 1.945497194659461\n"
     ]
    }
   ],
   "source": [
    "# Hàm tính MAE\n",
    "def mean_absolute_error(y_true, y_pred):\n",
    "    return np.mean(np.abs(y_true - y_pred))\n",
    "\n",
    "# Chuyển đổi y_test và y_val về dạng ban đầu\n",
    "y_test_original = scaler.inverse_transform(ytest.reshape(-1, 1))\n",
    "y_val_original = scaler.inverse_transform(yval.reshape(-1, 1))\n",
    "\n",
    "# Tính toán MAE cho dữ liệu test và validation\n",
    "test_mae = mean_absolute_error(y_test_original, y_pred)\n",
    "val_mae = mean_absolute_error(y_val_original, y_pred_val)\n",
    "\n",
    "# In kết quả\n",
    "print('Validation MAE:', val_mae)\n",
    "print('Testing MAE:', test_mae)"
   ]
  },
  {
   "cell_type": "code",
   "execution_count": 15,
   "metadata": {},
   "outputs": [
    {
     "name": "stdout",
     "output_type": "stream",
     "text": [
      "[[0.49925580620765686], [0.4916711449623108], [0.5070223808288574], [0.501265287399292], [0.5079408288002014], [0.5134771466255188], [0.5210176110267639], [0.5265393257141113], [0.530199408531189], [0.52986741065979], [0.5252656936645508], [0.5175556540489197], [0.5176433324813843], [0.5199073553085327], [0.5254693627357483], [0.5304168462753296], [0.536903977394104], [0.5380135774612427], [0.5406944751739502], [0.5407808423042297], [0.5443110466003418], [0.5413221716880798], [0.541775643825531], [0.5445877909660339], [0.5413734912872314], [0.5501696467399597], [0.5500372052192688], [0.5555000305175781], [0.5602319240570068], [0.565636157989502]]\n"
     ]
    }
   ],
   "source": [
    "# 13. Dự báo 30 ngày tiếp theo\n",
    "# Lấy phần dữ liệu từ ngày thứ 60 đến hết\n",
    "x_input = val_data[60:].reshape(1, -1)\n",
    "temp_input = list(x_input[0])  # Chuyển x_input thành list để dễ thao tác\n",
    "\n",
    "lst30_output = []\n",
    "n_steps = 100\n",
    "i = 0\n",
    "while (i < 30):\n",
    "    if (len(temp_input) >= 100):\n",
    "        # Nếu temp_input có đủ 100 phần tử, lấy 100 phần tử cuối cùng để dự báo\n",
    "        x_input = np.array(temp_input[-100:])\n",
    "        x_input = x_input.reshape((1, n_steps, 1))\n",
    "        \n",
    "        # Dự báo giá trị tiếp theo\n",
    "        yhat = model.predict(x_input, verbose=0)\n",
    "        \n",
    "        # Cập nhật temp_input và lst_output\n",
    "        temp_input.extend(yhat[0].tolist())\n",
    "        temp_input = temp_input[1:]  # Loại bỏ phần tử đầu tiên để duy trì kích thước 100 phần tử\n",
    "        lst30_output.extend(yhat.tolist())\n",
    "        i += 1\n",
    "    else:\n",
    "        # Nếu temp_input chưa đủ 100 phần tử, sử dụng tất cả các giá trị hiện có để dự báo\n",
    "        x_input = np.array(temp_input).reshape((1, len(temp_input), 1))\n",
    "        yhat = model.predict(x_input, verbose=0)\n",
    "        \n",
    "        # Cập nhật temp_input và lst_output\n",
    "        temp_input.extend(yhat[0].tolist())\n",
    "        lst30_output.extend(yhat.tolist())\n",
    "        i += 1\n",
    "\n",
    "# lst_output bây giờ chứa 30 giá trị dự báo tiếp theo\n",
    "print(lst30_output)"
   ]
  },
  {
   "cell_type": "code",
   "execution_count": 16,
   "metadata": {},
   "outputs": [
    {
     "name": "stdout",
     "output_type": "stream",
     "text": [
      "[[0.49925580620765686], [0.4916711449623108], [0.5070223808288574], [0.501265287399292], [0.5079408288002014], [0.5134771466255188], [0.5210176110267639], [0.5265393257141113], [0.530199408531189], [0.52986741065979], [0.5252656936645508], [0.5175556540489197], [0.5176433324813843], [0.5199073553085327], [0.5254693627357483], [0.5304168462753296], [0.536903977394104], [0.5380135774612427], [0.5406944751739502], [0.5407808423042297], [0.5443110466003418], [0.5413221716880798], [0.541775643825531], [0.5445877909660339], [0.5413734912872314], [0.5501696467399597], [0.5500372052192688], [0.5555000305175781], [0.5602319240570068], [0.565636157989502], [0.5674706697463989], [0.5705950856208801], [0.5737468004226685], [0.5720468163490295], [0.5766189098358154], [0.5762021541595459], [0.57868492603302], [0.5797178149223328], [0.583891749382019], [0.5872703790664673], [0.5907083749771118], [0.5927890539169312], [0.5918259024620056], [0.5947557687759399], [0.5925667881965637], [0.5932324528694153], [0.5946030020713806], [0.595843493938446], [0.5988743901252747], [0.600418210029602], [0.6035674214363098], [0.60550457239151], [0.6100362539291382], [0.6119823455810547], [0.6141913533210754], [0.6170819401741028], [0.6186577081680298], [0.6201348304748535], [0.6217529773712158], [0.6261491179466248]]\n"
     ]
    }
   ],
   "source": [
    "# 13. Dự báo 60 ngày tiếp theo\n",
    "# Lấy phần dữ liệu từ ngày thứ 60 đến hết\n",
    "x_input = val_data[60:].reshape(1, -1)\n",
    "temp_input = list(x_input[0])  # Chuyển x_input thành list để dễ thao tác\n",
    "\n",
    "lst60_output = []\n",
    "n_steps = 100\n",
    "i = 0\n",
    "while (i < 60):\n",
    "    if (len(temp_input) >= 100):\n",
    "        # Nếu temp_input có đủ 100 phần tử, lấy 100 phần tử cuối cùng để dự báo\n",
    "        x_input = np.array(temp_input[-100:])\n",
    "        x_input = x_input.reshape((1, n_steps, 1))\n",
    "        \n",
    "        # Dự báo giá trị tiếp theo\n",
    "        yhat = model.predict(x_input, verbose=0)\n",
    "        \n",
    "        # Cập nhật temp_input và lst_output\n",
    "        temp_input.extend(yhat[0].tolist())\n",
    "        temp_input = temp_input[1:]  # Loại bỏ phần tử đầu tiên để duy trì kích thước 100 phần tử\n",
    "        lst60_output.extend(yhat.tolist())\n",
    "        i += 1\n",
    "    else:\n",
    "        # Nếu temp_input chưa đủ 100 phần tử, sử dụng tất cả các giá trị hiện có để dự báo\n",
    "        x_input = np.array(temp_input).reshape((1, len(temp_input), 1))\n",
    "        yhat = model.predict(x_input, verbose=0)\n",
    "        \n",
    "        # Cập nhật temp_input và lst_output\n",
    "        temp_input.extend(yhat[0].tolist())\n",
    "        lst60_output.extend(yhat.tolist())\n",
    "        i += 1\n",
    "\n",
    "# lst_output bây giờ chứa 30 giá trị dự báo tiếp theo\n",
    "print(lst60_output)"
   ]
  },
  {
   "cell_type": "code",
   "execution_count": 17,
   "metadata": {},
   "outputs": [
    {
     "name": "stdout",
     "output_type": "stream",
     "text": [
      "[[0.49925580620765686], [0.4916711449623108], [0.5070223808288574], [0.501265287399292], [0.5079408288002014], [0.5134771466255188], [0.5210176110267639], [0.5265393257141113], [0.530199408531189], [0.52986741065979], [0.5252656936645508], [0.5175556540489197], [0.5176433324813843], [0.5199073553085327], [0.5254693627357483], [0.5304168462753296], [0.536903977394104], [0.5380135774612427], [0.5406944751739502], [0.5407808423042297], [0.5443110466003418], [0.5413221716880798], [0.541775643825531], [0.5445877909660339], [0.5413734912872314], [0.5501696467399597], [0.5500372052192688], [0.5555000305175781], [0.5602319240570068], [0.565636157989502], [0.5674706697463989], [0.5705950856208801], [0.5737468004226685], [0.5720468163490295], [0.5766189098358154], [0.5762021541595459], [0.57868492603302], [0.5797178149223328], [0.583891749382019], [0.5872703790664673], [0.5907083749771118], [0.5927890539169312], [0.5918259024620056], [0.5947557687759399], [0.5925667881965637], [0.5932324528694153], [0.5946030020713806], [0.595843493938446], [0.5988743901252747], [0.600418210029602], [0.6035674214363098], [0.60550457239151], [0.6100362539291382], [0.6119823455810547], [0.6141913533210754], [0.6170819401741028], [0.6186577081680298], [0.6201348304748535], [0.6217529773712158], [0.6261491179466248], [0.6282697319984436], [0.6332992911338806], [0.6358811259269714], [0.6386744379997253], [0.6413048505783081], [0.6430996060371399], [0.6448814272880554], [0.6468256711959839], [0.6501113772392273], [0.6514610648155212], [0.6543713808059692], [0.6564809679985046], [0.6592146754264832], [0.6624765992164612], [0.6646615862846375], [0.6670399308204651], [0.6693689227104187], [0.6714406609535217], [0.6725814938545227], [0.6749327778816223], [0.677055299282074], [0.6790010929107666], [0.6818311810493469], [0.6838385462760925], [0.6865639090538025], [0.6885285377502441], [0.6909369826316833], [0.6922280192375183], [0.6941412091255188], [0.6952861547470093]]\n"
     ]
    }
   ],
   "source": [
    "# 13. Dự báo 90 ngày tiếp theo\n",
    "# Lấy phần dữ liệu từ ngày thứ 60 đến hết\n",
    "x_input = val_data[60:].reshape(1, -1)\n",
    "temp_input = list(x_input[0])  # Chuyển x_input thành list để dễ thao tác\n",
    "\n",
    "lst90_output = []\n",
    "n_steps = 100\n",
    "i = 0\n",
    "while (i < 90):\n",
    "    if (len(temp_input) >= 100):\n",
    "        # Nếu temp_input có đủ 100 phần tử, lấy 100 phần tử cuối cùng để dự báo\n",
    "        x_input = np.array(temp_input[-100:])\n",
    "        x_input = x_input.reshape((1, n_steps, 1))\n",
    "        \n",
    "        # Dự báo giá trị tiếp theo\n",
    "        yhat = model.predict(x_input, verbose=0)\n",
    "        \n",
    "        # Cập nhật temp_input và lst_output\n",
    "        temp_input.extend(yhat[0].tolist())\n",
    "        temp_input = temp_input[1:]  # Loại bỏ phần tử đầu tiên để duy trì kích thước 100 phần tử\n",
    "        lst90_output.extend(yhat.tolist())\n",
    "        i += 1\n",
    "    else:\n",
    "        # Nếu temp_input chưa đủ 100 phần tử, sử dụng tất cả các giá trị hiện có để dự báo\n",
    "        x_input = np.array(temp_input).reshape((1, len(temp_input), 1))\n",
    "        yhat = model.predict(x_input, verbose=0)\n",
    "        \n",
    "        # Cập nhật temp_input và lst_output\n",
    "        temp_input.extend(yhat[0].tolist())\n",
    "        lst90_output.extend(yhat.tolist())\n",
    "        i += 1\n",
    "\n",
    "# lst_output bây giờ chứa 30 giá trị dự báo tiếp theo\n",
    "print(lst90_output)"
   ]
  },
  {
   "cell_type": "code",
   "execution_count": 18,
   "metadata": {},
   "outputs": [
    {
     "data": {
      "image/png": "[encoded data removed]",
      "text/plain": [
       "<Figure size 640x480 with 1 Axes>"
      ]
     },
     "metadata": {},
     "output_type": "display_data"
    }
   ],
   "source": [
    "# 14.Vẽ hình\n",
    "\n",
    "train_data_index = pd.RangeIndex(start=0, stop=train_size, step=1)\n",
    "plt.plot(scaler.inverse_transform(train_data))\n",
    "test_data_index = pd.RangeIndex(start=train_size, stop=train_size+test_size, step=1)\n",
    "plt.plot(test_data_index,scaler.inverse_transform(test_data))\n",
    "test_data_index = pd.RangeIndex(start=train_size+101, stop=train_size+test_size, step=1)\n",
    "plt.plot(test_data_index,(y_pred))\n",
    "val_data_index = pd.RangeIndex(start=train_size+test_size, stop=train_size+test_size+val_size, step=1)\n",
    "plt.plot(val_data_index,scaler.inverse_transform(val_data))\n",
    "val_data_index = pd.RangeIndex(start=train_size+test_size+101, stop=train_size+test_size+val_size, step=1)\n",
    "plt.plot(val_data_index,y_pred_val)\n",
    "prediect30_data_index = pd.RangeIndex(start=len(df1)-1, stop=len(df1)+29, step=1)\n",
    "plt.plot(prediect30_data_index,scaler.inverse_transform(lst30_output))\n",
    "prediect60_data_index = pd.RangeIndex(start=len(df1)-1, stop=len(df1)+59, step=1)\n",
    "plt.plot(prediect60_data_index,scaler.inverse_transform(lst60_output))\n",
    "prediect90_data_index = pd.RangeIndex(start=len(df1)-1, stop=len(df1)+89, step=1)\n",
    "plt.plot(prediect90_data_index,scaler.inverse_transform(lst90_output))\n",
    "plt.legend(['Train','Test','Predict','Validate','ValidatePred','Predict30days'])\n",
    "plt.show()"
   ]
  }
 ],
 "metadata": {
  "kernelspec": {
   "display_name": "Python 3",
   "language": "python",
   "name": "python3"
  },
  "language_info": {
   "codemirror_mode": {
    "name": "ipython",
    "version": 3
   },
   "file_extension": ".py",
   "mimetype": "text/x-python",
   "name": "python",
   "nbconvert_exporter": "python",
   "pygments_lexer": "ipython3",
   "version": "3.12.2"
  }
 },
 "nbformat": 4,
 "nbformat_minor": 2
}
